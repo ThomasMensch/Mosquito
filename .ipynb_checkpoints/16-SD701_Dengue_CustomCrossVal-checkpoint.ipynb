{
 "cells": [
  {
   "cell_type": "markdown",
   "metadata": {},
   "source": [
    "## Feature engineering"
   ]
  },
  {
   "cell_type": "code",
   "execution_count": 2,
   "metadata": {},
   "outputs": [],
   "source": [
    "# Load pyspark\n",
    "import findspark\n",
    "\n",
    "findspark.init()\n",
    "\n",
    "#import pyspark\n",
    "from pyspark import SparkContext\n",
    "from pyspark.sql import SparkSession, functions as F, window\n",
    "\n",
    "from pyspark.ml.stat import Correlation\n",
    "from pyspark.ml.feature import VectorAssembler, StringIndexer, OneHotEncoder, StandardScaler, Bucketizer\n",
    "from pyspark.ml.regression import LinearRegression, RandomForestRegressor\n",
    "from pyspark.ml.evaluation import RegressionEvaluator\n",
    "from pyspark.ml.tuning import CrossValidator, ParamGridBuilder\n",
    "from pyspark.ml import Pipeline, Estimator\n",
    "\n",
    "import datetime\n",
    "import numpy as np\n",
    "import matplotlib.pyplot as plt\n",
    "\n",
    "import seaborn as sns\n",
    "\n",
    "import pandas as pd\n",
    "from pandas.plotting import register_matplotlib_converters\n",
    "register_matplotlib_converters()\n",
    "\n",
    "spark = SparkSession.builder.appName(\"dengue\").getOrCreate()"
   ]
  },
  {
   "cell_type": "markdown",
   "metadata": {},
   "source": [
    "### Chargement des données pré-traitées"
   ]
  },
  {
   "cell_type": "code",
   "execution_count": 3,
   "metadata": {},
   "outputs": [
    {
     "name": "stdout",
     "output_type": "stream",
     "text": [
      "df_train = (1456, 29)\n",
      "root\n",
      " |-- city: string (nullable = true)\n",
      " |-- year: integer (nullable = true)\n",
      " |-- weekofyear: integer (nullable = true)\n",
      " |-- week_start_date: date (nullable = true)\n",
      " |-- ndvi_ne: float (nullable = true)\n",
      " |-- ndvi_nw: float (nullable = true)\n",
      " |-- ndvi_se: float (nullable = true)\n",
      " |-- ndvi_sw: float (nullable = true)\n",
      " |-- reanalysis_precip_amt_kg_per_m2: float (nullable = true)\n",
      " |-- reanalysis_relative_humidity_percent: float (nullable = true)\n",
      " |-- reanalysis_sat_precip_amt_mm: float (nullable = true)\n",
      " |-- reanalysis_specific_humidity_g_per_kg: float (nullable = true)\n",
      " |-- station_avg_temp_c: float (nullable = true)\n",
      " |-- station_diur_temp_rng_c: float (nullable = true)\n",
      " |-- station_max_temp_c: float (nullable = true)\n",
      " |-- station_min_temp_c: float (nullable = true)\n",
      " |-- station_precip_mm: float (nullable = true)\n",
      " |-- total_cases: integer (nullable = true)\n",
      " |-- reanalysis_air_temp_c: double (nullable = true)\n",
      " |-- reanalysis_avg_temp_c: double (nullable = true)\n",
      " |-- reanalysis_dew_point_temp_c: double (nullable = true)\n",
      " |-- reanalysis_max_air_temp_c: double (nullable = true)\n",
      " |-- reanalysis_min_air_temp_c: double (nullable = true)\n",
      " |-- reanalysis_tdtr_c: double (nullable = true)\n",
      " |-- bucket_ne: double (nullable = true)\n",
      " |-- bucket_nw: double (nullable = true)\n",
      " |-- bucket_sw: double (nullable = true)\n",
      " |-- bucket_se: double (nullable = true)\n",
      " |-- ndvi_avg: double (nullable = true)\n",
      "\n"
     ]
    }
   ],
   "source": [
    "df_train = spark.read.parquet(\"data/02-featureEngineering\")\n",
    "\n",
    "print(\"df_train = ({}, {})\".format(df_train.count(), len(df_train.columns)))\n",
    "\n",
    "df_train.printSchema()"
   ]
  },
  {
   "cell_type": "code",
   "execution_count": 4,
   "metadata": {},
   "outputs": [],
   "source": [
    "# San Juan (sj)\n",
    "df_train_sj = df_train.filter(df_train.city == 'sj')\n",
    "\n",
    "# Iquitos (iq)\n",
    "df_train_iq = df_train.filter(df_train.city == 'iq')"
   ]
  },
  {
   "cell_type": "markdown",
   "metadata": {},
   "source": [
    "### Décalage"
   ]
  },
  {
   "cell_type": "code",
   "execution_count": 5,
   "metadata": {},
   "outputs": [
    {
     "name": "stdout",
     "output_type": "stream",
     "text": [
      "df_train_sj = (936, 29)\n",
      "df_train_iq = (520, 29)\n",
      "Applied shift is: 0\n",
      "df_train_sj = (936, 29)\n",
      "df_train_iq = (520, 29)\n"
     ]
    }
   ],
   "source": [
    "def shift_data(df, shift=0):\n",
    "    # build a window\n",
    "    w = window.Window() \\\n",
    "        .partitionBy('city') \\\n",
    "        .orderBy(F.col('week_start_date'))\n",
    "\n",
    "    # add new columns with different lags\n",
    "    df = df \\\n",
    "        .withColumn('ndvi_avg',\n",
    "                    F.lag('ndvi_avg', count=shift).over(w)) \\\n",
    "        .withColumn('reanalysis_precip_amt_kg_per_m2',\n",
    "                    F.lag('reanalysis_precip_amt_kg_per_m2', count=shift).over(w)) \\\n",
    "        .withColumn('reanalysis_sat_precip_amt_mm',\n",
    "                    F.lag('reanalysis_sat_precip_amt_mm', count=shift).over(w)) \\\n",
    "        .withColumn('reanalysis_specific_humidity_g_per_kg',\n",
    "                    F.lag('reanalysis_specific_humidity_g_per_kg', count=shift).over(w)) \\\n",
    "        .withColumn('station_avg_temp_c',\n",
    "                    F.lag('station_avg_temp_c', count=shift).over(w)) \\\n",
    "        .withColumn('station_diur_temp_rng_c',\n",
    "                    F.lag('station_diur_temp_rng_c', count=shift).over(w)) \\\n",
    "        .withColumn('station_max_temp_c',\n",
    "                    F.lag('station_max_temp_c', count=shift).over(w)) \\\n",
    "        .withColumn('station_min_temp_c',\n",
    "                    F.lag('station_min_temp_c', count=shift).over(w)) \\\n",
    "        .withColumn('station_precip_mm',\n",
    "                    F.lag('station_precip_mm', count=shift).over(w)) \\\n",
    "        .withColumn('reanalysis_air_temp_c',\n",
    "                    F.lag('reanalysis_air_temp_c', count=shift).over(w)) \\\n",
    "        .withColumn('reanalysis_avg_temp_c',\n",
    "                    F.lag('reanalysis_avg_temp_c', count=shift).over(w)) \\\n",
    "        .withColumn('reanalysis_dew_point_temp_c',\n",
    "                    F.lag('reanalysis_dew_point_temp_c', count=shift).over(w)) \\\n",
    "        .withColumn('reanalysis_max_air_temp_c',\n",
    "                    F.lag('reanalysis_max_air_temp_c', count=shift).over(w))\n",
    "\n",
    "    #df = df.dropna()\n",
    "    \n",
    "    return df\n",
    "\n",
    "#v_shift = 0\n",
    "v_shift = 3\n",
    "\n",
    "print(\"df_train_sj = ({}, {})\".format(df_train_sj.count(), len(df_train_sj.columns)))\n",
    "print(\"df_train_iq = ({}, {})\".format(df_train_iq.count(), len(df_train_iq.columns)))\n",
    "\n",
    "df_train_sj = shift_data(df_train_sj, shift=v_shift)\n",
    "df_train_iq = shift_data(df_train_iq, shift=v_shift)\n",
    "df_train_sj = df_train_sj.dropna()\n",
    "df_train_iq = df_train_iq.dropna()\n",
    "\n",
    "print(\"Applied shift is: {}\".format(v_shift))\n",
    "print(\"df_train_sj = ({}, {})\".format(df_train_sj.count(), len(df_train_sj.columns)))\n",
    "print(\"df_train_iq = ({}, {})\".format(df_train_iq.count(), len(df_train_iq.columns)))"
   ]
  },
  {
   "cell_type": "markdown",
   "metadata": {},
   "source": [
    "### Construction des jeux d'entrainement et de test"
   ]
  },
  {
   "cell_type": "code",
   "execution_count": 6,
   "metadata": {},
   "outputs": [
    {
     "name": "stdout",
     "output_type": "stream",
     "text": [
      "train_sj = (843, 29)\n",
      "test_sj = (93, 29)\n",
      "train_iq = (468, 29)\n",
      "test_iq = (52, 29)\n"
     ]
    }
   ],
   "source": [
    "# split train (90%) and test (10%)\n",
    "\n",
    "# San Juan (sj)\n",
    "min_date_sj, max_date_sj = df_train_sj.select(F.min(\"week_start_date\"),\n",
    "                                              F.max(\"week_start_date\")).first()\n",
    "\n",
    "testsize_sj = int(0.1 * df_train_sj.count())\n",
    "delta_sj = datetime.timedelta(weeks=testsize_sj)\n",
    "cut_date_sj = max_date_sj - delta_sj\n",
    "\n",
    "train_sj = df_train_sj.filter(df_train_sj.week_start_date <= cut_date_sj)\n",
    "test_sj = df_train_sj.filter(df_train_sj.week_start_date > cut_date_sj)\n",
    "\n",
    "print(\"train_sj = ({}, {})\".format(train_sj.count(), len(train_sj.columns)))\n",
    "print(\"test_sj = ({}, {})\".format(test_sj.count(), len(test_sj.columns)))\n",
    "\n",
    "# Iquitos (iq)\n",
    "min_date_iq, max_date_iq = df_train_iq.select(F.min(\"week_start_date\"),\n",
    "                                              F.max(\"week_start_date\")).first()\n",
    "\n",
    "testsize_iq = int(0.1 * df_train_iq.count())\n",
    "delta_iq = datetime.timedelta(weeks=testsize_iq)\n",
    "cut_date_iq = max_date_iq - delta_iq\n",
    "\n",
    "train_iq = df_train_iq.filter(df_train_iq.week_start_date <= cut_date_iq)\n",
    "test_iq = df_train_iq.filter(df_train_iq.week_start_date > cut_date_iq)\n",
    "\n",
    "print(\"train_iq = ({}, {})\".format(train_iq.count(), len(train_iq.columns)))\n",
    "print(\"test_iq = ({}, {})\".format(test_iq.count(), len(test_iq.columns)))"
   ]
  },
  {
   "cell_type": "code",
   "execution_count": 7,
   "metadata": {},
   "outputs": [
    {
     "name": "stdout",
     "output_type": "stream",
     "text": [
      "train = (1311, 29)\n",
      "test = (145, 29)\n"
     ]
    }
   ],
   "source": [
    "# concatenate the 2 sets\n",
    "train = train_sj.union(train_iq)\n",
    "test = test_sj.union(test_iq)\n",
    "\n",
    "print(\"train = ({}, {})\".format(train.count(), len(train.columns)))\n",
    "print(\"test = ({}, {})\".format(test.count(), len(test.columns)))"
   ]
  },
  {
   "cell_type": "markdown",
   "metadata": {},
   "source": [
    "### Construction du *pipeline*"
   ]
  },
  {
   "cell_type": "code",
   "execution_count": 8,
   "metadata": {},
   "outputs": [],
   "source": [
    "# OneHotEncoder categorial variables\n",
    "indexer = StringIndexer(inputCol='city', outputCol='city_')\n",
    "encoder = OneHotEncoder(inputCol='city_', outputCol='cityVect')\n",
    "\n",
    "# Build feature vector\n",
    "vectorAssembler = VectorAssembler(\n",
    "    inputCols=['cityVect',\n",
    "               'year', 'weekofyear',\n",
    "##               'bucket_ne', 'bucket_nw', 'bucket_se', 'bucket_sw',\n",
    "               'ndvi_avg',\n",
    "               'reanalysis_precip_amt_kg_per_m2',\n",
    "##               'reanalysis_relative_humidity_percent',\n",
    "               'reanalysis_sat_precip_amt_mm',\n",
    "               'reanalysis_specific_humidity_g_per_kg',\n",
    "               'station_avg_temp_c',\n",
    "               'station_diur_temp_rng_c',\n",
    "               'station_max_temp_c', 'station_min_temp_c', \n",
    "               'station_precip_mm',  \n",
    "               'reanalysis_air_temp_c',\n",
    "               'reanalysis_avg_temp_c',\n",
    "               'reanalysis_dew_point_temp_c',\n",
    "               'reanalysis_max_air_temp_c',\n",
    "##               'reanalysis_min_air_temp_c',\n",
    "##               'reanalysis_tdtr_c',\n",
    "               ], \n",
    "    outputCol = 'features')\n",
    "\n",
    "# scaler\n",
    "scaler = StandardScaler(inputCol='features',\n",
    "                        outputCol='scaled_features',\n",
    "                        withStd=True, withMean=True)\n",
    "\n",
    "# Random forest\n",
    "rf = RandomForestRegressor(featuresCol='scaled_features',\n",
    "                           labelCol='total_cases',\n",
    "                           predictionCol='rf_prediction')"
   ]
  },
  {
   "cell_type": "markdown",
   "metadata": {},
   "source": [
    "### Modèle *Random Forest* (forêt aléatoire)\n",
    "\n",
    "#### Paramètres par défaut"
   ]
  },
  {
   "cell_type": "code",
   "execution_count": 9,
   "metadata": {},
   "outputs": [
    {
     "name": "stdout",
     "output_type": "stream",
     "text": [
      "Random Forest::Before grid search - MAE = 12.742\n"
     ]
    }
   ],
   "source": [
    "pipeline_rf = Pipeline(stages=[indexer, encoder, vectorAssembler, scaler, rf])\n",
    "\n",
    "evaluator_rf = RegressionEvaluator(labelCol='total_cases',\n",
    "                                   predictionCol='rf_prediction',\n",
    "                                   metricName=\"mae\")\n",
    "\n",
    "# build model\n",
    "model_rf = pipeline_rf.fit(train)\n",
    "\n",
    "# Build prediction from 'test' dataset\n",
    "pred_rf = model_rf.transform(test)\n",
    "\n",
    "#pred_rf.select(['total_cases','rf_prediction']).show(52)\n",
    "\n",
    "mae = evaluator_rf.evaluate(pred_rf)\n",
    "\n",
    "print(\"Random Forest::Before grid search - MAE = {:.3f}\".format(mae))"
   ]
  },
  {
   "cell_type": "markdown",
   "metadata": {},
   "source": [
    "#### Ajustement des hyper-paramètres (*grid search*)"
   ]
  },
  {
   "cell_type": "markdown",
   "metadata": {},
   "source": [
    "#### Custom cross validation\n",
    "\n",
    "Pour pouvoir utiliser notre propre découpage en folds, nous définissons une classe CustomCrossValidator\n",
    "(code de https://www.timlrx.com/2018/04/08/creating-a-custom-cross-validation-function-in-pyspark/ très légèrement adapté pour tenir compte des évolutions récentes de Spark)"
   ]
  },
  {
   "cell_type": "code",
   "execution_count": null,
   "metadata": {},
   "outputs": [],
   "source": [
    "# cette classe vient de https://www.timlrx.com/2018/04/08/creating-a-custom-cross-validation-function-in-pyspark/\n",
    "\n",
    "from pyspark.ml.tuning import ValidatorParams, Params, _parallelFitTasks, CrossValidatorModel\n",
    "from pyspark import keyword_only\n",
    "from pyspark.ml.param.shared import HasParallelism\n",
    "from pyspark.ml.param import TypeConverters\n",
    "from pyspark.ml.util import MLReadable, MLWritable\n",
    "import threading\n",
    "import multiprocessing\n",
    "\n",
    "class CustomCrossValidator(Estimator, ValidatorParams, HasParallelism, MLReadable, MLWritable):\n",
    "    \"\"\"\n",
    "    Modifies CrossValidator allowing custom train and test dataset to be passed into the function\n",
    "    Bypass generation of train/test via numFolds\n",
    "    instead train and test set is user defined\n",
    "    \"\"\"\n",
    "    \n",
    "    splitWord = Param(Params._dummy(), \"splitWord\", \"Tuple to split train and test set e.g. ('train', 'test')\",\n",
    "                      typeConverter=TypeConverters.toListString)\n",
    "    cvCol = Param(Params._dummy(), \"cvCol\", \"Column name to filter train and test list\",\n",
    "                      typeConverter=TypeConverters.toString)\n",
    "    \n",
    "    @keyword_only\n",
    "    def __init__(self, estimator=None, estimatorParamMaps=None, evaluator=None,\n",
    "                 splitWord = ('train', 'test'), cvCol = 'cv', seed=None, parallelism=1):\n",
    "\n",
    "        super(CustomCrossValidator, self).__init__()\n",
    "        self._setDefault(parallelism=1)\n",
    "        kwargs = self._input_kwargs\n",
    "        self._set(**kwargs)\n",
    "        \n",
    "    def _fit(self, dataset):\n",
    "        est = self.getOrDefault(self.estimator)\n",
    "        epm = self.getOrDefault(self.estimatorParamMaps)\n",
    "        numModels = len(epm)\n",
    "        eva = self.getOrDefault(self.evaluator)\n",
    "        nFolds = len(dataset)\n",
    "        seed = self.getOrDefault(self.seed)\n",
    "        metrics = [0.0] * numModels\n",
    "        matrix_metrics = [[0 for x in range(nFolds)] for y in range(len(epm))] \n",
    "        \n",
    "        p= self.getParallelism()\n",
    "        #p = min(self.getParallelism(), numModels)\n",
    "        pool = ThreadPool(p)\n",
    "\n",
    "        for i in range(nFolds):\n",
    "            validation = dataset[list(dataset.keys())[i]] \\\n",
    "                .filter(F.col(self.getOrDefault(self.cvCol))==(self.getOrDefault(self.splitWord))[0]) \\\n",
    "                .cache()\n",
    "            train = dataset[list(dataset.keys())[i]] \\\n",
    "                .filter(F.col(self.getOrDefault(self.cvCol))==(self.getOrDefault(self.splitWord))[1]) \\\n",
    "                .cache()\n",
    "            \n",
    "            print('fold {}'.format(i))\n",
    "            #tasks = _parallelFitTasks(est, train, eva, validation, epm)\n",
    "            tasks = _parallelFitTasks(est, train, eva, validation, epm, False)\n",
    "            \n",
    "            print(pool.imap_unordered(lambda f: f(), tasks))\n",
    "            \n",
    "            for j, metric in pool.imap_unordered(lambda f: f(), tasks):\n",
    "                # print(j, metric)\n",
    "                matrix_metrics[j][i] = metric\n",
    "                metrics[j] += (metric / nFolds)\n",
    "            # print(metrics)\n",
    "            validation.unpersist()\n",
    "            train.unpersist()\n",
    "\n",
    "        if eva.isLargerBetter():\n",
    "            bestIndex = np.argmax(metrics)\n",
    "        else:\n",
    "            bestIndex = np.argmin(metrics)\n",
    "        \n",
    "        for i in range(len(metrics)):\n",
    "            print(epm[i], 'Detailed Score {}'.format(matrix_metrics[i]), 'Avg Score {}'.format(metrics[i]))\n",
    "        \n",
    "        print('Best Model: ', epm[bestIndex], 'Detailed Score {}'.format(matrix_metrics[bestIndex]),\n",
    "              'Avg Score {}'.format(metrics[bestIndex]))\n",
    "        \n",
    "        ### Do not bother to train on full dataset, just the latest train supplied\n",
    "        # bestModel = est.fit(dataset, epm[bestIndex])\n",
    "        bestModel = est.fit(train, epm[bestIndex])\n",
    "        return self._copyValues(CrossValidatorModel(bestModel, metrics))"
   ]
  },
  {
   "attachments": {
    "image.png": {
     "image/png": "[encoded data removed]"
    }
   },
   "cell_type": "markdown",
   "metadata": {},
   "source": [
    "Nous découpons nos propres folds :\n",
    "    ![image.png](attachment:image.png)\n",
    "    \n",
    "Pour San Juan:\n",
    "date_start = 1990-05-28 / date_stop = 2008-04-22\n",
    "\n",
    "split San Juan into : 18 years = 6 x 3 years\n",
    "- train 1990-1993 test 1993-1996\n",
    "- train 1990-1996 test 1996-1999\n",
    "- train 1990-1999 test 1999-2002\n",
    "- train 1990-2002 test 2002-2005\n",
    "- train 1990-2005 test 2005-2008"
   ]
  },
  {
   "cell_type": "code",
   "execution_count": null,
   "metadata": {},
   "outputs": [],
   "source": [
    "from pyspark.sql.functions import lit\n",
    "\n",
    "d = {}\n",
    "\n",
    "def compute_fold(df,cut_date,end_date):\n",
    "    fold_train = df \\\n",
    "        .filter(df.week_start_date <= cut_date) \\\n",
    "        .withColumn('cv', lit('train'))\n",
    "    fold_test = df \\\n",
    "        .filter(df.week_start_date > cut_date) \\\n",
    "        .filter(df.week_start_date < end_date) \\\n",
    "        .withColumn('cv', lit('test'))\n",
    "\n",
    "    print(\"\\tdate_cut = {} / date_stop = {}\".format(cut_date, end_date))\n",
    "    print(\"fold_train = ({}, {})\".format(fold1_train_sj.count(), len(fold1_train_sj.columns)))\n",
    "    print(\"fold_test = ({}, {})\".format(fold1_test_sj.count(), len(fold1_test_sj.columns)))\n",
    "    return fold_train.union(fold_test)\n",
    "\n",
    "# San Juan data:\n",
    "# df_train_sj = (932, 52)\n",
    "# date_start = 1990-05-28 / date_stop = 2008-04-22\n",
    "# split San Juan into : 18 years = 6 x 3 years\n",
    "\n",
    "min_date_sj, max_date_sj = train_sj.select(\n",
    "    min(\"week_start_date\"), max(\"week_start_date\")).first()\n",
    "\n",
    "print(\"San Juan data:\")\n",
    "print(\"df_train_sj = ({}, {})\".format(df_train_sj.count(), len(df_train_sj.columns)))\n",
    "print(\"\\tdate_start = {} / date_stop = {}\".format(min_date_sj, max_date_sj))\n",
    "\n",
    "delta = datetime.timedelta(weeks=52*3)\n",
    "cut_date = min_date_sj + delta\n",
    "end_date = cut_date + delta\n",
    "d['fold1'] = compute_fold(train_sj,cut_date,end_date)\n",
    "\n",
    "cut_date = end_date\n",
    "end_date = cut_date + delta\n",
    "d['fold2'] = compute_fold(train_sj,cut_date,end_date)\n",
    "\n",
    "cut_date = end_date\n",
    "end_date = cut_date + delta\n",
    "d['fold3'] = compute_fold(train_sj,cut_date,end_date)\n",
    "\n",
    "cut_date = end_date\n",
    "end_date = cut_date + delta\n",
    "d['fold4'] = compute_fold(train_sj,cut_date,end_date)\n",
    "\n",
    "cut_date = end_date\n",
    "end_date = max_date_sj \n",
    "d['fold5'] = compute_fold(train_sj,cut_date,end_date)"
   ]
  },
  {
   "cell_type": "code",
   "execution_count": null,
   "metadata": {},
   "outputs": [],
   "source": [
    "# Parameter grid for random forest\n",
    "paramGrid_rf = ParamGridBuilder() \\\n",
    "    .addGrid(rf.maxDepth, [2, 3, 4, 5, 6, 7]) \\\n",
    "    .addGrid(rf.numTrees, [10, 20, 30, 40, 50, 60]) \\\n",
    "    .build()\n",
    "\n",
    "#pipeline_rf = Pipeline(stages=[indexer, encoder, vectorAssembler2, scaler, rf])\n",
    "pipeline_rf = Pipeline(stages=[vectorAssembler2, scaler, rf])\n",
    "\n",
    "# Build feature vector\n",
    "vectorAssembler2 = VectorAssembler(\n",
    "    inputCols=[\n",
    "        #'cityVect',\n",
    "               'year', 'weekofyear',\n",
    "##               'bucket_ne', 'bucket_nw', 'bucket_se', 'bucket_sw',\n",
    "               'ndvi_avg',\n",
    "               'reanalysis_precip_amt_kg_per_m2',\n",
    "##               'reanalysis_relative_humidity_percent',\n",
    "               'reanalysis_sat_precip_amt_mm',\n",
    "               'reanalysis_specific_humidity_g_per_kg',\n",
    "               'station_avg_temp_c',\n",
    "               'station_diur_temp_rng_c',\n",
    "               'station_max_temp_c', 'station_min_temp_c', \n",
    "               'station_precip_mm',  \n",
    "               'reanalysis_air_temp_c',\n",
    "               'reanalysis_avg_temp_c',\n",
    "               'reanalysis_dew_point_temp_c',\n",
    "               'reanalysis_max_air_temp_c',\n",
    "##               'reanalysis_min_air_temp_c',\n",
    "##               'reanalysis_tdtr_c',\n",
    "               ], \n",
    "    outputCol = 'features')\n",
    "\n",
    "\n",
    "cv = CustomCrossValidator(estimator=pipeline_rf, \n",
    "                          estimatorParamMaps=paramGrid_rf, \n",
    "                          evaluator=evaluator_rf,\n",
    "                          splitWord = ('train', 'test'), \n",
    "                          cvCol = 'cv', \n",
    "                          parallelism = 4,\n",
    "                          seed=18)\n",
    "\n"
   ]
  },
  {
   "cell_type": "code",
   "execution_count": null,
   "metadata": {},
   "outputs": [],
   "source": [
    "cvModel = cv.fit(d)"
   ]
  },
  {
   "cell_type": "code",
   "execution_count": null,
   "metadata": {},
   "outputs": [],
   "source": [
    "# Build prediction from 'test' dataset\n",
    "cv_pred_rf = cvModel.transform(test_sj)\n",
    "\n",
    "mae = evaluator_rf.evaluate(cv_pred_rf)\n",
    "\n",
    "print(\"Random Forest::After grid search custom cross validation San Juan - MAE = {:.3f}\".format(mae))"
   ]
  },
  {
   "cell_type": "code",
   "execution_count": null,
   "metadata": {},
   "outputs": [],
   "source": [
    "#  Iquitos folds\n",
    "\n",
    "d_iq = {}\n",
    "\n",
    "# Iquitos data:\n",
    "# df_train_iq = (520, 52)\n",
    "# date_start = 2000-07-01 / date_stop = 2010-06-25\n",
    "# split Iquitos into : 10 years = 5 x 3 years\n",
    "# train 2000-2002 test 2002-2004\n",
    "# train 2000-2004 test 2004-2006\n",
    "# train 2000-2006 test 2006-2008\n",
    "# train 2000-2008 test 2008-2010\n",
    "\n",
    "min_date_iq, max_date_iq = train_iq.select(\n",
    "    min(\"week_start_date\"), max(\"week_start_date\")).first()\n",
    "\n",
    "print(\"Iquitos data:\")\n",
    "print(\"df_train_iq = ({}, {})\".format(df_train_iq.count(), len(df_train_iq.columns)))\n",
    "print(\"\\tdate_start = {} / date_stop = {}\".format(min_date_iq, max_date_iq))\n",
    "\n",
    "delta = datetime.timedelta(weeks=52*2)\n",
    "\n",
    "cut_date = min_date_iq + delta\n",
    "end_date = cut_date + delta\n",
    "d_iq['fold1'] = compute_fold(train_iq,cut_date,end_date)\n",
    "\n",
    "cut_date = end_date\n",
    "end_date = cut_date + delta\n",
    "d_iq['fold2'] = compute_fold(train_iq,cut_date,end_date)\n",
    "\n",
    "cut_date = end_date\n",
    "end_date = cut_date + delta\n",
    "d_iq['fold3'] = compute_fold(train_iq,cut_date,end_date)\n",
    "\n",
    "cut_date = end_date\n",
    "end_date = max_date_iq\n",
    "d_iq['fold4'] = compute_fold(train_iq,cut_date,end_date)"
   ]
  },
  {
   "cell_type": "code",
   "execution_count": null,
   "metadata": {},
   "outputs": [],
   "source": [
    "cvModel_iq = cv.fit(d_iq)"
   ]
  },
  {
   "cell_type": "code",
   "execution_count": null,
   "metadata": {},
   "outputs": [],
   "source": [
    "# Build prediction from 'test' dataset\n",
    "cv_pred_rf_iq = cvModel_iq.transform(test_iq)\n",
    "\n",
    "mae = evaluator_rf.evaluate(cv_pred_rf_iq)\n",
    "\n",
    "print(\"Random Forest::After grid search custom cross validation Iquitos - MAE = {:.3f}\".format(mae))"
   ]
  },
  {
   "cell_type": "markdown",
   "metadata": {},
   "source": [
    "#### Résultats\n",
    "\n",
    "shift=0, Best model (numTree=50, MaxDepth=3) => MAE = 12.797\n",
    "shift=1,\n",
    "shift=2, Best model (numTree=55, MaxDepth=3) => MAE = 12.486\n",
    "shift=3, Best model (numTree=50, MaxDepth=4) => MAE = 12.465\n",
    "shift=4, Best model (numTree=30, MaxDepth=3) => MAE = 12.544"
   ]
  },
  {
   "cell_type": "markdown",
   "metadata": {},
   "source": [
    "#### Affichage des predictions obtenues\n",
    "\n",
    "Nous mesurons la performance du modèle en ragardant les prédictions sur le jeu de données d'entrainement."
   ]
  },
  {
   "cell_type": "code",
   "execution_count": null,
   "metadata": {},
   "outputs": [],
   "source": [
    "pd_train_sj = train_sj.toPandas()\n",
    "pd_train_iq = train_iq.toPandas()\n",
    "\n",
    "# create pandas dataframe from spark dataframe\n",
    "\n",
    "#pd_pred_rf = cv_pred_rf.toPandas()\n",
    "\n",
    "#pd_pred_rf_sj = pd_pred_rf[pd_pred_rf['city'] == 'sj']\n",
    "#pd_pred_rf_iq = pd_pred_rf[pd_pred_rf['city'] == 'iq']\n",
    "\n",
    "pd_pred_rf_sj = cv_pred_rf.toPandas()\n",
    "pd_pred_rf_iq = cv_pred_rf_iq.toPandas()"
   ]
  },
  {
   "cell_type": "code",
   "execution_count": null,
   "metadata": {
    "scrolled": true
   },
   "outputs": [],
   "source": [
    "pred_train = rf_bestModel.transform(train)\n",
    "\n",
    "# create pandas dataframe from spark dataframe\n",
    "pd_pred_train = pred_train.toPandas()\n",
    "\n",
    "pd_pred_train_sj = pd_pred_train[pd_pred_train['city'] == 'sj']\n",
    "pd_pred_train_iq = pd_pred_train[pd_pred_train['city'] == 'iq']\n",
    "\n",
    "# Total cases per city\n",
    "fig = plt.figure(figsize=(12, 8))\n",
    "plt.grid()\n",
    "plt.title('Random Forest: Prediction Dengue Fever total cases per week')\n",
    "\n",
    "plt.xlabel('year')\n",
    "plt.ylabel('total cases')\n",
    "plt.xticks()\n",
    "plt.yticks()\n",
    "\n",
    "plt.plot(pd_train_sj['week_start_date'], pd_train_sj['total_cases'],\n",
    "         label='San Juan - Observations')\n",
    "plt.plot(pd_train_iq['week_start_date'], pd_train_iq['total_cases'],\n",
    "         label='Iquitos - Observations')\n",
    "\n",
    "plt.plot(pd_pred_train_sj['week_start_date'], pd_pred_train_sj['rf_prediction'],\n",
    "         label='San Juan - Predictions')\n",
    "plt.plot(pd_pred_train_iq['week_start_date'], pd_pred_train_iq['rf_prediction'],\n",
    "         label='Iquitos - Predictions')\n",
    "\n",
    "plt.legend()\n",
    "\n",
    "fig.savefig(\"figs/05-fig_01.jpg\")\n",
    "plt.show()"
   ]
  },
  {
   "cell_type": "markdown",
   "metadata": {},
   "source": [
    "## plot LR"
   ]
  },
  {
   "cell_type": "markdown",
   "metadata": {},
   "source": [
    "### try on test bench"
   ]
  },
  {
   "cell_type": "code",
   "execution_count": null,
   "metadata": {},
   "outputs": [],
   "source": [
    "df_bench = spark.read.parquet(\"data/02-benchmark\")\n",
    "\n",
    "print(\"df_bench = ({}, {})\".format(df_bench.count(), len(df_bench.columns)))"
   ]
  },
  {
   "cell_type": "code",
   "execution_count": null,
   "metadata": {},
   "outputs": [],
   "source": [
    "# simple RF\n",
    "bench_simple_rf = cv_model_rf.transform(df_bench)"
   ]
  },
  {
   "cell_type": "code",
   "execution_count": null,
   "metadata": {},
   "outputs": [],
   "source": [
    "df_submission = spark.read.csv('data/submission_format.csv',header=True)\n",
    "df_submission.show(10)"
   ]
  },
  {
   "cell_type": "code",
   "execution_count": null,
   "metadata": {},
   "outputs": [],
   "source": [
    "df_temp = bench_simple_rf['city', 'year', 'weekofyear','rf_prediction']\n",
    "df_temp = df_temp.withColumn(\"total_cases\", df_temp[\"rf_prediction\"].cast('int'))\n",
    "df_temp = df_temp.drop('rf_prediction')"
   ]
  },
  {
   "cell_type": "code",
   "execution_count": null,
   "metadata": {},
   "outputs": [],
   "source": [
    "df_temp.show(10)"
   ]
  },
  {
   "cell_type": "code",
   "execution_count": null,
   "metadata": {},
   "outputs": [],
   "source": [
    "df_temp_pandas = df_temp.select('city','year','weekofyear','total_cases').toPandas()\n",
    "df_temp_pandas_sj = df_temp_pandas[df_temp_pandas['city'] == 'sj']\n",
    "df_temp_pandas_iq = df_temp_pandas[df_temp_pandas['city'] == 'iq']\n",
    "df_temp_pandas = pd.concat([df_temp_pandas_sj,df_temp_pandas_iq], axis=0)"
   ]
  },
  {
   "cell_type": "code",
   "execution_count": null,
   "metadata": {},
   "outputs": [],
   "source": [
    "df_temp_pandas.to_csv('data/test_cv_rf.csv',index=False)"
   ]
  },
  {
   "cell_type": "markdown",
   "metadata": {},
   "source": [
    "features = ['reanalysis_specific_humidity_g_per_kg', \n",
    "            'reanalysis_dew_point_temp_k', \n",
    "            'station_avg_temp_c', \n",
    "            'station_min_temp_c',\n",
    "            'reanalysis_min_air_temp_k',\n",
    "            'reanalysis_max_air_temp_k']  "
   ]
  }
 ],
 "metadata": {
  "kernelspec": {
   "display_name": "Python 3",
   "language": "python",
   "name": "python3"
  }
 },
 "nbformat": 4,
 "nbformat_minor": 2
}
