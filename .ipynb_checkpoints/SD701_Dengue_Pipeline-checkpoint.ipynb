{
 "cells": [
  {
   "cell_type": "code",
   "execution_count": 56,
   "metadata": {},
   "outputs": [],
   "source": [
    "# Load pyspark\n",
    "import findspark\n",
    "\n",
    "findspark.init()\n",
    "\n",
    "from pyspark import SparkContext\n",
    "\n",
    "from pyspark.sql import SparkSession\n",
    "\n",
    "from pyspark.ml.regression import LinearRegression\n",
    "from pyspark.ml.regression import RandomForestRegressor\n",
    "\n",
    "from pyspark.ml.feature import VectorAssembler, StringIndexer, OneHotEncoder, StandardScaler\n",
    "\n",
    "from pyspark.ml.evaluation import RegressionEvaluator\n",
    "\n",
    "from pyspark.ml.tuning import CrossValidator, ParamGridBuilder\n",
    "\n",
    "from pyspark.ml import Pipeline"
   ]
  },
  {
   "cell_type": "code",
   "execution_count": 57,
   "metadata": {},
   "outputs": [],
   "source": [
    "import pandas as pd\n",
    "import numpy as np\n",
    "\n",
    "from sklearn.metrics import mean_absolute_error"
   ]
  },
  {
   "cell_type": "code",
   "execution_count": 58,
   "metadata": {},
   "outputs": [],
   "source": [
    "spark = SparkSession.builder.appName(\"dengue\").getOrCreate()"
   ]
  },
  {
   "cell_type": "code",
   "execution_count": 59,
   "metadata": {},
   "outputs": [],
   "source": [
    "path_to_data = \"data/\"\n",
    "\n",
    "df_features = spark.read.csv(path_to_data + \"dengue_features_train.csv\",\n",
    "                             header=True)\n",
    "df_labels = spark.read.csv(path_to_data + \"dengue_labels_train.csv\",\n",
    "                           header=True)\n",
    "\n",
    "#df_features['month'] = df_features['week_start_date'][5:7]\n",
    "df_features = df_features.drop('precipitation_amt_mm','week_start_date')\n",
    "df_train = df_features.join(df_labels, ['city', 'year', 'weekofyear'])"
   ]
  },
  {
   "cell_type": "code",
   "execution_count": 60,
   "metadata": {},
   "outputs": [],
   "source": [
    "train, test = df_train.randomSplit([0.75, 0.25], seed=18)"
   ]
  },
  {
   "cell_type": "code",
   "execution_count": 61,
   "metadata": {},
   "outputs": [
    {
     "data": {
      "text/plain": [
       "DataFrame[city: string, year: float, weekofyear: float, ndvi_ne: float, ndvi_nw: float, ndvi_se: float, ndvi_sw: float, reanalysis_air_temp_k: float, reanalysis_avg_temp_k: float, reanalysis_dew_point_temp_k: float, reanalysis_max_air_temp_k: float, reanalysis_min_air_temp_k: float, reanalysis_precip_amt_kg_per_m2: float, reanalysis_relative_humidity_percent: float, reanalysis_sat_precip_amt_mm: float, reanalysis_specific_humidity_g_per_kg: float, reanalysis_tdtr_k: float, station_avg_temp_c: float, station_diur_temp_rng_c: float, station_max_temp_c: float, station_min_temp_c: float, station_precip_mm: float, total_cases: float]"
      ]
     },
     "execution_count": 61,
     "metadata": {},
     "output_type": "execute_result"
    }
   ],
   "source": [
    "for col_name in train.columns:\n",
    "    if col_name not in ['city']:\n",
    "        train = train.withColumn(col_name, train[col_name].cast('float'))\n",
    "        test = test.withColumn(col_name, test[col_name].cast('float'))\n",
    "        \n",
    "train = train.dropna()\n",
    "test = test.dropna()\n",
    "train.cache()"
   ]
  },
  {
   "cell_type": "code",
   "execution_count": 62,
   "metadata": {},
   "outputs": [],
   "source": [
    "indexer = StringIndexer(inputCol='city', outputCol='city_')\n",
    "\n",
    "encoder = OneHotEncoder(inputCol='city_', outputCol='cityVect')\n",
    "\n",
    "vectorAssembler = VectorAssembler(\n",
    "    inputCols=['year', 'weekofyear',\n",
    "               'ndvi_ne', 'ndvi_nw', 'ndvi_se', 'ndvi_sw',\n",
    "               'reanalysis_air_temp_k','reanalysis_avg_temp_k',\n",
    "               'reanalysis_dew_point_temp_k', 'reanalysis_max_air_temp_k',\n",
    "               'reanalysis_min_air_temp_k', 'reanalysis_precip_amt_kg_per_m2',\n",
    "               'reanalysis_relative_humidity_percent', 'reanalysis_sat_precip_amt_mm',\n",
    "               'reanalysis_specific_humidity_g_per_kg', 'reanalysis_tdtr_k',\n",
    "               'station_avg_temp_c','station_diur_temp_rng_c',\n",
    "               'station_max_temp_c', 'station_min_temp_c', \n",
    "               'station_precip_mm', 'cityVect'], \n",
    "    outputCol = 'features')\n",
    "\n",
    "scaler = StandardScaler(inputCol='features',\n",
    "                        outputCol=\"scaled_features\",\n",
    "                        withStd=True, withMean=True)\n",
    "\n",
    "lr = LinearRegression(featuresCol='scaled_features',\n",
    "                      labelCol='total_cases',\n",
    "                      predictionCol='lr_prediction')\n",
    "\n",
    "rf = RandomForestRegressor(featuresCol='scaled_features',\n",
    "                           labelCol='total_cases',\n",
    "                           predictionCol='rf_prediction')"
   ]
  },
  {
   "cell_type": "code",
   "execution_count": 63,
   "metadata": {},
   "outputs": [],
   "source": [
    "pipeline_rf = Pipeline(stages=[indexer, encoder, vectorAssembler, scaler, rf])\n",
    "#, encoder, vectorAssembler, scaler, rf"
   ]
  },
  {
   "cell_type": "code",
   "execution_count": 64,
   "metadata": {},
   "outputs": [],
   "source": [
    "model_rf = pipeline_rf.fit(train)"
   ]
  },
  {
   "cell_type": "code",
   "execution_count": 65,
   "metadata": {},
   "outputs": [
    {
     "data": {
      "text/plain": [
       "DataFrame[city: string, year: float, weekofyear: float, ndvi_ne: float, ndvi_nw: float, ndvi_se: float, ndvi_sw: float, reanalysis_air_temp_k: float, reanalysis_avg_temp_k: float, reanalysis_dew_point_temp_k: float, reanalysis_max_air_temp_k: float, reanalysis_min_air_temp_k: float, reanalysis_precip_amt_kg_per_m2: float, reanalysis_relative_humidity_percent: float, reanalysis_sat_precip_amt_mm: float, reanalysis_specific_humidity_g_per_kg: float, reanalysis_tdtr_k: float, station_avg_temp_c: float, station_diur_temp_rng_c: float, station_max_temp_c: float, station_min_temp_c: float, station_precip_mm: float, total_cases: float, city_: double, cityVect: vector, features: vector, scaled_features: vector, rf_prediction: double]"
      ]
     },
     "execution_count": 65,
     "metadata": {},
     "output_type": "execute_result"
    }
   ],
   "source": [
    "test_prediction_rf = model_rf.transform(train)\n",
    "test_prediction_rf"
   ]
  },
  {
   "cell_type": "code",
   "execution_count": 66,
   "metadata": {},
   "outputs": [
    {
     "name": "stdout",
     "output_type": "stream",
     "text": [
      "+-----------+------------------+\n",
      "|total_cases|     rf_prediction|\n",
      "+-----------+------------------+\n",
      "|        0.0|3.1044375993455513|\n",
      "|        0.0|2.9516836227431766|\n",
      "|        0.0|3.7846634696385935|\n",
      "|        0.0| 4.319174939916822|\n",
      "|        0.0| 2.787560426294786|\n",
      "|        0.0|2.8018461405805004|\n",
      "|        0.0|   2.8143461405805|\n",
      "|        0.0| 3.479984095757146|\n",
      "|        1.0|  8.66600893229928|\n",
      "|        0.0| 3.919722156840662|\n",
      "|        0.0|  3.16790705508097|\n",
      "|        0.0| 3.676733454183151|\n",
      "|        1.0|3.5661736289888437|\n",
      "|        0.0|  4.14977872921669|\n",
      "|        0.0|17.024818315492617|\n",
      "|        0.0| 5.869892057777035|\n",
      "|        0.0| 4.851276095997932|\n",
      "|        1.0|3.8232108465123007|\n",
      "|        0.0|5.5307212407826345|\n",
      "|        0.0| 8.215457284878864|\n",
      "|        0.0| 5.057845622127251|\n",
      "|        0.0| 5.462043608735363|\n",
      "|        0.0|4.7337200155717385|\n",
      "|        0.0| 5.403816496930424|\n",
      "|        0.0| 4.042854274164816|\n",
      "|        0.0| 6.725884849787967|\n",
      "|        1.0|3.7087479441731377|\n",
      "|        1.0| 4.107059639003338|\n",
      "|        0.0|2.8363104262947862|\n",
      "|        0.0| 3.267051279702458|\n",
      "|        0.0| 2.787560426294786|\n",
      "|        0.0| 2.787560426294786|\n",
      "|        0.0|2.8018461405805004|\n",
      "|        0.0|2.9516836227431766|\n",
      "|        0.0| 3.024992947690441|\n",
      "|        0.0| 2.937492947690441|\n",
      "|        0.0| 4.340809643181125|\n",
      "|        0.0| 2.924992947690441|\n",
      "|        0.0|  3.79831849511442|\n",
      "|        0.0| 2.937492947690441|\n",
      "|        0.0|7.3919214649745015|\n",
      "|        0.0| 4.453841281675981|\n",
      "|        0.0| 4.981309521240409|\n",
      "|        0.0| 6.506784613001251|\n",
      "|        0.0| 7.703822908979918|\n",
      "|        1.0| 8.469156601782755|\n",
      "|        1.0| 6.331449280666189|\n",
      "|        0.0| 4.249167841786097|\n",
      "|        2.0| 9.316014550359487|\n",
      "|        4.0| 9.996695251125836|\n",
      "|        0.0| 5.619045125188867|\n",
      "|        0.0| 4.065315226951446|\n",
      "|        0.0| 4.855215401631889|\n",
      "|       10.0|10.334355525210274|\n",
      "|        7.0| 9.390758397638706|\n",
      "|       10.0|10.084041780983487|\n",
      "|       11.0|10.454227084419745|\n",
      "|       13.0|  9.40581724256506|\n",
      "|       22.0| 8.488328808585013|\n",
      "|       11.0| 9.734973213474753|\n",
      "|        5.0| 5.205377655199242|\n",
      "|       13.0| 7.803195989843131|\n",
      "|        2.0| 4.530954455237684|\n",
      "|       11.0| 7.514028870522789|\n",
      "|       11.0|4.6232929343686155|\n",
      "|        3.0|4.6232929343686155|\n",
      "|        7.0| 5.683644626274729|\n",
      "|        7.0|4.6232929343686155|\n",
      "|        4.0|4.6232929343686155|\n",
      "|       16.0| 7.579449976384041|\n",
      "|        5.0| 4.886761055891936|\n",
      "|        7.0|4.6232929343686155|\n",
      "|        7.0| 5.539507910961559|\n",
      "|        9.0| 5.512665805698401|\n",
      "|       17.0| 8.526983285105368|\n",
      "|       22.0| 6.041782544085248|\n",
      "|       18.0|5.9671269585806055|\n",
      "|       23.0|10.321054919200048|\n",
      "|       21.0| 6.702817616796968|\n",
      "|       16.0| 7.695724755669557|\n",
      "|       31.0| 7.101186256757627|\n",
      "|       25.0| 7.836784406132304|\n",
      "|       26.0|10.086758565525255|\n",
      "|       18.0|12.329470524335667|\n",
      "|       27.0|11.711414294449526|\n",
      "|       11.0|10.280154029346061|\n",
      "|       29.0|10.672316566380854|\n",
      "|       21.0| 11.45558610386092|\n",
      "|       11.0|11.669398800446961|\n",
      "|       18.0|10.096683223639996|\n",
      "|        8.0|10.366527437485063|\n",
      "|       10.0| 8.815265085458918|\n",
      "|        1.0| 9.273139799839086|\n",
      "|        2.0| 9.497894502902994|\n",
      "|        0.0| 8.577899492933378|\n",
      "|        0.0| 9.024018978061088|\n",
      "|        0.0| 5.679309183265049|\n",
      "|        0.0|7.9263397794159856|\n",
      "|        1.0| 7.194011336868526|\n",
      "|        1.0| 4.396886225193943|\n",
      "|        1.0| 4.530954455237684|\n",
      "|        2.0| 8.292259568608978|\n",
      "|        3.0|  6.14261797845218|\n",
      "|        6.0|5.6717371581355795|\n",
      "|        2.0|4.6232929343686155|\n",
      "|        5.0|4.6232929343686155|\n",
      "|        1.0|4.6232929343686155|\n",
      "|        1.0|4.6232929343686155|\n",
      "|        0.0| 5.141744906021134|\n",
      "|        0.0|4.8899434511644815|\n",
      "|        0.0|4.8899434511644815|\n",
      "|        0.0| 5.141744906021134|\n",
      "|        2.0|4.8899434511644815|\n",
      "|        0.0| 5.276558379797741|\n",
      "|        3.0| 5.921677461325582|\n",
      "|        2.0| 7.812337429455702|\n",
      "|        0.0| 7.157705948429042|\n",
      "|        2.0|    8.879405023845|\n",
      "|        2.0| 8.960335910226444|\n",
      "|        3.0| 8.118084782287843|\n",
      "|        3.0| 5.956516730113461|\n",
      "|        3.0| 7.061746659193029|\n",
      "|        1.0|10.120850386351819|\n",
      "|        2.0| 9.158557841803637|\n",
      "|        3.0| 9.093639388447574|\n",
      "|        1.0| 6.653320940201351|\n",
      "|        6.0| 9.487277642721352|\n",
      "|        5.0|10.918047007201428|\n",
      "|        1.0| 6.828343196702356|\n",
      "|        2.0|11.577037343197503|\n",
      "|        2.0| 7.952395062154748|\n",
      "|        4.0| 9.106408264903836|\n",
      "|        1.0| 6.455056464875345|\n",
      "|        1.0|10.338340322069419|\n",
      "|        6.0| 9.314598755170104|\n",
      "|        7.0| 9.555621328800319|\n",
      "|        5.0| 8.091749554055708|\n",
      "|        5.0|10.813923439564425|\n",
      "|        8.0| 6.243579850875756|\n",
      "|       13.0|4.6232929343686155|\n",
      "|        2.0|4.6232929343686155|\n",
      "|        3.0|4.6232929343686155|\n",
      "|       12.0|4.8899434511644815|\n",
      "|        7.0| 4.530954455237684|\n",
      "|        8.0|5.1248179100389395|\n",
      "|        6.0|  9.53602286695855|\n",
      "|        9.0| 7.030442646821122|\n",
      "|       12.0| 5.527841244294892|\n",
      "|       19.0|  9.57670968343172|\n",
      "|        8.0| 6.059643585557894|\n",
      "+-----------+------------------+\n",
      "only showing top 150 rows\n",
      "\n"
     ]
    }
   ],
   "source": [
    "test_prediction_rf.select(['total_cases','rf_prediction']).show(150)"
   ]
  },
  {
   "cell_type": "code",
   "execution_count": 85,
   "metadata": {},
   "outputs": [
    {
     "data": {
      "text/plain": [
       "17.28101139887985"
      ]
     },
     "execution_count": 85,
     "metadata": {},
     "output_type": "execute_result"
    }
   ],
   "source": [
    "# TO DO: evaluate first result before grid (to make sure grid improves)\n",
    "evaluator_rf.evaluate(test_prediction_rf)"
   ]
  },
  {
   "cell_type": "code",
   "execution_count": 68,
   "metadata": {},
   "outputs": [],
   "source": [
    "paramGrid = ParamGridBuilder() \\\n",
    "    .addGrid(rf.maxDepth, [2, 5, 10, 15, 20]) \\\n",
    "    .addGrid(rf.numTrees, [10, 20, 30, 40, 50]) \\\n",
    "    .build()"
   ]
  },
  {
   "cell_type": "code",
   "execution_count": 69,
   "metadata": {},
   "outputs": [],
   "source": [
    "evaluator_rf = RegressionEvaluator(labelCol='total_cases',\n",
    "                                   predictionCol='rf_prediction',\n",
    "                                   metricName=\"rmse\")\n",
    "\n",
    "\n",
    "crossval_rf = CrossValidator(estimator=pipeline_rf,\n",
    "                          estimatorParamMaps=paramGrid,\n",
    "                          evaluator=evaluator_rf,\n",
    "                          numFolds=2,\n",
    "                          seed=18)"
   ]
  },
  {
   "cell_type": "code",
   "execution_count": 70,
   "metadata": {},
   "outputs": [],
   "source": [
    "cvModel_rf = crossval_rf.fit(train)"
   ]
  },
  {
   "cell_type": "code",
   "execution_count": 71,
   "metadata": {},
   "outputs": [],
   "source": [
    "p_rf = cvModel_rf.transform(train)"
   ]
  },
  {
   "cell_type": "code",
   "execution_count": 73,
   "metadata": {},
   "outputs": [
    {
     "data": {
      "text/plain": [
       "9.3388499046989"
      ]
     },
     "execution_count": 73,
     "metadata": {},
     "output_type": "execute_result"
    }
   ],
   "source": [
    "evaluator_rf.evaluate(p_rf)"
   ]
  },
  {
   "cell_type": "code",
   "execution_count": 74,
   "metadata": {},
   "outputs": [
    {
     "data": {
      "text/plain": [
       "50"
      ]
     },
     "execution_count": 74,
     "metadata": {},
     "output_type": "execute_result"
    }
   ],
   "source": [
    "cvModel_rf.bestModel.stages[-1].getNumTrees"
   ]
  },
  {
   "cell_type": "code",
   "execution_count": 75,
   "metadata": {},
   "outputs": [],
   "source": [
    "##### df_train = indexer.fit(df_train).transform(df_train)\n",
    "\n",
    "#df_train = encoder.transform(df_train)"
   ]
  },
  {
   "cell_type": "code",
   "execution_count": 76,
   "metadata": {},
   "outputs": [],
   "source": [
    "pipeline_lr = Pipeline(stages=[indexer, encoder, vectorAssembler, scaler, lr])\n",
    "model_lr = pipeline_lr.fit(train)\n"
   ]
  },
  {
   "cell_type": "code",
   "execution_count": 77,
   "metadata": {},
   "outputs": [],
   "source": [
    "test_lr = model_lr.transform(test)"
   ]
  },
  {
   "cell_type": "code",
   "execution_count": 78,
   "metadata": {},
   "outputs": [
    {
     "name": "stdout",
     "output_type": "stream",
     "text": [
      "+-----------+--------------------+\n",
      "|total_cases|       lr_prediction|\n",
      "+-----------+--------------------+\n",
      "|        0.0|   4.715201711042997|\n",
      "|        0.0|  2.1373536371109587|\n",
      "|        0.0|    9.95483978673221|\n",
      "|        1.0|   3.650865708948402|\n",
      "|        0.0|  23.627925466242644|\n",
      "|        0.0|  21.480306326530663|\n",
      "|        0.0|   16.53828011990681|\n",
      "|        0.0|   12.38187311892863|\n",
      "|        1.0|  11.490407609839519|\n",
      "|        0.0|  3.4094519350615293|\n",
      "|        0.0|   7.975528301465218|\n",
      "|        1.0| -1.3155479906377145|\n",
      "|        0.0|  2.6297046977631204|\n",
      "|        0.0|  -4.599885533238595|\n",
      "|        0.0|   6.018443110365089|\n",
      "|        0.0|  18.503442976228932|\n",
      "|        0.0|    27.0973727552473|\n",
      "|        0.0|  18.867395074926073|\n",
      "|        1.0|  15.256442151623148|\n",
      "|        1.0|   34.23933935571746|\n",
      "|        0.0|-0.41639893876753575|\n",
      "|        4.0|  10.779540770098343|\n",
      "|        5.0|  13.444790495402346|\n",
      "|        8.0|  16.285656272279883|\n",
      "|       10.0|  10.299582618867873|\n",
      "|        6.0|  1.6640383992753414|\n",
      "|        8.0|  1.6104494162970475|\n",
      "|       38.0|  19.028098967258746|\n",
      "|       14.0|   4.662674782919048|\n",
      "|        7.0|  17.218181896905634|\n",
      "|        4.0|  14.427746609581552|\n",
      "|        4.0|   -4.05753194418455|\n",
      "|        1.0|   8.517276109007028|\n",
      "|        5.0|   5.654259639151906|\n",
      "|        1.0|  0.9472722741881618|\n",
      "|        4.0| 0.39311446560650865|\n",
      "|        2.0|  -1.501582392435001|\n",
      "|        6.0|  -2.786870415673153|\n",
      "|        0.0|  11.577479149254703|\n",
      "|        0.0|   7.555499549397435|\n",
      "|        5.0|  14.838178324351109|\n",
      "|        2.0|   0.441237415844423|\n",
      "|        3.0|    9.51710923010892|\n",
      "|        8.0|  17.680330569566582|\n",
      "|        4.0|  17.655708117050526|\n",
      "|        6.0|  2.4972747933599955|\n",
      "|        6.0|  3.3099156652848585|\n",
      "|        6.0|  -5.001501397533719|\n",
      "|       10.0| -0.1616678007661143|\n",
      "|        8.0|  14.180357179414454|\n",
      "|        5.0|  11.800802185607433|\n",
      "|       16.0|  18.493815239930534|\n",
      "|       32.0|   19.53320860359344|\n",
      "|       10.0|   6.166071362025635|\n",
      "|        7.0|  -3.240390576706087|\n",
      "|        5.0|  12.543413228916553|\n",
      "|        5.0|  1.6605751707726348|\n",
      "|        0.0|   3.951169450094877|\n",
      "|        4.0|   10.29713325874231|\n",
      "|        3.0|   9.412210232407036|\n",
      "|        3.0|   9.123514756932746|\n",
      "|        5.0|  14.176980995314553|\n",
      "|        2.0|   20.40039422169243|\n",
      "|        7.0|  13.891022291507895|\n",
      "|        8.0|   7.768813593078399|\n",
      "|        9.0|   7.677366879679473|\n",
      "|       12.0|   5.163914549347501|\n",
      "|        8.0|   5.951714959961567|\n",
      "|        5.0|  -6.240502020495409|\n",
      "|        7.0|  -1.180795359546675|\n",
      "|        5.0|  -5.316582892303327|\n",
      "|        2.0|  -11.10974497150745|\n",
      "|        2.0|  0.6832369318454319|\n",
      "|        6.0|   7.528873259469318|\n",
      "|        2.0|   2.133276114896695|\n",
      "|        6.0|  3.2051928455369136|\n",
      "|        2.0|  11.165128812848515|\n",
      "|        6.0|   11.39288309532293|\n",
      "|        8.0|  12.791899155869446|\n",
      "|       28.0|  1.8217310717957282|\n",
      "|        5.0|   8.773149386113918|\n",
      "|       14.0|  2.7214182717072504|\n",
      "|        6.0|   4.518190358144285|\n",
      "|        7.0|  -6.583654480912966|\n",
      "|        7.0|   2.371145467511454|\n",
      "|       10.0|   8.118193645844345|\n",
      "|       23.0|  18.783520221007496|\n",
      "|        9.0| -1.9862214645371132|\n",
      "|        3.0|   8.374508935900336|\n",
      "|        1.0|  11.765866148768023|\n",
      "|       26.0|   7.214163579773913|\n",
      "|        5.0|  1.4584747908027502|\n",
      "|       25.0|   4.710682852366769|\n",
      "|       44.0|   6.876149250923824|\n",
      "|       35.0|   10.50857811905938|\n",
      "|       15.0|   7.322138645893929|\n",
      "|       25.0|  1.1254856331164795|\n",
      "|        9.0|-0.02153735521102...|\n",
      "|       11.0|    4.35134145872054|\n",
      "|       11.0|   1.488415081569002|\n",
      "|        5.0|   2.637484046127131|\n",
      "|        5.0|   6.664931275272389|\n",
      "|        2.0|   2.886108321210756|\n",
      "|        2.0|  2.7150535963231057|\n",
      "|        1.0|    9.33897541366009|\n",
      "|       12.0|   2.361077096390929|\n",
      "|        9.0|  15.466354439433424|\n",
      "|        4.0|   2.408106549553853|\n",
      "|        6.0|  12.737627953162937|\n",
      "|        8.0|  12.425844448105142|\n",
      "|        4.0|    7.19421401777962|\n",
      "|        8.0|   9.516698204396857|\n",
      "|        1.0|  0.7189838153332282|\n",
      "|       11.0|  0.5407672388347855|\n",
      "|       19.0|  13.206957802973005|\n",
      "|       21.0|   50.44188962689709|\n",
      "|       27.0|  48.290729553034026|\n",
      "|       42.0|   54.77907021101487|\n",
      "|       71.0|  53.617625105044254|\n",
      "|       47.0|  40.025768210291446|\n",
      "|       16.0|  29.756278801849252|\n",
      "|       10.0|  39.355243490865035|\n",
      "|       19.0|   34.43728043987511|\n",
      "|       21.0|   36.80627819163065|\n",
      "|       18.0|   45.30059187403741|\n",
      "|       76.0|   46.27994408842493|\n",
      "|       64.0|  47.377859915107436|\n",
      "|       68.0|   47.81258890617996|\n",
      "|       34.0|  26.473658548951818|\n",
      "|      140.0|   48.15551718867407|\n",
      "|      116.0|   48.69608687543134|\n",
      "|      141.0|   40.62179502773513|\n",
      "|       37.0|  27.959521568360394|\n",
      "|       18.0|  25.111662586140095|\n",
      "|       40.0|  24.763539442476628|\n",
      "|       29.0|  33.360407071929885|\n",
      "|      104.0|  28.325544416385664|\n",
      "|       23.0|   34.70185956515499|\n",
      "|       20.0|   38.56817260981649|\n",
      "|       26.0|   39.54390526800971|\n",
      "|       29.0|    44.6114374830709|\n",
      "|       31.0|   40.20156465200209|\n",
      "|       74.0|   45.18365061622043|\n",
      "|       70.0|   43.52369819621423|\n",
      "|       61.0|   43.54505157217356|\n",
      "|       44.0|   45.67050193717475|\n",
      "|       34.0|   37.22933484614849|\n",
      "|       53.0|   36.18542677843658|\n",
      "|       31.0|   33.76346898466369|\n",
      "|       10.0|   34.12644131116119|\n",
      "+-----------+--------------------+\n",
      "only showing top 150 rows\n",
      "\n"
     ]
    }
   ],
   "source": [
    "test_lr.select(['total_cases','lr_prediction']).show(150)"
   ]
  },
  {
   "cell_type": "code",
   "execution_count": 84,
   "metadata": {},
   "outputs": [
    {
     "data": {
      "text/plain": [
       "24.31189206295404"
      ]
     },
     "execution_count": 84,
     "metadata": {},
     "output_type": "execute_result"
    }
   ],
   "source": [
    "evaluator_lr.evaluate(test_lr)"
   ]
  },
  {
   "cell_type": "code",
   "execution_count": 79,
   "metadata": {},
   "outputs": [],
   "source": [
    "evaluator_lr = RegressionEvaluator(labelCol='total_cases',\n",
    "                                   predictionCol='lr_prediction',\n",
    "                                   metricName=\"rmse\")\n",
    "\n",
    "\n",
    "crossval_lr = CrossValidator(estimator=pipeline_lr,\n",
    "                          estimatorParamMaps=paramGrid,\n",
    "                          evaluator=evaluator_lr,\n",
    "                          numFolds=2,\n",
    "                          seed=18)"
   ]
  },
  {
   "cell_type": "code",
   "execution_count": 80,
   "metadata": {},
   "outputs": [],
   "source": [
    "cvModel_lr = crossval_lr.fit(train)"
   ]
  },
  {
   "cell_type": "code",
   "execution_count": 81,
   "metadata": {},
   "outputs": [],
   "source": [
    "p_lr = cvModel_lr.transform(train)"
   ]
  },
  {
   "cell_type": "code",
   "execution_count": 83,
   "metadata": {},
   "outputs": [
    {
     "data": {
      "text/plain": [
       "27.62073809400571"
      ]
     },
     "execution_count": 83,
     "metadata": {},
     "output_type": "execute_result"
    }
   ],
   "source": [
    "evaluator_lr.evaluate(p_lr)"
   ]
  },
  {
   "cell_type": "code",
   "execution_count": null,
   "metadata": {},
   "outputs": [],
   "source": []
  }
 ],
 "metadata": {
  "kernelspec": {
   "display_name": "Python 3",
   "language": "python",
   "name": "python3"
  },
  "language_info": {
   "codemirror_mode": {
    "name": "ipython",
    "version": 3
   },
   "file_extension": ".py",
   "mimetype": "text/x-python",
   "name": "python",
   "nbconvert_exporter": "python",
   "pygments_lexer": "ipython3",
   "version": "3.7.3"
  }
 },
 "nbformat": 4,
 "nbformat_minor": 2
}
