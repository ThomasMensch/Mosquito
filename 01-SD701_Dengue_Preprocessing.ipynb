{
 "cells": [
  {
   "cell_type": "code",
   "execution_count": 1,
   "metadata": {},
   "outputs": [],
   "source": [
    "# Load pyspark\n",
    "import findspark\n",
    "\n",
    "findspark.init()\n",
    "\n",
    "#import pyspark\n",
    "import os\n",
    "import shutil\n",
    "from pyspark import SparkContext\n",
    "from pyspark.sql import SparkSession, functions as F\n",
    "from pyspark.sql.window import Window\n",
    "from pyspark.ml.feature import Bucketizer\n",
    "\n",
    "import pandas as pd\n",
    "import matplotlib.pyplot as plt\n",
    "from pandas.plotting import register_matplotlib_converters\n",
    "register_matplotlib_converters()\n",
    "\n",
    "spark = SparkSession.builder.appName(\"dengue\").getOrCreate()"
   ]
  },
  {
   "cell_type": "markdown",
   "metadata": {},
   "source": [
    "### Chargement des données"
   ]
  },
  {
   "cell_type": "code",
   "execution_count": 2,
   "metadata": {},
   "outputs": [
    {
     "name": "stdout",
     "output_type": "stream",
     "text": [
      "df_train = (1456, 25)\n"
     ]
    }
   ],
   "source": [
    "path_to_data = \"data/\"\n",
    "\n",
    "df_features = spark.read.csv(path_to_data + \"dengue_features_train.csv\",\n",
    "                             header=True)\n",
    "df_labels = spark.read.csv(path_to_data + \"dengue_labels_train.csv\",\n",
    "                           header=True)\n",
    "\n",
    "#join df_features + df_labels\n",
    "df_train = df_features.join(df_labels, ['city', 'year', 'weekofyear'])\n",
    "\n",
    "print(\"df_train = ({}, {})\".format(df_train.count(), len(df_train.columns)))"
   ]
  },
  {
   "cell_type": "markdown",
   "metadata": {},
   "source": [
    "### Nettoyage des données"
   ]
  },
  {
   "cell_type": "code",
   "execution_count": 3,
   "metadata": {},
   "outputs": [
    {
     "name": "stdout",
     "output_type": "stream",
     "text": [
      "root\n",
      " |-- city: string (nullable = true)\n",
      " |-- year: integer (nullable = true)\n",
      " |-- weekofyear: integer (nullable = true)\n",
      " |-- week_start_date: date (nullable = true)\n",
      " |-- ndvi_ne: float (nullable = true)\n",
      " |-- ndvi_nw: float (nullable = true)\n",
      " |-- ndvi_se: float (nullable = true)\n",
      " |-- ndvi_sw: float (nullable = true)\n",
      " |-- reanalysis_air_temp_k: float (nullable = true)\n",
      " |-- reanalysis_avg_temp_k: float (nullable = true)\n",
      " |-- reanalysis_dew_point_temp_k: float (nullable = true)\n",
      " |-- reanalysis_max_air_temp_k: float (nullable = true)\n",
      " |-- reanalysis_min_air_temp_k: float (nullable = true)\n",
      " |-- reanalysis_precip_amt_kg_per_m2: float (nullable = true)\n",
      " |-- reanalysis_relative_humidity_percent: float (nullable = true)\n",
      " |-- reanalysis_sat_precip_amt_mm: float (nullable = true)\n",
      " |-- reanalysis_specific_humidity_g_per_kg: float (nullable = true)\n",
      " |-- reanalysis_tdtr_k: float (nullable = true)\n",
      " |-- station_avg_temp_c: float (nullable = true)\n",
      " |-- station_diur_temp_rng_c: float (nullable = true)\n",
      " |-- station_max_temp_c: float (nullable = true)\n",
      " |-- station_min_temp_c: float (nullable = true)\n",
      " |-- station_precip_mm: float (nullable = true)\n",
      " |-- total_cases: integer (nullable = true)\n",
      "\n"
     ]
    }
   ],
   "source": [
    "def clean_df(df_train):\n",
    "\n",
    "    # The 2 columns 'precipitation_amt_mm' and 'reanalysis_sat_precip_amt_mm' are the same\n",
    "    # we drop 'precipitation_amt_mm'\n",
    "    df_train = df_train.drop('precipitation_amt_mm')\n",
    "\n",
    "    # recast 'week_start_date' as a date. Nice to have for plotting or time series analysis\n",
    "    df_train = df_train.withColumn('week_start_date', F.to_date('week_start_date', 'yyyy-MM-dd'))\n",
    "\n",
    "    # recast 'year' and 'weekofyear' to integer\n",
    "    df_train = df_train \\\n",
    "        .withColumn('year', df_train['year'].cast('int')) \\\n",
    "        .withColumn('weekofyear', df_train['weekofyear'].cast('int'))\n",
    "\n",
    "    # cast columns to float\n",
    "    for col_name in df_train.columns[4:-1]:\n",
    "        df_train = df_train.withColumn(col_name, df_train[col_name].cast('float'))\n",
    "\n",
    "    df_train.printSchema()\n",
    "    return df_train\n",
    "\n",
    "# cast column total_cases as integer\n",
    "df_train = df_train.withColumn('total_cases', df_train['total_cases'].cast('int'))\n",
    "df_train = clean_df(df_train)"
   ]
  },
  {
   "cell_type": "code",
   "execution_count": 4,
   "metadata": {},
   "outputs": [
    {
     "name": "stdout",
     "output_type": "stream",
     "text": [
      "df_train = (1456, 24)\n",
      "city => 0\n",
      "year => 0\n",
      "weekofyear => 0\n",
      "week_start_date => 0\n",
      "ndvi_ne => 194\n",
      "ndvi_nw => 52\n",
      "ndvi_se => 22\n",
      "ndvi_sw => 22\n",
      "reanalysis_air_temp_k => 10\n",
      "reanalysis_avg_temp_k => 10\n",
      "reanalysis_dew_point_temp_k => 10\n",
      "reanalysis_max_air_temp_k => 10\n",
      "reanalysis_min_air_temp_k => 10\n",
      "reanalysis_precip_amt_kg_per_m2 => 10\n",
      "reanalysis_relative_humidity_percent => 10\n",
      "reanalysis_sat_precip_amt_mm => 13\n",
      "reanalysis_specific_humidity_g_per_kg => 10\n",
      "reanalysis_tdtr_k => 10\n",
      "station_avg_temp_c => 43\n",
      "station_diur_temp_rng_c => 43\n",
      "station_max_temp_c => 20\n",
      "station_min_temp_c => 14\n",
      "station_precip_mm => 22\n",
      "total_cases => 0\n"
     ]
    }
   ],
   "source": [
    "print(\"df_train = ({}, {})\".format(df_train.count(), len(df_train.columns)))\n",
    "\n",
    "# identify null value\n",
    "# ===================\n",
    "for col_name in df_train.columns:\n",
    "    print(\"{} => {}\".format(col_name,\n",
    "                            df_train.filter(F.isnull(df_train[col_name])).count()))"
   ]
  },
  {
   "cell_type": "code",
   "execution_count": 5,
   "metadata": {},
   "outputs": [
    {
     "name": "stdout",
     "output_type": "stream",
     "text": [
      "city => 0\n",
      "year => 0\n",
      "weekofyear => 0\n",
      "week_start_date => 0\n",
      "ndvi_ne => 0\n",
      "ndvi_nw => 0\n",
      "ndvi_se => 0\n",
      "ndvi_sw => 0\n",
      "reanalysis_air_temp_k => 0\n",
      "reanalysis_avg_temp_k => 0\n",
      "reanalysis_dew_point_temp_k => 0\n",
      "reanalysis_max_air_temp_k => 0\n",
      "reanalysis_min_air_temp_k => 0\n",
      "reanalysis_precip_amt_kg_per_m2 => 0\n",
      "reanalysis_relative_humidity_percent => 0\n",
      "reanalysis_sat_precip_amt_mm => 0\n",
      "reanalysis_specific_humidity_g_per_kg => 0\n",
      "reanalysis_tdtr_k => 0\n",
      "station_avg_temp_c => 0\n",
      "station_diur_temp_rng_c => 0\n",
      "station_max_temp_c => 0\n",
      "station_min_temp_c => 0\n",
      "station_precip_mm => 0\n",
      "total_cases => 0\n"
     ]
    }
   ],
   "source": [
    "def fill_null(df_train): # Fill Null value with previous value\n",
    "    w = Window().partitionBy('city').orderBy(F.col('week_start_date'))\n",
    "\n",
    "    for col_name in df_train.columns[4:-1]:\n",
    "        df_train = df_train.withColumn(col_name, F.last(col_name, True).over(w))\n",
    "    \n",
    "    # last column also relevant for the test bench\n",
    "    df_train = df_train.withColumn(df_train.columns[-1], F.last(df_train.columns[-1], True).over(w))\n",
    "    \n",
    "    # identify null value\n",
    "    for col_name in df_train.columns:\n",
    "        print(\"{} => {}\".format(col_name,\n",
    "                            df_train.filter(F.isnull(df_train[col_name])).count()))\n",
    "    return df_train\n",
    "        \n",
    "df_train = fill_null(df_train)"
   ]
  },
  {
   "cell_type": "markdown",
   "metadata": {},
   "source": [
    "### Plot"
   ]
  },
  {
   "cell_type": "code",
   "execution_count": 6,
   "metadata": {},
   "outputs": [
    {
     "name": "stdout",
     "output_type": "stream",
     "text": [
      "San Juan data:\n",
      "df_train_sj = (936, 24)\n",
      "\tdate_start = 1990-04-30 / date_stop = 2008-04-22\n",
      "Iquitos data:\n",
      "df_train_iq = (520, 24)\n",
      "\tdate_start = 2000-07-01 / date_stop = 2010-06-25\n"
     ]
    }
   ],
   "source": [
    "df_train_sj = df_train.filter(df_train.city == 'sj')\n",
    "min_date_sj, max_date_sj = df_train_sj.select(F.min(\"week_start_date\"), F.max(\"week_start_date\")).first()\n",
    "\n",
    "print(\"San Juan data:\")\n",
    "print(\"df_train_sj = ({}, {})\".format(df_train_sj.count(), len(df_train_sj.columns)))\n",
    "print(\"\\tdate_start = {} / date_stop = {}\".format(min_date_sj, max_date_sj))\n",
    "\n",
    "df_train_iq = df_train.filter(df_train.city == 'iq')\n",
    "min_date_iq, max_date_iq = df_train_iq.select(F.min(\"week_start_date\"), F.max(\"week_start_date\")).first()\n",
    "\n",
    "print(\"Iquitos data:\")\n",
    "print(\"df_train_iq = ({}, {})\".format(df_train_iq.count(), len(df_train_iq.columns)))\n",
    "print(\"\\tdate_start = {} / date_stop = {}\".format(min_date_iq, max_date_iq))"
   ]
  },
  {
   "cell_type": "code",
   "execution_count": 7,
   "metadata": {},
   "outputs": [
    {
     "data": {
      "image/png": "[encoded data removed]",
      "text/plain": [
       "<Figure size 864x576 with 1 Axes>"
      ]
     },
     "metadata": {
      "needs_background": "light"
     },
     "output_type": "display_data"
    }
   ],
   "source": [
    "# Transform to pandas dataframe for plotting\n",
    "pd_train_sj = df_train_sj.toPandas()\n",
    "pd_train_iq = df_train_iq.toPandas()\n",
    "\n",
    "# Total cases per city \n",
    "fig = plt.figure(figsize=(12, 8))\n",
    "\n",
    "plt.grid()\n",
    "plt.title('Dengue Fever total cases per week')\n",
    "\n",
    "plt.xlabel('year')\n",
    "plt.ylabel('total cases')\n",
    "plt.xticks()\n",
    "plt.yticks()\n",
    "\n",
    "plt.plot(pd_train_iq['week_start_date'],\n",
    "         pd_train_iq['total_cases'], label='Iquitos')\n",
    "plt.plot(pd_train_sj['week_start_date'],\n",
    "         pd_train_sj['total_cases'], label='San Juan')\n",
    "\n",
    "plt.legend()\n",
    "\n",
    "fig.savefig(\"figs/01-fig_01.pdf\", dpi=300, bbox_inches='tight')\n",
    "plt.show()"
   ]
  },
  {
   "cell_type": "markdown",
   "metadata": {},
   "source": [
    "### Build new columns"
   ]
  },
  {
   "cell_type": "code",
   "execution_count": 8,
   "metadata": {},
   "outputs": [],
   "source": [
    "def convert_units(df_train):# convert temperature from kelvin to degree\n",
    "\n",
    "    df_train = df_train \\\n",
    "        .withColumn('reanalysis_air_temp_c', df_train['reanalysis_air_temp_k'] - 273.15) \\\n",
    "        .withColumn('reanalysis_avg_temp_c', df_train['reanalysis_avg_temp_k'] - 273.15) \\\n",
    "        .withColumn('reanalysis_dew_point_temp_c', df_train['reanalysis_dew_point_temp_k'] - 273.15) \\\n",
    "        .withColumn('reanalysis_max_air_temp_c', df_train['reanalysis_max_air_temp_k'] - 273.15) \\\n",
    "        .withColumn('reanalysis_min_air_temp_c', df_train['reanalysis_min_air_temp_k'] - 273.15) \\\n",
    "        .withColumn('reanalysis_tdtr_c', df_train['reanalysis_tdtr_k'] - 273.15)\n",
    "\n",
    "    df_train = df_train \\\n",
    "        .drop('reanalysis_air_temp_k') \\\n",
    "        .drop('reanalysis_avg_temp_k') \\\n",
    "        .drop('reanalysis_dew_point_temp_k') \\\n",
    "        .drop('reanalysis_max_air_temp_k') \\\n",
    "        .drop('reanalysis_min_air_temp_k') \\\n",
    "        .drop('reanalysis_tdtr_k')\n",
    "    \n",
    "    return df_train\n",
    "\n",
    "df_train = convert_units(df_train)"
   ]
  },
  {
   "cell_type": "markdown",
   "metadata": {},
   "source": [
    "#### Végétation\n",
    "\n",
    "NDVI Normalized difference vegetation index (NDVI) indique l'indice de végétation :\n",
    "- en dessous de -0.1 il s'agit probablement d'eau\n",
    "- entre -0.1 et 0.1 urbanisé ou pierre ou minéral ou terre nue\n",
    "- entre 0.1 et 0.4 végétation peu dense\n",
    "- au dessus de 0.4 végétation dense\n",
    "\n",
    "\n",
    "(à noter que les seuils ne sont pas toujours très bien définis...)"
   ]
  },
  {
   "cell_type": "code",
   "execution_count": 9,
   "metadata": {},
   "outputs": [],
   "source": [
    "def bucketize(df):\n",
    "    splits = [-float(\"inf\"), -0.1, 0.1, 0.4, float(\"inf\")]\n",
    "\n",
    "    bucketizer_ne = Bucketizer(splits=splits, inputCol=\"ndvi_ne\", outputCol=\"bucket_ne\")\n",
    "    bucketizer_nw = Bucketizer(splits=splits, inputCol=\"ndvi_nw\", outputCol=\"bucket_nw\")\n",
    "    bucketizer_sw = Bucketizer(splits=splits, inputCol=\"ndvi_sw\", outputCol=\"bucket_sw\")\n",
    "    bucketizer_se = Bucketizer(splits=splits, inputCol=\"ndvi_se\", outputCol=\"bucket_se\")\n",
    "    \n",
    "    # Transform original data into its bucket index.\n",
    "    bucketedData = bucketizer_ne.transform(df)\n",
    "    bucketedData = bucketizer_nw.transform(bucketedData)\n",
    "    bucketedData = bucketizer_sw.transform(bucketedData)\n",
    "    bucketedData = bucketizer_se.transform(bucketedData)\n",
    "    \n",
    "    return bucketedData\n",
    "\n",
    "df_train = bucketize(df_train)"
   ]
  },
  {
   "cell_type": "markdown",
   "metadata": {},
   "source": [
    "### compute lag"
   ]
  },
  {
   "cell_type": "code",
   "execution_count": 31,
   "metadata": {},
   "outputs": [
    {
     "name": "stdout",
     "output_type": "stream",
     "text": [
      "df_train = (1440, 52)\n",
      "df_train = (1440, 52)\n",
      "df_train = (1432, 52)\n"
     ]
    }
   ],
   "source": [
    "def compute_lags(df_train):\n",
    "    # build a window\n",
    "    w = Window().partitionBy('city').orderBy(F.col('week_start_date'))\n",
    "\n",
    "    print(\"df_train = ({}, {})\".format(df_train.count(), len(df_train.columns)))\n",
    "\n",
    "    # add new columns with different lags\n",
    "    df_train = df_train \\\n",
    "        .withColumn('station_avg_temp_1_c', F.lag('station_avg_temp_c', count=1).over(w)) \\\n",
    "        .withColumn('station_avg_temp_2_c', F.lag('station_avg_temp_c', count=2).over(w)) \\\n",
    "        .withColumn('station_avg_temp_3_c', F.lag('station_avg_temp_c', count=3).over(w)) \\\n",
    "        .withColumn('station_avg_temp_4_c', F.lag('station_avg_temp_c', count=4).over(w)) \\\n",
    "        .withColumn('station_precip_1_mm', F.lag('station_precip_mm', count=1).over(w)) \\\n",
    "        .withColumn('station_precip_2_mm', F.lag('station_precip_mm', count=2).over(w)) \\\n",
    "        .withColumn('station_precip_3_mm', F.lag('station_precip_mm', count=3).over(w)) \\\n",
    "        .withColumn('station_precip_4_mm', F.lag('station_precip_mm', count=4).over(w)) \\\n",
    "        .withColumn('reanalysis_sat_precip_amt_1_mm', F.lag('reanalysis_sat_precip_amt_mm', count=1).over(w)) \\\n",
    "        .withColumn('reanalysis_sat_precip_amt_2_mm', F.lag('reanalysis_sat_precip_amt_mm', count=2).over(w)) \\\n",
    "        .withColumn('reanalysis_sat_precip_amt_3_mm', F.lag('reanalysis_sat_precip_amt_mm', count=3).over(w)) \\\n",
    "        .withColumn('reanalysis_sat_precip_amt_4_mm', F.lag('reanalysis_sat_precip_amt_mm', count=4).over(w))\n",
    "\n",
    "    df_train = df_train \\\n",
    "        .withColumn('d_station_avg_temp_1_c', df_train['station_avg_temp_1_c'] - df_train['station_avg_temp_c']) \\\n",
    "        .withColumn('d_station_avg_temp_2_c', df_train['station_avg_temp_2_c'] - df_train['station_avg_temp_c']) \\\n",
    "        .withColumn('d_station_avg_temp_3_c', df_train['station_avg_temp_3_c'] - df_train['station_avg_temp_c']) \\\n",
    "        .withColumn('d_station_avg_temp_4_c', df_train['station_avg_temp_4_c'] - df_train['station_avg_temp_c']) \\\n",
    "        .withColumn('d_station_precip_1_mm', df_train['station_precip_1_mm'] - df_train['station_precip_mm']) \\\n",
    "        .withColumn('d_station_precip_2_mm', df_train['station_precip_2_mm'] - df_train['station_precip_mm']) \\\n",
    "        .withColumn('d_station_precip_3_mm', df_train['station_precip_3_mm'] - df_train['station_precip_mm']) \\\n",
    "        .withColumn('d_station_precip_4_mm', df_train['station_precip_4_mm'] - df_train['station_precip_mm']) \\\n",
    "        .withColumn('d_reanalysis_sat_precip_amt_1_mm', df_train['reanalysis_sat_precip_amt_1_mm'] - df_train['reanalysis_sat_precip_amt_mm']) \\\n",
    "        .withColumn('d_reanalysis_sat_precip_amt_2_mm', df_train['reanalysis_sat_precip_amt_2_mm'] - df_train['reanalysis_sat_precip_amt_mm']) \\\n",
    "        .withColumn('d_reanalysis_sat_precip_amt_3_mm', df_train['reanalysis_sat_precip_amt_3_mm'] - df_train['reanalysis_sat_precip_amt_mm']) \\\n",
    "        .withColumn('d_reanalysis_sat_precip_amt_4_mm', df_train['reanalysis_sat_precip_amt_4_mm'] - df_train['reanalysis_sat_precip_amt_mm'])\n",
    " \n",
    "    print(\"df_train = ({}, {})\".format(df_train.count(), len(df_train.columns)))\n",
    "    return df_train\n",
    "\n",
    "df_train = compute_lags(df_train)\n",
    "# we drop the four first rows \n",
    "df_train = df_train.dropna()\n",
    "print(\"df_train = ({}, {})\".format(df_train.count(), len(df_train.columns)))\n",
    "#df_train.show()"
   ]
  },
  {
   "cell_type": "code",
   "execution_count": 33,
   "metadata": {},
   "outputs": [
    {
     "name": "stdout",
     "output_type": "stream",
     "text": [
      "+---------------+----------------------------+------------------------------+------------------------------+\n",
      "|week_start_date|reanalysis_sat_precip_amt_mm|reanalysis_sat_precip_amt_1_mm|reanalysis_sat_precip_amt_2_mm|\n",
      "+---------------+----------------------------+------------------------------+------------------------------+\n",
      "|     1990-08-20|                        32.4|                         90.75|                          28.8|\n",
      "|     1990-08-27|                       40.94|                          32.4|                         90.75|\n",
      "|     1990-09-03|                       28.86|                         40.94|                          32.4|\n",
      "|     1990-09-10|                       64.56|                         28.86|                         40.94|\n",
      "|     1990-09-17|                      143.73|                         64.56|                         28.86|\n",
      "|     1990-09-24|                       51.39|                        143.73|                         64.56|\n",
      "|     1990-10-01|                       31.18|                         51.39|                        143.73|\n",
      "|     1990-10-08|                       51.42|                         31.18|                         51.39|\n",
      "|     1990-10-15|                      143.55|                         51.42|                         31.18|\n",
      "|     1990-10-22|                      127.03|                        143.55|                         51.42|\n",
      "|     1990-10-29|                      101.35|                        127.03|                        143.55|\n",
      "|     1990-11-05|                       20.46|                        101.35|                        127.03|\n",
      "|     1990-11-12|                        20.0|                         20.46|                        101.35|\n",
      "|     1990-11-19|                       20.04|                          20.0|                         20.46|\n",
      "|     1990-11-26|                       33.61|                         20.04|                          20.0|\n",
      "|     1990-12-03|                        9.96|                         33.61|                         20.04|\n",
      "|     1990-12-10|                         0.0|                          9.96|                         33.61|\n",
      "|     1990-12-17|                       52.45|                           0.0|                          9.96|\n",
      "|     1990-12-24|                         0.0|                         52.45|                           0.0|\n",
      "|     1991-01-01|                         0.0|                           0.0|                         52.45|\n",
      "+---------------+----------------------------+------------------------------+------------------------------+\n",
      "only showing top 20 rows\n",
      "\n"
     ]
    }
   ],
   "source": [
    "df_train.filter(df_train.city == 'sj') \\\n",
    "    .select(['week_start_date', \\\n",
    "             'reanalysis_sat_precip_amt_mm', \\\n",
    "             'reanalysis_sat_precip_amt_1_mm', \\\n",
    "             'reanalysis_sat_precip_amt_2_mm']) \\\n",
    "    .show()"
   ]
  },
  {
   "cell_type": "code",
   "execution_count": 34,
   "metadata": {},
   "outputs": [],
   "source": [
    "# save preprocessed dataframe\n",
    "path_to_dir = \"data/preprocessed\"\n",
    "\n",
    "if os.path.exists(path_to_dir) and os.path.isdir(path_to_dir):\n",
    "    shutil.rmtree(path_to_dir)\n",
    "    \n",
    "df_train.write.parquet(path_to_dir)"
   ]
  },
  {
   "cell_type": "markdown",
   "metadata": {},
   "source": [
    "### Preprocess benchmark data"
   ]
  },
  {
   "cell_type": "code",
   "execution_count": null,
   "metadata": {},
   "outputs": [],
   "source": [
    "# chargement des données\n",
    "path_to_data = \"data/\"\n",
    "\n",
    "df_bench = spark.read.csv(path_to_data + \"dengue_features_test.csv\",\n",
    "                             header=True)\n",
    "\n",
    "print(\"df_bench = ({}, {})\".format(df_bench.count(), len(df_bench.columns)))"
   ]
  },
  {
   "cell_type": "code",
   "execution_count": null,
   "metadata": {},
   "outputs": [],
   "source": [
    "df_bench = clean_df(df_bench)\n",
    "df_bench = df_bench.withColumn(\"station_precip_mm\", df_bench[\"station_precip_mm\"].cast('float'))\n",
    "df_bench = fill_null(df_bench)\n",
    "df_bench = convert_units(df_bench)\n",
    "df_bench = bucketize(df_bench)\n",
    "df_bench = compute_lags(df_bench)"
   ]
  },
  {
   "cell_type": "code",
   "execution_count": null,
   "metadata": {},
   "outputs": [],
   "source": [
    "df_bench = df_bench.na.fill(0.)"
   ]
  },
  {
   "cell_type": "code",
   "execution_count": null,
   "metadata": {},
   "outputs": [],
   "source": [
    "# save preprocessed dataframe\n",
    "path_to_dir = \"data/preprocessed_bench\"\n",
    "\n",
    "if os.path.exists(path_to_dir) and os.path.isdir(path_to_dir):\n",
    "    shutil.rmtree(path_to_dir)\n",
    "    \n",
    "df_bench.write.parquet(path_to_dir)"
   ]
  },
  {
   "cell_type": "code",
   "execution_count": null,
   "metadata": {},
   "outputs": [],
   "source": [
    "df_bench.printSchema()"
   ]
  },
  {
   "cell_type": "code",
   "execution_count": null,
   "metadata": {},
   "outputs": [],
   "source": []
  }
 ],
 "metadata": {
  "kernelspec": {
   "display_name": "Python 3",
   "language": "python",
   "name": "python3"
  },
  "language_info": {
   "codemirror_mode": {
    "name": "ipython",
    "version": 3
   },
   "file_extension": ".py",
   "mimetype": "text/x-python",
   "name": "python",
   "nbconvert_exporter": "python",
   "pygments_lexer": "ipython3",
   "version": "3.7.4"
  }
 },
 "nbformat": 4,
 "nbformat_minor": 2
}
