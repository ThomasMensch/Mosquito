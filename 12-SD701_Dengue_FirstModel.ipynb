{
 "cells": [
  {
   "cell_type": "code",
   "execution_count": 1,
   "metadata": {},
   "outputs": [],
   "source": [
    "# Load pyspark\n",
    "import findspark\n",
    "\n",
    "findspark.init()\n",
    "\n",
    "#import pyspark\n",
    "from pyspark import SparkContext\n",
    "from pyspark.sql import SparkSession, functions as F\n",
    "from pyspark.ml.regression import LinearRegression, RandomForestRegressor\n",
    "from pyspark.ml.feature import VectorAssembler, StringIndexer, OneHotEncoder, StandardScaler\n",
    "from pyspark.ml.evaluation import RegressionEvaluator\n",
    "from pyspark.ml.tuning import CrossValidator, ParamGridBuilder\n",
    "from pyspark.ml import Pipeline\n",
    "\n",
    "import datetime\n",
    "\n",
    "import matplotlib.pyplot as plt\n",
    "\n",
    "import pandas as pd\n",
    "from pandas.plotting import register_matplotlib_converters\n",
    "register_matplotlib_converters()\n",
    "\n",
    "spark = SparkSession.builder.appName(\"dengue\").getOrCreate()"
   ]
  },
  {
   "cell_type": "markdown",
   "metadata": {},
   "source": [
    "### Chargement des données pré-traitées"
   ]
  },
  {
   "cell_type": "code",
   "execution_count": 2,
   "metadata": {},
   "outputs": [
    {
     "ename": "AnalysisException",
     "evalue": "'Path does not exist: file:/C:/Users/Thomas/Documents/MyDevel/workspace-github/Mosquito/data/01-preprocessed;'",
     "output_type": "error",
     "traceback": [
      "\u001b[1;31m---------------------------------------------------------------------------\u001b[0m",
      "\u001b[1;31mPy4JJavaError\u001b[0m                             Traceback (most recent call last)",
      "\u001b[1;32mC:\\spark\\spark-2.3.4-bin-hadoop2.7\\python\\pyspark\\sql\\utils.py\u001b[0m in \u001b[0;36mdeco\u001b[1;34m(*a, **kw)\u001b[0m\n\u001b[0;32m     62\u001b[0m         \u001b[1;32mtry\u001b[0m\u001b[1;33m:\u001b[0m\u001b[1;33m\u001b[0m\u001b[1;33m\u001b[0m\u001b[0m\n\u001b[1;32m---> 63\u001b[1;33m             \u001b[1;32mreturn\u001b[0m \u001b[0mf\u001b[0m\u001b[1;33m(\u001b[0m\u001b[1;33m*\u001b[0m\u001b[0ma\u001b[0m\u001b[1;33m,\u001b[0m \u001b[1;33m**\u001b[0m\u001b[0mkw\u001b[0m\u001b[1;33m)\u001b[0m\u001b[1;33m\u001b[0m\u001b[1;33m\u001b[0m\u001b[0m\n\u001b[0m\u001b[0;32m     64\u001b[0m         \u001b[1;32mexcept\u001b[0m \u001b[0mpy4j\u001b[0m\u001b[1;33m.\u001b[0m\u001b[0mprotocol\u001b[0m\u001b[1;33m.\u001b[0m\u001b[0mPy4JJavaError\u001b[0m \u001b[1;32mas\u001b[0m \u001b[0me\u001b[0m\u001b[1;33m:\u001b[0m\u001b[1;33m\u001b[0m\u001b[1;33m\u001b[0m\u001b[0m\n",
      "\u001b[1;32mC:\\spark\\spark-2.3.4-bin-hadoop2.7\\python\\lib\\py4j-0.10.7-src.zip\\py4j\\protocol.py\u001b[0m in \u001b[0;36mget_return_value\u001b[1;34m(answer, gateway_client, target_id, name)\u001b[0m\n\u001b[0;32m    327\u001b[0m                     \u001b[1;34m\"An error occurred while calling {0}{1}{2}.\\n\"\u001b[0m\u001b[1;33m.\u001b[0m\u001b[1;33m\u001b[0m\u001b[1;33m\u001b[0m\u001b[0m\n\u001b[1;32m--> 328\u001b[1;33m                     format(target_id, \".\", name), value)\n\u001b[0m\u001b[0;32m    329\u001b[0m             \u001b[1;32melse\u001b[0m\u001b[1;33m:\u001b[0m\u001b[1;33m\u001b[0m\u001b[1;33m\u001b[0m\u001b[0m\n",
      "\u001b[1;31mPy4JJavaError\u001b[0m: An error occurred while calling o26.parquet.\n: org.apache.spark.sql.AnalysisException: Path does not exist: file:/C:/Users/Thomas/Documents/MyDevel/workspace-github/Mosquito/data/01-preprocessed;\r\n\tat org.apache.spark.sql.execution.datasources.DataSource$.org$apache$spark$sql$execution$datasources$DataSource$$checkAndGlobPathIfNecessary(DataSource.scala:719)\r\n\tat org.apache.spark.sql.execution.datasources.DataSource$$anonfun$15.apply(DataSource.scala:390)\r\n\tat org.apache.spark.sql.execution.datasources.DataSource$$anonfun$15.apply(DataSource.scala:390)\r\n\tat scala.collection.TraversableLike$$anonfun$flatMap$1.apply(TraversableLike.scala:241)\r\n\tat scala.collection.TraversableLike$$anonfun$flatMap$1.apply(TraversableLike.scala:241)\r\n\tat scala.collection.immutable.List.foreach(List.scala:381)\r\n\tat scala.collection.TraversableLike$class.flatMap(TraversableLike.scala:241)\r\n\tat scala.collection.immutable.List.flatMap(List.scala:344)\r\n\tat org.apache.spark.sql.execution.datasources.DataSource.resolveRelation(DataSource.scala:389)\r\n\tat org.apache.spark.sql.DataFrameReader.loadV1Source(DataFrameReader.scala:239)\r\n\tat org.apache.spark.sql.DataFrameReader.load(DataFrameReader.scala:227)\r\n\tat org.apache.spark.sql.DataFrameReader.parquet(DataFrameReader.scala:622)\r\n\tat sun.reflect.NativeMethodAccessorImpl.invoke0(Native Method)\r\n\tat sun.reflect.NativeMethodAccessorImpl.invoke(NativeMethodAccessorImpl.java:62)\r\n\tat sun.reflect.DelegatingMethodAccessorImpl.invoke(DelegatingMethodAccessorImpl.java:43)\r\n\tat java.lang.reflect.Method.invoke(Method.java:498)\r\n\tat py4j.reflection.MethodInvoker.invoke(MethodInvoker.java:244)\r\n\tat py4j.reflection.ReflectionEngine.invoke(ReflectionEngine.java:357)\r\n\tat py4j.Gateway.invoke(Gateway.java:282)\r\n\tat py4j.commands.AbstractCommand.invokeMethod(AbstractCommand.java:132)\r\n\tat py4j.commands.CallCommand.execute(CallCommand.java:79)\r\n\tat py4j.GatewayConnection.run(GatewayConnection.java:238)\r\n\tat java.lang.Thread.run(Thread.java:748)\r\n",
      "\nDuring handling of the above exception, another exception occurred:\n",
      "\u001b[1;31mAnalysisException\u001b[0m                         Traceback (most recent call last)",
      "\u001b[1;32m<ipython-input-2-2dbf819ebdf0>\u001b[0m in \u001b[0;36m<module>\u001b[1;34m\u001b[0m\n\u001b[1;32m----> 1\u001b[1;33m \u001b[0mdf_train\u001b[0m \u001b[1;33m=\u001b[0m \u001b[0mspark\u001b[0m\u001b[1;33m.\u001b[0m\u001b[0mread\u001b[0m\u001b[1;33m.\u001b[0m\u001b[0mparquet\u001b[0m\u001b[1;33m(\u001b[0m\u001b[1;34m\"data/01-preprocessed\"\u001b[0m\u001b[1;33m)\u001b[0m\u001b[1;33m\u001b[0m\u001b[1;33m\u001b[0m\u001b[0m\n\u001b[0m\u001b[0;32m      2\u001b[0m \u001b[1;33m\u001b[0m\u001b[0m\n\u001b[0;32m      3\u001b[0m \u001b[0mprint\u001b[0m\u001b[1;33m(\u001b[0m\u001b[1;34m\"df_train = ({}, {})\"\u001b[0m\u001b[1;33m.\u001b[0m\u001b[0mformat\u001b[0m\u001b[1;33m(\u001b[0m\u001b[0mdf_train\u001b[0m\u001b[1;33m.\u001b[0m\u001b[0mcount\u001b[0m\u001b[1;33m(\u001b[0m\u001b[1;33m)\u001b[0m\u001b[1;33m,\u001b[0m \u001b[0mlen\u001b[0m\u001b[1;33m(\u001b[0m\u001b[0mdf_train\u001b[0m\u001b[1;33m.\u001b[0m\u001b[0mcolumns\u001b[0m\u001b[1;33m)\u001b[0m\u001b[1;33m)\u001b[0m\u001b[1;33m)\u001b[0m\u001b[1;33m\u001b[0m\u001b[1;33m\u001b[0m\u001b[0m\n",
      "\u001b[1;32mC:\\spark\\spark-2.3.4-bin-hadoop2.7\\python\\pyspark\\sql\\readwriter.py\u001b[0m in \u001b[0;36mparquet\u001b[1;34m(self, *paths)\u001b[0m\n\u001b[0;32m    301\u001b[0m         \u001b[1;33m[\u001b[0m\u001b[1;33m(\u001b[0m\u001b[1;34m'name'\u001b[0m\u001b[1;33m,\u001b[0m \u001b[1;34m'string'\u001b[0m\u001b[1;33m)\u001b[0m\u001b[1;33m,\u001b[0m \u001b[1;33m(\u001b[0m\u001b[1;34m'year'\u001b[0m\u001b[1;33m,\u001b[0m \u001b[1;34m'int'\u001b[0m\u001b[1;33m)\u001b[0m\u001b[1;33m,\u001b[0m \u001b[1;33m(\u001b[0m\u001b[1;34m'month'\u001b[0m\u001b[1;33m,\u001b[0m \u001b[1;34m'int'\u001b[0m\u001b[1;33m)\u001b[0m\u001b[1;33m,\u001b[0m \u001b[1;33m(\u001b[0m\u001b[1;34m'day'\u001b[0m\u001b[1;33m,\u001b[0m \u001b[1;34m'int'\u001b[0m\u001b[1;33m)\u001b[0m\u001b[1;33m]\u001b[0m\u001b[1;33m\u001b[0m\u001b[1;33m\u001b[0m\u001b[0m\n\u001b[0;32m    302\u001b[0m         \"\"\"\n\u001b[1;32m--> 303\u001b[1;33m         \u001b[1;32mreturn\u001b[0m \u001b[0mself\u001b[0m\u001b[1;33m.\u001b[0m\u001b[0m_df\u001b[0m\u001b[1;33m(\u001b[0m\u001b[0mself\u001b[0m\u001b[1;33m.\u001b[0m\u001b[0m_jreader\u001b[0m\u001b[1;33m.\u001b[0m\u001b[0mparquet\u001b[0m\u001b[1;33m(\u001b[0m\u001b[0m_to_seq\u001b[0m\u001b[1;33m(\u001b[0m\u001b[0mself\u001b[0m\u001b[1;33m.\u001b[0m\u001b[0m_spark\u001b[0m\u001b[1;33m.\u001b[0m\u001b[0m_sc\u001b[0m\u001b[1;33m,\u001b[0m \u001b[0mpaths\u001b[0m\u001b[1;33m)\u001b[0m\u001b[1;33m)\u001b[0m\u001b[1;33m)\u001b[0m\u001b[1;33m\u001b[0m\u001b[1;33m\u001b[0m\u001b[0m\n\u001b[0m\u001b[0;32m    304\u001b[0m \u001b[1;33m\u001b[0m\u001b[0m\n\u001b[0;32m    305\u001b[0m     \u001b[1;33m@\u001b[0m\u001b[0mignore_unicode_prefix\u001b[0m\u001b[1;33m\u001b[0m\u001b[1;33m\u001b[0m\u001b[0m\n",
      "\u001b[1;32mC:\\spark\\spark-2.3.4-bin-hadoop2.7\\python\\lib\\py4j-0.10.7-src.zip\\py4j\\java_gateway.py\u001b[0m in \u001b[0;36m__call__\u001b[1;34m(self, *args)\u001b[0m\n\u001b[0;32m   1255\u001b[0m         \u001b[0manswer\u001b[0m \u001b[1;33m=\u001b[0m \u001b[0mself\u001b[0m\u001b[1;33m.\u001b[0m\u001b[0mgateway_client\u001b[0m\u001b[1;33m.\u001b[0m\u001b[0msend_command\u001b[0m\u001b[1;33m(\u001b[0m\u001b[0mcommand\u001b[0m\u001b[1;33m)\u001b[0m\u001b[1;33m\u001b[0m\u001b[1;33m\u001b[0m\u001b[0m\n\u001b[0;32m   1256\u001b[0m         return_value = get_return_value(\n\u001b[1;32m-> 1257\u001b[1;33m             answer, self.gateway_client, self.target_id, self.name)\n\u001b[0m\u001b[0;32m   1258\u001b[0m \u001b[1;33m\u001b[0m\u001b[0m\n\u001b[0;32m   1259\u001b[0m         \u001b[1;32mfor\u001b[0m \u001b[0mtemp_arg\u001b[0m \u001b[1;32min\u001b[0m \u001b[0mtemp_args\u001b[0m\u001b[1;33m:\u001b[0m\u001b[1;33m\u001b[0m\u001b[1;33m\u001b[0m\u001b[0m\n",
      "\u001b[1;32mC:\\spark\\spark-2.3.4-bin-hadoop2.7\\python\\pyspark\\sql\\utils.py\u001b[0m in \u001b[0;36mdeco\u001b[1;34m(*a, **kw)\u001b[0m\n\u001b[0;32m     67\u001b[0m                                              e.java_exception.getStackTrace()))\n\u001b[0;32m     68\u001b[0m             \u001b[1;32mif\u001b[0m \u001b[0ms\u001b[0m\u001b[1;33m.\u001b[0m\u001b[0mstartswith\u001b[0m\u001b[1;33m(\u001b[0m\u001b[1;34m'org.apache.spark.sql.AnalysisException: '\u001b[0m\u001b[1;33m)\u001b[0m\u001b[1;33m:\u001b[0m\u001b[1;33m\u001b[0m\u001b[1;33m\u001b[0m\u001b[0m\n\u001b[1;32m---> 69\u001b[1;33m                 \u001b[1;32mraise\u001b[0m \u001b[0mAnalysisException\u001b[0m\u001b[1;33m(\u001b[0m\u001b[0ms\u001b[0m\u001b[1;33m.\u001b[0m\u001b[0msplit\u001b[0m\u001b[1;33m(\u001b[0m\u001b[1;34m': '\u001b[0m\u001b[1;33m,\u001b[0m \u001b[1;36m1\u001b[0m\u001b[1;33m)\u001b[0m\u001b[1;33m[\u001b[0m\u001b[1;36m1\u001b[0m\u001b[1;33m]\u001b[0m\u001b[1;33m,\u001b[0m \u001b[0mstackTrace\u001b[0m\u001b[1;33m)\u001b[0m\u001b[1;33m\u001b[0m\u001b[1;33m\u001b[0m\u001b[0m\n\u001b[0m\u001b[0;32m     70\u001b[0m             \u001b[1;32mif\u001b[0m \u001b[0ms\u001b[0m\u001b[1;33m.\u001b[0m\u001b[0mstartswith\u001b[0m\u001b[1;33m(\u001b[0m\u001b[1;34m'org.apache.spark.sql.catalyst.analysis'\u001b[0m\u001b[1;33m)\u001b[0m\u001b[1;33m:\u001b[0m\u001b[1;33m\u001b[0m\u001b[1;33m\u001b[0m\u001b[0m\n\u001b[0;32m     71\u001b[0m                 \u001b[1;32mraise\u001b[0m \u001b[0mAnalysisException\u001b[0m\u001b[1;33m(\u001b[0m\u001b[0ms\u001b[0m\u001b[1;33m.\u001b[0m\u001b[0msplit\u001b[0m\u001b[1;33m(\u001b[0m\u001b[1;34m': '\u001b[0m\u001b[1;33m,\u001b[0m \u001b[1;36m1\u001b[0m\u001b[1;33m)\u001b[0m\u001b[1;33m[\u001b[0m\u001b[1;36m1\u001b[0m\u001b[1;33m]\u001b[0m\u001b[1;33m,\u001b[0m \u001b[0mstackTrace\u001b[0m\u001b[1;33m)\u001b[0m\u001b[1;33m\u001b[0m\u001b[1;33m\u001b[0m\u001b[0m\n",
      "\u001b[1;31mAnalysisException\u001b[0m: 'Path does not exist: file:/C:/Users/Thomas/Documents/MyDevel/workspace-github/Mosquito/data/01-preprocessed;'"
     ]
    }
   ],
   "source": [
    "df_train = spark.read.parquet(\"data/01-preprocessed\")\n",
    "\n",
    "print(\"df_train = ({}, {})\".format(df_train.count(), len(df_train.columns)))"
   ]
  },
  {
   "cell_type": "markdown",
   "metadata": {},
   "source": [
    "### Construction des jeux d'entrainement et de test"
   ]
  },
  {
   "cell_type": "code",
   "execution_count": null,
   "metadata": {},
   "outputs": [],
   "source": [
    "# San Juan\n",
    "df_train_sj = df_train.filter(df_train.city == 'sj')\n",
    "min_date_sj, max_date_sj = df_train_sj.select(F.min(\"week_start_date\"),\n",
    "                                              F.max(\"week_start_date\")).first()\n",
    "\n",
    "print(\"San Juan data:\")\n",
    "print(\"df_train_sj = ({}, {})\".format(df_train_sj.count(), len(df_train_sj.columns)))\n",
    "print(\"\\tdate_start = {} / date_stop = {}\".format(min_date_sj, max_date_sj))\n",
    "\n",
    "# Iquitos\n",
    "df_train_iq = df_train.filter(df_train.city == 'iq')\n",
    "min_date_iq, max_date_iq = df_train_iq.select(F.min(\"week_start_date\"),\n",
    "                                              F.max(\"week_start_date\")).first()\n",
    "\n",
    "print(\"Iquitos data:\")\n",
    "print(\"df_train_iq = ({}, {})\".format(df_train_iq.count(), len(df_train_iq.columns)))\n",
    "print(\"\\tdate_start = {} / date_stop = {}\".format(min_date_iq, max_date_iq))"
   ]
  },
  {
   "cell_type": "code",
   "execution_count": null,
   "metadata": {},
   "outputs": [],
   "source": [
    "# split train and test\n",
    "delta = datetime.timedelta(weeks=52)\n",
    "\n",
    "# San Juan\n",
    "cut_date_sj = max_date_sj - delta\n",
    "\n",
    "train_sj = df_train_sj.filter(df_train_sj.week_start_date <= cut_date_sj)\n",
    "test_sj = df_train_sj.filter(df_train_sj.week_start_date > cut_date_sj)\n",
    "\n",
    "print(\"train_sj = ({}, {})\".format(train_sj.count(), len(train_sj.columns)))\n",
    "print(\"test_sj = ({}, {})\".format(test_sj.count(), len(test_sj.columns)))\n",
    "\n",
    "# Iquitos\n",
    "cut_date_iq = max_date_iq - delta\n",
    "\n",
    "train_iq = df_train_iq.filter(df_train_iq.week_start_date <= cut_date_iq)\n",
    "test_iq = df_train_iq.filter(df_train_iq.week_start_date > cut_date_iq)\n",
    "\n",
    "print(\"train_iq = ({}, {})\".format(train_iq.count(), len(train_iq.columns)))\n",
    "print(\"test_iq = ({}, {})\".format(test_iq.count(), len(test_iq.columns)))"
   ]
  },
  {
   "cell_type": "code",
   "execution_count": null,
   "metadata": {},
   "outputs": [],
   "source": [
    "# concatanate the 2 sets\n",
    "train = train_sj.union(train_iq)\n",
    "test = test_sj.union(test_iq)\n",
    "\n",
    "print(\"train = ({}, {})\".format(train.count(), len(train.columns)))\n",
    "print(\"test = ({}, {})\".format(test.count(), len(test.columns)))"
   ]
  },
  {
   "cell_type": "markdown",
   "metadata": {},
   "source": [
    "### Affichage des jeux de données"
   ]
  },
  {
   "cell_type": "code",
   "execution_count": null,
   "metadata": {},
   "outputs": [],
   "source": [
    "pd_train_sj = train_sj.toPandas()\n",
    "pd_train_iq = train_iq.toPandas()\n",
    "\n",
    "pd_test_sj = test_sj.toPandas()\n",
    "pd_test_iq = test_iq.toPandas()\n",
    "\n",
    "# Total cases per city\n",
    "plt.figure(figsize=(12, 8))\n",
    "\n",
    "plt.grid()\n",
    "plt.title('Dengue Fever total cases per week')\n",
    "\n",
    "plt.xlabel('year')\n",
    "plt.ylabel('total cases')\n",
    "plt.xticks()\n",
    "plt.yticks()\n",
    "\n",
    "p_sj = plt.plot(pd_train_sj['week_start_date'], pd_train_sj['total_cases'],\n",
    "                label='San Juan: train', linestyle='solid')\n",
    "plt.plot(pd_test_sj['week_start_date'], pd_test_sj['total_cases'], label='San Juan: test',\n",
    "         linestyle='dashed', color=p_sj[0].get_color())\n",
    "\n",
    "p_iq = plt.plot(pd_train_iq['week_start_date'], pd_train_iq['total_cases'],\n",
    "                label='Iquitos: train', linestyle='solid')\n",
    "plt.plot(pd_test_iq['week_start_date'], pd_test_iq['total_cases'], label='Iquitos: test',\n",
    "         linestyle='dashed', color=p_iq[0].get_color())\n",
    "\n",
    "plt.legend()\n",
    "\n",
    "plt.show()"
   ]
  },
  {
   "cell_type": "markdown",
   "metadata": {},
   "source": [
    "### Construction du *pipeline*"
   ]
  },
  {
   "cell_type": "code",
   "execution_count": null,
   "metadata": {},
   "outputs": [],
   "source": [
    "# OneHotEncoder categorial variables\n",
    "indexer = StringIndexer(inputCol='city', outputCol='city_')\n",
    "encoder = OneHotEncoder(inputCol='city_', outputCol='cityVect')\n",
    "\n",
    "# Build feature vector\n",
    "vectorAssembler = VectorAssembler(\n",
    "    inputCols=['cityVect',\n",
    "               'year', 'weekofyear',\n",
    "               'ndvi_ne', 'ndvi_nw', 'ndvi_se', 'ndvi_sw',\n",
    "               'reanalysis_precip_amt_kg_per_m2',\n",
    "               'reanalysis_relative_humidity_percent',\n",
    "               'reanalysis_sat_precip_amt_mm',\n",
    "#               'reanalysis_specific_humidity_g_per_kg',\n",
    "               'station_avg_temp_c',\n",
    "               'station_diur_temp_rng_c',\n",
    "               'station_max_temp_c', 'station_min_temp_c', \n",
    "               'station_precip_mm',  \n",
    "               'reanalysis_air_temp_c',\n",
    "               'reanalysis_avg_temp_c',\n",
    "               'reanalysis_dew_point_temp_c',\n",
    "               'reanalysis_max_air_temp_c',\n",
    "#               'reanalysis_min_air_temp_c',\n",
    "               'reanalysis_tdtr_c',\n",
    "               ], \n",
    "    outputCol = 'features')\n",
    "\n",
    "# scaler\n",
    "scaler = StandardScaler(inputCol='features',\n",
    "                        outputCol='scaled_features',\n",
    "                        withStd=True, withMean=True)\n",
    "\n",
    "# linear regression\n",
    "lr = LinearRegression(featuresCol='scaled_features',\n",
    "                      labelCol='total_cases',\n",
    "                      predictionCol='lr_prediction')\n",
    "\n",
    "# Random forest\n",
    "rf = RandomForestRegressor(featuresCol='scaled_features',\n",
    "                           labelCol='total_cases',\n",
    "                           predictionCol='rf_prediction')"
   ]
  },
  {
   "cell_type": "markdown",
   "metadata": {},
   "source": [
    "### 2. Random Forest\n",
    "\n",
    "#### 2.1 Simple"
   ]
  },
  {
   "cell_type": "code",
   "execution_count": null,
   "metadata": {},
   "outputs": [],
   "source": [
    "pipeline_rf = Pipeline(stages=[indexer, encoder, vectorAssembler, scaler, rf])\n",
    "\n",
    "evaluator_rf = RegressionEvaluator(labelCol='total_cases',\n",
    "                                   predictionCol='rf_prediction',\n",
    "                                   metricName=\"mae\")\n",
    "\n",
    "# build model\n",
    "model_rf = pipeline_rf.fit(train)\n",
    "\n",
    "# Build prediction from 'test' dataset\n",
    "pred_rf = model_rf.transform(test)\n",
    "\n",
    "pred_rf.select(['total_cases','rf_prediction']).show(52)\n",
    "\n",
    "mae = evaluator_rf.evaluate(pred_rf)\n",
    "\n",
    "print(\"Random Forest::Before grid search - MAE = {:.3f}\".format(mae))"
   ]
  },
  {
   "cell_type": "markdown",
   "metadata": {},
   "source": [
    "#### Grid search"
   ]
  },
  {
   "cell_type": "code",
   "execution_count": null,
   "metadata": {},
   "outputs": [],
   "source": [
    "#numTrees = [15, 20, 25, 30, 40, 50, 60]\n",
    "numTrees = [30, 35, 40, 45, 50, 55]\n",
    "#maxDepths = [2, 4, 5, 7, 10, 15, 20]\n",
    "maxDepths = [3, 4, 5, 6, 7, 8]\n",
    "\n",
    "evaluator_rf = RegressionEvaluator(labelCol='total_cases',\n",
    "                                   predictionCol='rf_prediction',\n",
    "                                   metricName=\"mae\")\n",
    "\n",
    "rf_bestModel = model_rf\n",
    "best_mae = mae\n",
    "\n",
    "for nTree in numTrees:\n",
    "    for depth in maxDepths:\n",
    "\n",
    "        rf = RandomForestRegressor(featuresCol='scaled_features',\n",
    "                                   labelCol='total_cases',\n",
    "                                   predictionCol='rf_prediction',\n",
    "                                   numTrees=nTree,\n",
    "                                   maxDepth=depth)\n",
    "\n",
    "        pipeline = Pipeline(stages=[indexer, encoder, vectorAssembler, scaler, rf])\n",
    "\n",
    "        # build model\n",
    "        model = pipeline.fit(train)\n",
    "\n",
    "        # Build prediction from 'test' dataset\n",
    "        pred = model.transform(test)\n",
    "\n",
    "        mae = evaluator_rf.evaluate(pred)\n",
    "        if mae < best_mae:\n",
    "            best_mae = mae\n",
    "            rf_bestModel = model\n",
    "\n",
    "pred_rf = rf_bestModel.transform(test)\n",
    "\n",
    "mae = evaluator_rf.evaluate(pred_rf)\n",
    "\n",
    "numTree = rf_bestModel.stages[-1].getNumTrees\n",
    "maxDepth = rf_bestModel.stages[-1]._java_obj.getMaxDepth()\n",
    "\n",
    "print(\"Best model (numTree={}, MaxDepth={}) => MAE = {:.3f}\".format(numTree, maxDepth, mae))"
   ]
  },
  {
   "cell_type": "markdown",
   "metadata": {},
   "source": [
    "#### plot"
   ]
  },
  {
   "cell_type": "code",
   "execution_count": null,
   "metadata": {},
   "outputs": [],
   "source": [
    "# create pandas dataframe from spark dataframe\n",
    "pd_pred_rf = pred_rf.toPandas()\n",
    "\n",
    "pd_pred_rf_sj = pd_pred_rf[pd_pred_rf['city'] == 'sj']\n",
    "pd_pred_rf_iq = pd_pred_rf[pd_pred_rf['city'] == 'iq']"
   ]
  },
  {
   "cell_type": "code",
   "execution_count": null,
   "metadata": {
    "scrolled": true
   },
   "outputs": [],
   "source": [
    "# Total cases per city\n",
    "plt.figure(figsize=(12, 8))\n",
    "plt.grid()\n",
    "plt.title('Random Forest: Prediction Dengue Fever total cases per week')\n",
    "\n",
    "\n",
    "plt.xlabel('year')\n",
    "plt.ylabel('total cases')\n",
    "plt.xticks()\n",
    "plt.yticks()\n",
    "\n",
    "plt.plot(pd_train_sj['week_start_date'], pd_train_sj['total_cases'], label='San Juan')\n",
    "plt.plot(pd_train_iq['week_start_date'], pd_train_iq['total_cases'], label='Iquitos')\n",
    "\n",
    "plt.plot(pd_pred_rf_sj['week_start_date'], pd_pred_rf_sj['total_cases'], label='Target: San Juan')\n",
    "plt.plot(pd_pred_rf_iq['week_start_date'], pd_pred_rf_iq['total_cases'], label='Target: Iquitos')\n",
    "\n",
    "plt.plot(pd_pred_rf_sj['week_start_date'], pd_pred_rf_sj['rf_prediction'], label='Pred: San Juan')\n",
    "plt.plot(pd_pred_rf_iq['week_start_date'], pd_pred_rf_iq['rf_prediction'], label='Pred: Iquitos')\n",
    "\n",
    "plt.legend()\n",
    "\n",
    "plt.show()"
   ]
  },
  {
   "cell_type": "code",
   "execution_count": null,
   "metadata": {},
   "outputs": [],
   "source": [
    "# zoom\n",
    "\n",
    "# Total cases per city\n",
    "plt.figure(figsize=(15, 6))\n",
    "\n",
    "# San Juan\n",
    "ax1 = plt.subplot(2, 2, 1)\n",
    "plt.grid()\n",
    "\n",
    "plt.title('San Juan: Dengue Fever total cases per week')\n",
    "plt.xlabel('year')\n",
    "plt.ylabel('total cases')\n",
    "\n",
    "plt.plot(pd_pred_rf_sj['week_start_date'], pd_pred_rf_sj['total_cases'],\n",
    "         label='Target')\n",
    "plt.plot(pd_pred_rf_sj['week_start_date'], pd_pred_rf_sj['rf_prediction'],\n",
    "         label='Predictions')\n",
    "\n",
    "plt.legend()\n",
    "\n",
    "# Iquitos\n",
    "ax2 = plt.subplot(2, 2, 2)\n",
    "plt.grid()\n",
    "\n",
    "plt.title('Iquitos: Dengue Fever total cases per week')\n",
    "plt.xlabel('year')\n",
    "plt.ylabel('total cases')\n",
    "\n",
    "plt.plot(pd_pred_rf_iq['week_start_date'], pd_pred_rf_iq['total_cases'],\n",
    "         label='Target')\n",
    "plt.plot(pd_pred_rf_iq['week_start_date'], pd_pred_rf_iq['rf_prediction'],\n",
    "         label='Predictions')\n",
    "\n",
    "plt.legend()\n",
    "\n",
    "plt.show()"
   ]
  },
  {
   "cell_type": "markdown",
   "metadata": {},
   "source": [
    "### try on test bench"
   ]
  },
  {
   "cell_type": "code",
   "execution_count": null,
   "metadata": {},
   "outputs": [],
   "source": [
    "df_bench = spark.read.parquet(\"data/preprocessed_bench\")\n",
    "\n",
    "print(\"df_bench = ({}, {})\".format(df_bench.count(), len(df_bench.columns)))"
   ]
  },
  {
   "cell_type": "code",
   "execution_count": null,
   "metadata": {},
   "outputs": [],
   "source": [
    "# simple RF\n",
    "bench_simple_rf = cv_model_rf.transform(df_bench)"
   ]
  },
  {
   "cell_type": "code",
   "execution_count": null,
   "metadata": {},
   "outputs": [],
   "source": [
    "df_submission = spark.read.csv('data/submission_format.csv',header=True)\n",
    "df_submission.show(10)"
   ]
  },
  {
   "cell_type": "code",
   "execution_count": null,
   "metadata": {},
   "outputs": [],
   "source": [
    "df_temp = bench_simple_rf['city', 'year', 'weekofyear','rf_prediction']\n",
    "df_temp = df_temp.withColumn(\"total_cases\", df_temp[\"rf_prediction\"].cast('int'))\n",
    "df_temp = df_temp.drop('rf_prediction')"
   ]
  },
  {
   "cell_type": "code",
   "execution_count": null,
   "metadata": {},
   "outputs": [],
   "source": [
    "df_temp.show(10)"
   ]
  },
  {
   "cell_type": "code",
   "execution_count": null,
   "metadata": {},
   "outputs": [],
   "source": [
    "df_temp_pandas = df_temp.select('city','year','weekofyear','total_cases').toPandas()\n",
    "df_temp_pandas_sj = df_temp_pandas[df_temp_pandas['city'] == 'sj']\n",
    "df_temp_pandas_iq = df_temp_pandas[df_temp_pandas['city'] == 'iq']\n",
    "df_temp_pandas = pd.concat([df_temp_pandas_sj,df_temp_pandas_iq], axis=0)"
   ]
  },
  {
   "cell_type": "code",
   "execution_count": null,
   "metadata": {},
   "outputs": [],
   "source": [
    "df_temp_pandas.to_csv('data/test_cv_rf.csv',index=False)"
   ]
  },
  {
   "cell_type": "markdown",
   "metadata": {},
   "source": [
    "### Premier \"*Benchmark*\"\n",
    "\n"
   ]
  },
  {
   "cell_type": "code",
   "execution_count": null,
   "metadata": {},
   "outputs": [],
   "source": [
    "df_bench = spark.read.parquet(\"data/01-benchmark\")\n",
    "\n",
    "print(\"df_bench = ({}, {})\".format(df_bench.count(), len(df_bench.columns)))"
   ]
  },
  {
   "cell_type": "code",
   "execution_count": null,
   "metadata": {},
   "outputs": [],
   "source": [
    "df_train.printSchema()"
   ]
  },
  {
   "cell_type": "code",
   "execution_count": null,
   "metadata": {},
   "outputs": [],
   "source": [
    "df_bench.printSchema()"
   ]
  },
  {
   "cell_type": "code",
   "execution_count": null,
   "metadata": {},
   "outputs": [],
   "source": [
    "df_train2 = df_train.drop('total_cases')\n",
    "\n",
    "# Make predictions\n",
    "pipeline = Pipeline(stages=[indexer, encoder, vectorAssembler, scaler, rf_bestModel])\n",
    "\n",
    "# build model\n",
    "model = pipeline.fit(df_train2)"
   ]
  },
  {
   "cell_type": "code",
   "execution_count": null,
   "metadata": {},
   "outputs": [],
   "source": [
    "# Build prediction from 'test' dataset\n",
    "pred_bench = model.transform(df_bench)\n",
    "\n",
    "\n",
    "df_out = pred_bench['city', 'year', 'weekofyear', 'rf_prediction']\n",
    "df_out = df_out.withColumn('total_cases', df_out['rf_prediction'].cast('int'))\n",
    "df_out = df_out.drop('rf_prediction')\n",
    "\n",
    "df_out.write.csv('data/01-submission.csv')"
   ]
  },
  {
   "cell_type": "code",
   "execution_count": null,
   "metadata": {},
   "outputs": [],
   "source": []
  }
 ],
 "metadata": {
  "kernelspec": {
   "display_name": "Python 3",
   "language": "python",
   "name": "python3"
  },
  "language_info": {
   "codemirror_mode": {
    "name": "ipython",
    "version": 3
   },
   "file_extension": ".py",
   "mimetype": "text/x-python",
   "name": "python",
   "nbconvert_exporter": "python",
   "pygments_lexer": "ipython3",
   "version": "3.6.9"
  },
  "latex_envs": {
   "LaTeX_envs_menu_present": true,
   "autoclose": false,
   "autocomplete": true,
   "bibliofile": "biblio.bib",
   "cite_by": "apalike",
   "current_citInitial": 1,
   "eqLabelWithNumbers": true,
   "eqNumInitial": 1,
   "hotkeys": {
    "equation": "Ctrl-E",
    "itemize": "Ctrl-I"
   },
   "labels_anchors": false,
   "latex_user_defs": false,
   "report_style_numbering": false,
   "user_envs_cfg": false
  },
  "toc": {
   "base_numbering": 1,
   "nav_menu": {},
   "number_sections": true,
   "sideBar": true,
   "skip_h1_title": false,
   "title_cell": "Table of Contents",
   "title_sidebar": "Contents",
   "toc_cell": false,
   "toc_position": {},
   "toc_section_display": true,
   "toc_window_display": false
  }
 },
 "nbformat": 4,
 "nbformat_minor": 2
}
