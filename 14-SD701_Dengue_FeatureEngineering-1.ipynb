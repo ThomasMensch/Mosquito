{
 "cells": [
  {
   "cell_type": "markdown",
   "metadata": {},
   "source": [
    "## Feature engineering"
   ]
  },
  {
   "cell_type": "code",
   "execution_count": 1,
   "metadata": {},
   "outputs": [],
   "source": [
    "# Load pyspark\n",
    "import findspark\n",
    "\n",
    "findspark.init()\n",
    "\n",
    "#import pyspark\n",
    "from pyspark import SparkContext\n",
    "from pyspark.sql import SparkSession, functions as F, window\n",
    "\n",
    "from pyspark.ml.stat import Correlation\n",
    "from pyspark.ml.feature import VectorAssembler, StringIndexer, OneHotEncoder, StandardScaler, Bucketizer\n",
    "from pyspark.ml.regression import LinearRegression, RandomForestRegressor\n",
    "from pyspark.ml.evaluation import RegressionEvaluator\n",
    "from pyspark.ml.tuning import CrossValidator, ParamGridBuilder\n",
    "from pyspark.ml import Pipeline\n",
    "\n",
    "import os\n",
    "import shutil\n",
    "\n",
    "import datetime\n",
    "import numpy as np\n",
    "import matplotlib.pyplot as plt\n",
    "\n",
    "import seaborn as sns\n",
    "\n",
    "import pandas as pd\n",
    "from pandas.plotting import register_matplotlib_converters\n",
    "register_matplotlib_converters()\n",
    "\n",
    "spark = SparkSession.builder.appName(\"dengue\").getOrCreate()"
   ]
  },
  {
   "cell_type": "markdown",
   "metadata": {},
   "source": [
    "### Chargement des données pré-traitées"
   ]
  },
  {
   "cell_type": "code",
   "execution_count": 2,
   "metadata": {},
   "outputs": [
    {
     "name": "stdout",
     "output_type": "stream",
     "text": [
      "df_train = (1456, 24)\n"
     ]
    }
   ],
   "source": [
    "df_train = spark.read.parquet(\"data/01-preprocessed\")\n",
    "\n",
    "print(\"df_train = ({}, {})\".format(df_train.count(), len(df_train.columns)))"
   ]
  },
  {
   "cell_type": "markdown",
   "metadata": {},
   "source": [
    "### Construction de nouvelles variables\n",
    "\n",
    "#### Végétation\n",
    "\n",
    "NDVI Normalized difference vegetation index (NDVI) indique l'indice de végétation :\n",
    "- en dessous de -0.1 il s'agit probablement d'eau\n",
    "- entre -0.1 et 0.1 urbanisé ou pierre ou minéral ou terre nue\n",
    "- entre 0.1 et 0.4 végétation peu dense\n",
    "- au dessus de 0.4 végétation dense\n",
    "\n",
    "\n",
    "(à noter que les seuils ne sont pas toujours très bien définis...)"
   ]
  },
  {
   "cell_type": "code",
   "execution_count": 3,
   "metadata": {},
   "outputs": [],
   "source": [
    "def ndvi_bucketize(df):\n",
    "    splits = [-float(\"inf\"), -0.1, 0.1, 0.4, float(\"inf\")]\n",
    "\n",
    "    bucketizer_ne = Bucketizer(splits=splits, inputCol='ndvi_ne', outputCol='bucket_ne')\n",
    "    bucketizer_nw = Bucketizer(splits=splits, inputCol='ndvi_nw', outputCol='bucket_nw')\n",
    "    bucketizer_sw = Bucketizer(splits=splits, inputCol='ndvi_sw', outputCol='bucket_sw')\n",
    "    bucketizer_se = Bucketizer(splits=splits, inputCol='ndvi_se', outputCol='bucket_se')\n",
    "    \n",
    "    # Transform original data into its bucket index.\n",
    "    df = bucketizer_ne.transform(df)\n",
    "    df = bucketizer_nw.transform(df)\n",
    "    df = bucketizer_sw.transform(df)\n",
    "    df = bucketizer_se.transform(df)\n",
    "    \n",
    "    return df\n",
    "\n",
    "df_train = ndvi_bucketize(df_train)\n",
    "\n",
    "#df_train.select(['bucket_ne', 'bucket_nw', 'bucket_sw', 'bucket_se']).show()"
   ]
  },
  {
   "cell_type": "code",
   "execution_count": 4,
   "metadata": {},
   "outputs": [],
   "source": [
    "def ndvi_average(df):\n",
    "    columns = [F.col('ndvi_ne'), F.col('ndvi_nw'),  F.col('ndvi_sw'),  F.col('ndvi_se')]\n",
    "\n",
    "    avg = sum(x for x in columns) / len(columns)\n",
    "\n",
    "    return df.withColumn('ndvi_avg', avg)\n",
    "\n",
    "df_train = ndvi_average(df_train)\n",
    "\n",
    "#df_train.select(['ndvi_ne', 'ndvi_nw', 'ndvi_sw', 'ndvi_se', 'ndvi_avg']).show()"
   ]
  },
  {
   "cell_type": "markdown",
   "metadata": {},
   "source": [
    "#### Matrice de corrélation"
   ]
  },
  {
   "cell_type": "code",
   "execution_count": 5,
   "metadata": {},
   "outputs": [
    {
     "data": {
      "image/png": "[encoded data removed]",
      "text/plain": [
       "<Figure size 864x720 with 2 Axes>"
      ]
     },
     "metadata": {
      "needs_background": "light"
     },
     "output_type": "display_data"
    }
   ],
   "source": [
    "# convert to vector column first\n",
    "vector_col = \"features\"\n",
    "col_names = ['total_cases',\n",
    "             'ndvi_ne', 'ndvi_nw', 'ndvi_sw', 'ndvi_se',\n",
    "             'bucket_ne', 'bucket_nw', 'bucket_sw', 'bucket_se',\n",
    "             'ndvi_avg'\n",
    "             ]\n",
    "\n",
    "assembler = VectorAssembler(inputCols=col_names, outputCol=vector_col)\n",
    "\n",
    "# all\n",
    "df = df_train\n",
    "df_vector = assembler.transform(df).select(vector_col)\n",
    "\n",
    "# get correlation matrix\n",
    "matrix = Correlation.corr(df_vector, vector_col)\n",
    "array = matrix.collect()[0][\"pearson({})\".format(vector_col)].values\n",
    "\n",
    "# convert (small) correlation matrix to pandas dataframe for visualization\n",
    "corr_df = pd.DataFrame(\n",
    "    np.reshape(array, (len(col_names), len(col_names))),\n",
    "    index=col_names,\n",
    "    columns=col_names)\n",
    "\n",
    "# make plot\n",
    "fig = plt.figure(figsize=(12, 10))\n",
    "plt.title('Correlation map')\n",
    "\n",
    "ax = sns.heatmap(corr_df, square=True,\n",
    "                 xticklabels=True, yticklabels=True,\n",
    "                 vmin=-1.0, vmax=1.0,\n",
    "                 cbar_kws={\"shrink\": .97})\n",
    "\n",
    "ax.set_xticklabels(ax.get_xticklabels(), rotation=45.0,\n",
    "                   horizontalalignment='right')\n",
    "\n",
    "# to fix bug in sns.heatmap (matplotlib 3.11)\n",
    "bottom, top = ax.get_ylim()\n",
    "ax.set_ylim(bottom + 0.5, top - 0.5)\n",
    "\n",
    "plt.show()"
   ]
  },
  {
   "cell_type": "markdown",
   "metadata": {},
   "source": [
    "### Construction des jeux d'entrainement et de test"
   ]
  },
  {
   "cell_type": "code",
   "execution_count": 6,
   "metadata": {},
   "outputs": [
    {
     "name": "stdout",
     "output_type": "stream",
     "text": [
      "San Juan data:\n",
      "df_train_sj = (936, 29)\n",
      "\tdate_start = 1990-04-30 / date_stop = 2008-04-22\n",
      "Iquitos data:\n",
      "df_train_iq = (520, 29)\n",
      "\tdate_start = 2000-07-01 / date_stop = 2010-06-25\n"
     ]
    }
   ],
   "source": [
    "# San Juan (sj)\n",
    "df_train_sj = df_train.filter(df_train.city == 'sj')\n",
    "min_date_sj, max_date_sj = df_train_sj.select(F.min(\"week_start_date\"),\n",
    "                                              F.max(\"week_start_date\")).first()\n",
    "\n",
    "print(\"San Juan data:\")\n",
    "print(\"df_train_sj = ({}, {})\".format(df_train_sj.count(), len(df_train_sj.columns)))\n",
    "print(\"\\tdate_start = {} / date_stop = {}\".format(min_date_sj, max_date_sj))\n",
    "\n",
    "# Iquitos (iq)\n",
    "df_train_iq = df_train.filter(df_train.city == 'iq')\n",
    "min_date_iq, max_date_iq = df_train_iq.select(F.min(\"week_start_date\"),\n",
    "                                              F.max(\"week_start_date\")).first()\n",
    "\n",
    "print(\"Iquitos data:\")\n",
    "print(\"df_train_iq = ({}, {})\".format(df_train_iq.count(), len(df_train_iq.columns)))\n",
    "print(\"\\tdate_start = {} / date_stop = {}\".format(min_date_iq, max_date_iq))"
   ]
  },
  {
   "cell_type": "code",
   "execution_count": 7,
   "metadata": {},
   "outputs": [
    {
     "name": "stdout",
     "output_type": "stream",
     "text": [
      "train_sj = (843, 29)\n",
      "test_sj = (93, 29)\n",
      "train_iq = (468, 29)\n",
      "test_iq = (52, 29)\n"
     ]
    }
   ],
   "source": [
    "# split train (90%) and test (10%)\n",
    "\n",
    "# San Juan (sj)\n",
    "testsize_sj = int(0.1 * df_train_sj.count())\n",
    "delta_sj = datetime.timedelta(weeks=testsize_sj)\n",
    "cut_date_sj = max_date_sj - delta_sj\n",
    "\n",
    "train_sj = df_train_sj.filter(df_train_sj.week_start_date <= cut_date_sj)\n",
    "test_sj = df_train_sj.filter(df_train_sj.week_start_date > cut_date_sj)\n",
    "\n",
    "print(\"train_sj = ({}, {})\".format(train_sj.count(), len(train_sj.columns)))\n",
    "print(\"test_sj = ({}, {})\".format(test_sj.count(), len(test_sj.columns)))\n",
    "\n",
    "# Iquitos (iq)\n",
    "testsize_iq = int(0.1 * df_train_iq.count())\n",
    "delta_iq = datetime.timedelta(weeks=testsize_iq)\n",
    "cut_date_iq = max_date_iq - delta_iq\n",
    "\n",
    "train_iq = df_train_iq.filter(df_train_iq.week_start_date <= cut_date_iq)\n",
    "test_iq = df_train_iq.filter(df_train_iq.week_start_date > cut_date_iq)\n",
    "\n",
    "print(\"train_iq = ({}, {})\".format(train_iq.count(), len(train_iq.columns)))\n",
    "print(\"test_iq = ({}, {})\".format(test_iq.count(), len(test_iq.columns)))"
   ]
  },
  {
   "cell_type": "code",
   "execution_count": 8,
   "metadata": {},
   "outputs": [
    {
     "name": "stdout",
     "output_type": "stream",
     "text": [
      "train = (1311, 29)\n",
      "test = (145, 29)\n"
     ]
    }
   ],
   "source": [
    "# concatanate the 2 sets\n",
    "train = train_sj.union(train_iq)\n",
    "test = test_sj.union(test_iq)\n",
    "\n",
    "print(\"train = ({}, {})\".format(train.count(), len(train.columns)))\n",
    "print(\"test = ({}, {})\".format(test.count(), len(test.columns)))"
   ]
  },
  {
   "cell_type": "markdown",
   "metadata": {},
   "source": [
    "### Construction du *pipeline*"
   ]
  },
  {
   "cell_type": "code",
   "execution_count": 9,
   "metadata": {},
   "outputs": [],
   "source": [
    "# OneHotEncoder categorial variables\n",
    "indexer = StringIndexer(inputCol='city', outputCol='city_')\n",
    "encoder = OneHotEncoder(inputCol='city_', outputCol='cityVect')\n",
    "\n",
    "# Build feature vector\n",
    "vectorAssembler = VectorAssembler(\n",
    "    inputCols=['cityVect',\n",
    "               'year', 'weekofyear',\n",
    "               'bucket_ne', 'bucket_nw', 'bucket_se', 'bucket_sw',\n",
    "               'ndvi_avg',\n",
    "               'reanalysis_precip_amt_kg_per_m2',\n",
    "#               'reanalysis_relative_humidity_percent',\n",
    "               'reanalysis_sat_precip_amt_mm',\n",
    "               'reanalysis_specific_humidity_g_per_kg',\n",
    "               'station_avg_temp_c',\n",
    "               'station_diur_temp_rng_c',\n",
    "               'station_max_temp_c', 'station_min_temp_c', \n",
    "               'station_precip_mm',  \n",
    "               'reanalysis_air_temp_c',\n",
    "               'reanalysis_avg_temp_c',\n",
    "               'reanalysis_dew_point_temp_c',\n",
    "               'reanalysis_max_air_temp_c',\n",
    "#               'reanalysis_min_air_temp_c',\n",
    "#               'reanalysis_tdtr_c',\n",
    "               ], \n",
    "    outputCol = 'features')\n",
    "\n",
    "# selected features\n",
    "#vectorAssembler2 = VectorAssembler(\n",
    "#    inputCols=['cityVect',\n",
    "#               'year', 'weekofyear',\n",
    "#               'reanalysis_specific_humidity_g_per_kg', \n",
    "#               'reanalysis_dew_point_temp_c', \n",
    "#               'station_avg_temp_c', \n",
    "#               'station_min_temp_c',\n",
    "#               'reanalysis_min_air_temp_c',\n",
    "#               'reanalysis_max_air_temp_c'], \n",
    "#    outputCol = 'features')\n",
    "\n",
    "# scaler\n",
    "scaler = StandardScaler(inputCol='features',\n",
    "                        outputCol='scaled_features',\n",
    "                        withStd=True, withMean=True)\n",
    "\n",
    "# Random forest\n",
    "rf = RandomForestRegressor(featuresCol='scaled_features',\n",
    "                           labelCol='total_cases',\n",
    "                           predictionCol='rf_prediction')"
   ]
  },
  {
   "cell_type": "markdown",
   "metadata": {},
   "source": [
    "### Modèle *Random Forest* (forêt aléatoire)\n",
    "\n",
    "#### Paramètres par défaut"
   ]
  },
  {
   "cell_type": "code",
   "execution_count": 10,
   "metadata": {},
   "outputs": [
    {
     "name": "stdout",
     "output_type": "stream",
     "text": [
      "Random Forest::Before grid search - MAE = 13.893\n"
     ]
    }
   ],
   "source": [
    "pipeline_rf = Pipeline(stages=[indexer, encoder, vectorAssembler, scaler, rf])\n",
    "\n",
    "evaluator_rf = RegressionEvaluator(labelCol='total_cases',\n",
    "                                   predictionCol='rf_prediction',\n",
    "                                   metricName=\"mae\")\n",
    "\n",
    "# build model\n",
    "model_rf = pipeline_rf.fit(train)\n",
    "\n",
    "# Build prediction from 'test' dataset\n",
    "pred_rf = model_rf.transform(test)\n",
    "\n",
    "#pred_rf.select(['total_cases','rf_prediction']).show(52)\n",
    "\n",
    "mae = evaluator_rf.evaluate(pred_rf)\n",
    "\n",
    "print(\"Random Forest::Before grid search - MAE = {:.3f}\".format(mae))"
   ]
  },
  {
   "cell_type": "markdown",
   "metadata": {},
   "source": [
    "#### Ajustement des hyper-paramètres (*grid search*)"
   ]
  },
  {
   "cell_type": "code",
   "execution_count": 11,
   "metadata": {},
   "outputs": [
    {
     "name": "stdout",
     "output_type": "stream",
     "text": [
      "Best model (numTree=30, MaxDepth=4) => MAE = 13.304\n"
     ]
    }
   ],
   "source": [
    "#numTrees = [15, 20, 25, 30, 40, 50, 60]\n",
    "numTrees = [30, 35, 40, 45, 50, 55]\n",
    "#maxDepths = [2, 4, 5, 7, 10, 15, 20]\n",
    "maxDepths = [3, 4, 5, 6, 7, 8]\n",
    "\n",
    "evaluator_rf = RegressionEvaluator(labelCol='total_cases',\n",
    "                                   predictionCol='rf_prediction',\n",
    "                                   metricName=\"mae\")\n",
    "\n",
    "rf_bestModel = model_rf\n",
    "best_mae = mae\n",
    "\n",
    "for nTree in numTrees:\n",
    "    for depth in maxDepths:\n",
    "\n",
    "        rf = RandomForestRegressor(featuresCol='scaled_features',\n",
    "                                   labelCol='total_cases',\n",
    "                                   predictionCol='rf_prediction',\n",
    "                                   numTrees=nTree,\n",
    "                                   maxDepth=depth)\n",
    "\n",
    "        pipeline = Pipeline(stages=[indexer, encoder, vectorAssembler, scaler, rf])\n",
    "\n",
    "        # build model\n",
    "        model = pipeline.fit(train)\n",
    "\n",
    "        # Build prediction from 'test' dataset\n",
    "        pred = model.transform(test)\n",
    "\n",
    "        mae = evaluator_rf.evaluate(pred)\n",
    "        if mae < best_mae:\n",
    "            best_mae = mae\n",
    "            rf_bestModel = model\n",
    "\n",
    "pred_rf = rf_bestModel.transform(test)\n",
    "\n",
    "mae = evaluator_rf.evaluate(pred_rf)\n",
    "\n",
    "numTree = rf_bestModel.stages[-1].getNumTrees\n",
    "maxDepth = rf_bestModel.stages[-1]._java_obj.getMaxDepth()\n",
    "\n",
    "print(\"Best model (numTree={}, MaxDepth={}) => MAE = {:.3f}\".format(numTree, maxDepth, mae))"
   ]
  },
  {
   "cell_type": "markdown",
   "metadata": {},
   "source": [
    "#### Affichage des predictions obtenues\n",
    "\n",
    "Nous mesurons la performance du modèle en ragardant les prédictions sur le jeu de données d'entrainement."
   ]
  },
  {
   "cell_type": "code",
   "execution_count": 12,
   "metadata": {},
   "outputs": [],
   "source": [
    "pd_train_sj = train_sj.toPandas()\n",
    "pd_train_iq = train_iq.toPandas()\n",
    "\n",
    "\n",
    "# create pandas dataframe from spark dataframe\n",
    "pd_pred_rf = pred_rf.toPandas()\n",
    "\n",
    "pd_pred_rf_sj = pd_pred_rf[pd_pred_rf['city'] == 'sj']\n",
    "pd_pred_rf_iq = pd_pred_rf[pd_pred_rf['city'] == 'iq']"
   ]
  },
  {
   "cell_type": "code",
   "execution_count": 13,
   "metadata": {},
   "outputs": [
    {
     "data": {
      "image/png": "[encoded data removed]",
      "text/plain": [
       "<Figure size 864x576 with 1 Axes>"
      ]
     },
     "metadata": {
      "needs_background": "light"
     },
     "output_type": "display_data"
    }
   ],
   "source": [
    "pred_train = rf_bestModel.transform(train)\n",
    "\n",
    "# create pandas dataframe from spark dataframe\n",
    "pd_pred_train = pred_train.toPandas()\n",
    "\n",
    "pd_pred_train_sj = pd_pred_train[pd_pred_train['city'] == 'sj']\n",
    "pd_pred_train_iq = pd_pred_train[pd_pred_train['city'] == 'iq']\n",
    "\n",
    "# Total cases per city\n",
    "fig = plt.figure(figsize=(12, 8))\n",
    "plt.grid()\n",
    "plt.title('Random Forest: Prediction Dengue Fever total cases per week')\n",
    "\n",
    "plt.xlabel('year')\n",
    "plt.ylabel('total cases')\n",
    "plt.xticks()\n",
    "plt.yticks()\n",
    "\n",
    "plt.plot(pd_train_sj['week_start_date'], pd_train_sj['total_cases'],\n",
    "         label='San Juan - Observations')\n",
    "plt.plot(pd_train_iq['week_start_date'], pd_train_iq['total_cases'],\n",
    "         label='Iquitos - Observations')\n",
    "\n",
    "plt.plot(pd_pred_train_sj['week_start_date'], pd_pred_train_sj['rf_prediction'],\n",
    "         label='San Juan - Predictions')\n",
    "plt.plot(pd_pred_train_iq['week_start_date'], pd_pred_train_iq['rf_prediction'],\n",
    "         label='Iquitos - Predictions')\n",
    "\n",
    "plt.legend()\n",
    "\n",
    "fig.savefig(\"figs/04-fig_01.jpg\")\n",
    "plt.show()"
   ]
  },
  {
   "cell_type": "markdown",
   "metadata": {},
   "source": [
    "### Sauvegarde des données après *feature engineering*"
   ]
  },
  {
   "cell_type": "code",
   "execution_count": 14,
   "metadata": {},
   "outputs": [
    {
     "name": "stdout",
     "output_type": "stream",
     "text": [
      "Size of data = (1456, 29)\n"
     ]
    }
   ],
   "source": [
    "print(\"Size of data = ({}, {})\".format(df_train.count(), len(df_train.columns)))\n",
    "\n",
    "# save preprocessed dataframe\n",
    "path_to_dir = \"data/02-featureEngineering\"\n",
    "\n",
    "if os.path.exists(path_to_dir) and os.path.isdir(path_to_dir):\n",
    "    shutil.rmtree(path_to_dir)\n",
    "    \n",
    "df_train.write.parquet(path_to_dir)"
   ]
  },
  {
   "cell_type": "markdown",
   "metadata": {},
   "source": [
    "### Préparation du jeu de données test fourni par le \"challenge\""
   ]
  },
  {
   "cell_type": "code",
   "execution_count": 15,
   "metadata": {},
   "outputs": [
    {
     "name": "stdout",
     "output_type": "stream",
     "text": [
      "df_bench = (416, 23)\n",
      "root\n",
      " |-- city: string (nullable = true)\n",
      " |-- year: integer (nullable = true)\n",
      " |-- weekofyear: integer (nullable = true)\n",
      " |-- week_start_date: date (nullable = true)\n",
      " |-- ndvi_ne: float (nullable = true)\n",
      " |-- ndvi_nw: float (nullable = true)\n",
      " |-- ndvi_se: float (nullable = true)\n",
      " |-- ndvi_sw: float (nullable = true)\n",
      " |-- reanalysis_precip_amt_kg_per_m2: float (nullable = true)\n",
      " |-- reanalysis_relative_humidity_percent: float (nullable = true)\n",
      " |-- reanalysis_sat_precip_amt_mm: float (nullable = true)\n",
      " |-- reanalysis_specific_humidity_g_per_kg: float (nullable = true)\n",
      " |-- station_avg_temp_c: float (nullable = true)\n",
      " |-- station_diur_temp_rng_c: float (nullable = true)\n",
      " |-- station_max_temp_c: float (nullable = true)\n",
      " |-- station_min_temp_c: float (nullable = true)\n",
      " |-- station_precip_mm: float (nullable = true)\n",
      " |-- reanalysis_air_temp_c: double (nullable = true)\n",
      " |-- reanalysis_avg_temp_c: double (nullable = true)\n",
      " |-- reanalysis_dew_point_temp_c: double (nullable = true)\n",
      " |-- reanalysis_max_air_temp_c: double (nullable = true)\n",
      " |-- reanalysis_min_air_temp_c: double (nullable = true)\n",
      " |-- reanalysis_tdtr_c: double (nullable = true)\n",
      "\n"
     ]
    }
   ],
   "source": [
    "# load data\n",
    "df_bench = spark.read.parquet(\"data/01-benchmark\")\n",
    "\n",
    "# display information\n",
    "print(\"df_bench = ({}, {})\".format(df_bench.count(), len(df_bench.columns)))\n",
    "\n",
    "#df_bench.printSchema()"
   ]
  },
  {
   "cell_type": "code",
   "execution_count": 17,
   "metadata": {},
   "outputs": [],
   "source": [
    "# clean data\n",
    "df_bench = ndvi_bucketize(df_bench)\n",
    "df_bench = ndvi_average(df_bench)"
   ]
  },
  {
   "cell_type": "code",
   "execution_count": 18,
   "metadata": {},
   "outputs": [],
   "source": [
    "# save preprocessed dataframe\n",
    "path_to_dir = \"data/02-benchmark\"\n",
    "\n",
    "if os.path.exists(path_to_dir) and os.path.isdir(path_to_dir):\n",
    "    shutil.rmtree(path_to_dir)\n",
    "\n",
    "df_bench.write.parquet(path_to_dir)"
   ]
  },
  {
   "cell_type": "code",
   "execution_count": null,
   "metadata": {},
   "outputs": [],
   "source": []
  }
 ],
 "metadata": {
  "kernelspec": {
   "display_name": "Python 3",
   "language": "python",
   "name": "python3"
  },
  "language_info": {
   "codemirror_mode": {
    "name": "ipython",
    "version": 3
   },
   "file_extension": ".py",
   "mimetype": "text/x-python",
   "name": "python",
   "nbconvert_exporter": "python",
   "pygments_lexer": "ipython3",
   "version": "3.7.3"
  }
 },
 "nbformat": 4,
 "nbformat_minor": 2
}
