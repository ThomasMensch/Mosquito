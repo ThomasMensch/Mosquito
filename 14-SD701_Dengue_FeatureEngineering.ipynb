{
 "cells": [
  {
   "cell_type": "code",
   "execution_count": 1,
   "metadata": {},
   "outputs": [],
   "source": [
    "# Load pyspark\n",
    "import findspark\n",
    "\n",
    "findspark.init()\n",
    "\n",
    "#import pyspark\n",
    "from pyspark import SparkContext\n",
    "from pyspark.sql import SparkSession, functions as F, window\n",
    "\n",
    "from pyspark.ml.stat import Correlation\n",
    "from pyspark.ml.feature import VectorAssembler, StringIndexer, OneHotEncoder, StandardScaler, Bucketizer\n",
    "from pyspark.ml.regression import LinearRegression, RandomForestRegressor\n",
    "from pyspark.ml.evaluation import RegressionEvaluator\n",
    "from pyspark.ml.tuning import CrossValidator, ParamGridBuilder\n",
    "from pyspark.ml import Pipeline\n",
    "\n",
    "import datetime\n",
    "import numpy as np\n",
    "import matplotlib.pyplot as plt\n",
    "\n",
    "import seaborn as sns\n",
    "\n",
    "import pandas as pd\n",
    "from pandas.plotting import register_matplotlib_converters\n",
    "register_matplotlib_converters()\n",
    "\n",
    "spark = SparkSession.builder.appName(\"dengue\").getOrCreate()"
   ]
  },
  {
   "cell_type": "markdown",
   "metadata": {},
   "source": [
    "### Chargement des données pré-traitées"
   ]
  },
  {
   "cell_type": "code",
   "execution_count": 2,
   "metadata": {},
   "outputs": [
    {
     "name": "stdout",
     "output_type": "stream",
     "text": [
      "df_train = (1456, 24)\n"
     ]
    }
   ],
   "source": [
    "df_train = spark.read.parquet(\"data/01-preprocessed\")\n",
    "\n",
    "print(\"df_train = ({}, {})\".format(df_train.count(), len(df_train.columns)))"
   ]
  },
  {
   "cell_type": "markdown",
   "metadata": {},
   "source": [
    "### Construction de nouvelles variables\n",
    "\n",
    "#### Végétation\n",
    "\n",
    "NDVI Normalized difference vegetation index (NDVI) indique l'indice de végétation :\n",
    "- en dessous de -0.1 il s'agit probablement d'eau\n",
    "- entre -0.1 et 0.1 urbanisé ou pierre ou minéral ou terre nue\n",
    "- entre 0.1 et 0.4 végétation peu dense\n",
    "- au dessus de 0.4 végétation dense\n",
    "\n",
    "\n",
    "(à noter que les seuils ne sont pas toujours très bien définis...)"
   ]
  },
  {
   "cell_type": "code",
   "execution_count": 3,
   "metadata": {},
   "outputs": [
    {
     "name": "stdout",
     "output_type": "stream",
     "text": [
      "+---------+---------+---------+---------+\n",
      "|bucket_ne|bucket_nw|bucket_sw|bucket_se|\n",
      "+---------+---------+---------+---------+\n",
      "|      2.0|      2.0|      2.0|      2.0|\n",
      "|      2.0|      2.0|      2.0|      2.0|\n",
      "|      1.0|      2.0|      2.0|      2.0|\n",
      "|      2.0|      2.0|      2.0|      2.0|\n",
      "|      2.0|      2.0|      2.0|      2.0|\n",
      "|      2.0|      2.0|      2.0|      2.0|\n",
      "|      2.0|      1.0|      2.0|      2.0|\n",
      "|      1.0|      1.0|      2.0|      2.0|\n",
      "|      2.0|      2.0|      2.0|      2.0|\n",
      "|      2.0|      2.0|      2.0|      2.0|\n",
      "|      2.0|      1.0|      2.0|      2.0|\n",
      "|      2.0|      2.0|      2.0|      2.0|\n",
      "|      2.0|      2.0|      2.0|      2.0|\n",
      "|      2.0|      2.0|      2.0|      2.0|\n",
      "|      2.0|      1.0|      2.0|      2.0|\n",
      "|      2.0|      2.0|      2.0|      2.0|\n",
      "|      2.0|      2.0|      2.0|      2.0|\n",
      "|      2.0|      2.0|      2.0|      2.0|\n",
      "|      2.0|      2.0|      2.0|      2.0|\n",
      "|      2.0|      3.0|      2.0|      2.0|\n",
      "+---------+---------+---------+---------+\n",
      "only showing top 20 rows\n",
      "\n"
     ]
    }
   ],
   "source": [
    "def ndvi_bucketize(df):\n",
    "    splits = [-float(\"inf\"), -0.1, 0.1, 0.4, float(\"inf\")]\n",
    "\n",
    "    bucketizer_ne = Bucketizer(splits=splits, inputCol='ndvi_ne', outputCol='bucket_ne')\n",
    "    bucketizer_nw = Bucketizer(splits=splits, inputCol='ndvi_nw', outputCol='bucket_nw')\n",
    "    bucketizer_sw = Bucketizer(splits=splits, inputCol='ndvi_sw', outputCol='bucket_sw')\n",
    "    bucketizer_se = Bucketizer(splits=splits, inputCol='ndvi_se', outputCol='bucket_se')\n",
    "    \n",
    "    # Transform original data into its bucket index.\n",
    "    df = bucketizer_ne.transform(df)\n",
    "    df = bucketizer_nw.transform(df)\n",
    "    df = bucketizer_sw.transform(df)\n",
    "    df = bucketizer_se.transform(df)\n",
    "    \n",
    "    return df\n",
    "\n",
    "df_train = ndvi_bucketize(df_train)\n",
    "\n",
    "df_train.select(['bucket_ne', 'bucket_nw', 'bucket_sw', 'bucket_se']) \\\n",
    "    .show()"
   ]
  },
  {
   "cell_type": "code",
   "execution_count": 4,
   "metadata": {},
   "outputs": [
    {
     "name": "stdout",
     "output_type": "stream",
     "text": [
      "+---------+----------+---------+---------+-------------------+\n",
      "|  ndvi_ne|   ndvi_nw|  ndvi_sw|  ndvi_se|           ndvi_avg|\n",
      "+---------+----------+---------+---------+-------------------+\n",
      "|   0.1226|  0.103725|0.1776167|0.1984833|0.15060624480247498|\n",
      "|   0.1699|  0.142175|0.1554857|0.1623571| 0.1574794501066208|\n",
      "|  0.03225| 0.1729667|0.1708429|   0.1572|0.13331489264965057|\n",
      "|0.1286333| 0.2450667|0.2358857|0.2275571|  0.209285706281662|\n",
      "|   0.1962|    0.2622|  0.24734|   0.2512|0.23923498392105103|\n",
      "|   0.1962|   0.17485|0.1817429|0.2543143|0.20177680253982544|\n",
      "|   0.1129|    0.0928|0.2102714|0.2050714|0.15526069700717926|\n",
      "|   0.0725|    0.0725|0.1330286|0.1514714|0.10737500339746475|\n",
      "|  0.10245|  0.146175|   0.1236|0.1255714|0.12444909662008286|\n",
      "|  0.10245|   0.12155|0.2025667|0.1606833|0.14681249856948853|\n",
      "| 0.192875|   0.08235|0.1529286|0.1919429|0.15502411127090454|\n",
      "|   0.2916|    0.2118|0.2806667|   0.3012|0.27131667733192444|\n",
      "|0.1505667|    0.1717|0.2145571|   0.2269|0.19093094766139984|\n",
      "|0.1505667|   0.24715|0.3813571|   0.3797| 0.2896934747695923|\n",
      "|0.1505667|0.06433333|0.1388571|0.1644429| 0.1295500099658966|\n",
      "|0.1505667| 0.1280333|0.1682429|0.2069571|0.16345000267028809|\n",
      "|0.1902333|    0.1688|0.1722857|0.1676571|0.17474403977394104|\n",
      "|   0.2529|   0.33075|0.2843143|0.2641714|0.28303390741348267|\n",
      "|   0.2354|  0.200025|0.2304429|0.2838167| 0.2374211549758911|\n",
      "|0.1279667|    0.4371|0.1482833|   0.1234|0.20918750762939453|\n",
      "+---------+----------+---------+---------+-------------------+\n",
      "only showing top 20 rows\n",
      "\n"
     ]
    }
   ],
   "source": [
    "def ndvi_average(df):\n",
    "    columns = [F.col('ndvi_ne'), F.col('ndvi_nw'),  F.col('ndvi_sw'),  F.col('ndvi_se')]\n",
    "\n",
    "    avg = sum(x for x in columns) / len(columns)\n",
    "\n",
    "    return df.withColumn('ndvi_avg', avg)\n",
    "\n",
    "df_train = ndvi_average(df_train)\n",
    "\n",
    "df_train.select(['ndvi_ne', 'ndvi_nw', 'ndvi_sw', 'ndvi_se', 'ndvi_avg']) \\\n",
    "    .show()"
   ]
  },
  {
   "cell_type": "markdown",
   "metadata": {},
   "source": [
    "### Matrice de corrélation"
   ]
  },
  {
   "cell_type": "code",
   "execution_count": 5,
   "metadata": {},
   "outputs": [
    {
     "data": {
      "image/png": "[encoded data removed]",
      "text/plain": [
       "<Figure size 864x720 with 2 Axes>"
      ]
     },
     "metadata": {
      "needs_background": "light"
     },
     "output_type": "display_data"
    }
   ],
   "source": [
    "# convert to vector column first\n",
    "vector_col = \"features\"\n",
    "col_names = ['total_cases',\n",
    "             'year', 'weekofyear',\n",
    "#             'bucket_ne', 'bucket_nw', 'bucket_sw', 'bucket_se',\n",
    "             'ndvi_avg',\n",
    "             'reanalysis_precip_amt_kg_per_m2',\n",
    "             'reanalysis_relative_humidity_percent',\n",
    "             'reanalysis_sat_precip_amt_mm',\n",
    "#             'reanalysis_specific_humidity_g_per_kg',\n",
    "             'station_avg_temp_c',\n",
    "             'station_diur_temp_rng_c',\n",
    "             'station_max_temp_c', 'station_min_temp_c',\n",
    "             'station_precip_mm',\n",
    "             'reanalysis_air_temp_c',\n",
    "             'reanalysis_avg_temp_c',\n",
    "             'reanalysis_dew_point_temp_c',\n",
    "             'reanalysis_max_air_temp_c',\n",
    "#             'reanalysis_min_air_temp_c',\n",
    "             'reanalysis_tdtr_c'\n",
    "             ]\n",
    "\n",
    "assembler = VectorAssembler(inputCols=col_names, outputCol=vector_col)\n",
    "\n",
    "# all\n",
    "df = df_train\n",
    "df_vector = assembler.transform(df).select(vector_col)\n",
    "\n",
    "# get correlation matrix\n",
    "matrix = Correlation.corr(df_vector, vector_col)\n",
    "array = matrix.collect()[0][\"pearson({})\".format(vector_col)].values\n",
    "\n",
    "# convert (small) correlation matrix to pandas dataframe for visualization\n",
    "corr_df = pd.DataFrame(\n",
    "    np.reshape(array, (len(col_names), len(col_names))),\n",
    "    index=col_names,\n",
    "    columns=col_names)\n",
    "\n",
    "# make plot\n",
    "fig = plt.figure(figsize=(12, 10))\n",
    "plt.title('Correlation map')\n",
    "\n",
    "ax = sns.heatmap(corr_df, square=True,\n",
    "                 xticklabels=True, yticklabels=True,\n",
    "                 vmin=-1.0, vmax=1.0,\n",
    "                 cbar_kws={\"shrink\": .97})\n",
    "\n",
    "ax.set_xticklabels(ax.get_xticklabels(), rotation=45.0,\n",
    "                   horizontalalignment='right')\n",
    "\n",
    "# to fix bug in sns.heatmap (matplotlib 3.11)\n",
    "bottom, top = ax.get_ylim()\n",
    "ax.set_ylim(bottom + 0.5, top - 0.5)\n",
    "\n",
    "plt.show()"
   ]
  },
  {
   "cell_type": "code",
   "execution_count": 6,
   "metadata": {},
   "outputs": [
    {
     "name": "stdout",
     "output_type": "stream",
     "text": [
      "df_train = (1456, 29)\n",
      "df_train = (1456, 49)\n",
      "df_train = (1448, 49)\n"
     ]
    }
   ],
   "source": [
    "def ndvi_lags(df_train):\n",
    "    # build a window\n",
    "    w = window.Window() \\\n",
    "        .partitionBy('city') \\\n",
    "        .orderBy(F.col('week_start_date'))\n",
    "\n",
    "    print(\"df_train = ({}, {})\".format(df_train.count(), len(df_train.columns)))\n",
    "\n",
    "    # add new columns with different lags\n",
    "    df_train = df_train \\\n",
    "        .withColumn('ndvi_ne_1', F.lag('ndvi_ne', count=1).over(w)) \\\n",
    "        .withColumn('ndvi_ne_2', F.lag('ndvi_ne', count=2).over(w)) \\\n",
    "        .withColumn('ndvi_ne_3', F.lag('ndvi_ne', count=3).over(w)) \\\n",
    "        .withColumn('ndvi_ne_4', F.lag('ndvi_ne', count=4).over(w)) \\\n",
    "        .withColumn('ndvi_nw_1', F.lag('ndvi_nw', count=1).over(w)) \\\n",
    "        .withColumn('ndvi_nw_2', F.lag('ndvi_nw', count=2).over(w)) \\\n",
    "        .withColumn('ndvi_nw_3', F.lag('ndvi_nw', count=3).over(w)) \\\n",
    "        .withColumn('ndvi_nw_4', F.lag('ndvi_nw', count=4).over(w)) \\\n",
    "        .withColumn('ndvi_sw_1', F.lag('ndvi_sw', count=1).over(w)) \\\n",
    "        .withColumn('ndvi_sw_2', F.lag('ndvi_sw', count=2).over(w)) \\\n",
    "        .withColumn('ndvi_sw_3', F.lag('ndvi_sw', count=3).over(w)) \\\n",
    "        .withColumn('ndvi_sw_4', F.lag('ndvi_sw', count=4).over(w)) \\\n",
    "        .withColumn('ndvi_se_1', F.lag('ndvi_se', count=1).over(w)) \\\n",
    "        .withColumn('ndvi_se_2', F.lag('ndvi_se', count=2).over(w)) \\\n",
    "        .withColumn('ndvi_se_3', F.lag('ndvi_se', count=3).over(w)) \\\n",
    "        .withColumn('ndvi_se_4', F.lag('ndvi_se', count=4).over(w)) \\\n",
    "        .withColumn('ndvi_avg_1', F.lag('ndvi_avg', count=1).over(w)) \\\n",
    "        .withColumn('ndvi_avg_2', F.lag('ndvi_avg', count=2).over(w)) \\\n",
    "        .withColumn('ndvi_avg_3', F.lag('ndvi_avg', count=3).over(w)) \\\n",
    "        .withColumn('ndvi_avg_4', F.lag('ndvi_avg', count=4).over(w))    \n",
    "\n",
    "    print(\"df_train = ({}, {})\".format(df_train.count(), len(df_train.columns)))\n",
    "    return df_train\n",
    "\n",
    "df_train = ndvi_lags(df_train)\n",
    "# we drop the four first rows \n",
    "df_train = df_train.dropna()\n",
    "print(\"df_train = ({}, {})\".format(df_train.count(), len(df_train.columns)))\n",
    "#df_train.show()"
   ]
  },
  {
   "cell_type": "code",
   "execution_count": 7,
   "metadata": {},
   "outputs": [
    {
     "data": {
      "image/png": "[encoded data removed]",
      "text/plain": [
       "<Figure size 864x720 with 2 Axes>"
      ]
     },
     "metadata": {
      "needs_background": "light"
     },
     "output_type": "display_data"
    }
   ],
   "source": [
    "# convert to vector column first\n",
    "vector_col = \"features\"\n",
    "#col_names = ['total_cases',\n",
    "#             'ndvi_ne', 'ndvi_ne_1', 'ndvi_ne_2', 'ndvi_ne_3', 'ndvi_ne_4',\n",
    "#             'ndvi_nw', 'ndvi_nw_1', 'ndvi_nw_2', 'ndvi_nw_3', 'ndvi_nw_4', \n",
    "#             'ndvi_sw', 'ndvi_sw_1', 'ndvi_sw_2', 'ndvi_sw_3', 'ndvi_sw_4',\n",
    "#             'ndvi_se', 'ndvi_se_1', 'ndvi_se_2', 'ndvi_se_3', 'ndvi_se_4'\n",
    "#             ]\n",
    "\n",
    "col_names = ['total_cases',\n",
    "             'ndvi_avg', \n",
    "             'ndvi_avg_1',\n",
    "             'ndvi_avg_2',\n",
    "             'ndvi_avg_3',\n",
    "             'ndvi_avg_4'\n",
    "             ]\n",
    "\n",
    "\n",
    "assembler = VectorAssembler(inputCols=col_names, outputCol=vector_col)\n",
    "\n",
    "# all\n",
    "df = df_train\n",
    "df_vector = assembler.transform(df).select(vector_col)\n",
    "\n",
    "# get correlation matrix\n",
    "matrix = Correlation.corr(df_vector, vector_col)\n",
    "array = matrix.collect()[0][\"pearson({})\".format(vector_col)].values\n",
    "\n",
    "# convert (small) correlation matrix to pandas dataframe for visualization\n",
    "corr_df = pd.DataFrame(\n",
    "    np.reshape(array, (len(col_names), len(col_names))),\n",
    "    index=col_names,\n",
    "    columns=col_names)\n",
    "\n",
    "# make plot\n",
    "fig = plt.figure(figsize=(12, 10))\n",
    "plt.title('Correlation map')\n",
    "\n",
    "ax = sns.heatmap(corr_df, square=True,\n",
    "                 xticklabels=True, yticklabels=True,\n",
    "                 vmin=-1.0, vmax=1.0,\n",
    "                 cbar_kws={\"shrink\": .97})\n",
    "\n",
    "ax.set_xticklabels(ax.get_xticklabels(), rotation=45.0,\n",
    "                   horizontalalignment='right')\n",
    "\n",
    "# to fix bug in sns.heatmap (matplotlib 3.11)\n",
    "bottom, top = ax.get_ylim()\n",
    "ax.set_ylim(bottom + 0.5, top - 0.5)\n",
    "\n",
    "plt.show()"
   ]
  },
  {
   "cell_type": "code",
   "execution_count": null,
   "metadata": {},
   "outputs": [],
   "source": [
    "def ndvi_lags_2(df_train):\n",
    "    # build a window\n",
    "    w = window.Window() \\\n",
    "        .partitionBy('city') \\\n",
    "        .orderBy(F.col('week_start_date'))\n",
    "\n",
    "    print(\"df_train = ({}, {})\".format(df_train.count(), len(df_train.columns)))\n",
    "\n",
    "    # add new columns with different lags\n",
    "    df_train = df_train \\\n",
    "        .withColumn('bucket_ne_1', F.lag('bucket_ne', count=1).over(w)) \\\n",
    "        .withColumn('bucket_ne_2', F.lag('bucket_ne', count=2).over(w)) \\\n",
    "        .withColumn('bucket_ne_3', F.lag('bucket_ne', count=3).over(w)) \\\n",
    "        .withColumn('bucket_ne_4', F.lag('bucket_ne', count=4).over(w)) \\\n",
    "        .withColumn('bucket_nw_1', F.lag('bucket_nw', count=1).over(w)) \\\n",
    "        .withColumn('bucket_nw_2', F.lag('bucket_nw', count=2).over(w)) \\\n",
    "        .withColumn('bucket_nw_3', F.lag('bucket_nw', count=3).over(w)) \\\n",
    "        .withColumn('bucket_nw_4', F.lag('bucket_nw', count=4).over(w)) \\\n",
    "        .withColumn('bucket_sw_1', F.lag('bucket_sw', count=1).over(w)) \\\n",
    "        .withColumn('bucket_sw_2', F.lag('bucket_sw', count=2).over(w)) \\\n",
    "        .withColumn('bucket_sw_3', F.lag('bucket_sw', count=3).over(w)) \\\n",
    "        .withColumn('bucket_sw_4', F.lag('bucket_sw', count=4).over(w)) \\\n",
    "        .withColumn('bucket_se_1', F.lag('bucket_se', count=1).over(w)) \\\n",
    "        .withColumn('bucket_se_2', F.lag('bucket_se', count=2).over(w)) \\\n",
    "        .withColumn('bucket_se_3', F.lag('bucket_se', count=3).over(w)) \\\n",
    "        .withColumn('bucket_se_4', F.lag('bucket_se', count=4).over(w)) \\\n",
    "\n",
    "    print(\"df_train = ({}, {})\".format(df_train.count(), len(df_train.columns)))\n",
    "    return df_train\n",
    "\n",
    "df_train = ndvi_lags_2(df_train)\n",
    "# we drop the four first rows \n",
    "df_train = df_train.dropna()\n",
    "print(\"df_train = ({}, {})\".format(df_train.count(), len(df_train.columns)))\n",
    "#df_train.show()"
   ]
  },
  {
   "cell_type": "markdown",
   "metadata": {},
   "source": [
    "### Construction des jeux d'entrainement et de test"
   ]
  },
  {
   "cell_type": "code",
   "execution_count": 8,
   "metadata": {},
   "outputs": [
    {
     "name": "stdout",
     "output_type": "stream",
     "text": [
      "San Juan data:\n",
      "df_train_sj = (932, 49)\n",
      "\tdate_start = 1990-05-28 / date_stop = 2008-04-22\n",
      "Iquitos data:\n",
      "df_train_iq = (516, 49)\n",
      "\tdate_start = 2000-07-29 / date_stop = 2010-06-25\n"
     ]
    }
   ],
   "source": [
    "# San Juan\n",
    "df_train_sj = df_train.filter(df_train.city == 'sj')\n",
    "min_date_sj, max_date_sj = df_train_sj.select(F.min(\"week_start_date\"),\n",
    "                                              F.max(\"week_start_date\")).first()\n",
    "\n",
    "print(\"San Juan data:\")\n",
    "print(\"df_train_sj = ({}, {})\".format(df_train_sj.count(), len(df_train_sj.columns)))\n",
    "print(\"\\tdate_start = {} / date_stop = {}\".format(min_date_sj, max_date_sj))\n",
    "\n",
    "# Iquitos\n",
    "df_train_iq = df_train.filter(df_train.city == 'iq')\n",
    "min_date_iq, max_date_iq = df_train_iq.select(F.min(\"week_start_date\"),\n",
    "                                              F.max(\"week_start_date\")).first()\n",
    "\n",
    "print(\"Iquitos data:\")\n",
    "print(\"df_train_iq = ({}, {})\".format(df_train_iq.count(), len(df_train_iq.columns)))\n",
    "print(\"\\tdate_start = {} / date_stop = {}\".format(min_date_iq, max_date_iq))"
   ]
  },
  {
   "cell_type": "code",
   "execution_count": 9,
   "metadata": {},
   "outputs": [
    {
     "name": "stdout",
     "output_type": "stream",
     "text": [
      "train_sj = (880, 49)\n",
      "test_sj = (52, 49)\n",
      "train_iq = (464, 49)\n",
      "test_iq = (52, 49)\n"
     ]
    }
   ],
   "source": [
    "# split train and test\n",
    "delta = datetime.timedelta(weeks=52)\n",
    "\n",
    "# San Juan\n",
    "cut_date_sj = max_date_sj - delta\n",
    "\n",
    "train_sj = df_train_sj.filter(df_train_sj.week_start_date <= cut_date_sj)\n",
    "test_sj = df_train_sj.filter(df_train_sj.week_start_date > cut_date_sj)\n",
    "\n",
    "print(\"train_sj = ({}, {})\".format(train_sj.count(), len(train_sj.columns)))\n",
    "print(\"test_sj = ({}, {})\".format(test_sj.count(), len(test_sj.columns)))\n",
    "\n",
    "# Iquitos\n",
    "cut_date_iq = max_date_iq - delta\n",
    "\n",
    "train_iq = df_train_iq.filter(df_train_iq.week_start_date <= cut_date_iq)\n",
    "test_iq = df_train_iq.filter(df_train_iq.week_start_date > cut_date_iq)\n",
    "\n",
    "print(\"train_iq = ({}, {})\".format(train_iq.count(), len(train_iq.columns)))\n",
    "print(\"test_iq = ({}, {})\".format(test_iq.count(), len(test_iq.columns)))"
   ]
  },
  {
   "cell_type": "code",
   "execution_count": 10,
   "metadata": {},
   "outputs": [
    {
     "name": "stdout",
     "output_type": "stream",
     "text": [
      "train = (1344, 49)\n",
      "test = (104, 49)\n"
     ]
    }
   ],
   "source": [
    "# concatanate the 2 sets\n",
    "train = train_sj.union(train_iq)\n",
    "test = test_sj.union(test_iq)\n",
    "\n",
    "print(\"train = ({}, {})\".format(train.count(), len(train.columns)))\n",
    "print(\"test = ({}, {})\".format(test.count(), len(test.columns)))"
   ]
  },
  {
   "cell_type": "markdown",
   "metadata": {},
   "source": [
    "### Affichage des jeux de données"
   ]
  },
  {
   "cell_type": "code",
   "execution_count": null,
   "metadata": {},
   "outputs": [],
   "source": [
    "pd_train_sj = train_sj.toPandas()\n",
    "pd_train_iq = train_iq.toPandas()\n",
    "\n",
    "pd_test_sj = test_sj.toPandas()\n",
    "pd_test_iq = test_iq.toPandas()\n",
    "\n",
    "# Total cases per city\n",
    "plt.figure(figsize=(12, 8))\n",
    "\n",
    "plt.grid()\n",
    "plt.title('Dengue Fever total cases per week')\n",
    "\n",
    "plt.xlabel('year')\n",
    "plt.ylabel('total cases')\n",
    "plt.xticks()\n",
    "plt.yticks()\n",
    "\n",
    "p_sj = plt.plot(pd_train_sj['week_start_date'], pd_train_sj['total_cases'],\n",
    "                label='San Juan: train', linestyle='solid')\n",
    "plt.plot(pd_test_sj['week_start_date'], pd_test_sj['total_cases'], label='San Juan: test',\n",
    "         linestyle='dashed', color=p_sj[0].get_color())\n",
    "\n",
    "p_iq = plt.plot(pd_train_iq['week_start_date'], pd_train_iq['total_cases'],\n",
    "                label='Iquitos: train', linestyle='solid')\n",
    "plt.plot(pd_test_iq['week_start_date'], pd_test_iq['total_cases'], label='Iquitos: test',\n",
    "         linestyle='dashed', color=p_iq[0].get_color())\n",
    "\n",
    "plt.legend()\n",
    "\n",
    "plt.show()"
   ]
  },
  {
   "cell_type": "markdown",
   "metadata": {},
   "source": [
    "### Construction du *pipeline*"
   ]
  },
  {
   "cell_type": "code",
   "execution_count": 11,
   "metadata": {},
   "outputs": [],
   "source": [
    "# OneHotEncoder categorial variables\n",
    "indexer = StringIndexer(inputCol='city', outputCol='city_')\n",
    "encoder = OneHotEncoder(inputCol='city_', outputCol='cityVect')\n",
    "\n",
    "# Build feature vector\n",
    "vectorAssembler = VectorAssembler(\n",
    "    inputCols=['cityVect',\n",
    "               'year', 'weekofyear',\n",
    "#               'bucket_ne', 'bucket_nw', 'bucket_se', 'bucket_sw',\n",
    "#               'ndvi_ne_4', 'ndvi_nw_4', 'ndvi_sw_4', 'ndvi_se_4',\n",
    "               'ndvi_avg', 'ndvi_avg_1', 'ndvi_avg_2', 'ndvi_avg_3', 'ndvi_avg_4',\n",
    "               'reanalysis_precip_amt_kg_per_m2',\n",
    "               'reanalysis_relative_humidity_percent',\n",
    "               'reanalysis_sat_precip_amt_mm',\n",
    "#               'reanalysis_specific_humidity_g_per_kg',\n",
    "               'station_avg_temp_c',\n",
    "               'station_diur_temp_rng_c',\n",
    "               'station_max_temp_c', 'station_min_temp_c', \n",
    "               'station_precip_mm',  \n",
    "               'reanalysis_air_temp_c',\n",
    "               'reanalysis_avg_temp_c',\n",
    "               'reanalysis_dew_point_temp_c',\n",
    "               'reanalysis_max_air_temp_c',\n",
    "#               'reanalysis_min_air_temp_c',\n",
    "               'reanalysis_tdtr_c',\n",
    "               ], \n",
    "    outputCol = 'features')\n",
    "\n",
    "# scaler\n",
    "scaler = StandardScaler(inputCol='features',\n",
    "                        outputCol='scaled_features',\n",
    "                        withStd=True, withMean=True)\n",
    "\n",
    "# linear regression\n",
    "lr = LinearRegression(featuresCol='scaled_features',\n",
    "                      labelCol='total_cases',\n",
    "                      predictionCol='lr_prediction')\n",
    "\n",
    "# Random forest\n",
    "rf = RandomForestRegressor(featuresCol='scaled_features',\n",
    "                           labelCol='total_cases',\n",
    "                           predictionCol='rf_prediction')"
   ]
  },
  {
   "cell_type": "code",
   "execution_count": 12,
   "metadata": {},
   "outputs": [
    {
     "name": "stdout",
     "output_type": "stream",
     "text": [
      "+-----------+------------------+\n",
      "|total_cases|     rf_prediction|\n",
      "+-----------+------------------+\n",
      "|         10|11.954729290599385|\n",
      "|          8|12.035555431043488|\n",
      "|         13|24.256835641778874|\n",
      "|         10|13.034885564976113|\n",
      "|         21|11.558458340162941|\n",
      "|         18|15.555601546649523|\n",
      "|         21|18.445324031186978|\n",
      "|         34| 26.96324203466285|\n",
      "|         25|23.751064348279883|\n",
      "|         34|27.182291025931164|\n",
      "|         33|16.218055729714077|\n",
      "|         40|17.147854214312076|\n",
      "|         42|22.251822457307416|\n",
      "|         36|23.229161200448022|\n",
      "|         72|39.036736403743156|\n",
      "|         75|30.350139749685347|\n",
      "|         76|58.666414512735216|\n",
      "|         92| 37.92091353855627|\n",
      "|         71| 37.90626610918737|\n",
      "|        112| 39.14692631562027|\n",
      "|        106|45.431396658423594|\n",
      "|        101|31.533989957833164|\n",
      "|        170| 50.43808533723457|\n",
      "|        135|35.206242870020716|\n",
      "|        106| 45.91714257124982|\n",
      "|         68| 44.19320868840408|\n",
      "|         48| 39.69625438242167|\n",
      "|         48| 34.69436873000719|\n",
      "|         26|30.403466387229866|\n",
      "|         33|35.734780515560466|\n",
      "|         29|25.599613690783134|\n",
      "|         17| 38.09313418989186|\n",
      "|         12| 38.21643118110214|\n",
      "|         13| 27.36410115012229|\n",
      "|         17| 40.02973583124503|\n",
      "|         15|17.376157104098795|\n",
      "|         14|17.073951221745855|\n",
      "|         15|15.662842704406646|\n",
      "|         10|17.073951221745855|\n",
      "|          9|15.845140966177109|\n",
      "|          2|14.011545589021594|\n",
      "|          6|13.164607492965231|\n",
      "|          8|13.164607492965231|\n",
      "|          5|13.164607492965231|\n",
      "|          1|11.504159548785783|\n",
      "|          2|12.335859910760202|\n",
      "|          3| 8.891407803914205|\n",
      "|          4|10.190323492463786|\n",
      "|          3|10.718933709315902|\n",
      "|          1|12.033654028407259|\n",
      "|          3|10.675411966580752|\n",
      "|          5|16.607967880206026|\n",
      "+-----------+------------------+\n",
      "only showing top 52 rows\n",
      "\n",
      "Random Forest::Before grid search - MAE = 13.221\n"
     ]
    }
   ],
   "source": [
    "pipeline_rf = Pipeline(stages=[indexer, encoder, vectorAssembler, scaler, rf])\n",
    "\n",
    "evaluator_rf = RegressionEvaluator(labelCol='total_cases',\n",
    "                                   predictionCol='rf_prediction',\n",
    "                                   metricName=\"mae\")\n",
    "\n",
    "# build model\n",
    "model_rf = pipeline_rf.fit(train)\n",
    "\n",
    "# Build prediction from 'test' dataset\n",
    "pred_rf = model_rf.transform(test)\n",
    "\n",
    "pred_rf.select(['total_cases','rf_prediction']).show(52)\n",
    "\n",
    "mae = evaluator_rf.evaluate(pred_rf)\n",
    "\n",
    "print(\"Random Forest::Before grid search - MAE = {:.3f}\".format(mae))"
   ]
  },
  {
   "cell_type": "markdown",
   "metadata": {},
   "source": [
    "#### 2.2 Cross-Validation"
   ]
  },
  {
   "cell_type": "code",
   "execution_count": 13,
   "metadata": {},
   "outputs": [
    {
     "ename": "KeyboardInterrupt",
     "evalue": "",
     "output_type": "error",
     "traceback": [
      "\u001b[0;31m---------------------------------------------------------------------------\u001b[0m",
      "\u001b[0;31mKeyboardInterrupt\u001b[0m                         Traceback (most recent call last)",
      "\u001b[0;32m<ipython-input-13-2b7f39b10b6c>\u001b[0m in \u001b[0;36m<module>\u001b[0;34m\u001b[0m\n\u001b[1;32m     23\u001b[0m \u001b[0;34m\u001b[0m\u001b[0m\n\u001b[1;32m     24\u001b[0m         \u001b[0;31m# build model\u001b[0m\u001b[0;34m\u001b[0m\u001b[0;34m\u001b[0m\u001b[0;34m\u001b[0m\u001b[0m\n\u001b[0;32m---> 25\u001b[0;31m         \u001b[0mmodel\u001b[0m \u001b[0;34m=\u001b[0m \u001b[0mpipeline\u001b[0m\u001b[0;34m.\u001b[0m\u001b[0mfit\u001b[0m\u001b[0;34m(\u001b[0m\u001b[0mtrain\u001b[0m\u001b[0;34m)\u001b[0m\u001b[0;34m\u001b[0m\u001b[0;34m\u001b[0m\u001b[0m\n\u001b[0m\u001b[1;32m     26\u001b[0m \u001b[0;34m\u001b[0m\u001b[0m\n\u001b[1;32m     27\u001b[0m         \u001b[0;31m# Build prediction from 'test' dataset\u001b[0m\u001b[0;34m\u001b[0m\u001b[0;34m\u001b[0m\u001b[0;34m\u001b[0m\u001b[0m\n",
      "\u001b[0;32m/mnt/c/spark/spark-2.3.4-bin-hadoop2.7/python/pyspark/ml/base.py\u001b[0m in \u001b[0;36mfit\u001b[0;34m(self, dataset, params)\u001b[0m\n\u001b[1;32m    130\u001b[0m                 \u001b[0;32mreturn\u001b[0m \u001b[0mself\u001b[0m\u001b[0;34m.\u001b[0m\u001b[0mcopy\u001b[0m\u001b[0;34m(\u001b[0m\u001b[0mparams\u001b[0m\u001b[0;34m)\u001b[0m\u001b[0;34m.\u001b[0m\u001b[0m_fit\u001b[0m\u001b[0;34m(\u001b[0m\u001b[0mdataset\u001b[0m\u001b[0;34m)\u001b[0m\u001b[0;34m\u001b[0m\u001b[0;34m\u001b[0m\u001b[0m\n\u001b[1;32m    131\u001b[0m             \u001b[0;32melse\u001b[0m\u001b[0;34m:\u001b[0m\u001b[0;34m\u001b[0m\u001b[0;34m\u001b[0m\u001b[0m\n\u001b[0;32m--> 132\u001b[0;31m                 \u001b[0;32mreturn\u001b[0m \u001b[0mself\u001b[0m\u001b[0;34m.\u001b[0m\u001b[0m_fit\u001b[0m\u001b[0;34m(\u001b[0m\u001b[0mdataset\u001b[0m\u001b[0;34m)\u001b[0m\u001b[0;34m\u001b[0m\u001b[0;34m\u001b[0m\u001b[0m\n\u001b[0m\u001b[1;32m    133\u001b[0m         \u001b[0;32melse\u001b[0m\u001b[0;34m:\u001b[0m\u001b[0;34m\u001b[0m\u001b[0;34m\u001b[0m\u001b[0m\n\u001b[1;32m    134\u001b[0m             raise ValueError(\"Params must be either a param map or a list/tuple of param maps, \"\n",
      "\u001b[0;32m/mnt/c/spark/spark-2.3.4-bin-hadoop2.7/python/pyspark/ml/pipeline.py\u001b[0m in \u001b[0;36m_fit\u001b[0;34m(self, dataset)\u001b[0m\n\u001b[1;32m    107\u001b[0m                     \u001b[0mdataset\u001b[0m \u001b[0;34m=\u001b[0m \u001b[0mstage\u001b[0m\u001b[0;34m.\u001b[0m\u001b[0mtransform\u001b[0m\u001b[0;34m(\u001b[0m\u001b[0mdataset\u001b[0m\u001b[0;34m)\u001b[0m\u001b[0;34m\u001b[0m\u001b[0;34m\u001b[0m\u001b[0m\n\u001b[1;32m    108\u001b[0m                 \u001b[0;32melse\u001b[0m\u001b[0;34m:\u001b[0m  \u001b[0;31m# must be an Estimator\u001b[0m\u001b[0;34m\u001b[0m\u001b[0;34m\u001b[0m\u001b[0m\n\u001b[0;32m--> 109\u001b[0;31m                     \u001b[0mmodel\u001b[0m \u001b[0;34m=\u001b[0m \u001b[0mstage\u001b[0m\u001b[0;34m.\u001b[0m\u001b[0mfit\u001b[0m\u001b[0;34m(\u001b[0m\u001b[0mdataset\u001b[0m\u001b[0;34m)\u001b[0m\u001b[0;34m\u001b[0m\u001b[0;34m\u001b[0m\u001b[0m\n\u001b[0m\u001b[1;32m    110\u001b[0m                     \u001b[0mtransformers\u001b[0m\u001b[0;34m.\u001b[0m\u001b[0mappend\u001b[0m\u001b[0;34m(\u001b[0m\u001b[0mmodel\u001b[0m\u001b[0;34m)\u001b[0m\u001b[0;34m\u001b[0m\u001b[0;34m\u001b[0m\u001b[0m\n\u001b[1;32m    111\u001b[0m                     \u001b[0;32mif\u001b[0m \u001b[0mi\u001b[0m \u001b[0;34m<\u001b[0m \u001b[0mindexOfLastEstimator\u001b[0m\u001b[0;34m:\u001b[0m\u001b[0;34m\u001b[0m\u001b[0;34m\u001b[0m\u001b[0m\n",
      "\u001b[0;32m/mnt/c/spark/spark-2.3.4-bin-hadoop2.7/python/pyspark/ml/base.py\u001b[0m in \u001b[0;36mfit\u001b[0;34m(self, dataset, params)\u001b[0m\n\u001b[1;32m    130\u001b[0m                 \u001b[0;32mreturn\u001b[0m \u001b[0mself\u001b[0m\u001b[0;34m.\u001b[0m\u001b[0mcopy\u001b[0m\u001b[0;34m(\u001b[0m\u001b[0mparams\u001b[0m\u001b[0;34m)\u001b[0m\u001b[0;34m.\u001b[0m\u001b[0m_fit\u001b[0m\u001b[0;34m(\u001b[0m\u001b[0mdataset\u001b[0m\u001b[0;34m)\u001b[0m\u001b[0;34m\u001b[0m\u001b[0;34m\u001b[0m\u001b[0m\n\u001b[1;32m    131\u001b[0m             \u001b[0;32melse\u001b[0m\u001b[0;34m:\u001b[0m\u001b[0;34m\u001b[0m\u001b[0;34m\u001b[0m\u001b[0m\n\u001b[0;32m--> 132\u001b[0;31m                 \u001b[0;32mreturn\u001b[0m \u001b[0mself\u001b[0m\u001b[0;34m.\u001b[0m\u001b[0m_fit\u001b[0m\u001b[0;34m(\u001b[0m\u001b[0mdataset\u001b[0m\u001b[0;34m)\u001b[0m\u001b[0;34m\u001b[0m\u001b[0;34m\u001b[0m\u001b[0m\n\u001b[0m\u001b[1;32m    133\u001b[0m         \u001b[0;32melse\u001b[0m\u001b[0;34m:\u001b[0m\u001b[0;34m\u001b[0m\u001b[0;34m\u001b[0m\u001b[0m\n\u001b[1;32m    134\u001b[0m             raise ValueError(\"Params must be either a param map or a list/tuple of param maps, \"\n",
      "\u001b[0;32m/mnt/c/spark/spark-2.3.4-bin-hadoop2.7/python/pyspark/ml/wrapper.py\u001b[0m in \u001b[0;36m_fit\u001b[0;34m(self, dataset)\u001b[0m\n\u001b[1;32m    286\u001b[0m \u001b[0;34m\u001b[0m\u001b[0m\n\u001b[1;32m    287\u001b[0m     \u001b[0;32mdef\u001b[0m \u001b[0m_fit\u001b[0m\u001b[0;34m(\u001b[0m\u001b[0mself\u001b[0m\u001b[0;34m,\u001b[0m \u001b[0mdataset\u001b[0m\u001b[0;34m)\u001b[0m\u001b[0;34m:\u001b[0m\u001b[0;34m\u001b[0m\u001b[0;34m\u001b[0m\u001b[0m\n\u001b[0;32m--> 288\u001b[0;31m         \u001b[0mjava_model\u001b[0m \u001b[0;34m=\u001b[0m \u001b[0mself\u001b[0m\u001b[0;34m.\u001b[0m\u001b[0m_fit_java\u001b[0m\u001b[0;34m(\u001b[0m\u001b[0mdataset\u001b[0m\u001b[0;34m)\u001b[0m\u001b[0;34m\u001b[0m\u001b[0;34m\u001b[0m\u001b[0m\n\u001b[0m\u001b[1;32m    289\u001b[0m         \u001b[0mmodel\u001b[0m \u001b[0;34m=\u001b[0m \u001b[0mself\u001b[0m\u001b[0;34m.\u001b[0m\u001b[0m_create_model\u001b[0m\u001b[0;34m(\u001b[0m\u001b[0mjava_model\u001b[0m\u001b[0;34m)\u001b[0m\u001b[0;34m\u001b[0m\u001b[0;34m\u001b[0m\u001b[0m\n\u001b[1;32m    290\u001b[0m         \u001b[0;32mreturn\u001b[0m \u001b[0mself\u001b[0m\u001b[0;34m.\u001b[0m\u001b[0m_copyValues\u001b[0m\u001b[0;34m(\u001b[0m\u001b[0mmodel\u001b[0m\u001b[0;34m)\u001b[0m\u001b[0;34m\u001b[0m\u001b[0;34m\u001b[0m\u001b[0m\n",
      "\u001b[0;32m/mnt/c/spark/spark-2.3.4-bin-hadoop2.7/python/pyspark/ml/wrapper.py\u001b[0m in \u001b[0;36m_fit_java\u001b[0;34m(self, dataset)\u001b[0m\n\u001b[1;32m    283\u001b[0m         \"\"\"\n\u001b[1;32m    284\u001b[0m         \u001b[0mself\u001b[0m\u001b[0;34m.\u001b[0m\u001b[0m_transfer_params_to_java\u001b[0m\u001b[0;34m(\u001b[0m\u001b[0;34m)\u001b[0m\u001b[0;34m\u001b[0m\u001b[0;34m\u001b[0m\u001b[0m\n\u001b[0;32m--> 285\u001b[0;31m         \u001b[0;32mreturn\u001b[0m \u001b[0mself\u001b[0m\u001b[0;34m.\u001b[0m\u001b[0m_java_obj\u001b[0m\u001b[0;34m.\u001b[0m\u001b[0mfit\u001b[0m\u001b[0;34m(\u001b[0m\u001b[0mdataset\u001b[0m\u001b[0;34m.\u001b[0m\u001b[0m_jdf\u001b[0m\u001b[0;34m)\u001b[0m\u001b[0;34m\u001b[0m\u001b[0;34m\u001b[0m\u001b[0m\n\u001b[0m\u001b[1;32m    286\u001b[0m \u001b[0;34m\u001b[0m\u001b[0m\n\u001b[1;32m    287\u001b[0m     \u001b[0;32mdef\u001b[0m \u001b[0m_fit\u001b[0m\u001b[0;34m(\u001b[0m\u001b[0mself\u001b[0m\u001b[0;34m,\u001b[0m \u001b[0mdataset\u001b[0m\u001b[0;34m)\u001b[0m\u001b[0;34m:\u001b[0m\u001b[0;34m\u001b[0m\u001b[0;34m\u001b[0m\u001b[0m\n",
      "\u001b[0;32m/mnt/c/spark/spark-2.3.4-bin-hadoop2.7/python/lib/py4j-0.10.7-src.zip/py4j/java_gateway.py\u001b[0m in \u001b[0;36m__call__\u001b[0;34m(self, *args)\u001b[0m\n\u001b[1;32m   1253\u001b[0m             \u001b[0mproto\u001b[0m\u001b[0;34m.\u001b[0m\u001b[0mEND_COMMAND_PART\u001b[0m\u001b[0;34m\u001b[0m\u001b[0;34m\u001b[0m\u001b[0m\n\u001b[1;32m   1254\u001b[0m \u001b[0;34m\u001b[0m\u001b[0m\n\u001b[0;32m-> 1255\u001b[0;31m         \u001b[0manswer\u001b[0m \u001b[0;34m=\u001b[0m \u001b[0mself\u001b[0m\u001b[0;34m.\u001b[0m\u001b[0mgateway_client\u001b[0m\u001b[0;34m.\u001b[0m\u001b[0msend_command\u001b[0m\u001b[0;34m(\u001b[0m\u001b[0mcommand\u001b[0m\u001b[0;34m)\u001b[0m\u001b[0;34m\u001b[0m\u001b[0;34m\u001b[0m\u001b[0m\n\u001b[0m\u001b[1;32m   1256\u001b[0m         return_value = get_return_value(\n\u001b[1;32m   1257\u001b[0m             answer, self.gateway_client, self.target_id, self.name)\n",
      "\u001b[0;32m/mnt/c/spark/spark-2.3.4-bin-hadoop2.7/python/lib/py4j-0.10.7-src.zip/py4j/java_gateway.py\u001b[0m in \u001b[0;36msend_command\u001b[0;34m(self, command, retry, binary)\u001b[0m\n\u001b[1;32m    983\u001b[0m         \u001b[0mconnection\u001b[0m \u001b[0;34m=\u001b[0m \u001b[0mself\u001b[0m\u001b[0;34m.\u001b[0m\u001b[0m_get_connection\u001b[0m\u001b[0;34m(\u001b[0m\u001b[0;34m)\u001b[0m\u001b[0;34m\u001b[0m\u001b[0;34m\u001b[0m\u001b[0m\n\u001b[1;32m    984\u001b[0m         \u001b[0;32mtry\u001b[0m\u001b[0;34m:\u001b[0m\u001b[0;34m\u001b[0m\u001b[0;34m\u001b[0m\u001b[0m\n\u001b[0;32m--> 985\u001b[0;31m             \u001b[0mresponse\u001b[0m \u001b[0;34m=\u001b[0m \u001b[0mconnection\u001b[0m\u001b[0;34m.\u001b[0m\u001b[0msend_command\u001b[0m\u001b[0;34m(\u001b[0m\u001b[0mcommand\u001b[0m\u001b[0;34m)\u001b[0m\u001b[0;34m\u001b[0m\u001b[0;34m\u001b[0m\u001b[0m\n\u001b[0m\u001b[1;32m    986\u001b[0m             \u001b[0;32mif\u001b[0m \u001b[0mbinary\u001b[0m\u001b[0;34m:\u001b[0m\u001b[0;34m\u001b[0m\u001b[0;34m\u001b[0m\u001b[0m\n\u001b[1;32m    987\u001b[0m                 \u001b[0;32mreturn\u001b[0m \u001b[0mresponse\u001b[0m\u001b[0;34m,\u001b[0m \u001b[0mself\u001b[0m\u001b[0;34m.\u001b[0m\u001b[0m_create_connection_guard\u001b[0m\u001b[0;34m(\u001b[0m\u001b[0mconnection\u001b[0m\u001b[0;34m)\u001b[0m\u001b[0;34m\u001b[0m\u001b[0;34m\u001b[0m\u001b[0m\n",
      "\u001b[0;32m/mnt/c/spark/spark-2.3.4-bin-hadoop2.7/python/lib/py4j-0.10.7-src.zip/py4j/java_gateway.py\u001b[0m in \u001b[0;36msend_command\u001b[0;34m(self, command)\u001b[0m\n\u001b[1;32m   1150\u001b[0m \u001b[0;34m\u001b[0m\u001b[0m\n\u001b[1;32m   1151\u001b[0m         \u001b[0;32mtry\u001b[0m\u001b[0;34m:\u001b[0m\u001b[0;34m\u001b[0m\u001b[0;34m\u001b[0m\u001b[0m\n\u001b[0;32m-> 1152\u001b[0;31m             \u001b[0manswer\u001b[0m \u001b[0;34m=\u001b[0m \u001b[0msmart_decode\u001b[0m\u001b[0;34m(\u001b[0m\u001b[0mself\u001b[0m\u001b[0;34m.\u001b[0m\u001b[0mstream\u001b[0m\u001b[0;34m.\u001b[0m\u001b[0mreadline\u001b[0m\u001b[0;34m(\u001b[0m\u001b[0;34m)\u001b[0m\u001b[0;34m[\u001b[0m\u001b[0;34m:\u001b[0m\u001b[0;34m-\u001b[0m\u001b[0;36m1\u001b[0m\u001b[0;34m]\u001b[0m\u001b[0;34m)\u001b[0m\u001b[0;34m\u001b[0m\u001b[0;34m\u001b[0m\u001b[0m\n\u001b[0m\u001b[1;32m   1153\u001b[0m             \u001b[0mlogger\u001b[0m\u001b[0;34m.\u001b[0m\u001b[0mdebug\u001b[0m\u001b[0;34m(\u001b[0m\u001b[0;34m\"Answer received: {0}\"\u001b[0m\u001b[0;34m.\u001b[0m\u001b[0mformat\u001b[0m\u001b[0;34m(\u001b[0m\u001b[0manswer\u001b[0m\u001b[0;34m)\u001b[0m\u001b[0;34m)\u001b[0m\u001b[0;34m\u001b[0m\u001b[0;34m\u001b[0m\u001b[0m\n\u001b[1;32m   1154\u001b[0m             \u001b[0;32mif\u001b[0m \u001b[0manswer\u001b[0m\u001b[0;34m.\u001b[0m\u001b[0mstartswith\u001b[0m\u001b[0;34m(\u001b[0m\u001b[0mproto\u001b[0m\u001b[0;34m.\u001b[0m\u001b[0mRETURN_MESSAGE\u001b[0m\u001b[0;34m)\u001b[0m\u001b[0;34m:\u001b[0m\u001b[0;34m\u001b[0m\u001b[0;34m\u001b[0m\u001b[0m\n",
      "\u001b[0;32m~/anaconda3/lib/python3.7/socket.py\u001b[0m in \u001b[0;36mreadinto\u001b[0;34m(self, b)\u001b[0m\n\u001b[1;32m    587\u001b[0m         \u001b[0;32mwhile\u001b[0m \u001b[0;32mTrue\u001b[0m\u001b[0;34m:\u001b[0m\u001b[0;34m\u001b[0m\u001b[0;34m\u001b[0m\u001b[0m\n\u001b[1;32m    588\u001b[0m             \u001b[0;32mtry\u001b[0m\u001b[0;34m:\u001b[0m\u001b[0;34m\u001b[0m\u001b[0;34m\u001b[0m\u001b[0m\n\u001b[0;32m--> 589\u001b[0;31m                 \u001b[0;32mreturn\u001b[0m \u001b[0mself\u001b[0m\u001b[0;34m.\u001b[0m\u001b[0m_sock\u001b[0m\u001b[0;34m.\u001b[0m\u001b[0mrecv_into\u001b[0m\u001b[0;34m(\u001b[0m\u001b[0mb\u001b[0m\u001b[0;34m)\u001b[0m\u001b[0;34m\u001b[0m\u001b[0;34m\u001b[0m\u001b[0m\n\u001b[0m\u001b[1;32m    590\u001b[0m             \u001b[0;32mexcept\u001b[0m \u001b[0mtimeout\u001b[0m\u001b[0;34m:\u001b[0m\u001b[0;34m\u001b[0m\u001b[0;34m\u001b[0m\u001b[0m\n\u001b[1;32m    591\u001b[0m                 \u001b[0mself\u001b[0m\u001b[0;34m.\u001b[0m\u001b[0m_timeout_occurred\u001b[0m \u001b[0;34m=\u001b[0m \u001b[0;32mTrue\u001b[0m\u001b[0;34m\u001b[0m\u001b[0;34m\u001b[0m\u001b[0m\n",
      "\u001b[0;31mKeyboardInterrupt\u001b[0m: "
     ]
    }
   ],
   "source": [
    "#numTrees = [15, 20, 25, 30, 40, 50, 60]\n",
    "numTrees = [30, 35, 40, 45, 50, 55]\n",
    "#maxDepths = [2, 4, 5, 7, 10, 15, 20]\n",
    "maxDepths = [3, 4, 5, 6, 7, 8]\n",
    "\n",
    "evaluator_rf = RegressionEvaluator(labelCol='total_cases',\n",
    "                                   predictionCol='rf_prediction',\n",
    "                                   metricName=\"mae\")\n",
    "\n",
    "rf_bestModel = model_rf\n",
    "best_mae = mae\n",
    "\n",
    "for nTree in numTrees:\n",
    "    for depth in maxDepths:\n",
    "\n",
    "        rf = RandomForestRegressor(featuresCol='scaled_features',\n",
    "                                   labelCol='total_cases',\n",
    "                                   predictionCol='rf_prediction',\n",
    "                                   numTrees=nTree,\n",
    "                                   maxDepth=depth)\n",
    "\n",
    "        pipeline = Pipeline(stages=[indexer, encoder, vectorAssembler, scaler, rf])\n",
    "\n",
    "        # build model\n",
    "        model = pipeline.fit(train)\n",
    "\n",
    "        # Build prediction from 'test' dataset\n",
    "        pred = model.transform(test)\n",
    "\n",
    "        mae = evaluator_rf.evaluate(pred)\n",
    "        if mae < best_mae:\n",
    "            best_mae = mae\n",
    "            rf_bestModel = model\n",
    "\n",
    "pred_rf = rf_bestModel.transform(test)\n",
    "\n",
    "mae = evaluator_rf.evaluate(pred_rf)\n",
    "\n",
    "numTree = rf_bestModel.stages[-1].getNumTrees\n",
    "maxDepth = rf_bestModel.stages[-1]._java_obj.getMaxDepth()\n",
    "\n",
    "print(\"Best model (numTree={}, MaxDepth={}) => MAE = {:.3f}\".format(numTree, maxDepth, mae))"
   ]
  },
  {
   "cell_type": "code",
   "execution_count": null,
   "metadata": {},
   "outputs": [],
   "source": [
    "cv_model_rf.bestModel.stages[-1].getNumTrees"
   ]
  },
  {
   "cell_type": "markdown",
   "metadata": {},
   "source": [
    "#### plot"
   ]
  },
  {
   "cell_type": "code",
   "execution_count": null,
   "metadata": {},
   "outputs": [],
   "source": [
    "# create pandas dataframe from spark dataframe\n",
    "pd_pred_rf = cv_pred_rf.toPandas()\n",
    "\n",
    "pd_pred_rf_sj = pd_pred_rf[pd_pred_rf['city'] == 'sj']\n",
    "pd_pred_rf_iq = pd_pred_rf[pd_pred_rf['city'] == 'iq']"
   ]
  },
  {
   "cell_type": "code",
   "execution_count": null,
   "metadata": {
    "scrolled": true
   },
   "outputs": [],
   "source": [
    "# Total cases per city\n",
    "plt.figure(figsize=(12, 8))\n",
    "plt.grid()\n",
    "plt.title('Random Forest: Prediction Dengue Fever total cases per week')\n",
    "\n",
    "plt.xlabel('year')\n",
    "plt.ylabel('total cases')\n",
    "plt.xticks()\n",
    "plt.yticks()\n",
    "\n",
    "plt.plot(pd_train_sj['week_start_date'], pd_train_sj['total_cases'], label='San Juan')\n",
    "plt.plot(pd_train_iq['week_start_date'], pd_train_iq['total_cases'], label='Iquitos')\n",
    "\n",
    "plt.plot(pd_pred_rf_sj['week_start_date'], pd_pred_rf_sj['total_cases'], label='Target: San Juan')\n",
    "plt.plot(pd_pred_rf_iq['week_start_date'], pd_pred_rf_iq['total_cases'], label='Target: Iquitos')\n",
    "\n",
    "plt.plot(pd_pred_rf_sj['week_start_date'], pd_pred_rf_sj['rf_prediction'], label='Pred: San Juan')\n",
    "plt.plot(pd_pred_rf_iq['week_start_date'], pd_pred_rf_iq['rf_prediction'], label='Pred: Iquitos')\n",
    "\n",
    "plt.legend()\n",
    "\n",
    "plt.show()"
   ]
  },
  {
   "cell_type": "code",
   "execution_count": null,
   "metadata": {},
   "outputs": [],
   "source": [
    "# zoom\n",
    "\n",
    "# Total cases per city\n",
    "plt.figure(figsize=(15, 6))\n",
    "\n",
    "# San Juan\n",
    "ax1 = plt.subplot(2, 2, 1)\n",
    "plt.grid()\n",
    "\n",
    "plt.title('San Juan: Dengue Fever total cases per week')\n",
    "plt.xlabel('year')\n",
    "plt.ylabel('total cases')\n",
    "\n",
    "plt.plot(pd_pred_rf_sj['week_start_date'], pd_pred_rf_sj['total_cases'],\n",
    "         label='Target')\n",
    "plt.plot(pd_pred_rf_sj['week_start_date'], pd_pred_rf_sj['rf_prediction'],\n",
    "         label='Predictions')\n",
    "\n",
    "plt.legend()\n",
    "\n",
    "# Iquitos\n",
    "ax2 = plt.subplot(2, 2, 2)\n",
    "plt.grid()\n",
    "\n",
    "plt.title('Iquitos: Dengue Fever total cases per week')\n",
    "plt.xlabel('year')\n",
    "plt.ylabel('total cases')\n",
    "\n",
    "plt.plot(pd_pred_rf_iq['week_start_date'], pd_pred_rf_iq['total_cases'],\n",
    "         label='Target')\n",
    "plt.plot(pd_pred_rf_iq['week_start_date'], pd_pred_rf_iq['rf_prediction'],\n",
    "         label='Predictions')\n",
    "\n",
    "plt.legend()\n",
    "\n",
    "plt.show()"
   ]
  },
  {
   "cell_type": "markdown",
   "metadata": {},
   "source": [
    "## plot LR"
   ]
  },
  {
   "cell_type": "markdown",
   "metadata": {},
   "source": [
    "### try on test bench"
   ]
  },
  {
   "cell_type": "code",
   "execution_count": null,
   "metadata": {},
   "outputs": [],
   "source": [
    "df_bench = spark.read.parquet(\"data/preprocessed_bench\")\n",
    "\n",
    "print(\"df_bench = ({}, {})\".format(df_bench.count(), len(df_bench.columns)))"
   ]
  },
  {
   "cell_type": "code",
   "execution_count": null,
   "metadata": {},
   "outputs": [],
   "source": [
    "# simple RF\n",
    "bench_simple_rf = cv_model_rf.transform(df_bench)"
   ]
  },
  {
   "cell_type": "code",
   "execution_count": null,
   "metadata": {},
   "outputs": [],
   "source": [
    "df_submission = spark.read.csv('data/submission_format.csv',header=True)\n",
    "df_submission.show(10)"
   ]
  },
  {
   "cell_type": "code",
   "execution_count": null,
   "metadata": {},
   "outputs": [],
   "source": [
    "df_temp = bench_simple_rf['city', 'year', 'weekofyear','rf_prediction']\n",
    "df_temp = df_temp.withColumn(\"total_cases\", df_temp[\"rf_prediction\"].cast('int'))\n",
    "df_temp = df_temp.drop('rf_prediction')"
   ]
  },
  {
   "cell_type": "code",
   "execution_count": null,
   "metadata": {},
   "outputs": [],
   "source": [
    "df_temp.show(10)"
   ]
  },
  {
   "cell_type": "code",
   "execution_count": null,
   "metadata": {},
   "outputs": [],
   "source": [
    "df_temp_pandas = df_temp.select('city','year','weekofyear','total_cases').toPandas()\n",
    "df_temp_pandas_sj = df_temp_pandas[df_temp_pandas['city'] == 'sj']\n",
    "df_temp_pandas_iq = df_temp_pandas[df_temp_pandas['city'] == 'iq']\n",
    "df_temp_pandas = pd.concat([df_temp_pandas_sj,df_temp_pandas_iq], axis=0)"
   ]
  },
  {
   "cell_type": "code",
   "execution_count": null,
   "metadata": {},
   "outputs": [],
   "source": [
    "df_temp_pandas.to_csv('data/test_cv_rf.csv',index=False)"
   ]
  },
  {
   "cell_type": "code",
   "execution_count": null,
   "metadata": {},
   "outputs": [],
   "source": []
  }
 ],
 "metadata": {
  "kernelspec": {
   "display_name": "Python 3",
   "language": "python",
   "name": "python3"
  },
  "language_info": {
   "codemirror_mode": {
    "name": "ipython",
    "version": 3
   },
   "file_extension": ".py",
   "mimetype": "text/x-python",
   "name": "python",
   "nbconvert_exporter": "python",
   "pygments_lexer": "ipython3",
   "version": "3.7.4"
  }
 },
 "nbformat": 4,
 "nbformat_minor": 2
}
