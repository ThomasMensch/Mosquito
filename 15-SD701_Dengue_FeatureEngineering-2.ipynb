{
 "cells": [
  {
   "cell_type": "markdown",
   "metadata": {},
   "source": [
    "## Feature engineering"
   ]
  },
  {
   "cell_type": "code",
   "execution_count": 26,
   "metadata": {},
   "outputs": [],
   "source": [
    "# Load pyspark\n",
    "import findspark\n",
    "\n",
    "findspark.init()\n",
    "\n",
    "#import pyspark\n",
    "from pyspark import SparkContext\n",
    "from pyspark.sql import SparkSession, functions as F, window\n",
    "\n",
    "from pyspark.ml.stat import Correlation\n",
    "from pyspark.ml.feature import VectorAssembler, StringIndexer, OneHotEncoder, StandardScaler, Bucketizer\n",
    "from pyspark.ml.regression import LinearRegression, RandomForestRegressor\n",
    "from pyspark.ml.evaluation import RegressionEvaluator\n",
    "from pyspark.ml.tuning import CrossValidator, ParamGridBuilder\n",
    "from pyspark.ml import Pipeline\n",
    "\n",
    "import datetime\n",
    "import sys\n",
    "import numpy as np\n",
    "import matplotlib.pyplot as plt\n",
    "\n",
    "import seaborn as sns\n",
    "\n",
    "import pandas as pd\n",
    "from pandas.plotting import register_matplotlib_converters\n",
    "register_matplotlib_converters()\n",
    "\n",
    "spark = SparkSession.builder.appName(\"dengue\").getOrCreate()"
   ]
  },
  {
   "cell_type": "markdown",
   "metadata": {},
   "source": [
    "### Chargement des données pré-traitées"
   ]
  },
  {
   "cell_type": "code",
   "execution_count": 3,
   "metadata": {},
   "outputs": [
    {
     "name": "stdout",
     "output_type": "stream",
     "text": [
      "df_train = (1456, 29)\n",
      "root\n",
      " |-- city: string (nullable = true)\n",
      " |-- year: integer (nullable = true)\n",
      " |-- weekofyear: integer (nullable = true)\n",
      " |-- week_start_date: date (nullable = true)\n",
      " |-- ndvi_ne: float (nullable = true)\n",
      " |-- ndvi_nw: float (nullable = true)\n",
      " |-- ndvi_se: float (nullable = true)\n",
      " |-- ndvi_sw: float (nullable = true)\n",
      " |-- reanalysis_precip_amt_kg_per_m2: float (nullable = true)\n",
      " |-- reanalysis_relative_humidity_percent: float (nullable = true)\n",
      " |-- reanalysis_sat_precip_amt_mm: float (nullable = true)\n",
      " |-- reanalysis_specific_humidity_g_per_kg: float (nullable = true)\n",
      " |-- station_avg_temp_c: float (nullable = true)\n",
      " |-- station_diur_temp_rng_c: float (nullable = true)\n",
      " |-- station_max_temp_c: float (nullable = true)\n",
      " |-- station_min_temp_c: float (nullable = true)\n",
      " |-- station_precip_mm: float (nullable = true)\n",
      " |-- total_cases: integer (nullable = true)\n",
      " |-- reanalysis_air_temp_c: double (nullable = true)\n",
      " |-- reanalysis_avg_temp_c: double (nullable = true)\n",
      " |-- reanalysis_dew_point_temp_c: double (nullable = true)\n",
      " |-- reanalysis_max_air_temp_c: double (nullable = true)\n",
      " |-- reanalysis_min_air_temp_c: double (nullable = true)\n",
      " |-- reanalysis_tdtr_c: double (nullable = true)\n",
      " |-- bucket_ne: double (nullable = true)\n",
      " |-- bucket_nw: double (nullable = true)\n",
      " |-- bucket_sw: double (nullable = true)\n",
      " |-- bucket_se: double (nullable = true)\n",
      " |-- ndvi_avg: double (nullable = true)\n",
      "\n"
     ]
    }
   ],
   "source": [
    "df_train = spark.read.parquet(\"data/02-featureEngineering\")\n",
    "\n",
    "print(\"df_train = ({}, {})\".format(df_train.count(), len(df_train.columns)))\n",
    "\n",
    "df_train.printSchema()"
   ]
  },
  {
   "cell_type": "code",
   "execution_count": 4,
   "metadata": {},
   "outputs": [],
   "source": [
    "# San Juan (sj)\n",
    "df_train_sj = df_train.filter(df_train.city == 'sj')\n",
    "\n",
    "# Iquitos (iq)\n",
    "df_train_iq = df_train.filter(df_train.city == 'iq')"
   ]
  },
  {
   "cell_type": "markdown",
   "metadata": {},
   "source": [
    "### Décalage"
   ]
  },
  {
   "cell_type": "code",
   "execution_count": 22,
   "metadata": {},
   "outputs": [
    {
     "name": "stdout",
     "output_type": "stream",
     "text": [
      "df_train_sj = (936, 29)\n",
      "df_train_iq = (520, 29)\n",
      "Applied shift is: 0\n",
      "df_train_sj = (936, 29)\n",
      "df_train_iq = (520, 29)\n"
     ]
    }
   ],
   "source": [
    "def shift_data(df, shift=0):\n",
    "    # build a window\n",
    "    w = window.Window() \\\n",
    "        .partitionBy('city') \\\n",
    "        .orderBy(F.col('week_start_date'))\n",
    "\n",
    "    # add new columns with different lags\n",
    "    df = df \\\n",
    "        .withColumn('ndvi_avg',\n",
    "                    F.lag('ndvi_avg', count=shift).over(w)) \\\n",
    "        .withColumn('reanalysis_precip_amt_kg_per_m2',\n",
    "                    F.lag('reanalysis_precip_amt_kg_per_m2', count=shift).over(w)) \\\n",
    "        .withColumn('reanalysis_sat_precip_amt_mm',\n",
    "                    F.lag('reanalysis_sat_precip_amt_mm', count=shift).over(w)) \\\n",
    "        .withColumn('reanalysis_specific_humidity_g_per_kg',\n",
    "                    F.lag('reanalysis_specific_humidity_g_per_kg', count=shift).over(w)) \\\n",
    "        .withColumn('station_avg_temp_c',\n",
    "                    F.lag('station_avg_temp_c', count=shift).over(w)) \\\n",
    "        .withColumn('station_diur_temp_rng_c',\n",
    "                    F.lag('station_diur_temp_rng_c', count=shift).over(w)) \\\n",
    "        .withColumn('station_max_temp_c',\n",
    "                    F.lag('station_max_temp_c', count=shift).over(w)) \\\n",
    "        .withColumn('station_min_temp_c',\n",
    "                    F.lag('station_min_temp_c', count=shift).over(w)) \\\n",
    "        .withColumn('station_precip_mm',\n",
    "                    F.lag('station_precip_mm', count=shift).over(w)) \\\n",
    "        .withColumn('reanalysis_air_temp_c',\n",
    "                    F.lag('reanalysis_air_temp_c', count=shift).over(w)) \\\n",
    "        .withColumn('reanalysis_avg_temp_c',\n",
    "                    F.lag('reanalysis_avg_temp_c', count=shift).over(w)) \\\n",
    "        .withColumn('reanalysis_dew_point_temp_c',\n",
    "                    F.lag('reanalysis_dew_point_temp_c', count=shift).over(w)) \\\n",
    "        .withColumn('reanalysis_max_air_temp_c',\n",
    "                    F.lag('reanalysis_max_air_temp_c', count=shift).over(w))\n",
    "\n",
    "    #df = df.dropna()\n",
    "    \n",
    "    return df\n",
    "\n",
    "v_shift = 0\n",
    "\n",
    "print(\"df_train_sj = ({}, {})\".format(df_train_sj.count(), len(df_train_sj.columns)))\n",
    "print(\"df_train_iq = ({}, {})\".format(df_train_iq.count(), len(df_train_iq.columns)))\n",
    "\n",
    "df_train_sj = shift_data(df_train_sj, shift=v_shift)\n",
    "df_train_iq = shift_data(df_train_iq, shift=v_shift)\n",
    "df_train_sj = df_train_sj.dropna()\n",
    "df_train_iq = df_train_iq.dropna()\n",
    "\n",
    "print(\"Applied shift is: {}\".format(v_shift))\n",
    "print(\"df_train_sj = ({}, {})\".format(df_train_sj.count(), len(df_train_sj.columns)))\n",
    "print(\"df_train_iq = ({}, {})\".format(df_train_iq.count(), len(df_train_iq.columns)))"
   ]
  },
  {
   "cell_type": "markdown",
   "metadata": {},
   "source": [
    "### Construction des jeux d'entrainement et de test"
   ]
  },
  {
   "cell_type": "code",
   "execution_count": 6,
   "metadata": {},
   "outputs": [
    {
     "name": "stdout",
     "output_type": "stream",
     "text": [
      "train_sj = (843, 29)\n",
      "test_sj = (93, 29)\n",
      "train_iq = (468, 29)\n",
      "test_iq = (52, 29)\n"
     ]
    }
   ],
   "source": [
    "# split train (90%) and test (10%)\n",
    "\n",
    "# San Juan (sj)\n",
    "min_date_sj, max_date_sj = df_train_sj.select(F.min(\"week_start_date\"),\n",
    "                                              F.max(\"week_start_date\")).first()\n",
    "\n",
    "testsize_sj = int(0.1 * df_train_sj.count())\n",
    "delta_sj = datetime.timedelta(weeks=testsize_sj)\n",
    "cut_date_sj = max_date_sj - delta_sj\n",
    "\n",
    "train_sj = df_train_sj.filter(df_train_sj.week_start_date <= cut_date_sj)\n",
    "test_sj = df_train_sj.filter(df_train_sj.week_start_date > cut_date_sj)\n",
    "\n",
    "print(\"train_sj = ({}, {})\".format(train_sj.count(), len(train_sj.columns)))\n",
    "print(\"test_sj = ({}, {})\".format(test_sj.count(), len(test_sj.columns)))\n",
    "\n",
    "# Iquitos (iq)\n",
    "min_date_iq, max_date_iq = df_train_iq.select(F.min(\"week_start_date\"),\n",
    "                                              F.max(\"week_start_date\")).first()\n",
    "\n",
    "testsize_iq = int(0.1 * df_train_iq.count())\n",
    "delta_iq = datetime.timedelta(weeks=testsize_iq)\n",
    "cut_date_iq = max_date_iq - delta_iq\n",
    "\n",
    "train_iq = df_train_iq.filter(df_train_iq.week_start_date <= cut_date_iq)\n",
    "test_iq = df_train_iq.filter(df_train_iq.week_start_date > cut_date_iq)\n",
    "\n",
    "print(\"train_iq = ({}, {})\".format(train_iq.count(), len(train_iq.columns)))\n",
    "print(\"test_iq = ({}, {})\".format(test_iq.count(), len(test_iq.columns)))"
   ]
  },
  {
   "cell_type": "code",
   "execution_count": 7,
   "metadata": {},
   "outputs": [
    {
     "name": "stdout",
     "output_type": "stream",
     "text": [
      "train = (1311, 29)\n",
      "test = (145, 29)\n"
     ]
    }
   ],
   "source": [
    "# concatenate the 2 sets\n",
    "train = train_sj.union(train_iq)\n",
    "test = test_sj.union(test_iq)\n",
    "\n",
    "print(\"train = ({}, {})\".format(train.count(), len(train.columns)))\n",
    "print(\"test = ({}, {})\".format(test.count(), len(test.columns)))"
   ]
  },
  {
   "cell_type": "markdown",
   "metadata": {},
   "source": [
    "### Construction du *pipeline*"
   ]
  },
  {
   "cell_type": "code",
   "execution_count": 8,
   "metadata": {},
   "outputs": [],
   "source": [
    "# OneHotEncoder categorial variables\n",
    "indexer = StringIndexer(inputCol='city', outputCol='city_')\n",
    "encoder = OneHotEncoder(inputCol='city_', outputCol='cityVect')\n",
    "\n",
    "# Build feature vector\n",
    "vectorAssembler = VectorAssembler(\n",
    "    inputCols=['cityVect',\n",
    "               'year', 'weekofyear',\n",
    "##               'bucket_ne', 'bucket_nw', 'bucket_se', 'bucket_sw',\n",
    "               'ndvi_avg',\n",
    "               'reanalysis_precip_amt_kg_per_m2',\n",
    "##               'reanalysis_relative_humidity_percent',\n",
    "               'reanalysis_sat_precip_amt_mm',\n",
    "               'reanalysis_specific_humidity_g_per_kg',\n",
    "               'station_avg_temp_c',\n",
    "               'station_diur_temp_rng_c',\n",
    "               'station_max_temp_c', 'station_min_temp_c', \n",
    "               'station_precip_mm',  \n",
    "               'reanalysis_air_temp_c',\n",
    "               'reanalysis_avg_temp_c',\n",
    "               'reanalysis_dew_point_temp_c',\n",
    "               'reanalysis_max_air_temp_c',\n",
    "##               'reanalysis_min_air_temp_c',\n",
    "##               'reanalysis_tdtr_c',\n",
    "               ], \n",
    "    outputCol = 'features')\n",
    "\n",
    "# scaler\n",
    "scaler = StandardScaler(inputCol='features',\n",
    "                        outputCol='scaled_features',\n",
    "                        withStd=True, withMean=True)\n",
    "\n",
    "# Random forest\n",
    "rf = RandomForestRegressor(featuresCol='scaled_features',\n",
    "                           labelCol='total_cases',\n",
    "                           predictionCol='rf_prediction')"
   ]
  },
  {
   "cell_type": "markdown",
   "metadata": {},
   "source": [
    "### Modèle *Random Forest* (forêt aléatoire)\n",
    "\n",
    "#### Paramètres par défaut"
   ]
  },
  {
   "cell_type": "code",
   "execution_count": 9,
   "metadata": {},
   "outputs": [
    {
     "name": "stdout",
     "output_type": "stream",
     "text": [
      "Random Forest::Before grid search - MAE = 13.163\n"
     ]
    }
   ],
   "source": [
    "pipeline_rf = Pipeline(stages=[indexer, encoder, vectorAssembler, scaler, rf])\n",
    "\n",
    "evaluator_rf = RegressionEvaluator(labelCol='total_cases',\n",
    "                                   predictionCol='rf_prediction',\n",
    "                                   metricName=\"mae\")\n",
    "\n",
    "# build model\n",
    "model_rf = pipeline_rf.fit(train)\n",
    "\n",
    "# Build prediction from 'test' dataset\n",
    "pred_rf = model_rf.transform(test)\n",
    "\n",
    "#pred_rf.select(['total_cases','rf_prediction']).show(52)\n",
    "\n",
    "mae = evaluator_rf.evaluate(pred_rf)\n",
    "\n",
    "print(\"Random Forest::Before grid search - MAE = {:.3f}\".format(mae))"
   ]
  },
  {
   "cell_type": "markdown",
   "metadata": {},
   "source": [
    "#### Ajustement des hyper-paramètres (*grid search*)"
   ]
  },
  {
   "cell_type": "code",
   "execution_count": 10,
   "metadata": {},
   "outputs": [
    {
     "name": "stdout",
     "output_type": "stream",
     "text": [
      "numTree=30, maxDepth=3\n",
      "numTree=30, maxDepth=4\n",
      "numTree=30, maxDepth=5\n",
      "numTree=30, maxDepth=6\n",
      "numTree=30, maxDepth=7\n",
      "numTree=30, maxDepth=8\n",
      "numTree=35, maxDepth=3\n",
      "numTree=35, maxDepth=4\n",
      "numTree=35, maxDepth=5\n",
      "numTree=35, maxDepth=6\n",
      "numTree=35, maxDepth=7\n",
      "numTree=35, maxDepth=8\n",
      "numTree=40, maxDepth=3\n",
      "numTree=40, maxDepth=4\n",
      "numTree=40, maxDepth=5\n",
      "numTree=40, maxDepth=6\n",
      "numTree=40, maxDepth=7\n",
      "numTree=40, maxDepth=8\n",
      "numTree=45, maxDepth=3\n",
      "numTree=45, maxDepth=4\n",
      "numTree=45, maxDepth=5\n",
      "numTree=45, maxDepth=6\n",
      "numTree=45, maxDepth=7\n",
      "numTree=45, maxDepth=8\n",
      "numTree=50, maxDepth=3\n",
      "numTree=50, maxDepth=4\n",
      "numTree=50, maxDepth=5\n",
      "numTree=50, maxDepth=6\n",
      "numTree=50, maxDepth=7\n",
      "numTree=50, maxDepth=8\n",
      "numTree=55, maxDepth=3\n",
      "numTree=55, maxDepth=4\n",
      "numTree=55, maxDepth=5\n",
      "numTree=55, maxDepth=6\n",
      "numTree=55, maxDepth=7\n",
      "numTree=55, maxDepth=8\n",
      "Best model (numTree=40, MaxDepth=3) => MAE = 12.958\n"
     ]
    }
   ],
   "source": [
    "#numTrees = [15, 20, 25, 30, 40, 50, 60]\n",
    "numTrees = [30, 35, 40, 45, 50, 55]\n",
    "#maxDepths = [2, 4, 5, 7, 10, 15, 20]\n",
    "maxDepths = [3, 4, 5, 6, 7, 8]\n",
    "\n",
    "evaluator_rf = RegressionEvaluator(labelCol='total_cases',\n",
    "                                   predictionCol='rf_prediction',\n",
    "                                   metricName=\"mae\")\n",
    "\n",
    "rf_bestModel = model_rf\n",
    "best_mae = mae\n",
    "\n",
    "for nTree in numTrees:\n",
    "    for depth in maxDepths:\n",
    "\n",
    "        print(\"numTree={}, maxDepth={}\".format(nTree, depth))\n",
    "        rf = RandomForestRegressor(featuresCol='scaled_features',\n",
    "                                   labelCol='total_cases',\n",
    "                                   predictionCol='rf_prediction',\n",
    "                                   numTrees=nTree,\n",
    "                                   maxDepth=depth)\n",
    "\n",
    "        pipeline = Pipeline(stages=[indexer, encoder, vectorAssembler, scaler, rf])\n",
    "\n",
    "        # build model\n",
    "        model = pipeline.fit(train)\n",
    "\n",
    "        # Build prediction from 'test' dataset\n",
    "        pred = model.transform(test)\n",
    "\n",
    "        mae = evaluator_rf.evaluate(pred)\n",
    "        if mae < best_mae:\n",
    "            best_mae = mae\n",
    "            rf_bestModel = model\n",
    "\n",
    "pred_rf = rf_bestModel.transform(test)\n",
    "\n",
    "mae = evaluator_rf.evaluate(pred_rf)\n",
    "\n",
    "numTree = rf_bestModel.stages[-1].getNumTrees\n",
    "maxDepth = rf_bestModel.stages[-1]._java_obj.getMaxDepth()\n",
    "\n",
    "print(\"Best model (numTree={}, MaxDepth={}) => MAE = {:.3f}\".format(numTree, maxDepth, mae))"
   ]
  },
  {
   "cell_type": "markdown",
   "metadata": {},
   "source": [
    "#### Résultats\n",
    "\n",
    "shift=0, Best model (numTree=50, MaxDepth=3) => MAE = 12.797\n",
    "shift=1,\n",
    "shift=2, Best model (numTree=55, MaxDepth=3) => MAE = 12.486\n",
    "shift=3, Best model (numTree=50, MaxDepth=4) => MAE = 12.465\n",
    "shift=4, Best model (numTree=30, MaxDepth=3) => MAE = 12.544"
   ]
  },
  {
   "cell_type": "markdown",
   "metadata": {},
   "source": [
    "#### Affichage des predictions obtenues\n",
    "\n",
    "Nous mesurons la performance du modèle en ragardant les prédictions sur le jeu de données d'entrainement."
   ]
  },
  {
   "cell_type": "code",
   "execution_count": 11,
   "metadata": {},
   "outputs": [],
   "source": [
    "pd_train_sj = train_sj.toPandas()\n",
    "pd_train_iq = train_iq.toPandas()\n",
    "\n",
    "# create pandas dataframe from spark dataframe\n",
    "pd_pred_rf = pred_rf.toPandas()\n",
    "\n",
    "pd_pred_rf_sj = pd_pred_rf[pd_pred_rf['city'] == 'sj']\n",
    "pd_pred_rf_iq = pd_pred_rf[pd_pred_rf['city'] == 'iq']"
   ]
  },
  {
   "cell_type": "code",
   "execution_count": 12,
   "metadata": {
    "scrolled": true
   },
   "outputs": [
    {
     "data": {
      "image/png": "[encoded data removed]",
      "text/plain": [
       "<Figure size 864x576 with 1 Axes>"
      ]
     },
     "metadata": {
      "needs_background": "light"
     },
     "output_type": "display_data"
    }
   ],
   "source": [
    "pred_train = rf_bestModel.transform(train)\n",
    "\n",
    "# create pandas dataframe from spark dataframe\n",
    "pd_pred_train = pred_train.toPandas()\n",
    "\n",
    "pd_pred_train_sj = pd_pred_train[pd_pred_train['city'] == 'sj']\n",
    "pd_pred_train_iq = pd_pred_train[pd_pred_train['city'] == 'iq']\n",
    "\n",
    "# Total cases per city\n",
    "fig = plt.figure(figsize=(12, 8))\n",
    "plt.grid()\n",
    "plt.title('Random Forest: Prediction Dengue Fever total cases per week')\n",
    "\n",
    "plt.xlabel('year')\n",
    "plt.ylabel('total cases')\n",
    "plt.xticks()\n",
    "plt.yticks()\n",
    "\n",
    "plt.plot(pd_train_sj['week_start_date'], pd_train_sj['total_cases'],\n",
    "         label='San Juan - Observations')\n",
    "plt.plot(pd_train_iq['week_start_date'], pd_train_iq['total_cases'],\n",
    "         label='Iquitos - Observations')\n",
    "\n",
    "plt.plot(pd_pred_train_sj['week_start_date'], pd_pred_train_sj['rf_prediction'],\n",
    "         label='San Juan - Predictions')\n",
    "plt.plot(pd_pred_train_iq['week_start_date'], pd_pred_train_iq['rf_prediction'],\n",
    "         label='Iquitos - Predictions')\n",
    "\n",
    "plt.legend()\n",
    "\n",
    "fig.savefig(\"figs/05-fig_01.jpg\")\n",
    "plt.show()"
   ]
  },
  {
   "cell_type": "markdown",
   "metadata": {},
   "source": [
    "## plot LR"
   ]
  },
  {
   "cell_type": "markdown",
   "metadata": {},
   "source": [
    "### try on test bench"
   ]
  },
  {
   "cell_type": "code",
   "execution_count": 27,
   "metadata": {},
   "outputs": [
    {
     "name": "stdout",
     "output_type": "stream",
     "text": [
      "df_bench = (416, 28)\n"
     ]
    }
   ],
   "source": [
    "df_bench = spark.read.parquet(\"data/02-benchmark\")\n",
    "\n",
    "print(\"df_bench = ({}, {})\".format(df_bench.count(), len(df_bench.columns)))\n",
    "\n",
    "df_bench = shift_data(df_bench,3)"
   ]
  },
  {
   "cell_type": "code",
   "execution_count": 28,
   "metadata": {},
   "outputs": [
    {
     "name": "stdout",
     "output_type": "stream",
     "text": [
      "Size of data = (416, 28)\n",
      "city => 0\n",
      "year => 0\n",
      "weekofyear => 0\n",
      "week_start_date => 0\n",
      "ndvi_ne => 0\n",
      "ndvi_nw => 0\n",
      "ndvi_se => 0\n",
      "ndvi_sw => 0\n",
      "reanalysis_precip_amt_kg_per_m2 => 0\n",
      "reanalysis_relative_humidity_percent => 0\n",
      "reanalysis_sat_precip_amt_mm => 0\n",
      "reanalysis_specific_humidity_g_per_kg => 0\n",
      "station_avg_temp_c => 0\n",
      "station_diur_temp_rng_c => 0\n",
      "station_max_temp_c => 0\n",
      "station_min_temp_c => 0\n",
      "station_precip_mm => 0\n",
      "reanalysis_air_temp_c => 0\n",
      "reanalysis_avg_temp_c => 0\n",
      "reanalysis_dew_point_temp_c => 0\n",
      "reanalysis_max_air_temp_c => 0\n",
      "reanalysis_min_air_temp_c => 0\n",
      "reanalysis_tdtr_c => 0\n",
      "bucket_ne => 0\n",
      "bucket_nw => 0\n",
      "bucket_sw => 0\n",
      "bucket_se => 0\n",
      "ndvi_avg => 0\n"
     ]
    }
   ],
   "source": [
    "def fill_null_with_next(df_train): \n",
    "    # Fill Null value with previous value in the column\n",
    "    w = window.Window() \\\n",
    "        .partitionBy('city') \\\n",
    "        .orderBy(F.col('week_start_date')) \\\n",
    "        .rowsBetween(0,sys.maxsize)\n",
    "\n",
    "    for col_name in df_train.columns[4:-1]:\n",
    "        df_train = df_train.withColumn(col_name, F.first(col_name, True).over(w))\n",
    "    \n",
    "    # last column also relevant for the test bench\n",
    "    df_train = df_train.withColumn(df_train.columns[-1], F.first(df_train.columns[-1], True).over(w))\n",
    "\n",
    "    return df_train\n",
    "\n",
    "# replace null value in a column with value of previous cell\n",
    "df_bench = fill_null_with_next(df_bench)\n",
    "\n",
    "print(\"Size of data = ({}, {})\".format(df_bench.count(), len(df_bench.columns)))\n",
    "\n",
    "# identify null value\n",
    "for col_name in df_bench.columns:\n",
    "    print(\"{} => {}\".format(col_name,\n",
    "                            df_bench.filter(F.isnull(df_bench[col_name])).count()))"
   ]
  },
  {
   "cell_type": "code",
   "execution_count": 29,
   "metadata": {},
   "outputs": [],
   "source": [
    "# simple RF\n",
    "bench_simple_rf = rf_bestModel.transform(df_bench)"
   ]
  },
  {
   "cell_type": "code",
   "execution_count": 30,
   "metadata": {},
   "outputs": [],
   "source": [
    "#df_submission = spark.read.csv('data/submission_format.csv',header=True)\n",
    "#df_submission.show(10)"
   ]
  },
  {
   "cell_type": "code",
   "execution_count": 31,
   "metadata": {},
   "outputs": [],
   "source": [
    "df_temp = bench_simple_rf['city', 'year', 'weekofyear','rf_prediction']\n",
    "df_temp = df_temp.withColumn(\"total_cases\", df_temp[\"rf_prediction\"].cast('int'))\n",
    "df_temp = df_temp.drop('rf_prediction')"
   ]
  },
  {
   "cell_type": "code",
   "execution_count": 32,
   "metadata": {},
   "outputs": [
    {
     "name": "stdout",
     "output_type": "stream",
     "text": [
      "+----+----+----------+-----------+\n",
      "|city|year|weekofyear|total_cases|\n",
      "+----+----+----------+-----------+\n",
      "|  iq|2010|        26|          7|\n",
      "|  iq|2010|        27|          7|\n",
      "|  iq|2010|        28|          7|\n",
      "|  iq|2010|        29|          7|\n",
      "|  iq|2010|        30|          7|\n",
      "|  iq|2010|        31|          9|\n",
      "|  iq|2010|        32|          7|\n",
      "|  iq|2010|        33|          7|\n",
      "|  iq|2010|        34|          7|\n",
      "|  iq|2010|        35|          7|\n",
      "+----+----+----------+-----------+\n",
      "only showing top 10 rows\n",
      "\n"
     ]
    }
   ],
   "source": [
    "df_temp.show(10)"
   ]
  },
  {
   "cell_type": "code",
   "execution_count": 33,
   "metadata": {},
   "outputs": [],
   "source": [
    "df_temp_pandas = df_temp.select('city','year','weekofyear','total_cases').toPandas()\n",
    "df_temp_pandas_sj = df_temp_pandas[df_temp_pandas['city'] == 'sj']\n",
    "df_temp_pandas_iq = df_temp_pandas[df_temp_pandas['city'] == 'iq']\n",
    "df_temp_pandas = pd.concat([df_temp_pandas_sj,df_temp_pandas_iq], axis=0)"
   ]
  },
  {
   "cell_type": "code",
   "execution_count": 34,
   "metadata": {},
   "outputs": [],
   "source": [
    "df_temp_pandas.to_csv('data/test_15.csv',index=False)"
   ]
  },
  {
   "cell_type": "markdown",
   "metadata": {},
   "source": [
    "features = ['reanalysis_specific_humidity_g_per_kg', \n",
    "            'reanalysis_dew_point_temp_k', \n",
    "            'station_avg_temp_c', \n",
    "            'station_min_temp_c',\n",
    "            'reanalysis_min_air_temp_k',\n",
    "            'reanalysis_max_air_temp_k']  "
   ]
  }
 ],
 "metadata": {
  "kernelspec": {
   "display_name": "Python 3",
   "language": "python",
   "name": "python3"
  },
  "language_info": {
   "codemirror_mode": {
    "name": "ipython",
    "version": 3
   },
   "file_extension": ".py",
   "mimetype": "text/x-python",
   "name": "python",
   "nbconvert_exporter": "python",
   "pygments_lexer": "ipython3",
   "version": "3.7.3"
  }
 },
 "nbformat": 4,
 "nbformat_minor": 2
}
