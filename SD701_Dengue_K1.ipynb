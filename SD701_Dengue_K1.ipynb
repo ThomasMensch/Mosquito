{
 "cells": [
  {
   "cell_type": "markdown",
   "metadata": {},
   "source": [
    "\n",
    "\n",
    "https://www.drivendata.org/competitions/44/dengai-predicting-disease-spread/\n",
    "\n",
    "https://www.cdc.gov/dengue/\n",
    "\n",
    "### Goal\n",
    "\n",
    "Predict the number of dengue cases each week (in each location) based on environmental variables describing changes in temperature, precipitation, vegetation, and more."
   ]
  },
  {
   "cell_type": "code",
   "execution_count": 76,
   "metadata": {},
   "outputs": [],
   "source": [
    "import findspark\n",
    "findspark.init()\n",
    "\n",
    "import numpy as np\n",
    "\n",
    "from sklearn.metrics import mean_absolute_error\n",
    "\n",
    "from pyspark import SparkContext\n",
    "\n",
    "from pyspark.sql.functions import abs \n",
    "\n",
    "from pyspark.sql import SparkSession\n",
    "\n",
    "from pyspark.ml.regression import LinearRegression\n",
    "from pyspark.ml.regression import RandomForestRegressor\n",
    "from pyspark.ml.classification import LogisticRegression\n",
    "\n",
    "from pyspark.ml.feature import VectorAssembler, StringIndexer, OneHotEncoder, StandardScaler\n",
    "\n",
    "from pyspark.ml.evaluation import RegressionEvaluator\n",
    "from pyspark.ml.tuning import ParamGridBuilder\n",
    "from pyspark.ml.tuning import CrossValidator"
   ]
  },
  {
   "cell_type": "code",
   "execution_count": 31,
   "metadata": {},
   "outputs": [],
   "source": [
    "spark = SparkSession.builder.appName(\"dengue\").getOrCreate()"
   ]
  },
  {
   "cell_type": "markdown",
   "metadata": {},
   "source": [
    "### Chargement des données"
   ]
  },
  {
   "cell_type": "code",
   "execution_count": 32,
   "metadata": {},
   "outputs": [],
   "source": [
    "path_to_data = \"data/\"\n",
    "\n",
    "\n",
    "features_train = spark.read.csv(path_to_data + \"dengue_features_train.csv\", header=True)\n",
    "#df_features['month'] = df_features['week_start_date'][5:7]\n",
    "\n",
    "labels_train = spark.read.csv(path_to_data + \"dengue_labels_train.csv\", header=True)"
   ]
  },
  {
   "cell_type": "markdown",
   "metadata": {},
   "source": [
    "### Description des données\n",
    "\n",
    "Your goal is to predict the total_cases label for each (`city`, `year`, `weekofyear`) in the test set. \n",
    "There are two cities, *San Juan* and *Iquitos*, with test data for each city spanning 5 and 3 years respectively.\n",
    "You will make one submission that contains predictions for both cities.\n",
    "The data for each city have been concatenated along with a city column indicating the source: `sj` for San Juan and `iq` for Iquitos. \n",
    "The test set is a pure future hold-out, meaning the test data are sequential and non-overlapping with any of the training data.\n",
    "Throughout, missing values have been filled as `NaN`s.\n",
    "\n",
    "#### The features in this dataset\n",
    "\n",
    "You are provided the following set of information on a (`year`, `weekofyear`) timescale:\n",
    "\n",
    "(Where appropriate, units are provided as a `_unit` suffix on the feature name.)\n",
    "\n",
    "*City and date indicators*\n",
    "\n",
    " - `city` – City abbreviations: `sj` for San Juan and `iq` for Iquitos\n",
    " - `week_start_date` – Date given in yyyy-mm-dd format\n",
    "\n",
    "*NOAA's GHCN daily climate data weather station measurements*\n",
    "\n",
    " - `station_max_temp_c` – Maximum temperature\n",
    " - `station_min_temp_c` – Minimum temperature\n",
    " - `station_avg_temp_c` – Average temperature\n",
    " - `station_precip_mm` – Total precipitation\n",
    " - `station_diur_temp_rng_c` – Diurnal temperature range\n",
    " \n",
    "*PERSIANN satellite precipitation measurements (0.25x0.25 degree scale)*\n",
    "\n",
    " - `precipitation_amt_mm` – Total precipitation\n",
    "\n",
    "*NOAA's NCEP Climate Forecast System Reanalysis measurements (0.5x0.5 degree scale)*\n",
    "\n",
    " - `reanalysis_sat_precip_amt_mm` – Total precipitation\n",
    " - `reanalysis_dew_point_temp_k` – Mean dew point temperature\n",
    " - `reanalysis_air_temp_k` – Mean air temperature\n",
    " - `reanalysis_relative_humidity_percent` – Mean relative humidity\n",
    " - `reanalysis_specific_humidity_g_per_kg` – Mean specific humidity\n",
    " - `reanalysis_precip_amt_kg_per_m2` – Total precipitation\n",
    " - `reanalysis_max_air_temp_k` – Maximum air temperature\n",
    " - `reanalysis_min_air_temp_k` – Minimum air temperature\n",
    " - `reanalysis_avg_temp_k` – Average air temperature\n",
    " - `reanalysis_tdtr_k` – Diurnal temperature range\n",
    "\n",
    "*Satellite vegetation - Normalized difference vegetation index (NDVI) - NOAA's CDR Normalized Difference Vegetation Index (0.5x0.5 degree scale) measurements*\n",
    "\n",
    " - `ndvi_se` – Pixel southeast of city centroid\n",
    " - `ndvi_sw` – Pixel southwest of city centroid\n",
    " - `ndvi_ne` – Pixel northeast of city centroid\n",
    " - `ndvi_nw` – Pixel northwest of city centroid\n"
   ]
  },
  {
   "cell_type": "code",
   "execution_count": 33,
   "metadata": {},
   "outputs": [
    {
     "name": "stdout",
     "output_type": "stream",
     "text": [
      "features_train = (1456, 24)\n",
      "root\n",
      " |-- city: string (nullable = true)\n",
      " |-- year: string (nullable = true)\n",
      " |-- weekofyear: string (nullable = true)\n",
      " |-- week_start_date: string (nullable = true)\n",
      " |-- ndvi_ne: string (nullable = true)\n",
      " |-- ndvi_nw: string (nullable = true)\n",
      " |-- ndvi_se: string (nullable = true)\n",
      " |-- ndvi_sw: string (nullable = true)\n",
      " |-- precipitation_amt_mm: string (nullable = true)\n",
      " |-- reanalysis_air_temp_k: string (nullable = true)\n",
      " |-- reanalysis_avg_temp_k: string (nullable = true)\n",
      " |-- reanalysis_dew_point_temp_k: string (nullable = true)\n",
      " |-- reanalysis_max_air_temp_k: string (nullable = true)\n",
      " |-- reanalysis_min_air_temp_k: string (nullable = true)\n",
      " |-- reanalysis_precip_amt_kg_per_m2: string (nullable = true)\n",
      " |-- reanalysis_relative_humidity_percent: string (nullable = true)\n",
      " |-- reanalysis_sat_precip_amt_mm: string (nullable = true)\n",
      " |-- reanalysis_specific_humidity_g_per_kg: string (nullable = true)\n",
      " |-- reanalysis_tdtr_k: string (nullable = true)\n",
      " |-- station_avg_temp_c: string (nullable = true)\n",
      " |-- station_diur_temp_rng_c: string (nullable = true)\n",
      " |-- station_max_temp_c: string (nullable = true)\n",
      " |-- station_min_temp_c: string (nullable = true)\n",
      " |-- station_precip_mm: string (nullable = true)\n",
      "\n"
     ]
    }
   ],
   "source": [
    "print(\"features_train = ({}, {})\".format(features_train.count(), len(features_train.columns)))\n",
    "\n",
    "features_train.printSchema()"
   ]
  },
  {
   "cell_type": "code",
   "execution_count": 34,
   "metadata": {},
   "outputs": [
    {
     "name": "stdout",
     "output_type": "stream",
     "text": [
      "labels_train = (1456, 4)\n",
      "root\n",
      " |-- city: string (nullable = true)\n",
      " |-- year: string (nullable = true)\n",
      " |-- weekofyear: string (nullable = true)\n",
      " |-- total_cases: string (nullable = true)\n",
      "\n"
     ]
    }
   ],
   "source": [
    "print(\"labels_train = ({}, {})\".format(labels_train.count(), len(labels_train.columns)))\n",
    "\n",
    "labels_train.printSchema()"
   ]
  },
  {
   "cell_type": "markdown",
   "metadata": {},
   "source": [
    "We join the 2 datasets."
   ]
  },
  {
   "cell_type": "code",
   "execution_count": 35,
   "metadata": {},
   "outputs": [],
   "source": [
    "df_train = features_train.join(labels_train, ['city', 'year', 'weekofyear'])"
   ]
  },
  {
   "cell_type": "code",
   "execution_count": 36,
   "metadata": {},
   "outputs": [
    {
     "name": "stdout",
     "output_type": "stream",
     "text": [
      "df_train = (1456, 25)\n",
      "root\n",
      " |-- city: string (nullable = true)\n",
      " |-- year: string (nullable = true)\n",
      " |-- weekofyear: string (nullable = true)\n",
      " |-- week_start_date: string (nullable = true)\n",
      " |-- ndvi_ne: string (nullable = true)\n",
      " |-- ndvi_nw: string (nullable = true)\n",
      " |-- ndvi_se: string (nullable = true)\n",
      " |-- ndvi_sw: string (nullable = true)\n",
      " |-- precipitation_amt_mm: string (nullable = true)\n",
      " |-- reanalysis_air_temp_k: string (nullable = true)\n",
      " |-- reanalysis_avg_temp_k: string (nullable = true)\n",
      " |-- reanalysis_dew_point_temp_k: string (nullable = true)\n",
      " |-- reanalysis_max_air_temp_k: string (nullable = true)\n",
      " |-- reanalysis_min_air_temp_k: string (nullable = true)\n",
      " |-- reanalysis_precip_amt_kg_per_m2: string (nullable = true)\n",
      " |-- reanalysis_relative_humidity_percent: string (nullable = true)\n",
      " |-- reanalysis_sat_precip_amt_mm: string (nullable = true)\n",
      " |-- reanalysis_specific_humidity_g_per_kg: string (nullable = true)\n",
      " |-- reanalysis_tdtr_k: string (nullable = true)\n",
      " |-- station_avg_temp_c: string (nullable = true)\n",
      " |-- station_diur_temp_rng_c: string (nullable = true)\n",
      " |-- station_max_temp_c: string (nullable = true)\n",
      " |-- station_min_temp_c: string (nullable = true)\n",
      " |-- station_precip_mm: string (nullable = true)\n",
      " |-- total_cases: string (nullable = true)\n",
      "\n"
     ]
    }
   ],
   "source": [
    "print(\"df_train = ({}, {})\".format(df_train.count(), len(df_train.columns)))\n",
    "\n",
    "df_train.printSchema()"
   ]
  },
  {
   "cell_type": "markdown",
   "metadata": {},
   "source": [
    "### Nettoyage"
   ]
  },
  {
   "cell_type": "code",
   "execution_count": 37,
   "metadata": {},
   "outputs": [
    {
     "name": "stdout",
     "output_type": "stream",
     "text": [
      "+----+----------+---------------+--------------------+----------------------------+\n",
      "|year|weekofyear|week_start_date|precipitation_amt_mm|reanalysis_sat_precip_amt_mm|\n",
      "+----+----------+---------------+--------------------+----------------------------+\n",
      "|1990|        18|     1990-04-30|               12.42|                       12.42|\n",
      "|1990|        19|     1990-05-07|               22.82|                       22.82|\n",
      "|1990|        20|     1990-05-14|               34.54|                       34.54|\n",
      "|1990|        21|     1990-05-21|               15.36|                       15.36|\n",
      "|1990|        22|     1990-05-28|                7.52|                        7.52|\n",
      "|1990|        23|     1990-06-04|                9.58|                        9.58|\n",
      "|1990|        24|     1990-06-11|                3.48|                        3.48|\n",
      "|1990|        25|     1990-06-18|              151.12|                      151.12|\n",
      "|1990|        26|     1990-06-25|               19.32|                       19.32|\n",
      "|1990|        27|     1990-07-02|               14.41|                       14.41|\n",
      "|1990|        28|     1990-07-09|               22.27|                       22.27|\n",
      "|1990|        29|     1990-07-16|               59.17|                       59.17|\n",
      "|1990|        30|     1990-07-23|               16.48|                       16.48|\n",
      "|1990|        31|     1990-07-30|               32.66|                       32.66|\n",
      "|1990|        32|     1990-08-06|                28.8|                        28.8|\n",
      "|1990|        33|     1990-08-13|               90.75|                       90.75|\n",
      "|1990|        34|     1990-08-20|                32.4|                        32.4|\n",
      "|1990|        35|     1990-08-27|               40.94|                       40.94|\n",
      "|1990|        36|     1990-09-03|               28.86|                       28.86|\n",
      "|1990|        37|     1990-09-10|               64.56|                       64.56|\n",
      "|1990|        38|     1990-09-17|              143.73|                      143.73|\n",
      "|1990|        39|     1990-09-24|               51.39|                       51.39|\n",
      "|1990|        40|     1990-10-01|               31.18|                       31.18|\n",
      "|1990|        41|     1990-10-08|               51.42|                       51.42|\n",
      "|1990|        42|     1990-10-15|              143.55|                      143.55|\n",
      "|1990|        43|     1990-10-22|              127.03|                      127.03|\n",
      "|1990|        44|     1990-10-29|              101.35|                      101.35|\n",
      "|1990|        45|     1990-11-05|               20.46|                       20.46|\n",
      "|1990|        46|     1990-11-12|                20.0|                        20.0|\n",
      "|1990|        47|     1990-11-19|               20.04|                       20.04|\n",
      "|1990|        48|     1990-11-26|               33.61|                       33.61|\n",
      "|1990|        49|     1990-12-03|                9.96|                        9.96|\n",
      "|1990|        50|     1990-12-10|                 0.0|                         0.0|\n",
      "|1990|        51|     1990-12-17|               52.45|                       52.45|\n",
      "|1990|        52|     1990-12-24|                 0.0|                         0.0|\n",
      "|1991|         1|     1991-01-01|                 0.0|                         0.0|\n",
      "|1991|         2|     1991-01-08|               15.85|                       15.85|\n",
      "|1991|         3|     1991-01-15|                 0.0|                         0.0|\n",
      "|1991|         4|     1991-01-22|                 0.0|                         0.0|\n",
      "|1991|         5|     1991-01-29|                 0.0|                         0.0|\n",
      "|1991|         6|     1991-02-05|                 0.0|                         0.0|\n",
      "|1991|         7|     1991-02-12|               18.05|                       18.05|\n",
      "|1991|         8|     1991-02-19|                 0.0|                         0.0|\n",
      "|1991|         9|     1991-02-26|               31.79|                       31.79|\n",
      "|1991|        10|     1991-03-05|                 0.0|                         0.0|\n",
      "|1991|        11|     1991-03-12|                 0.0|                         0.0|\n",
      "|1991|        12|     1991-03-19|                 0.0|                         0.0|\n",
      "|1991|        13|     1991-03-26|                 0.0|                         0.0|\n",
      "|1991|        14|     1991-04-02|               12.92|                       12.92|\n",
      "|1991|        15|     1991-04-09|                 6.0|                         6.0|\n",
      "+----+----------+---------------+--------------------+----------------------------+\n",
      "only showing top 50 rows\n",
      "\n"
     ]
    }
   ],
   "source": [
    "df_train.select('year', 'weekofyear', 'week_start_date', 'precipitation_amt_mm', 'reanalysis_sat_precip_amt_mm').show(50)"
   ]
  },
  {
   "cell_type": "code",
   "execution_count": 38,
   "metadata": {},
   "outputs": [],
   "source": [
    "#df_train = df_train.drop('precipitation_amt_mm', 'week_start_date')"
   ]
  },
  {
   "cell_type": "code",
   "execution_count": 39,
   "metadata": {},
   "outputs": [],
   "source": [
    "for col_name in df_train.columns:\n",
    "    if col_name not in ['city', 'week_start_date']:\n",
    "        df_train = df_train.withColumn(col_name, df_train[col_name].cast('float'))\n",
    "\n",
    "df_train = df_train.dropna()"
   ]
  },
  {
   "cell_type": "code",
   "execution_count": 40,
   "metadata": {},
   "outputs": [
    {
     "name": "stdout",
     "output_type": "stream",
     "text": [
      "+----+------+----------+---------------+---------+---------+---------+---------+--------------------+---------------------+---------------------+---------------------------+-------------------------+-------------------------+-------------------------------+------------------------------------+----------------------------+-------------------------------------+-----------------+------------------+-----------------------+------------------+------------------+-----------------+-----------+\n",
      "|city|  year|weekofyear|week_start_date|  ndvi_ne|  ndvi_nw|  ndvi_se|  ndvi_sw|precipitation_amt_mm|reanalysis_air_temp_k|reanalysis_avg_temp_k|reanalysis_dew_point_temp_k|reanalysis_max_air_temp_k|reanalysis_min_air_temp_k|reanalysis_precip_amt_kg_per_m2|reanalysis_relative_humidity_percent|reanalysis_sat_precip_amt_mm|reanalysis_specific_humidity_g_per_kg|reanalysis_tdtr_k|station_avg_temp_c|station_diur_temp_rng_c|station_max_temp_c|station_min_temp_c|station_precip_mm|total_cases|\n",
      "+----+------+----------+---------------+---------+---------+---------+---------+--------------------+---------------------+---------------------+---------------------------+-------------------------+-------------------------+-------------------------------+------------------------------------+----------------------------+-------------------------------------+-----------------+------------------+-----------------------+------------------+------------------+-----------------+-----------+\n",
      "|  sj|1990.0|      18.0|     1990-04-30|   0.1226| 0.103725|0.1984833|0.1776167|               12.42|            297.57285|            297.74286|                  292.41428|                    299.8|                    295.9|                           32.0|                           73.365715|                       12.42|                            14.012857|        2.6285715|         25.442858|                    6.9|              29.4|              20.0|             16.0|        4.0|\n",
      "|  sj|1990.0|      19.0|     1990-05-07|   0.1699| 0.142175|0.1623571|0.1554857|               22.82|            298.21143|            298.44287|                  293.95142|                    300.9|                    296.4|                          17.94|                            77.36857|                       22.82|                            15.372857|        2.3714285|         26.714285|              6.3714285|              31.7|              22.2|              8.6|        5.0|\n",
      "|  sj|1990.0|      20.0|     1990-05-14|  0.03225|0.1729667|   0.1572|0.1708429|               34.54|            298.78143|            298.87857|                   295.4343|                    300.5|                    297.3|                           26.1|                            82.05286|                       34.54|                            16.848572|              2.3|         26.714285|              6.4857144|              32.2|              22.8|             41.4|        4.0|\n",
      "|  sj|1990.0|      21.0|     1990-05-21|0.1286333|0.2450667|0.2275571|0.2358857|               15.36|            298.98715|            299.22858|                     295.31|                    301.4|                    297.0|                           13.9|                            80.33714|                       15.36|                            16.672857|        2.4285715|         27.471428|              6.7714286|              33.3|              23.3|              4.0|        3.0|\n",
      "|  sj|1990.0|      22.0|     1990-05-28|   0.1962|   0.2622|   0.2512|  0.24734|                7.52|             299.5186|            299.66428|                  295.82144|                    301.9|                    297.5|                           12.2|                               80.46|                        7.52|                                17.21|        3.0142858|         28.942858|              9.3714285|              35.0|              23.9|              5.8|        6.0|\n",
      "|  sj|1990.0|      24.0|     1990-06-11|   0.1129|   0.0928|0.2050714|0.2102714|                3.48|            299.20715|            299.22144|                  295.86572|                    301.3|                    297.7|                           38.6|                                82.0|                        3.48|                            17.234285|        2.0428572|         27.414286|              6.7714286|              32.2|              23.3|             29.7|        4.0|\n",
      "|  sj|1990.0|      25.0|     1990-06-18|   0.0725|   0.0725|0.1514714|0.1330286|              151.12|            299.59143|            299.52856|                  296.53143|                    300.6|                    298.4|                           30.0|                            83.37572|                      151.12|                            17.977142|        1.5714285|          28.37143|              7.6857142|              33.9|              22.8|             21.1|        5.0|\n",
      "|  sj|1990.0|      26.0|     1990-06-25|  0.10245| 0.146175|0.1255714|   0.1236|               19.32|            299.57858|            299.55713|                  296.37857|                    302.1|                    297.7|                          37.51|                            82.76857|                       19.32|                                17.79|        1.8857143|         28.328571|               7.385714|              33.9|              22.8|             21.1|       10.0|\n",
      "|  sj|1990.0|      28.0|     1990-07-09| 0.192875|  0.08235|0.1919429|0.1529286|               22.27|            299.51285|            299.59286|                  296.04144|                    301.8|                    298.0|                          43.72|                            81.46714|                       22.27|                            17.418571|        2.1571429|         27.557142|              7.1571426|              31.7|              21.7|             63.7|        8.0|\n",
      "|  sj|1990.0|      29.0|     1990-07-16|   0.2916|   0.2118|   0.3012|0.2806667|               59.17|            299.66714|               299.75|                   296.3343|                    302.0|                    297.3|                           40.9|                            82.14429|                       59.17|                            17.737143|        2.4142857|          28.12857|                    6.9|              32.8|              23.9|             12.2|        2.0|\n",
      "|  sj|1990.0|      30.0|     1990-07-23|0.1505667|   0.1717|   0.2269|0.2145571|               16.48|            299.55856|             299.6357|                     295.96|                    301.8|                    297.1|                          42.53|                            80.74286|                       16.48|                            17.341429|        2.0714285|         28.114286|               6.357143|              31.7|              22.8|             32.6|        6.0|\n",
      "|  sj|1990.0|      34.0|     1990-08-20|0.1902333|   0.1688|0.1676571|0.1722857|                32.4|            300.33286|            300.41428|                  296.72858|                    302.5|                    298.1|                           25.9|                            80.94714|                        32.4|                            18.174286|        2.4857142|         28.342857|              7.0142856|              33.3|              23.3|              5.4|       21.0|\n",
      "|  sj|1990.0|      35.0|     1990-08-27|   0.2529|  0.33075|0.2641714|0.2843143|               40.94|            300.11856|            300.22144|                  297.01715|                    302.2|                    298.7|                           39.8|                            83.34857|                       40.94|                            18.515715|              1.9|         28.657143|              6.5285716|              32.2|              24.4|             13.7|       28.0|\n",
      "|  sj|1990.0|      36.0|     1990-09-03|   0.2354| 0.200025|0.2838167|0.2304429|               28.86|               300.53|             300.6357|                  296.11716|                    303.8|                    298.0|                           30.4|                            77.17286|                       28.86|                                17.56|        3.4714286|         28.328571|               7.614286|              32.8|              23.3|             14.2|       24.0|\n",
      "|  sj|1990.0|      37.0|     1990-09-10|0.1279667|   0.4371|   0.1234|0.1482833|               64.56|             300.6743|            300.79285|                  297.19287|                    302.9|                    299.0|                          24.18|                            81.55143|                       64.56|                            18.777143|              2.9|         28.685715|               8.057143|              33.9|              24.4|             25.9|       20.0|\n",
      "|  sj|1990.0|      38.0|     1990-09-17|  0.19635|0.1824333|0.2548286|0.3056857|              143.73|            299.85715|                299.9|                  296.43143|                    301.7|                    298.7|                           36.6|                           81.637146|                      143.73|                            17.892857|        1.7428571|         28.242857|               8.114285|              32.8|              23.9|              3.3|       40.0|\n",
      "|  sj|1990.0|      39.0|     1990-09-24|   0.1161|   0.2609|0.1994429|0.2442167|               51.39|            300.42715|                300.6|                  296.02856|                    302.4|                    299.1|                           16.4|                            77.04857|                       51.39|                             17.46857|        2.2571428|         28.342857|              7.7285714|              32.8|              24.4|             15.8|       27.0|\n",
      "|  sj|1990.0|      40.0|     1990-10-01|  0.22855|  0.18975|0.2124857|0.2011857|               31.18|            300.77573|               300.85|                  296.66428|                    303.3|                    299.1|                           36.1|                               78.52|                       31.18|                                18.18|              2.9|          28.77143|               8.028571|              33.3|              23.9|             11.7|       42.0|\n",
      "|  sj|1990.0|      41.0|     1990-10-08|  0.17115|  0.06755|0.1794667|0.1577167|               51.42|            299.85715|            299.94287|                  296.92856|                    301.8|                    298.1|                          132.4|                               84.11|                       51.42|                            18.512857|        2.5714285|          28.62857|              7.3142858|              33.3|              24.4|             57.7|       33.0|\n",
      "|  sj|1990.0|      43.0|     1990-10-22|   0.1462|  0.08975|0.1288286|0.1239286|              127.03|            298.90286|            299.04285|                  296.25714|                    300.9|                    297.2|                          94.52|                            85.50285|                      127.03|                                17.75|              1.8|          26.77143|              7.6285715|              32.2|              21.7|             91.5|       37.0|\n",
      "+----+------+----------+---------------+---------+---------+---------+---------+--------------------+---------------------+---------------------+---------------------------+-------------------------+-------------------------+-------------------------------+------------------------------------+----------------------------+-------------------------------------+-----------------+------------------+-----------------------+------------------+------------------+-----------------+-----------+\n",
      "only showing top 20 rows\n",
      "\n"
     ]
    }
   ],
   "source": [
    "#print(\"size of the data: {}\".format(df_train.shape()))\n",
    "\n",
    "df_train.show()"
   ]
  },
  {
   "cell_type": "markdown",
   "metadata": {},
   "source": [
    "### Préparation des données"
   ]
  },
  {
   "cell_type": "code",
   "execution_count": 41,
   "metadata": {},
   "outputs": [],
   "source": [
    "indexer = StringIndexer(inputCol='city',\n",
    "                        outputCol='city_')\n",
    "\n",
    "df_train = indexer.fit(df_train).transform(df_train)\n",
    "\n",
    "encoder = OneHotEncoder(inputCol='city_', outputCol='cityVect')\n",
    "df_train = encoder.transform(df_train)"
   ]
  },
  {
   "cell_type": "markdown",
   "metadata": {},
   "source": [
    "We create a new feature characterizing the \"surface\" of the city (in pixels) defined by:\n",
    "\n",
    "city_surface_px = |ndvi_ne - ndvi_sw| x |ndvi_nw - ndvi_se|\n",
    "\n",
    "Small `city_surface_px` means a lot of vegetation (and maybe a lot of mosquitos!)."
   ]
  },
  {
   "cell_type": "code",
   "execution_count": 42,
   "metadata": {},
   "outputs": [],
   "source": [
    "df_train = df_train.withColumn('city_surface_px', abs(df_train.ndvi_ne - df_train.ndvi_sw) * abs(df_train.ndvi_nw - df_train.ndvi_se))"
   ]
  },
  {
   "cell_type": "code",
   "execution_count": 43,
   "metadata": {},
   "outputs": [
    {
     "name": "stdout",
     "output_type": "stream",
     "text": [
      "+---------+---------+----------+---------+---------------+\n",
      "|  ndvi_ne|  ndvi_nw|   ndvi_se|  ndvi_sw|city_surface_px|\n",
      "+---------+---------+----------+---------+---------------+\n",
      "|   0.1226| 0.103725| 0.1984833|0.1776167|   0.0052132895|\n",
      "|   0.1699| 0.142175| 0.1623571|0.1554857|    2.909108E-4|\n",
      "|  0.03225|0.1729667|    0.1572|0.1708429|    0.002185154|\n",
      "|0.1286333|0.2450667| 0.2275571|0.2358857|   0.0018779475|\n",
      "|   0.1962|   0.2622|    0.2512|  0.24734|    5.625403E-4|\n",
      "|   0.1129|   0.0928| 0.2050714|0.2102714|    0.010932025|\n",
      "|   0.0725|   0.0725| 0.1514714|0.1330286|   0.0047800285|\n",
      "|  0.10245| 0.146175| 0.1255714|   0.1236|    4.357661E-4|\n",
      "| 0.192875|  0.08235| 0.1919429|0.1529286|    0.004377841|\n",
      "|   0.2916|   0.2118|    0.3012|0.2806667|    9.774353E-4|\n",
      "|0.1505667|   0.1717|    0.2269|0.2145571|   0.0035322697|\n",
      "|0.1902333|   0.1688| 0.1676571|0.1722857|   2.0512118E-5|\n",
      "|   0.2529|  0.33075| 0.2641714|0.2843143|     0.00209152|\n",
      "|   0.2354| 0.200025| 0.2838167|0.2304429|    4.153646E-4|\n",
      "|0.1279667|   0.4371|    0.1234|0.1482833|   0.0063733174|\n",
      "|  0.19635|0.1824333| 0.2548286|0.3056857|    0.007915391|\n",
      "|   0.1161|   0.2609| 0.1994429|0.2442167|     0.00787368|\n",
      "|  0.22855|  0.18975| 0.2124857|0.2011857|    6.221465E-4|\n",
      "|  0.17115|  0.06755| 0.1794667|0.1577167|   0.0015034097|\n",
      "|   0.1462|  0.08975| 0.1288286|0.1239286|    8.703352E-4|\n",
      "|  0.25225|0.1834333|     0.318|   0.2959|   0.0058738366|\n",
      "|   0.1526| 0.181775| 0.1783286|0.1866286|   1.1727614E-4|\n",
      "|   0.2908|   0.2246| 0.1803857|0.2348857|   0.0024722125|\n",
      "|   0.2722|  0.33035| 0.1316333|0.1253833|     0.02917493|\n",
      "|0.1367667| 0.216525| 0.1767857|0.1415857|   1.9150338E-4|\n",
      "|   0.1098|   0.0886| 0.2667833|   0.2517|    0.025284208|\n",
      "|  0.12135|  0.26166| 0.1913857|0.2099857|    0.006228813|\n",
      "|0.2931333|0.2668667| 0.2608571|0.3027286|   5.7664023E-5|\n",
      "|   0.3025|0.2772333| 0.1712667|0.1616222|    0.014928343|\n",
      "|   0.1465|0.1404667|    0.1515|0.1673143|   2.2965034E-4|\n",
      "|   0.3313|0.3093333| 0.2210286|0.2027571|    0.011350941|\n",
      "|   0.0917| 0.246425| 0.2438571|   0.1956|   2.6680503E-4|\n",
      "|   0.3801|0.2285667| 0.2550429|   0.2258|    0.004085279|\n",
      "|   0.0712|   0.2211| 0.2762429|0.2673429|     0.01081589|\n",
      "|   0.1702|   0.2086|   0.13752|0.1914333|   0.0015092622|\n",
      "|  0.21075|   0.2641| 0.2476857|0.2163571|   9.2036506E-5|\n",
      "|   0.1279|   0.1784| 0.1470143|   0.1593|    9.855105E-4|\n",
      "|  0.28035| 0.223575| 0.2478833|0.2473857|    8.013065E-4|\n",
      "|   0.1691| 0.216825| 0.2605143|0.2219714|   0.0023099137|\n",
      "|   0.1765|   0.2763| 0.1845333|0.1773667|    7.953523E-5|\n",
      "|   0.0774|   0.1024|   0.16355|0.2061667|    0.007874085|\n",
      "|0.2091667| 0.160575| 0.1761714|0.1761714|   5.1460805E-4|\n",
      "|  0.11595| 0.180175| 0.1063857|0.1111857|   3.5155466E-4|\n",
      "|   0.0669|0.1335667|0.09711667|   0.1356|   0.0025041176|\n",
      "|   0.1401|0.1594667| 0.2143167|   0.2571|   0.0064174486|\n",
      "|  0.08585|    0.087|    0.1196|0.1659286|   0.0026105624|\n",
      "|   0.1091|0.1564667| 0.1734286|0.1739714|   0.0011003424|\n",
      "|   0.0596|  0.09235| 0.1301286|0.1306429|   0.0026839024|\n",
      "|  0.07965|    0.122| 0.1851143|0.1582429|    0.004960335|\n",
      "|   0.0801|  0.00805| 0.1380333|0.1290667|   0.0063648545|\n",
      "+---------+---------+----------+---------+---------------+\n",
      "only showing top 50 rows\n",
      "\n"
     ]
    }
   ],
   "source": [
    "df_train.select('ndvi_ne', 'ndvi_nw', 'ndvi_se', 'ndvi_sw', 'city_surface_px').show(50)"
   ]
  },
  {
   "cell_type": "code",
   "execution_count": 48,
   "metadata": {},
   "outputs": [],
   "source": [
    "lr_features = ['year', 'weekofyear', 'precipitation_amt_mm',\n",
    "#               'ndvi_ne', 'ndvi_nw', 'ndvi_se', 'ndvi_sw',\n",
    "               'city_surface_px',\n",
    "               'reanalysis_air_temp_k','reanalysis_avg_temp_k',\n",
    "               'reanalysis_dew_point_temp_k', 'reanalysis_max_air_temp_k',\n",
    "               'reanalysis_min_air_temp_k', 'reanalysis_precip_amt_kg_per_m2',\n",
    "               'reanalysis_relative_humidity_percent', 'reanalysis_sat_precip_amt_mm', \n",
    "               'reanalysis_specific_humidity_g_per_kg', 'reanalysis_tdtr_k',\n",
    "               'station_avg_temp_c','station_diur_temp_rng_c',\n",
    "               'station_max_temp_c', 'station_min_temp_c',\n",
    "               'station_precip_mm', 'cityVect']"
   ]
  },
  {
   "cell_type": "code",
   "execution_count": 49,
   "metadata": {},
   "outputs": [],
   "source": [
    "vectorAssembler = VectorAssembler(inputCols=lr_features, outputCol = 'features')"
   ]
  },
  {
   "cell_type": "code",
   "execution_count": 50,
   "metadata": {},
   "outputs": [
    {
     "name": "stdout",
     "output_type": "stream",
     "text": [
      "+--------------------+\n",
      "|            features|\n",
      "+--------------------+\n",
      "|[1990.0,18.0,12.4...|\n",
      "|[1990.0,19.0,22.8...|\n",
      "|[1990.0,20.0,34.5...|\n",
      "|[1990.0,21.0,15.3...|\n",
      "|[1990.0,22.0,7.51...|\n",
      "|[1990.0,24.0,3.48...|\n",
      "|[1990.0,25.0,151....|\n",
      "|[1990.0,26.0,19.3...|\n",
      "|[1990.0,28.0,22.2...|\n",
      "|[1990.0,29.0,59.1...|\n",
      "+--------------------+\n",
      "only showing top 10 rows\n",
      "\n"
     ]
    }
   ],
   "source": [
    "df_train_vectorised = vectorAssembler.transform(df_train)\n",
    "df_train_vectorised.select('features').show(10)"
   ]
  },
  {
   "cell_type": "code",
   "execution_count": 51,
   "metadata": {},
   "outputs": [],
   "source": [
    "scaler = StandardScaler(inputCol='features', outputCol=\"scaled_features\",\n",
    "                        withStd=True, withMean=True)\n",
    "\n",
    "scaler_model = scaler.fit(df_train_vectorised)\n",
    "\n",
    "df_train = scaler_model.transform(df_train_vectorised)"
   ]
  },
  {
   "cell_type": "code",
   "execution_count": 52,
   "metadata": {},
   "outputs": [],
   "source": [
    "train, test = df_train.randomSplit([0.8, 0.2], seed=42)"
   ]
  },
  {
   "cell_type": "code",
   "execution_count": 53,
   "metadata": {},
   "outputs": [],
   "source": [
    "lr = LinearRegression(featuresCol='scaled_features',\n",
    "                      labelCol='total_cases')"
   ]
  },
  {
   "cell_type": "code",
   "execution_count": 54,
   "metadata": {},
   "outputs": [],
   "source": [
    "model_lr = lr.fit(train)"
   ]
  },
  {
   "cell_type": "code",
   "execution_count": 55,
   "metadata": {},
   "outputs": [],
   "source": [
    "pred_lr = model_lr.transform(test)"
   ]
  },
  {
   "cell_type": "code",
   "execution_count": 56,
   "metadata": {},
   "outputs": [
    {
     "name": "stdout",
     "output_type": "stream",
     "text": [
      "+-----------+--------------------+\n",
      "|total_cases|          prediction|\n",
      "+-----------+--------------------+\n",
      "|        0.0|   4.969937645790111|\n",
      "|        0.0|  12.736308121544333|\n",
      "|        0.0|  1.6810110840208417|\n",
      "|        0.0|   7.865110482907976|\n",
      "|        1.0|  3.4411927983483643|\n",
      "|        0.0|   8.320181079278457|\n",
      "|        0.0| -2.9654061097641033|\n",
      "|        0.0|   3.670370987111262|\n",
      "|        0.0| -6.0720470155882005|\n",
      "|        0.0|   5.267777363662752|\n",
      "|        0.0|   6.059438923459071|\n",
      "|       16.0|   2.338261469779983|\n",
      "|       10.0|  16.550776887452507|\n",
      "|       10.0|  17.168606128971074|\n",
      "|        4.0|   3.604000336602713|\n",
      "|        5.0|-0.01393082746564...|\n",
      "|        0.0|  24.606173849548057|\n",
      "|        1.0|   6.846513886253799|\n",
      "|        1.0| -0.4476863516008507|\n",
      "|        1.0|   6.463875073252641|\n",
      "|        0.0|  -3.462301697215775|\n",
      "|        2.0|   6.889124704454858|\n",
      "|        5.0|   22.77945877476527|\n",
      "|        8.0|  14.224351646477183|\n",
      "|        3.0|   -8.00171090451801|\n",
      "|        3.0|  3.7244270895435214|\n",
      "|        4.0|  15.967432813690856|\n",
      "|        6.0| -4.8389984155469214|\n",
      "|       13.0|  0.2661020742929985|\n",
      "|       19.0|  12.710365465881793|\n",
      "|       16.0|   20.46782060267735|\n",
      "|       18.0|  21.548233875228004|\n",
      "|       13.0|  11.552552289563767|\n",
      "|        8.0|  11.969898255315385|\n",
      "|        3.0|  30.938905256396744|\n",
      "|       21.0|  13.305665506714742|\n",
      "|       26.0|   8.823664975539838|\n",
      "|       12.0|  7.5271954195114255|\n",
      "|        9.0|  17.630868981920067|\n",
      "|        6.0|  0.7554531530076254|\n",
      "|        5.0|  -6.277130501989955|\n",
      "|        4.0|   8.175285132111043|\n",
      "|        0.0|    5.22154966648446|\n",
      "|        6.0|   4.714478241619098|\n",
      "|        3.0|  -9.671558235483335|\n",
      "|        6.0|   22.60419554344061|\n",
      "|        2.0|  29.278200325892755|\n",
      "|        8.0|  17.379143301133524|\n",
      "|        0.0|  13.451795683003212|\n",
      "|        6.0|   5.309523316848374|\n",
      "|       10.0|   8.611101407547796|\n",
      "|       12.0|  1.1951284915315945|\n",
      "|        5.0|  11.480686867928599|\n",
      "|        3.0|  -8.291406643454554|\n",
      "|        4.0| -11.806588001568652|\n",
      "|        5.0|  -1.294027938560692|\n",
      "|        3.0|  -9.317558052519924|\n",
      "|        7.0|  -9.391153104404086|\n",
      "|        3.0|   9.205006528705349|\n",
      "|       26.0|  15.361681861065609|\n",
      "|       37.0|  -3.584443618526098|\n",
      "|        9.0|  0.8438687247202843|\n",
      "|        1.0|   9.124546835655321|\n",
      "|        5.0|  -6.190766361930667|\n",
      "|        9.0|  -1.480172971383599|\n",
      "|       63.0|    9.88023404251444|\n",
      "|       13.0|  28.750037158277486|\n",
      "|       20.0| -2.4671972837121743|\n",
      "|       21.0| -1.6838959810665308|\n",
      "|        5.0|  -4.310609832529085|\n",
      "|        5.0|  7.4563628109145625|\n",
      "|        2.0|  2.2339501272089137|\n",
      "|        5.0|  -10.33990633182108|\n",
      "|        0.0|  -2.180883651588683|\n",
      "|        7.0|  -7.695694325997753|\n",
      "|        2.0|  -4.080592012945186|\n",
      "|        2.0|  -7.096726824005891|\n",
      "|        1.0|   7.925419469939845|\n",
      "|        1.0|  15.649622395127665|\n",
      "|       12.0|  13.455031129772422|\n",
      "|       12.0|  23.774468670100333|\n",
      "|        9.0|  16.273623666998482|\n",
      "|        8.0|  18.114556913355948|\n",
      "|        4.0|   3.050519817951571|\n",
      "|        2.0|   7.070315370775184|\n",
      "|        7.0|  12.959437204567639|\n",
      "|        4.0|   34.86500323776281|\n",
      "|        5.0|   33.07271316224459|\n",
      "|        3.0|  36.427287115129886|\n",
      "|        5.0|   48.58322421797415|\n",
      "|        2.0|   48.34528189698021|\n",
      "|       37.0|    54.4865010691784|\n",
      "|       71.0|  57.159872129241464|\n",
      "|       53.0|   44.50831488770598|\n",
      "|       26.0|  46.532965445929264|\n",
      "|       21.0|  30.276123437815023|\n",
      "|       15.0|   31.12518345723714|\n",
      "|       21.0|   37.28839922454607|\n",
      "|       18.0|     46.483792897402|\n",
      "|       23.0|   45.84631488526291|\n",
      "|       89.0|   55.15589333474503|\n",
      "|      142.0|  45.931245079068276|\n",
      "|       19.0|   48.90294469643912|\n",
      "|       31.0|  39.919370542142616|\n",
      "|       76.0|   43.97871160700829|\n",
      "|       61.0|  41.446980952758196|\n",
      "|       47.0|   42.60223344372223|\n",
      "|        8.0|  24.790406803857312|\n",
      "|        6.0|   29.50694215391317|\n",
      "|       12.0|    44.5021997375769|\n",
      "|       18.0|   50.27072225388967|\n",
      "|       26.0|  26.301955068327853|\n",
      "|       36.0|  24.668425154703797|\n",
      "|       22.0|  31.446953994716893|\n",
      "|       34.0|  29.760788631324402|\n",
      "|       38.0|  33.709680156964495|\n",
      "|       49.0|   30.15322713292124|\n",
      "|       80.0|  30.386320325433985|\n",
      "|      115.0|   39.91406789163516|\n",
      "|      202.0|   36.07969179125047|\n",
      "|       20.0|  24.934374868672386|\n",
      "|        4.0|   30.00550790151917|\n",
      "|        7.0|   36.87756501524967|\n",
      "|       17.0|   51.08709405081933|\n",
      "|       19.0|  42.164373450679065|\n",
      "|       40.0|   50.41121323700354|\n",
      "|       29.0|  50.350825344387985|\n",
      "|       36.0|   43.40140823624128|\n",
      "|       40.0|   44.91104289997568|\n",
      "|       28.0|   33.59411919998406|\n",
      "|       23.0|  28.384846277482637|\n",
      "|       11.0|  27.878247221612643|\n",
      "|       11.0|   20.66292053123138|\n",
      "|        2.0|   39.69351113155497|\n",
      "|       11.0|   42.02774010344223|\n",
      "|       21.0|   36.07286706247362|\n",
      "|       19.0|   47.46675225106138|\n",
      "|       29.0|  25.903005833436605|\n",
      "|       33.0|  19.097105408365366|\n",
      "|        8.0|   21.19777599915526|\n",
      "|        9.0|  24.783298662297398|\n",
      "|        7.0|  31.300771442857194|\n",
      "|        9.0|   33.75736050861141|\n",
      "|        3.0|   38.48612624629614|\n",
      "|       47.0|   46.46423631922923|\n",
      "|       34.0|   42.14721274715061|\n",
      "|       56.0|   48.43583234858049|\n",
      "|       66.0|   36.99461976712401|\n",
      "|       49.0|  26.639423469510202|\n",
      "|       30.0|   26.62902634185531|\n",
      "+-----------+--------------------+\n",
      "only showing top 150 rows\n",
      "\n"
     ]
    }
   ],
   "source": [
    "pred_lr.select(['total_cases','prediction']).show(150)"
   ]
  },
  {
   "cell_type": "code",
   "execution_count": 57,
   "metadata": {},
   "outputs": [
    {
     "name": "stdout",
     "output_type": "stream",
     "text": [
      "rmse = 27.151 / r2 = 0.259\n"
     ]
    }
   ],
   "source": [
    "rmse = model_lr.summary.rootMeanSquaredError\n",
    "r2 = model_lr.summary.r2\n",
    "\n",
    "print(\"rmse = {:.3f} / r2 = {:.3f}\".format(rmse, r2))"
   ]
  },
  {
   "cell_type": "code",
   "execution_count": 67,
   "metadata": {},
   "outputs": [
    {
     "name": "stdout",
     "output_type": "stream",
     "text": [
      "rmse = 25.434\n"
     ]
    }
   ],
   "source": [
    "evaluator = RegressionEvaluator(labelCol='total_cases',\n",
    "                                predictionCol='prediction',\n",
    "                                metricName='rmse')\n",
    "\n",
    "rmse_lr = evaluator.evaluate(pred_lr)\n",
    "\n",
    "print(\"rmse = {:.3f}\".format(rmse_lr))"
   ]
  },
  {
   "cell_type": "markdown",
   "metadata": {},
   "source": [
    "### Random forest"
   ]
  },
  {
   "cell_type": "code",
   "execution_count": 69,
   "metadata": {},
   "outputs": [],
   "source": [
    "rf = RandomForestRegressor(featuresCol='scaled_features', labelCol='total_cases')"
   ]
  },
  {
   "cell_type": "code",
   "execution_count": 70,
   "metadata": {},
   "outputs": [],
   "source": [
    "model_rf = rf.fit(train)"
   ]
  },
  {
   "cell_type": "code",
   "execution_count": 71,
   "metadata": {},
   "outputs": [],
   "source": [
    "pred_rf = model_rf.transform(test)"
   ]
  },
  {
   "cell_type": "code",
   "execution_count": 72,
   "metadata": {},
   "outputs": [
    {
     "name": "stdout",
     "output_type": "stream",
     "text": [
      "rmse = 23.168\n"
     ]
    }
   ],
   "source": [
    "rmse_rf = evaluator.evaluate(pred_rf)\n",
    "\n",
    "print(\"rmse = {:.3f}\".format(rmse_rf))"
   ]
  },
  {
   "cell_type": "markdown",
   "metadata": {},
   "source": [
    "### Logistic regression\n"
   ]
  },
  {
   "cell_type": "code",
   "execution_count": 74,
   "metadata": {},
   "outputs": [
    {
     "name": "stdout",
     "output_type": "stream",
     "text": [
      "rmse = 44.594\n"
     ]
    }
   ],
   "source": [
    "logr = LogisticRegression(featuresCol='scaled_features',\n",
    "                          labelCol='total_cases')\n",
    "\n",
    "model_logr = logr.fit(train)\n",
    "\n",
    "pred_logr = model_logr.transform(test)\n",
    "\n",
    "rmse_logr = evaluator.evaluate(pred_logr)\n",
    "\n",
    "print(\"rmse = {:.3f}\".format(rmse_logr))"
   ]
  },
  {
   "cell_type": "code",
   "execution_count": null,
   "metadata": {},
   "outputs": [],
   "source": []
  },
  {
   "cell_type": "code",
   "execution_count": 77,
   "metadata": {},
   "outputs": [
    {
     "ename": "Py4JJavaError",
     "evalue": "An error occurred while calling o1654.cache.\n: java.lang.OutOfMemoryError: GC overhead limit exceeded\n\tat org.apache.spark.sql.catalyst.trees.TreeNode.mapChildren(TreeNode.scala:304)\n\tat org.apache.spark.sql.catalyst.trees.TreeNode.transformDown(TreeNode.scala:272)\n\tat org.apache.spark.sql.catalyst.trees.TreeNode$$anonfun$transformDown$1.apply(TreeNode.scala:272)\n\tat org.apache.spark.sql.catalyst.trees.TreeNode$$anonfun$transformDown$1.apply(TreeNode.scala:272)\n\tat org.apache.spark.sql.catalyst.trees.TreeNode$$anonfun$4$$anonfun$apply$11.apply(TreeNode.scala:335)\n\tat scala.collection.TraversableLike$$anonfun$map$1.apply(TraversableLike.scala:234)\n\tat scala.collection.TraversableLike$$anonfun$map$1.apply(TraversableLike.scala:234)\n\tat scala.collection.mutable.ResizableArray$class.foreach(ResizableArray.scala:59)\n\tat scala.collection.mutable.ArrayBuffer.foreach(ArrayBuffer.scala:48)\n\tat scala.collection.TraversableLike$class.map(TraversableLike.scala:234)\n\tat scala.collection.AbstractTraversable.map(Traversable.scala:104)\n\tat org.apache.spark.sql.catalyst.trees.TreeNode$$anonfun$4.apply(TreeNode.scala:333)\n\tat org.apache.spark.sql.catalyst.trees.TreeNode.mapProductIterator(TreeNode.scala:187)\n\tat org.apache.spark.sql.catalyst.trees.TreeNode.mapChildren(TreeNode.scala:304)\n\tat org.apache.spark.sql.catalyst.trees.TreeNode.transformDown(TreeNode.scala:272)\n\tat org.apache.spark.sql.catalyst.trees.TreeNode.transform(TreeNode.scala:256)\n\tat org.apache.spark.sql.catalyst.plans.logical.UnaryNode$$anonfun$getAliasedConstraints$1$$anonfun$apply$5.apply(LogicalPlan.scala:254)\n\tat org.apache.spark.sql.catalyst.plans.logical.UnaryNode$$anonfun$getAliasedConstraints$1$$anonfun$apply$5.apply(LogicalPlan.scala:254)\n\tat scala.collection.TraversableLike$$anonfun$map$1.apply(TraversableLike.scala:234)\n\tat scala.collection.TraversableLike$$anonfun$map$1.apply(TraversableLike.scala:234)\n\tat scala.collection.Iterator$class.foreach(Iterator.scala:893)\n\tat scala.collection.AbstractIterator.foreach(Iterator.scala:1336)\n\tat scala.collection.IterableLike$class.foreach(IterableLike.scala:72)\n\tat org.apache.spark.sql.catalyst.expressions.ExpressionSet.foreach(ExpressionSet.scala:55)\n\tat scala.collection.TraversableLike$class.map(TraversableLike.scala:234)\n\tat org.apache.spark.sql.catalyst.expressions.ExpressionSet.scala$collection$SetLike$$super$map(ExpressionSet.scala:55)\n\tat scala.collection.SetLike$class.map(SetLike.scala:92)\n\tat org.apache.spark.sql.catalyst.expressions.ExpressionSet.map(ExpressionSet.scala:55)\n\tat org.apache.spark.sql.catalyst.plans.logical.UnaryNode$$anonfun$getAliasedConstraints$1.apply(LogicalPlan.scala:254)\n\tat org.apache.spark.sql.catalyst.plans.logical.UnaryNode$$anonfun$getAliasedConstraints$1.apply(LogicalPlan.scala:249)\n\tat scala.collection.mutable.ResizableArray$class.foreach(ResizableArray.scala:59)\n\tat scala.collection.mutable.ArrayBuffer.foreach(ArrayBuffer.scala:48)\n",
     "output_type": "error",
     "traceback": [
      "\u001b[0;31m---------------------------------------------------------------------------\u001b[0m",
      "\u001b[0;31mPy4JJavaError\u001b[0m                             Traceback (most recent call last)",
      "\u001b[0;32m<ipython-input-77-dd020ea2f932>\u001b[0m in \u001b[0;36m<module>\u001b[0;34m\u001b[0m\n\u001b[1;32m     12\u001b[0m \u001b[0;34m\u001b[0m\u001b[0m\n\u001b[1;32m     13\u001b[0m \u001b[0;31m# Run cross-validation, and choose the best set of parameters.\u001b[0m\u001b[0;34m\u001b[0m\u001b[0;34m\u001b[0m\u001b[0;34m\u001b[0m\u001b[0m\n\u001b[0;32m---> 14\u001b[0;31m \u001b[0mmodel_cv\u001b[0m \u001b[0;34m=\u001b[0m \u001b[0mcv\u001b[0m\u001b[0;34m.\u001b[0m\u001b[0mfit\u001b[0m\u001b[0;34m(\u001b[0m\u001b[0mtrain\u001b[0m\u001b[0;34m)\u001b[0m\u001b[0;34m\u001b[0m\u001b[0;34m\u001b[0m\u001b[0m\n\u001b[0m\u001b[1;32m     15\u001b[0m \u001b[0;34m\u001b[0m\u001b[0m\n\u001b[1;32m     16\u001b[0m \u001b[0;31m# Make predictions on test data. model is the model with combination of parameters\u001b[0m\u001b[0;34m\u001b[0m\u001b[0;34m\u001b[0m\u001b[0;34m\u001b[0m\u001b[0m\n",
      "\u001b[0;32m/mnt/c/spark/spark-2.3.4-bin-hadoop2.7/python/pyspark/ml/base.py\u001b[0m in \u001b[0;36mfit\u001b[0;34m(self, dataset, params)\u001b[0m\n\u001b[1;32m    130\u001b[0m                 \u001b[0;32mreturn\u001b[0m \u001b[0mself\u001b[0m\u001b[0;34m.\u001b[0m\u001b[0mcopy\u001b[0m\u001b[0;34m(\u001b[0m\u001b[0mparams\u001b[0m\u001b[0;34m)\u001b[0m\u001b[0;34m.\u001b[0m\u001b[0m_fit\u001b[0m\u001b[0;34m(\u001b[0m\u001b[0mdataset\u001b[0m\u001b[0;34m)\u001b[0m\u001b[0;34m\u001b[0m\u001b[0;34m\u001b[0m\u001b[0m\n\u001b[1;32m    131\u001b[0m             \u001b[0;32melse\u001b[0m\u001b[0;34m:\u001b[0m\u001b[0;34m\u001b[0m\u001b[0;34m\u001b[0m\u001b[0m\n\u001b[0;32m--> 132\u001b[0;31m                 \u001b[0;32mreturn\u001b[0m \u001b[0mself\u001b[0m\u001b[0;34m.\u001b[0m\u001b[0m_fit\u001b[0m\u001b[0;34m(\u001b[0m\u001b[0mdataset\u001b[0m\u001b[0;34m)\u001b[0m\u001b[0;34m\u001b[0m\u001b[0;34m\u001b[0m\u001b[0m\n\u001b[0m\u001b[1;32m    133\u001b[0m         \u001b[0;32melse\u001b[0m\u001b[0;34m:\u001b[0m\u001b[0;34m\u001b[0m\u001b[0;34m\u001b[0m\u001b[0m\n\u001b[1;32m    134\u001b[0m             raise ValueError(\"Params must be either a param map or a list/tuple of param maps, \"\n",
      "\u001b[0;32m/mnt/c/spark/spark-2.3.4-bin-hadoop2.7/python/pyspark/ml/tuning.py\u001b[0m in \u001b[0;36m_fit\u001b[0;34m(self, dataset)\u001b[0m\n\u001b[1;32m    286\u001b[0m             \u001b[0mvalidateUB\u001b[0m \u001b[0;34m=\u001b[0m \u001b[0;34m(\u001b[0m\u001b[0mi\u001b[0m \u001b[0;34m+\u001b[0m \u001b[0;36m1\u001b[0m\u001b[0;34m)\u001b[0m \u001b[0;34m*\u001b[0m \u001b[0mh\u001b[0m\u001b[0;34m\u001b[0m\u001b[0;34m\u001b[0m\u001b[0m\n\u001b[1;32m    287\u001b[0m             \u001b[0mcondition\u001b[0m \u001b[0;34m=\u001b[0m \u001b[0;34m(\u001b[0m\u001b[0mdf\u001b[0m\u001b[0;34m[\u001b[0m\u001b[0mrandCol\u001b[0m\u001b[0;34m]\u001b[0m \u001b[0;34m>=\u001b[0m \u001b[0mvalidateLB\u001b[0m\u001b[0;34m)\u001b[0m \u001b[0;34m&\u001b[0m \u001b[0;34m(\u001b[0m\u001b[0mdf\u001b[0m\u001b[0;34m[\u001b[0m\u001b[0mrandCol\u001b[0m\u001b[0;34m]\u001b[0m \u001b[0;34m<\u001b[0m \u001b[0mvalidateUB\u001b[0m\u001b[0;34m)\u001b[0m\u001b[0;34m\u001b[0m\u001b[0;34m\u001b[0m\u001b[0m\n\u001b[0;32m--> 288\u001b[0;31m             \u001b[0mvalidation\u001b[0m \u001b[0;34m=\u001b[0m \u001b[0mdf\u001b[0m\u001b[0;34m.\u001b[0m\u001b[0mfilter\u001b[0m\u001b[0;34m(\u001b[0m\u001b[0mcondition\u001b[0m\u001b[0;34m)\u001b[0m\u001b[0;34m.\u001b[0m\u001b[0mcache\u001b[0m\u001b[0;34m(\u001b[0m\u001b[0;34m)\u001b[0m\u001b[0;34m\u001b[0m\u001b[0;34m\u001b[0m\u001b[0m\n\u001b[0m\u001b[1;32m    289\u001b[0m             \u001b[0mtrain\u001b[0m \u001b[0;34m=\u001b[0m \u001b[0mdf\u001b[0m\u001b[0;34m.\u001b[0m\u001b[0mfilter\u001b[0m\u001b[0;34m(\u001b[0m\u001b[0;34m~\u001b[0m\u001b[0mcondition\u001b[0m\u001b[0;34m)\u001b[0m\u001b[0;34m.\u001b[0m\u001b[0mcache\u001b[0m\u001b[0;34m(\u001b[0m\u001b[0;34m)\u001b[0m\u001b[0;34m\u001b[0m\u001b[0;34m\u001b[0m\u001b[0m\n\u001b[1;32m    290\u001b[0m \u001b[0;34m\u001b[0m\u001b[0m\n",
      "\u001b[0;32m/mnt/c/spark/spark-2.3.4-bin-hadoop2.7/python/pyspark/sql/dataframe.py\u001b[0m in \u001b[0;36mcache\u001b[0;34m(self)\u001b[0m\n\u001b[1;32m    536\u001b[0m         \"\"\"\n\u001b[1;32m    537\u001b[0m         \u001b[0mself\u001b[0m\u001b[0;34m.\u001b[0m\u001b[0mis_cached\u001b[0m \u001b[0;34m=\u001b[0m \u001b[0;32mTrue\u001b[0m\u001b[0;34m\u001b[0m\u001b[0;34m\u001b[0m\u001b[0m\n\u001b[0;32m--> 538\u001b[0;31m         \u001b[0mself\u001b[0m\u001b[0;34m.\u001b[0m\u001b[0m_jdf\u001b[0m\u001b[0;34m.\u001b[0m\u001b[0mcache\u001b[0m\u001b[0;34m(\u001b[0m\u001b[0;34m)\u001b[0m\u001b[0;34m\u001b[0m\u001b[0;34m\u001b[0m\u001b[0m\n\u001b[0m\u001b[1;32m    539\u001b[0m         \u001b[0;32mreturn\u001b[0m \u001b[0mself\u001b[0m\u001b[0;34m\u001b[0m\u001b[0;34m\u001b[0m\u001b[0m\n\u001b[1;32m    540\u001b[0m \u001b[0;34m\u001b[0m\u001b[0m\n",
      "\u001b[0;32m/mnt/c/spark/spark-2.3.4-bin-hadoop2.7/python/lib/py4j-0.10.7-src.zip/py4j/java_gateway.py\u001b[0m in \u001b[0;36m__call__\u001b[0;34m(self, *args)\u001b[0m\n\u001b[1;32m   1255\u001b[0m         \u001b[0manswer\u001b[0m \u001b[0;34m=\u001b[0m \u001b[0mself\u001b[0m\u001b[0;34m.\u001b[0m\u001b[0mgateway_client\u001b[0m\u001b[0;34m.\u001b[0m\u001b[0msend_command\u001b[0m\u001b[0;34m(\u001b[0m\u001b[0mcommand\u001b[0m\u001b[0;34m)\u001b[0m\u001b[0;34m\u001b[0m\u001b[0;34m\u001b[0m\u001b[0m\n\u001b[1;32m   1256\u001b[0m         return_value = get_return_value(\n\u001b[0;32m-> 1257\u001b[0;31m             answer, self.gateway_client, self.target_id, self.name)\n\u001b[0m\u001b[1;32m   1258\u001b[0m \u001b[0;34m\u001b[0m\u001b[0m\n\u001b[1;32m   1259\u001b[0m         \u001b[0;32mfor\u001b[0m \u001b[0mtemp_arg\u001b[0m \u001b[0;32min\u001b[0m \u001b[0mtemp_args\u001b[0m\u001b[0;34m:\u001b[0m\u001b[0;34m\u001b[0m\u001b[0;34m\u001b[0m\u001b[0m\n",
      "\u001b[0;32m/mnt/c/spark/spark-2.3.4-bin-hadoop2.7/python/pyspark/sql/utils.py\u001b[0m in \u001b[0;36mdeco\u001b[0;34m(*a, **kw)\u001b[0m\n\u001b[1;32m     61\u001b[0m     \u001b[0;32mdef\u001b[0m \u001b[0mdeco\u001b[0m\u001b[0;34m(\u001b[0m\u001b[0;34m*\u001b[0m\u001b[0ma\u001b[0m\u001b[0;34m,\u001b[0m \u001b[0;34m**\u001b[0m\u001b[0mkw\u001b[0m\u001b[0;34m)\u001b[0m\u001b[0;34m:\u001b[0m\u001b[0;34m\u001b[0m\u001b[0;34m\u001b[0m\u001b[0m\n\u001b[1;32m     62\u001b[0m         \u001b[0;32mtry\u001b[0m\u001b[0;34m:\u001b[0m\u001b[0;34m\u001b[0m\u001b[0;34m\u001b[0m\u001b[0m\n\u001b[0;32m---> 63\u001b[0;31m             \u001b[0;32mreturn\u001b[0m \u001b[0mf\u001b[0m\u001b[0;34m(\u001b[0m\u001b[0;34m*\u001b[0m\u001b[0ma\u001b[0m\u001b[0;34m,\u001b[0m \u001b[0;34m**\u001b[0m\u001b[0mkw\u001b[0m\u001b[0;34m)\u001b[0m\u001b[0;34m\u001b[0m\u001b[0;34m\u001b[0m\u001b[0m\n\u001b[0m\u001b[1;32m     64\u001b[0m         \u001b[0;32mexcept\u001b[0m \u001b[0mpy4j\u001b[0m\u001b[0;34m.\u001b[0m\u001b[0mprotocol\u001b[0m\u001b[0;34m.\u001b[0m\u001b[0mPy4JJavaError\u001b[0m \u001b[0;32mas\u001b[0m \u001b[0me\u001b[0m\u001b[0;34m:\u001b[0m\u001b[0;34m\u001b[0m\u001b[0;34m\u001b[0m\u001b[0m\n\u001b[1;32m     65\u001b[0m             \u001b[0ms\u001b[0m \u001b[0;34m=\u001b[0m \u001b[0me\u001b[0m\u001b[0;34m.\u001b[0m\u001b[0mjava_exception\u001b[0m\u001b[0;34m.\u001b[0m\u001b[0mtoString\u001b[0m\u001b[0;34m(\u001b[0m\u001b[0;34m)\u001b[0m\u001b[0;34m\u001b[0m\u001b[0;34m\u001b[0m\u001b[0m\n",
      "\u001b[0;32m/mnt/c/spark/spark-2.3.4-bin-hadoop2.7/python/lib/py4j-0.10.7-src.zip/py4j/protocol.py\u001b[0m in \u001b[0;36mget_return_value\u001b[0;34m(answer, gateway_client, target_id, name)\u001b[0m\n\u001b[1;32m    326\u001b[0m                 raise Py4JJavaError(\n\u001b[1;32m    327\u001b[0m                     \u001b[0;34m\"An error occurred while calling {0}{1}{2}.\\n\"\u001b[0m\u001b[0;34m.\u001b[0m\u001b[0;34m\u001b[0m\u001b[0;34m\u001b[0m\u001b[0m\n\u001b[0;32m--> 328\u001b[0;31m                     format(target_id, \".\", name), value)\n\u001b[0m\u001b[1;32m    329\u001b[0m             \u001b[0;32melse\u001b[0m\u001b[0;34m:\u001b[0m\u001b[0;34m\u001b[0m\u001b[0;34m\u001b[0m\u001b[0m\n\u001b[1;32m    330\u001b[0m                 raise Py4JError(\n",
      "\u001b[0;31mPy4JJavaError\u001b[0m: An error occurred while calling o1654.cache.\n: java.lang.OutOfMemoryError: GC overhead limit exceeded\n\tat org.apache.spark.sql.catalyst.trees.TreeNode.mapChildren(TreeNode.scala:304)\n\tat org.apache.spark.sql.catalyst.trees.TreeNode.transformDown(TreeNode.scala:272)\n\tat org.apache.spark.sql.catalyst.trees.TreeNode$$anonfun$transformDown$1.apply(TreeNode.scala:272)\n\tat org.apache.spark.sql.catalyst.trees.TreeNode$$anonfun$transformDown$1.apply(TreeNode.scala:272)\n\tat org.apache.spark.sql.catalyst.trees.TreeNode$$anonfun$4$$anonfun$apply$11.apply(TreeNode.scala:335)\n\tat scala.collection.TraversableLike$$anonfun$map$1.apply(TraversableLike.scala:234)\n\tat scala.collection.TraversableLike$$anonfun$map$1.apply(TraversableLike.scala:234)\n\tat scala.collection.mutable.ResizableArray$class.foreach(ResizableArray.scala:59)\n\tat scala.collection.mutable.ArrayBuffer.foreach(ArrayBuffer.scala:48)\n\tat scala.collection.TraversableLike$class.map(TraversableLike.scala:234)\n\tat scala.collection.AbstractTraversable.map(Traversable.scala:104)\n\tat org.apache.spark.sql.catalyst.trees.TreeNode$$anonfun$4.apply(TreeNode.scala:333)\n\tat org.apache.spark.sql.catalyst.trees.TreeNode.mapProductIterator(TreeNode.scala:187)\n\tat org.apache.spark.sql.catalyst.trees.TreeNode.mapChildren(TreeNode.scala:304)\n\tat org.apache.spark.sql.catalyst.trees.TreeNode.transformDown(TreeNode.scala:272)\n\tat org.apache.spark.sql.catalyst.trees.TreeNode.transform(TreeNode.scala:256)\n\tat org.apache.spark.sql.catalyst.plans.logical.UnaryNode$$anonfun$getAliasedConstraints$1$$anonfun$apply$5.apply(LogicalPlan.scala:254)\n\tat org.apache.spark.sql.catalyst.plans.logical.UnaryNode$$anonfun$getAliasedConstraints$1$$anonfun$apply$5.apply(LogicalPlan.scala:254)\n\tat scala.collection.TraversableLike$$anonfun$map$1.apply(TraversableLike.scala:234)\n\tat scala.collection.TraversableLike$$anonfun$map$1.apply(TraversableLike.scala:234)\n\tat scala.collection.Iterator$class.foreach(Iterator.scala:893)\n\tat scala.collection.AbstractIterator.foreach(Iterator.scala:1336)\n\tat scala.collection.IterableLike$class.foreach(IterableLike.scala:72)\n\tat org.apache.spark.sql.catalyst.expressions.ExpressionSet.foreach(ExpressionSet.scala:55)\n\tat scala.collection.TraversableLike$class.map(TraversableLike.scala:234)\n\tat org.apache.spark.sql.catalyst.expressions.ExpressionSet.scala$collection$SetLike$$super$map(ExpressionSet.scala:55)\n\tat scala.collection.SetLike$class.map(SetLike.scala:92)\n\tat org.apache.spark.sql.catalyst.expressions.ExpressionSet.map(ExpressionSet.scala:55)\n\tat org.apache.spark.sql.catalyst.plans.logical.UnaryNode$$anonfun$getAliasedConstraints$1.apply(LogicalPlan.scala:254)\n\tat org.apache.spark.sql.catalyst.plans.logical.UnaryNode$$anonfun$getAliasedConstraints$1.apply(LogicalPlan.scala:249)\n\tat scala.collection.mutable.ResizableArray$class.foreach(ResizableArray.scala:59)\n\tat scala.collection.mutable.ArrayBuffer.foreach(ArrayBuffer.scala:48)\n"
     ]
    }
   ],
   "source": [
    "# Create ParamGrid for cross validation\n",
    "paramGrid = ParamGridBuilder() \\\n",
    "        .addGrid(lr.regParam, [0.1, 0.01]) \\\n",
    "        .addGrid(lr.fitIntercept, [False, True]) \\\n",
    "        .addGrid(lr.elasticNetParam, [0.0, 0.5, 1.0]) \\\n",
    "        .build()\n",
    "\n",
    "cv = CrossValidator(estimator=logr,\n",
    "                    estimatorParamMaps=paramGrid,\n",
    "                    evaluator=evaluator,\n",
    "                    numFolds=5)  # use 3+ folds in practice\n",
    "\n",
    "# Run cross-validation, and choose the best set of parameters.\n",
    "model_cv = cv.fit(train)\n",
    "\n",
    "# Make predictions on test data. model is the model with combination of parameters\n",
    "# that performed best.\n",
    "predictions_cv = model_cv.transform(test)"
   ]
  },
  {
   "cell_type": "code",
   "execution_count": null,
   "metadata": {},
   "outputs": [],
   "source": [
    "result_CV = evaluator.evaluate(predictions_cv)\n",
    "\n",
    "print(\"CV::rmse = {:.4f}\".format(result_cv))"
   ]
  }
 ],
 "metadata": {
  "kernelspec": {
   "display_name": "Python 3",
   "language": "python",
   "name": "python3"
  },
  "language_info": {
   "codemirror_mode": {
    "name": "ipython",
    "version": 3
   },
   "file_extension": ".py",
   "mimetype": "text/x-python",
   "name": "python",
   "nbconvert_exporter": "python",
   "pygments_lexer": "ipython3",
   "version": "3.7.4"
  }
 },
 "nbformat": 4,
 "nbformat_minor": 2
}
