{
 "cells": [
  {
   "cell_type": "code",
   "execution_count": 115,
   "metadata": {},
   "outputs": [],
   "source": [
    "import pandas as pd\n",
    "import numpy as np\n",
    "from sklearn.metrics import mean_absolute_error\n",
    "from pyspark import SparkContext\n",
    "from pyspark.sql import SparkSession\n",
    "from pyspark.ml.regression import LinearRegression\n",
    "from pyspark.ml.regression import RandomForestRegressor\n",
    "from pyspark.ml.feature import VectorAssembler, StringIndexer, OneHotEncoder, StandardScaler\n",
    "from pyspark.ml.evaluation import RegressionEvaluator"
   ]
  },
  {
   "cell_type": "code",
   "execution_count": 93,
   "metadata": {},
   "outputs": [],
   "source": [
    "spark = SparkSession.builder.appName(\"dengue\").getOrCreate()"
   ]
  },
  {
   "cell_type": "code",
   "execution_count": 94,
   "metadata": {},
   "outputs": [],
   "source": [
    "df_features = spark.read.csv(\"dengue_features_train.csv\", header=True)\n",
    "#df_features['month'] = df_features['week_start_date'][5:7]\n",
    "df_features = df_features.drop('precipitation_amt_mm','week_start_date')"
   ]
  },
  {
   "cell_type": "code",
   "execution_count": 95,
   "metadata": {},
   "outputs": [],
   "source": [
    "df_labels = spark.read.csv(\"dengue_labels_train.csv\", header=True)\n"
   ]
  },
  {
   "cell_type": "code",
   "execution_count": 96,
   "metadata": {},
   "outputs": [],
   "source": [
    "df_train = df_features.join(df_labels, ['city', 'year', 'weekofyear'])"
   ]
  },
  {
   "cell_type": "code",
   "execution_count": 99,
   "metadata": {},
   "outputs": [],
   "source": [
    "\n",
    "for col_name in df_train.columns:\n",
    "    if col_name not in ['city']:\n",
    "        df_train = df_train.withColumn(col_name, df_train[col_name].cast('float'))\n",
    "df_train = df_train.dropna()"
   ]
  },
  {
   "cell_type": "code",
   "execution_count": null,
   "metadata": {},
   "outputs": [],
   "source": []
  },
  {
   "cell_type": "code",
   "execution_count": 100,
   "metadata": {},
   "outputs": [],
   "source": [
    "indexer = StringIndexer(inputCol='city', outputCol='city_')\n",
    "df_train = indexer.fit(df_train).transform(df_train)\n",
    "\n",
    "encoder = OneHotEncoder(inputCol='city_', outputCol='cityVect')\n",
    "df_train = encoder.transform(df_train)"
   ]
  },
  {
   "cell_type": "code",
   "execution_count": 101,
   "metadata": {},
   "outputs": [],
   "source": [
    "lr_features = ['year', 'weekofyear', 'ndvi_ne', 'ndvi_nw', 'ndvi_se',\n",
    "               'ndvi_sw','reanalysis_air_temp_k','reanalysis_avg_temp_k',\n",
    "               'reanalysis_dew_point_temp_k', 'reanalysis_max_air_temp_k',\n",
    "               'reanalysis_min_air_temp_k', 'reanalysis_precip_amt_kg_per_m2',\n",
    "            'reanalysis_relative_humidity_percent', 'reanalysis_sat_precip_amt_mm', \n",
    "               'reanalysis_specific_humidity_g_per_kg', 'reanalysis_tdtr_k',\n",
    "               'station_avg_temp_c','station_diur_temp_rng_c',\n",
    "               'station_max_temp_c', 'station_min_temp_c', 'station_precip_mm', 'cityVect']"
   ]
  },
  {
   "cell_type": "code",
   "execution_count": 102,
   "metadata": {},
   "outputs": [],
   "source": [
    "vectorAssembler = VectorAssembler(inputCols=lr_features, outputCol = 'features')"
   ]
  },
  {
   "cell_type": "code",
   "execution_count": 103,
   "metadata": {},
   "outputs": [
    {
     "name": "stdout",
     "output_type": "stream",
     "text": [
      "+--------------------+\n",
      "|            features|\n",
      "+--------------------+\n",
      "|[1990.0,18.0,0.12...|\n",
      "|[1990.0,19.0,0.16...|\n",
      "|[1990.0,20.0,0.03...|\n",
      "|[1990.0,21.0,0.12...|\n",
      "|[1990.0,22.0,0.19...|\n",
      "|[1990.0,24.0,0.11...|\n",
      "|[1990.0,25.0,0.07...|\n",
      "|[1990.0,26.0,0.10...|\n",
      "|[1990.0,28.0,0.19...|\n",
      "|[1990.0,29.0,0.29...|\n",
      "+--------------------+\n",
      "only showing top 10 rows\n",
      "\n"
     ]
    }
   ],
   "source": [
    "df_train_vectorised = vectorAssembler.transform(df_train)\n",
    "df_train_vectorised.select('features').show(10)"
   ]
  },
  {
   "cell_type": "code",
   "execution_count": 104,
   "metadata": {},
   "outputs": [],
   "source": [
    "scaler = StandardScaler(inputCol='features', outputCol=\"scaled_features\", withStd=True, withMean=True)\n",
    "scaler_model = scaler.fit(df_train_vectorised)\n",
    "df_train = scaler_model.transform(df_train_vectorised)"
   ]
  },
  {
   "cell_type": "code",
   "execution_count": null,
   "metadata": {},
   "outputs": [],
   "source": []
  },
  {
   "cell_type": "code",
   "execution_count": 119,
   "metadata": {},
   "outputs": [],
   "source": [
    "splits = df_train.randomSplit([0.75, 0.25])\n",
    "train_df = splits[0]\n",
    "test_df = splits[1]"
   ]
  },
  {
   "cell_type": "code",
   "execution_count": null,
   "metadata": {},
   "outputs": [],
   "source": []
  },
  {
   "cell_type": "code",
   "execution_count": 107,
   "metadata": {},
   "outputs": [],
   "source": [
    "lr = LinearRegression(featuresCol='scaled_features', labelCol='total_cases')"
   ]
  },
  {
   "cell_type": "code",
   "execution_count": 108,
   "metadata": {},
   "outputs": [],
   "source": [
    "model_lr = lr.fit(train_df)"
   ]
  },
  {
   "cell_type": "code",
   "execution_count": 109,
   "metadata": {},
   "outputs": [],
   "source": [
    "test_df = model_lr.transform(test_df)"
   ]
  },
  {
   "cell_type": "code",
   "execution_count": 110,
   "metadata": {},
   "outputs": [
    {
     "name": "stdout",
     "output_type": "stream",
     "text": [
      "+-----------+--------------------+\n",
      "|total_cases|          prediction|\n",
      "+-----------+--------------------+\n",
      "|        0.0|   6.573863360729053|\n",
      "|        0.0|   4.493926022235431|\n",
      "|        0.0|   4.776195158121112|\n",
      "|        1.0|  3.0849789830742758|\n",
      "|        1.0|   5.937561869777575|\n",
      "|        0.0|   9.885911717792286|\n",
      "|        0.0|  25.509083241742033|\n",
      "|        0.0|  20.817448281709503|\n",
      "|        0.0|   5.842732919124536|\n",
      "|        0.0|  3.1478864231767005|\n",
      "|        0.0| -1.2409707570119544|\n",
      "|        0.0| -0.8129613452059523|\n",
      "|        0.0| 0.09587239138740955|\n",
      "|        0.0|  5.9069486280872106|\n",
      "|        0.0|  17.980440420836352|\n",
      "|        0.0|   21.97157315586058|\n",
      "|        0.0|   8.439627466836544|\n",
      "|        1.0|   9.231121518592335|\n",
      "|        0.0|  -4.758254880110517|\n",
      "|        0.0|   4.885094912018268|\n",
      "|        0.0|  3.5166695427551744|\n",
      "|        0.0|   4.296730498068296|\n",
      "|        0.0|  14.294515592965304|\n",
      "|        1.0|   27.81042384624338|\n",
      "|        1.0|  18.160321916563746|\n",
      "|        4.0|   42.52199842276103|\n",
      "|       16.0|   6.241807699451302|\n",
      "|       14.0|   4.043189290906788|\n",
      "|       13.0|  12.722402927083897|\n",
      "|       11.0|   2.073903782883402|\n",
      "|       11.0|    8.79982811306646|\n",
      "|        3.0|   2.169176032238898|\n",
      "|        5.0| -1.9931864995198865|\n",
      "|       18.0|  15.688438707595733|\n",
      "|       21.0|  22.977033462438154|\n",
      "|        2.0|  0.8181106583968507|\n",
      "|        1.0|   10.35170922895816|\n",
      "|        2.0|   8.316511411826777|\n",
      "|        0.0|   12.55851878185067|\n",
      "|        0.0|  10.893441724404173|\n",
      "|        2.0|   6.554392009901219|\n",
      "|        6.0| -2.8950657711402634|\n",
      "|        1.0| -3.5750076245236073|\n",
      "|        0.0|   -5.42611249544818|\n",
      "|        0.0|  15.286964678875734|\n",
      "|        2.0|   21.45265364206801|\n",
      "|        6.0|   21.78805061653768|\n",
      "|        5.0|   5.625195370977746|\n",
      "|        8.0|    14.9719032129535|\n",
      "|        3.0| -1.3997449967410986|\n",
      "|        1.0|  6.5340701999175685|\n",
      "|        7.0|   17.17528578424598|\n",
      "|        6.0|    6.14451865911651|\n",
      "|        7.0|  -1.168592596835179|\n",
      "|        8.0|  1.0458842309563678|\n",
      "|        6.0|  21.191258879754255|\n",
      "|       22.0|  17.167303364327317|\n",
      "|       10.0|   5.571575473125499|\n",
      "|       11.0|   8.122204293188748|\n",
      "|        8.0|   6.864917827056358|\n",
      "|        7.0| -3.3012888447212703|\n",
      "|        3.0|   5.160746608456293|\n",
      "|        5.0| -2.1235075807151915|\n",
      "|        0.0|   3.610803195637555|\n",
      "|        0.0| -1.5760759212528157|\n",
      "|        3.0|   31.94528694222496|\n",
      "|       28.0|0.023956742045580626|\n",
      "|       12.0|   3.908798164451376|\n",
      "|        8.0|   7.286722600241596|\n",
      "|        6.0|  0.8302322991703832|\n",
      "|        2.0|  -2.122431835594618|\n",
      "|        2.0|  -2.547979079547904|\n",
      "|        2.0|  0.6805618287381954|\n",
      "|        7.0|  22.235286718758847|\n",
      "|        4.0|  29.812725074220104|\n",
      "|        2.0|   32.45957767054177|\n",
      "|       13.0|    7.25692800921197|\n",
      "|       14.0|   1.376941605412572|\n",
      "|       10.0|  11.453778701661122|\n",
      "|       12.0|   4.102649661657335|\n",
      "|        9.0|  -5.437283558292865|\n",
      "|        3.0|   6.009637989264384|\n",
      "|        8.0|  -4.121901465840615|\n",
      "|        1.0|   12.46923473396964|\n",
      "|        6.0|  -1.464194195816372|\n",
      "|       11.0|   8.596412653184302|\n",
      "|        9.0|  -1.005538153543803|\n",
      "|        3.0|  7.6909984717292765|\n",
      "|        3.0|   3.241987999195022|\n",
      "|        1.0| -3.9558980243758555|\n",
      "|        0.0| -3.7989485755727586|\n",
      "|        2.0|  1.6918224301846791|\n",
      "|        5.0|  -6.876384434456281|\n",
      "|       35.0|  21.234164584973815|\n",
      "|       13.0|   27.63501950421943|\n",
      "|       11.0|   4.260874343874249|\n",
      "|        9.0|-0.08308308537566234|\n",
      "|       11.0|  1.6755690578300282|\n",
      "|        3.0|   3.509935525395342|\n",
      "|        5.0|   8.376375254256661|\n",
      "|        4.0|-0.38809226788387363|\n",
      "|        1.0|  -1.782745171731964|\n",
      "|        2.0|    2.99360584369472|\n",
      "|        5.0|  -9.140109861923325|\n",
      "|        1.0|  -9.493481798349134|\n",
      "|        0.0|  -10.20181503035456|\n",
      "|        2.0|-0.14444043317420352|\n",
      "|        2.0|  26.813550524265438|\n",
      "|        5.0|  14.692136592863923|\n",
      "|        4.0|   16.62474675537765|\n",
      "|       11.0|  2.1752380512411236|\n",
      "|        8.0|  13.035747235064978|\n",
      "|        4.0|   9.131878414380383|\n",
      "|        5.0|    46.3049555260758|\n",
      "|        6.0|   47.25333671803055|\n",
      "|       21.0|   51.91431182245031|\n",
      "|       28.0|   55.45336202610331|\n",
      "|       24.0|   51.57981421428319|\n",
      "|       40.0|   50.66697289243297|\n",
      "|       37.0|  47.860582676353715|\n",
      "|       71.0|   55.77914135989134|\n",
      "|       37.0|   26.42372899509561|\n",
      "|       17.0|   18.82526365042079|\n",
      "|       18.0|  23.017319984446843|\n",
      "|       23.0|  30.045700430052136|\n",
      "|       12.0|   34.51785264932384|\n",
      "|       21.0|   38.89599202698899|\n",
      "|       18.0|   46.61435926462621|\n",
      "|       89.0|  57.098426790087906|\n",
      "|      127.0|   47.15927707294679|\n",
      "|      141.0|   41.54646138672372|\n",
      "|      104.0|  26.786543734108022|\n",
      "|       90.0|  24.877137885883904|\n",
      "|       26.0|   32.06875848906869|\n",
      "|       29.0|   44.77197065144436|\n",
      "|       70.0|   45.42031851540812|\n",
      "|       61.0|   46.69721832717225|\n",
      "|       44.0|   50.92191052318168|\n",
      "|       34.0|   39.39750050825957|\n",
      "|       60.0|  45.176707765024176|\n",
      "|       60.0|   42.52966683763752|\n",
      "|       21.0|  20.565879923094535|\n",
      "|       17.0|   33.86899044297349|\n",
      "|       23.0|   43.69724587518105|\n",
      "|       27.0|   44.86496829306618|\n",
      "|       18.0|   51.38918550948856|\n",
      "|       29.0|   48.35789543124108|\n",
      "|       46.0|  44.177843015446186|\n",
      "|       31.0|   36.50239557413853|\n",
      "|       25.0|   39.80133016806806|\n",
      "+-----------+--------------------+\n",
      "only showing top 150 rows\n",
      "\n"
     ]
    }
   ],
   "source": [
    "test_df.select(['total_cases','prediction']).show(150)"
   ]
  },
  {
   "cell_type": "code",
   "execution_count": 54,
   "metadata": {},
   "outputs": [
    {
     "data": {
      "text/plain": [
       "41.9691519980088"
      ]
     },
     "execution_count": 54,
     "metadata": {},
     "output_type": "execute_result"
    }
   ],
   "source": [
    "model_lr.summary.rootMeanSquaredError"
   ]
  },
  {
   "cell_type": "code",
   "execution_count": 114,
   "metadata": {},
   "outputs": [
    {
     "data": {
      "text/plain": [
       "0.24919849722816678"
      ]
     },
     "execution_count": 114,
     "metadata": {},
     "output_type": "execute_result"
    }
   ],
   "source": [
    "model_lr.summary.r2\n"
   ]
  },
  {
   "cell_type": "code",
   "execution_count": 112,
   "metadata": {},
   "outputs": [],
   "source": [
    "evaluator = RegressionEvaluator(labelCol='total_cases', predictionCol='prediction',\n",
    "                               metricName='mae')"
   ]
  },
  {
   "cell_type": "code",
   "execution_count": 113,
   "metadata": {},
   "outputs": [
    {
     "data": {
      "text/plain": [
       "15.078247695333266"
      ]
     },
     "execution_count": 113,
     "metadata": {},
     "output_type": "execute_result"
    }
   ],
   "source": [
    "evaluator.evaluate(test_df)"
   ]
  },
  {
   "cell_type": "code",
   "execution_count": 116,
   "metadata": {},
   "outputs": [],
   "source": [
    "rf = RandomForestRegressor(featuresCol='scaled_features', labelCol='total_cases')"
   ]
  },
  {
   "cell_type": "code",
   "execution_count": 117,
   "metadata": {},
   "outputs": [],
   "source": [
    "model_rf = rf.fit(train_df)"
   ]
  },
  {
   "cell_type": "code",
   "execution_count": 120,
   "metadata": {},
   "outputs": [],
   "source": [
    "test_df_rf = model_rf.transform(test_df)"
   ]
  },
  {
   "cell_type": "code",
   "execution_count": 121,
   "metadata": {},
   "outputs": [
    {
     "data": {
      "text/plain": [
       "9.646417440133542"
      ]
     },
     "execution_count": 121,
     "metadata": {},
     "output_type": "execute_result"
    }
   ],
   "source": [
    "evaluator.evaluate(test_df_rf)"
   ]
  },
  {
   "cell_type": "code",
   "execution_count": null,
   "metadata": {},
   "outputs": [],
   "source": []
  }
 ],
 "metadata": {
  "kernelspec": {
   "display_name": "Python 3",
   "language": "python",
   "name": "python3"
  },
  "language_info": {
   "codemirror_mode": {
    "name": "ipython",
    "version": 3
   },
   "file_extension": ".py",
   "mimetype": "text/x-python",
   "name": "python",
   "nbconvert_exporter": "python",
   "pygments_lexer": "ipython3",
   "version": "3.7.3"
  }
 },
 "nbformat": 4,
 "nbformat_minor": 2
}
