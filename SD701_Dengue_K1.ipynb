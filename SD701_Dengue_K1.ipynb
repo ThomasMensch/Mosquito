{
 "cells": [
  {
   "cell_type": "markdown",
   "metadata": {},
   "source": [
    "\n",
    "\n",
    "https://www.drivendata.org/competitions/44/dengai-predicting-disease-spread/\n",
    "\n",
    "https://www.cdc.gov/dengue/\n",
    "\n",
    "Site de la NOAA mis en place pour ce challenge:\n",
    "\n",
    "https://dengueforecasting.noaa.gov/\n",
    "\n",
    "### Goal\n",
    "\n",
    "Predict the number of dengue cases each week (in each location) based on environmental variables describing changes in temperature, precipitation, vegetation, and more."
   ]
  },
  {
   "cell_type": "code",
   "execution_count": 4,
   "metadata": {},
   "outputs": [],
   "source": [
    "# Load pyspark\n",
    "import findspark\n",
    "\n",
    "findspark.init()\n",
    "\n",
    "from pyspark import SparkContext\n",
    "\n",
    "from pyspark.sql.functions import abs, to_date\n",
    "from pyspark.ml.tuning import CrossValidator\n",
    "from pyspark.ml.tuning import ParamGridBuilder\n",
    "from pyspark.ml.evaluation import RegressionEvaluator\n",
    "from pyspark.ml.feature import VectorAssembler, StringIndexer, OneHotEncoder, StandardScaler\n",
    "from pyspark.ml.classification import LogisticRegression\n",
    "from pyspark.ml.regression import RandomForestRegressor\n",
    "from pyspark.ml.regression import LinearRegression\n",
    "from pyspark.sql import SparkSession"
   ]
  },
  {
   "cell_type": "code",
   "execution_count": 5,
   "metadata": {},
   "outputs": [],
   "source": [
    "# Other modules\n",
    "import numpy as np\n",
    "\n",
    "from sklearn.metrics import mean_absolute_error"
   ]
  },
  {
   "cell_type": "code",
   "execution_count": 6,
   "metadata": {},
   "outputs": [],
   "source": [
    "# create spark context\n",
    "\n",
    "spark = SparkSession.builder.appName(\"dengue\").getOrCreate()"
   ]
  },
  {
   "cell_type": "markdown",
   "metadata": {},
   "source": [
    "### Chargement des données"
   ]
  },
  {
   "cell_type": "code",
   "execution_count": 8,
   "metadata": {},
   "outputs": [],
   "source": [
    "path_to_data = \"data/\"\n",
    "\n",
    "features_train = spark.read.csv(path_to_data + \"dengue_features_train.csv\",\n",
    "                                header=True)\n",
    "\n",
    "labels_train = spark.read.csv(path_to_data + \"dengue_labels_train.csv\",\n",
    "                              header=True)"
   ]
  },
  {
   "cell_type": "markdown",
   "metadata": {},
   "source": [
    "### Description des données\n",
    "\n",
    "Your goal is to predict the total_cases label for each (`city`, `year`, `weekofyear`) in the test set. \n",
    "There are two cities, *San Juan* and *Iquitos*, with test data for each city spanning 5 and 3 years respectively.\n",
    "You will make one submission that contains predictions for both cities.\n",
    "The data for each city have been concatenated along with a city column indicating the source: `sj` for San Juan and `iq` for Iquitos. \n",
    "The test set is a pure future hold-out, meaning the test data are sequential and non-overlapping with any of the training data.\n",
    "Throughout, missing values have been filled as `NaN`s.\n",
    "\n",
    "#### The features in this dataset\n",
    "\n",
    "You are provided the following set of information on a (`year`, `weekofyear`) timescale:\n",
    "\n",
    "(Where appropriate, units are provided as a `_unit` suffix on the feature name.)\n",
    "\n",
    "*City and date indicators*\n",
    "\n",
    " - `city` – City abbreviations: `sj` for San Juan and `iq` for Iquitos\n",
    " - `week_start_date` – Date given in yyyy-mm-dd format\n",
    "\n",
    "*NOAA's GHCN daily climate data weather station measurements*\n",
    "\n",
    " - `station_max_temp_c` – Maximum temperature\n",
    " - `station_min_temp_c` – Minimum temperature\n",
    " - `station_avg_temp_c` – Average temperature\n",
    " - `station_precip_mm` – Total precipitation\n",
    " - `station_diur_temp_rng_c` – Diurnal temperature range\n",
    " \n",
    "*PERSIANN satellite precipitation measurements (0.25x0.25 degree scale)*\n",
    "\n",
    " - `precipitation_amt_mm` – Total precipitation\n",
    "\n",
    "*NOAA's NCEP Climate Forecast System Reanalysis measurements (0.5x0.5 degree scale)*\n",
    "\n",
    " - `reanalysis_sat_precip_amt_mm` – Total precipitation\n",
    " - `reanalysis_dew_point_temp_k` – Mean dew point temperature\n",
    " - `reanalysis_air_temp_k` – Mean air temperature\n",
    " - `reanalysis_relative_humidity_percent` – Mean relative humidity\n",
    " - `reanalysis_specific_humidity_g_per_kg` – Mean specific humidity\n",
    " - `reanalysis_precip_amt_kg_per_m2` – Total precipitation\n",
    " - `reanalysis_max_air_temp_k` – Maximum air temperature\n",
    " - `reanalysis_min_air_temp_k` – Minimum air temperature\n",
    " - `reanalysis_avg_temp_k` – Average air temperature\n",
    " - `reanalysis_tdtr_k` – Diurnal temperature range\n",
    "\n",
    "*Satellite vegetation - Normalized difference vegetation index (NDVI) - NOAA's CDR Normalized Difference Vegetation Index (0.5x0.5 degree scale) measurements*\n",
    "\n",
    " - `ndvi_se` – Pixel southeast of city centroid\n",
    " - `ndvi_sw` – Pixel southwest of city centroid\n",
    " - `ndvi_ne` – Pixel northeast of city centroid\n",
    " - `ndvi_nw` – Pixel northwest of city centroid\n"
   ]
  },
  {
   "cell_type": "code",
   "execution_count": 9,
   "metadata": {},
   "outputs": [
    {
     "name": "stdout",
     "output_type": "stream",
     "text": [
      "features_train = (1456, 24)\n",
      "root\n",
      " |-- city: string (nullable = true)\n",
      " |-- year: string (nullable = true)\n",
      " |-- weekofyear: string (nullable = true)\n",
      " |-- week_start_date: string (nullable = true)\n",
      " |-- ndvi_ne: string (nullable = true)\n",
      " |-- ndvi_nw: string (nullable = true)\n",
      " |-- ndvi_se: string (nullable = true)\n",
      " |-- ndvi_sw: string (nullable = true)\n",
      " |-- precipitation_amt_mm: string (nullable = true)\n",
      " |-- reanalysis_air_temp_k: string (nullable = true)\n",
      " |-- reanalysis_avg_temp_k: string (nullable = true)\n",
      " |-- reanalysis_dew_point_temp_k: string (nullable = true)\n",
      " |-- reanalysis_max_air_temp_k: string (nullable = true)\n",
      " |-- reanalysis_min_air_temp_k: string (nullable = true)\n",
      " |-- reanalysis_precip_amt_kg_per_m2: string (nullable = true)\n",
      " |-- reanalysis_relative_humidity_percent: string (nullable = true)\n",
      " |-- reanalysis_sat_precip_amt_mm: string (nullable = true)\n",
      " |-- reanalysis_specific_humidity_g_per_kg: string (nullable = true)\n",
      " |-- reanalysis_tdtr_k: string (nullable = true)\n",
      " |-- station_avg_temp_c: string (nullable = true)\n",
      " |-- station_diur_temp_rng_c: string (nullable = true)\n",
      " |-- station_max_temp_c: string (nullable = true)\n",
      " |-- station_min_temp_c: string (nullable = true)\n",
      " |-- station_precip_mm: string (nullable = true)\n",
      "\n"
     ]
    }
   ],
   "source": [
    "print(\"features_train = ({}, {})\".format(features_train.count(), len(features_train.columns)))\n",
    "\n",
    "features_train.printSchema()"
   ]
  },
  {
   "cell_type": "code",
   "execution_count": 10,
   "metadata": {},
   "outputs": [
    {
     "name": "stdout",
     "output_type": "stream",
     "text": [
      "labels_train = (1456, 4)\n",
      "root\n",
      " |-- city: string (nullable = true)\n",
      " |-- year: string (nullable = true)\n",
      " |-- weekofyear: string (nullable = true)\n",
      " |-- total_cases: string (nullable = true)\n",
      "\n"
     ]
    }
   ],
   "source": [
    "print(\"labels_train = ({}, {})\".format(\n",
    "    labels_train.count(), len(labels_train.columns)))\n",
    "\n",
    "labels_train.printSchema()"
   ]
  },
  {
   "cell_type": "markdown",
   "metadata": {},
   "source": [
    "We join the 2 datasets."
   ]
  },
  {
   "cell_type": "code",
   "execution_count": 11,
   "metadata": {},
   "outputs": [],
   "source": [
    "df_train = features_train.join(labels_train, ['city', 'year', 'weekofyear'])"
   ]
  },
  {
   "cell_type": "code",
   "execution_count": 12,
   "metadata": {},
   "outputs": [
    {
     "name": "stdout",
     "output_type": "stream",
     "text": [
      "df_train = (1456, 25)\n",
      "root\n",
      " |-- city: string (nullable = true)\n",
      " |-- year: string (nullable = true)\n",
      " |-- weekofyear: string (nullable = true)\n",
      " |-- week_start_date: string (nullable = true)\n",
      " |-- ndvi_ne: string (nullable = true)\n",
      " |-- ndvi_nw: string (nullable = true)\n",
      " |-- ndvi_se: string (nullable = true)\n",
      " |-- ndvi_sw: string (nullable = true)\n",
      " |-- precipitation_amt_mm: string (nullable = true)\n",
      " |-- reanalysis_air_temp_k: string (nullable = true)\n",
      " |-- reanalysis_avg_temp_k: string (nullable = true)\n",
      " |-- reanalysis_dew_point_temp_k: string (nullable = true)\n",
      " |-- reanalysis_max_air_temp_k: string (nullable = true)\n",
      " |-- reanalysis_min_air_temp_k: string (nullable = true)\n",
      " |-- reanalysis_precip_amt_kg_per_m2: string (nullable = true)\n",
      " |-- reanalysis_relative_humidity_percent: string (nullable = true)\n",
      " |-- reanalysis_sat_precip_amt_mm: string (nullable = true)\n",
      " |-- reanalysis_specific_humidity_g_per_kg: string (nullable = true)\n",
      " |-- reanalysis_tdtr_k: string (nullable = true)\n",
      " |-- station_avg_temp_c: string (nullable = true)\n",
      " |-- station_diur_temp_rng_c: string (nullable = true)\n",
      " |-- station_max_temp_c: string (nullable = true)\n",
      " |-- station_min_temp_c: string (nullable = true)\n",
      " |-- station_precip_mm: string (nullable = true)\n",
      " |-- total_cases: string (nullable = true)\n",
      "\n"
     ]
    }
   ],
   "source": [
    "print(\"df_train = ({}, {})\".format(df_train.count(), len(df_train.columns)))\n",
    "\n",
    "df_train.printSchema()"
   ]
  },
  {
   "cell_type": "markdown",
   "metadata": {},
   "source": [
    "### Nettoyage"
   ]
  },
  {
   "cell_type": "code",
   "execution_count": 13,
   "metadata": {},
   "outputs": [
    {
     "name": "stdout",
     "output_type": "stream",
     "text": [
      "+----+----------+---------------+--------------------+----------------------------+\n",
      "|year|weekofyear|week_start_date|precipitation_amt_mm|reanalysis_sat_precip_amt_mm|\n",
      "+----+----------+---------------+--------------------+----------------------------+\n",
      "|1990|        18|     1990-04-30|               12.42|                       12.42|\n",
      "|1990|        19|     1990-05-07|               22.82|                       22.82|\n",
      "|1990|        20|     1990-05-14|               34.54|                       34.54|\n",
      "|1990|        21|     1990-05-21|               15.36|                       15.36|\n",
      "|1990|        22|     1990-05-28|                7.52|                        7.52|\n",
      "|1990|        23|     1990-06-04|                9.58|                        9.58|\n",
      "|1990|        24|     1990-06-11|                3.48|                        3.48|\n",
      "|1990|        25|     1990-06-18|              151.12|                      151.12|\n",
      "|1990|        26|     1990-06-25|               19.32|                       19.32|\n",
      "|1990|        27|     1990-07-02|               14.41|                       14.41|\n",
      "|1990|        28|     1990-07-09|               22.27|                       22.27|\n",
      "|1990|        29|     1990-07-16|               59.17|                       59.17|\n",
      "|1990|        30|     1990-07-23|               16.48|                       16.48|\n",
      "|1990|        31|     1990-07-30|               32.66|                       32.66|\n",
      "|1990|        32|     1990-08-06|                28.8|                        28.8|\n",
      "|1990|        33|     1990-08-13|               90.75|                       90.75|\n",
      "|1990|        34|     1990-08-20|                32.4|                        32.4|\n",
      "|1990|        35|     1990-08-27|               40.94|                       40.94|\n",
      "|1990|        36|     1990-09-03|               28.86|                       28.86|\n",
      "|1990|        37|     1990-09-10|               64.56|                       64.56|\n",
      "|1990|        38|     1990-09-17|              143.73|                      143.73|\n",
      "|1990|        39|     1990-09-24|               51.39|                       51.39|\n",
      "|1990|        40|     1990-10-01|               31.18|                       31.18|\n",
      "|1990|        41|     1990-10-08|               51.42|                       51.42|\n",
      "|1990|        42|     1990-10-15|              143.55|                      143.55|\n",
      "|1990|        43|     1990-10-22|              127.03|                      127.03|\n",
      "|1990|        44|     1990-10-29|              101.35|                      101.35|\n",
      "|1990|        45|     1990-11-05|               20.46|                       20.46|\n",
      "|1990|        46|     1990-11-12|                20.0|                        20.0|\n",
      "|1990|        47|     1990-11-19|               20.04|                       20.04|\n",
      "|1990|        48|     1990-11-26|               33.61|                       33.61|\n",
      "|1990|        49|     1990-12-03|                9.96|                        9.96|\n",
      "|1990|        50|     1990-12-10|                 0.0|                         0.0|\n",
      "|1990|        51|     1990-12-17|               52.45|                       52.45|\n",
      "|1990|        52|     1990-12-24|                 0.0|                         0.0|\n",
      "|1991|         1|     1991-01-01|                 0.0|                         0.0|\n",
      "|1991|         2|     1991-01-08|               15.85|                       15.85|\n",
      "|1991|         3|     1991-01-15|                 0.0|                         0.0|\n",
      "|1991|         4|     1991-01-22|                 0.0|                         0.0|\n",
      "|1991|         5|     1991-01-29|                 0.0|                         0.0|\n",
      "|1991|         6|     1991-02-05|                 0.0|                         0.0|\n",
      "|1991|         7|     1991-02-12|               18.05|                       18.05|\n",
      "|1991|         8|     1991-02-19|                 0.0|                         0.0|\n",
      "|1991|         9|     1991-02-26|               31.79|                       31.79|\n",
      "|1991|        10|     1991-03-05|                 0.0|                         0.0|\n",
      "|1991|        11|     1991-03-12|                 0.0|                         0.0|\n",
      "|1991|        12|     1991-03-19|                 0.0|                         0.0|\n",
      "|1991|        13|     1991-03-26|                 0.0|                         0.0|\n",
      "|1991|        14|     1991-04-02|               12.92|                       12.92|\n",
      "|1991|        15|     1991-04-09|                 6.0|                         6.0|\n",
      "+----+----------+---------------+--------------------+----------------------------+\n",
      "only showing top 50 rows\n",
      "\n"
     ]
    }
   ],
   "source": [
    "df_train.select('year', 'weekofyear', 'week_start_date',\n",
    "                'precipitation_amt_mm', 'reanalysis_sat_precip_amt_mm') \\\n",
    "    .show(50)"
   ]
  },
  {
   "cell_type": "code",
   "execution_count": 14,
   "metadata": {},
   "outputs": [],
   "source": [
    "# The 2 columns 'precipitation_amt_mm' and 'reanalysis_sat_precip_amt_mm' are the same\n",
    "# we drop 'precipitation_amt_mm'\n",
    "\n",
    "df_train = df_train.drop('precipitation_amt_mm')"
   ]
  },
  {
   "cell_type": "code",
   "execution_count": 15,
   "metadata": {},
   "outputs": [],
   "source": [
    "# recast 'week_start_date' as a date. Nice to have for plotting\n",
    "df_train = df_train.withColumn('week_start_date', to_date('week_start_date', 'yyyy-MM-dd'))"
   ]
  },
  {
   "cell_type": "code",
   "execution_count": 16,
   "metadata": {},
   "outputs": [
    {
     "name": "stdout",
     "output_type": "stream",
     "text": [
      "root\n",
      " |-- city: string (nullable = true)\n",
      " |-- year: string (nullable = true)\n",
      " |-- weekofyear: string (nullable = true)\n",
      " |-- week_start_date: date (nullable = true)\n",
      " |-- ndvi_ne: string (nullable = true)\n",
      " |-- ndvi_nw: string (nullable = true)\n",
      " |-- ndvi_se: string (nullable = true)\n",
      " |-- ndvi_sw: string (nullable = true)\n",
      " |-- reanalysis_air_temp_k: string (nullable = true)\n",
      " |-- reanalysis_avg_temp_k: string (nullable = true)\n",
      " |-- reanalysis_dew_point_temp_k: string (nullable = true)\n",
      " |-- reanalysis_max_air_temp_k: string (nullable = true)\n",
      " |-- reanalysis_min_air_temp_k: string (nullable = true)\n",
      " |-- reanalysis_precip_amt_kg_per_m2: string (nullable = true)\n",
      " |-- reanalysis_relative_humidity_percent: string (nullable = true)\n",
      " |-- reanalysis_sat_precip_amt_mm: string (nullable = true)\n",
      " |-- reanalysis_specific_humidity_g_per_kg: string (nullable = true)\n",
      " |-- reanalysis_tdtr_k: string (nullable = true)\n",
      " |-- station_avg_temp_c: string (nullable = true)\n",
      " |-- station_diur_temp_rng_c: string (nullable = true)\n",
      " |-- station_max_temp_c: string (nullable = true)\n",
      " |-- station_min_temp_c: string (nullable = true)\n",
      " |-- station_precip_mm: string (nullable = true)\n",
      " |-- total_cases: string (nullable = true)\n",
      "\n"
     ]
    }
   ],
   "source": [
    "df_train.printSchema()"
   ]
  },
  {
   "cell_type": "code",
   "execution_count": 17,
   "metadata": {},
   "outputs": [],
   "source": [
    "# cast column to float\n",
    "for col_name in df_train.columns:\n",
    "    if col_name not in ['city', 'week_start_date']:\n",
    "        df_train = df_train.withColumn(col_name, df_train[col_name].cast('float'))"
   ]
  },
  {
   "cell_type": "code",
   "execution_count": 18,
   "metadata": {},
   "outputs": [],
   "source": [
    "# drop na value\n",
    "df_train = df_train.dropna()"
   ]
  },
  {
   "cell_type": "code",
   "execution_count": 19,
   "metadata": {},
   "outputs": [],
   "source": [
    "# We could also replace NaN with mean value\n",
    "# FAIRE une udf\n",
    "\n",
    "# function to fill values with the mean\n",
    "#def fillna_with_mean(df):\n",
    "#    for col in df:\n",
    "#        if col not in ['city']:\n",
    "#            df[col].fillna(df[col].mean(), inplace=True)\n"
   ]
  },
  {
   "cell_type": "code",
   "execution_count": 20,
   "metadata": {},
   "outputs": [
    {
     "name": "stdout",
     "output_type": "stream",
     "text": [
      "+----+------+----------+---------------+---------+---------+---------+---------+---------------------+---------------------+---------------------------+-------------------------+-------------------------+-------------------------------+------------------------------------+----------------------------+-------------------------------------+-----------------+------------------+-----------------------+------------------+------------------+-----------------+-----------+\n",
      "|city|  year|weekofyear|week_start_date|  ndvi_ne|  ndvi_nw|  ndvi_se|  ndvi_sw|reanalysis_air_temp_k|reanalysis_avg_temp_k|reanalysis_dew_point_temp_k|reanalysis_max_air_temp_k|reanalysis_min_air_temp_k|reanalysis_precip_amt_kg_per_m2|reanalysis_relative_humidity_percent|reanalysis_sat_precip_amt_mm|reanalysis_specific_humidity_g_per_kg|reanalysis_tdtr_k|station_avg_temp_c|station_diur_temp_rng_c|station_max_temp_c|station_min_temp_c|station_precip_mm|total_cases|\n",
      "+----+------+----------+---------------+---------+---------+---------+---------+---------------------+---------------------+---------------------------+-------------------------+-------------------------+-------------------------------+------------------------------------+----------------------------+-------------------------------------+-----------------+------------------+-----------------------+------------------+------------------+-----------------+-----------+\n",
      "|  sj|1990.0|      18.0|     1990-04-30|   0.1226| 0.103725|0.1984833|0.1776167|            297.57285|            297.74286|                  292.41428|                    299.8|                    295.9|                           32.0|                           73.365715|                       12.42|                            14.012857|        2.6285715|         25.442858|                    6.9|              29.4|              20.0|             16.0|        4.0|\n",
      "|  sj|1990.0|      19.0|     1990-05-07|   0.1699| 0.142175|0.1623571|0.1554857|            298.21143|            298.44287|                  293.95142|                    300.9|                    296.4|                          17.94|                            77.36857|                       22.82|                            15.372857|        2.3714285|         26.714285|              6.3714285|              31.7|              22.2|              8.6|        5.0|\n",
      "|  sj|1990.0|      20.0|     1990-05-14|  0.03225|0.1729667|   0.1572|0.1708429|            298.78143|            298.87857|                   295.4343|                    300.5|                    297.3|                           26.1|                            82.05286|                       34.54|                            16.848572|              2.3|         26.714285|              6.4857144|              32.2|              22.8|             41.4|        4.0|\n",
      "|  sj|1990.0|      21.0|     1990-05-21|0.1286333|0.2450667|0.2275571|0.2358857|            298.98715|            299.22858|                     295.31|                    301.4|                    297.0|                           13.9|                            80.33714|                       15.36|                            16.672857|        2.4285715|         27.471428|              6.7714286|              33.3|              23.3|              4.0|        3.0|\n",
      "|  sj|1990.0|      22.0|     1990-05-28|   0.1962|   0.2622|   0.2512|  0.24734|             299.5186|            299.66428|                  295.82144|                    301.9|                    297.5|                           12.2|                               80.46|                        7.52|                                17.21|        3.0142858|         28.942858|              9.3714285|              35.0|              23.9|              5.8|        6.0|\n",
      "|  sj|1990.0|      24.0|     1990-06-11|   0.1129|   0.0928|0.2050714|0.2102714|            299.20715|            299.22144|                  295.86572|                    301.3|                    297.7|                           38.6|                                82.0|                        3.48|                            17.234285|        2.0428572|         27.414286|              6.7714286|              32.2|              23.3|             29.7|        4.0|\n",
      "|  sj|1990.0|      25.0|     1990-06-18|   0.0725|   0.0725|0.1514714|0.1330286|            299.59143|            299.52856|                  296.53143|                    300.6|                    298.4|                           30.0|                            83.37572|                      151.12|                            17.977142|        1.5714285|          28.37143|              7.6857142|              33.9|              22.8|             21.1|        5.0|\n",
      "|  sj|1990.0|      26.0|     1990-06-25|  0.10245| 0.146175|0.1255714|   0.1236|            299.57858|            299.55713|                  296.37857|                    302.1|                    297.7|                          37.51|                            82.76857|                       19.32|                                17.79|        1.8857143|         28.328571|               7.385714|              33.9|              22.8|             21.1|       10.0|\n",
      "|  sj|1990.0|      28.0|     1990-07-09| 0.192875|  0.08235|0.1919429|0.1529286|            299.51285|            299.59286|                  296.04144|                    301.8|                    298.0|                          43.72|                            81.46714|                       22.27|                            17.418571|        2.1571429|         27.557142|              7.1571426|              31.7|              21.7|             63.7|        8.0|\n",
      "|  sj|1990.0|      29.0|     1990-07-16|   0.2916|   0.2118|   0.3012|0.2806667|            299.66714|               299.75|                   296.3343|                    302.0|                    297.3|                           40.9|                            82.14429|                       59.17|                            17.737143|        2.4142857|          28.12857|                    6.9|              32.8|              23.9|             12.2|        2.0|\n",
      "|  sj|1990.0|      30.0|     1990-07-23|0.1505667|   0.1717|   0.2269|0.2145571|            299.55856|             299.6357|                     295.96|                    301.8|                    297.1|                          42.53|                            80.74286|                       16.48|                            17.341429|        2.0714285|         28.114286|               6.357143|              31.7|              22.8|             32.6|        6.0|\n",
      "|  sj|1990.0|      34.0|     1990-08-20|0.1902333|   0.1688|0.1676571|0.1722857|            300.33286|            300.41428|                  296.72858|                    302.5|                    298.1|                           25.9|                            80.94714|                        32.4|                            18.174286|        2.4857142|         28.342857|              7.0142856|              33.3|              23.3|              5.4|       21.0|\n",
      "|  sj|1990.0|      35.0|     1990-08-27|   0.2529|  0.33075|0.2641714|0.2843143|            300.11856|            300.22144|                  297.01715|                    302.2|                    298.7|                           39.8|                            83.34857|                       40.94|                            18.515715|              1.9|         28.657143|              6.5285716|              32.2|              24.4|             13.7|       28.0|\n",
      "|  sj|1990.0|      36.0|     1990-09-03|   0.2354| 0.200025|0.2838167|0.2304429|               300.53|             300.6357|                  296.11716|                    303.8|                    298.0|                           30.4|                            77.17286|                       28.86|                                17.56|        3.4714286|         28.328571|               7.614286|              32.8|              23.3|             14.2|       24.0|\n",
      "|  sj|1990.0|      37.0|     1990-09-10|0.1279667|   0.4371|   0.1234|0.1482833|             300.6743|            300.79285|                  297.19287|                    302.9|                    299.0|                          24.18|                            81.55143|                       64.56|                            18.777143|              2.9|         28.685715|               8.057143|              33.9|              24.4|             25.9|       20.0|\n",
      "|  sj|1990.0|      38.0|     1990-09-17|  0.19635|0.1824333|0.2548286|0.3056857|            299.85715|                299.9|                  296.43143|                    301.7|                    298.7|                           36.6|                           81.637146|                      143.73|                            17.892857|        1.7428571|         28.242857|               8.114285|              32.8|              23.9|              3.3|       40.0|\n",
      "|  sj|1990.0|      39.0|     1990-09-24|   0.1161|   0.2609|0.1994429|0.2442167|            300.42715|                300.6|                  296.02856|                    302.4|                    299.1|                           16.4|                            77.04857|                       51.39|                             17.46857|        2.2571428|         28.342857|              7.7285714|              32.8|              24.4|             15.8|       27.0|\n",
      "|  sj|1990.0|      40.0|     1990-10-01|  0.22855|  0.18975|0.2124857|0.2011857|            300.77573|               300.85|                  296.66428|                    303.3|                    299.1|                           36.1|                               78.52|                       31.18|                                18.18|              2.9|          28.77143|               8.028571|              33.3|              23.9|             11.7|       42.0|\n",
      "|  sj|1990.0|      41.0|     1990-10-08|  0.17115|  0.06755|0.1794667|0.1577167|            299.85715|            299.94287|                  296.92856|                    301.8|                    298.1|                          132.4|                               84.11|                       51.42|                            18.512857|        2.5714285|          28.62857|              7.3142858|              33.3|              24.4|             57.7|       33.0|\n",
      "|  sj|1990.0|      43.0|     1990-10-22|   0.1462|  0.08975|0.1288286|0.1239286|            298.90286|            299.04285|                  296.25714|                    300.9|                    297.2|                          94.52|                            85.50285|                      127.03|                                17.75|              1.8|          26.77143|              7.6285715|              32.2|              21.7|             91.5|       37.0|\n",
      "+----+------+----------+---------------+---------+---------+---------+---------+---------------------+---------------------+---------------------------+-------------------------+-------------------------+-------------------------------+------------------------------------+----------------------------+-------------------------------------+-----------------+------------------+-----------------------+------------------+------------------+-----------------+-----------+\n",
      "only showing top 20 rows\n",
      "\n"
     ]
    }
   ],
   "source": [
    "#print(\"size of the data: {}\".format(df_train.shape()))\n",
    "\n",
    "df_train.show()"
   ]
  },
  {
   "cell_type": "markdown",
   "metadata": {},
   "source": [
    "### Préparation des données"
   ]
  },
  {
   "cell_type": "code",
   "execution_count": 21,
   "metadata": {},
   "outputs": [],
   "source": [
    "indexer = StringIndexer(inputCol='city',\n",
    "                        outputCol='city_')\n",
    "\n",
    "df_train = indexer.fit(df_train).transform(df_train)\n",
    "\n",
    "encoder = OneHotEncoder(inputCol='city_', outputCol='cityVect')\n",
    "df_train = encoder.transform(df_train)"
   ]
  },
  {
   "cell_type": "code",
   "execution_count": 22,
   "metadata": {},
   "outputs": [],
   "source": [
    "df_train = df_train \\\n",
    "    .withColumn('ndvi_ne_abs', abs(df_train['ndvi_ne'])) \\\n",
    "    .withColumn('ndvi_nw_abs', abs(df_train['ndvi_nw'])) \\\n",
    "    .withColumn('ndvi_se_abs', abs(df_train['ndvi_se'])) \\\n",
    "    .withColumn('ndvi_sw_abs', abs(df_train['ndvi_sw']))"
   ]
  },
  {
   "cell_type": "code",
   "execution_count": 23,
   "metadata": {},
   "outputs": [
    {
     "name": "stdout",
     "output_type": "stream",
     "text": [
      "+---------+---------+----------+----------+-----------+-----------+-----------+-----------+\n",
      "|  ndvi_ne|  ndvi_nw|   ndvi_se|   ndvi_se|ndvi_ne_abs|ndvi_nw_abs|ndvi_se_abs|ndvi_se_abs|\n",
      "+---------+---------+----------+----------+-----------+-----------+-----------+-----------+\n",
      "|   0.1226| 0.103725| 0.1984833| 0.1984833|     0.1226|   0.103725|  0.1984833|  0.1984833|\n",
      "|   0.1699| 0.142175| 0.1623571| 0.1623571|     0.1699|   0.142175|  0.1623571|  0.1623571|\n",
      "|  0.03225|0.1729667|    0.1572|    0.1572|    0.03225|  0.1729667|     0.1572|     0.1572|\n",
      "|0.1286333|0.2450667| 0.2275571| 0.2275571|  0.1286333|  0.2450667|  0.2275571|  0.2275571|\n",
      "|   0.1962|   0.2622|    0.2512|    0.2512|     0.1962|     0.2622|     0.2512|     0.2512|\n",
      "|   0.1129|   0.0928| 0.2050714| 0.2050714|     0.1129|     0.0928|  0.2050714|  0.2050714|\n",
      "|   0.0725|   0.0725| 0.1514714| 0.1514714|     0.0725|     0.0725|  0.1514714|  0.1514714|\n",
      "|  0.10245| 0.146175| 0.1255714| 0.1255714|    0.10245|   0.146175|  0.1255714|  0.1255714|\n",
      "| 0.192875|  0.08235| 0.1919429| 0.1919429|   0.192875|    0.08235|  0.1919429|  0.1919429|\n",
      "|   0.2916|   0.2118|    0.3012|    0.3012|     0.2916|     0.2118|     0.3012|     0.3012|\n",
      "|0.1505667|   0.1717|    0.2269|    0.2269|  0.1505667|     0.1717|     0.2269|     0.2269|\n",
      "|0.1902333|   0.1688| 0.1676571| 0.1676571|  0.1902333|     0.1688|  0.1676571|  0.1676571|\n",
      "|   0.2529|  0.33075| 0.2641714| 0.2641714|     0.2529|    0.33075|  0.2641714|  0.2641714|\n",
      "|   0.2354| 0.200025| 0.2838167| 0.2838167|     0.2354|   0.200025|  0.2838167|  0.2838167|\n",
      "|0.1279667|   0.4371|    0.1234|    0.1234|  0.1279667|     0.4371|     0.1234|     0.1234|\n",
      "|  0.19635|0.1824333| 0.2548286| 0.2548286|    0.19635|  0.1824333|  0.2548286|  0.2548286|\n",
      "|   0.1161|   0.2609| 0.1994429| 0.1994429|     0.1161|     0.2609|  0.1994429|  0.1994429|\n",
      "|  0.22855|  0.18975| 0.2124857| 0.2124857|    0.22855|    0.18975|  0.2124857|  0.2124857|\n",
      "|  0.17115|  0.06755| 0.1794667| 0.1794667|    0.17115|    0.06755|  0.1794667|  0.1794667|\n",
      "|   0.1462|  0.08975| 0.1288286| 0.1288286|     0.1462|    0.08975|  0.1288286|  0.1288286|\n",
      "|  0.25225|0.1834333|     0.318|     0.318|    0.25225|  0.1834333|      0.318|      0.318|\n",
      "|   0.1526| 0.181775| 0.1783286| 0.1783286|     0.1526|   0.181775|  0.1783286|  0.1783286|\n",
      "|   0.2908|   0.2246| 0.1803857| 0.1803857|     0.2908|     0.2246|  0.1803857|  0.1803857|\n",
      "|   0.2722|  0.33035| 0.1316333| 0.1316333|     0.2722|    0.33035|  0.1316333|  0.1316333|\n",
      "|0.1367667| 0.216525| 0.1767857| 0.1767857|  0.1367667|   0.216525|  0.1767857|  0.1767857|\n",
      "|   0.1098|   0.0886| 0.2667833| 0.2667833|     0.1098|     0.0886|  0.2667833|  0.2667833|\n",
      "|  0.12135|  0.26166| 0.1913857| 0.1913857|    0.12135|    0.26166|  0.1913857|  0.1913857|\n",
      "|0.2931333|0.2668667| 0.2608571| 0.2608571|  0.2931333|  0.2668667|  0.2608571|  0.2608571|\n",
      "|   0.3025|0.2772333| 0.1712667| 0.1712667|     0.3025|  0.2772333|  0.1712667|  0.1712667|\n",
      "|   0.1465|0.1404667|    0.1515|    0.1515|     0.1465|  0.1404667|     0.1515|     0.1515|\n",
      "|   0.3313|0.3093333| 0.2210286| 0.2210286|     0.3313|  0.3093333|  0.2210286|  0.2210286|\n",
      "|   0.0917| 0.246425| 0.2438571| 0.2438571|     0.0917|   0.246425|  0.2438571|  0.2438571|\n",
      "|   0.3801|0.2285667| 0.2550429| 0.2550429|     0.3801|  0.2285667|  0.2550429|  0.2550429|\n",
      "|   0.0712|   0.2211| 0.2762429| 0.2762429|     0.0712|     0.2211|  0.2762429|  0.2762429|\n",
      "|   0.1702|   0.2086|   0.13752|   0.13752|     0.1702|     0.2086|    0.13752|    0.13752|\n",
      "|  0.21075|   0.2641| 0.2476857| 0.2476857|    0.21075|     0.2641|  0.2476857|  0.2476857|\n",
      "|   0.1279|   0.1784| 0.1470143| 0.1470143|     0.1279|     0.1784|  0.1470143|  0.1470143|\n",
      "|  0.28035| 0.223575| 0.2478833| 0.2478833|    0.28035|   0.223575|  0.2478833|  0.2478833|\n",
      "|   0.1691| 0.216825| 0.2605143| 0.2605143|     0.1691|   0.216825|  0.2605143|  0.2605143|\n",
      "|   0.1765|   0.2763| 0.1845333| 0.1845333|     0.1765|     0.2763|  0.1845333|  0.1845333|\n",
      "|   0.0774|   0.1024|   0.16355|   0.16355|     0.0774|     0.1024|    0.16355|    0.16355|\n",
      "|0.2091667| 0.160575| 0.1761714| 0.1761714|  0.2091667|   0.160575|  0.1761714|  0.1761714|\n",
      "|  0.11595| 0.180175| 0.1063857| 0.1063857|    0.11595|   0.180175|  0.1063857|  0.1063857|\n",
      "|   0.0669|0.1335667|0.09711667|0.09711667|     0.0669|  0.1335667| 0.09711667| 0.09711667|\n",
      "|   0.1401|0.1594667| 0.2143167| 0.2143167|     0.1401|  0.1594667|  0.2143167|  0.2143167|\n",
      "|  0.08585|    0.087|    0.1196|    0.1196|    0.08585|      0.087|     0.1196|     0.1196|\n",
      "|   0.1091|0.1564667| 0.1734286| 0.1734286|     0.1091|  0.1564667|  0.1734286|  0.1734286|\n",
      "|   0.0596|  0.09235| 0.1301286| 0.1301286|     0.0596|    0.09235|  0.1301286|  0.1301286|\n",
      "|  0.07965|    0.122| 0.1851143| 0.1851143|    0.07965|      0.122|  0.1851143|  0.1851143|\n",
      "|   0.0801|  0.00805| 0.1380333| 0.1380333|     0.0801|    0.00805|  0.1380333|  0.1380333|\n",
      "+---------+---------+----------+----------+-----------+-----------+-----------+-----------+\n",
      "only showing top 50 rows\n",
      "\n"
     ]
    }
   ],
   "source": [
    "df_train \\\n",
    "    .select('ndvi_ne', 'ndvi_nw', 'ndvi_se', 'ndvi_se', 'ndvi_ne_abs', 'ndvi_nw_abs', 'ndvi_se_abs', 'ndvi_se_abs') \\\n",
    "    .show(50)"
   ]
  },
  {
   "cell_type": "code",
   "execution_count": 24,
   "metadata": {},
   "outputs": [],
   "source": [
    "lr_features = ['year', 'weekofyear',\n",
    "               'ndvi_ne', 'ndvi_nw', 'ndvi_se', 'ndvi_sw',\n",
    "               'reanalysis_air_temp_k','reanalysis_avg_temp_k',\n",
    "               'reanalysis_dew_point_temp_k', 'reanalysis_max_air_temp_k',\n",
    "               'reanalysis_min_air_temp_k', 'reanalysis_precip_amt_kg_per_m2',\n",
    "               'reanalysis_relative_humidity_percent', 'reanalysis_sat_precip_amt_mm', \n",
    "               'reanalysis_specific_humidity_g_per_kg', 'reanalysis_tdtr_k',\n",
    "               'station_avg_temp_c','station_diur_temp_rng_c',\n",
    "               'station_max_temp_c', 'station_min_temp_c',\n",
    "               'station_precip_mm', 'cityVect']"
   ]
  },
  {
   "cell_type": "code",
   "execution_count": 25,
   "metadata": {},
   "outputs": [],
   "source": [
    "vectorAssembler = VectorAssembler(inputCols=lr_features, outputCol = 'features')"
   ]
  },
  {
   "cell_type": "code",
   "execution_count": 26,
   "metadata": {},
   "outputs": [
    {
     "name": "stdout",
     "output_type": "stream",
     "text": [
      "+--------------------+\n",
      "|            features|\n",
      "+--------------------+\n",
      "|[1990.0,18.0,0.12...|\n",
      "|[1990.0,19.0,0.16...|\n",
      "|[1990.0,20.0,0.03...|\n",
      "|[1990.0,21.0,0.12...|\n",
      "|[1990.0,22.0,0.19...|\n",
      "|[1990.0,24.0,0.11...|\n",
      "|[1990.0,25.0,0.07...|\n",
      "|[1990.0,26.0,0.10...|\n",
      "|[1990.0,28.0,0.19...|\n",
      "|[1990.0,29.0,0.29...|\n",
      "+--------------------+\n",
      "only showing top 10 rows\n",
      "\n"
     ]
    }
   ],
   "source": [
    "df_train_vectorised = vectorAssembler.transform(df_train)\n",
    "df_train_vectorised.select('features').show(10)"
   ]
  },
  {
   "cell_type": "code",
   "execution_count": 27,
   "metadata": {},
   "outputs": [],
   "source": [
    "scaler = StandardScaler(inputCol='features', outputCol=\"scaled_features\",\n",
    "                        withStd=True, withMean=True)\n",
    "\n",
    "scaler_model = scaler.fit(df_train_vectorised)\n",
    "\n",
    "df_train = scaler_model.transform(df_train_vectorised)"
   ]
  },
  {
   "cell_type": "code",
   "execution_count": 28,
   "metadata": {},
   "outputs": [],
   "source": [
    "train, test = df_train.randomSplit([0.8, 0.2], seed=42)"
   ]
  },
  {
   "cell_type": "code",
   "execution_count": 29,
   "metadata": {},
   "outputs": [],
   "source": [
    "lr = LinearRegression(featuresCol='scaled_features',\n",
    "                      labelCol='total_cases')"
   ]
  },
  {
   "cell_type": "code",
   "execution_count": 30,
   "metadata": {},
   "outputs": [],
   "source": [
    "model_lr = lr.fit(train)"
   ]
  },
  {
   "cell_type": "code",
   "execution_count": 31,
   "metadata": {},
   "outputs": [],
   "source": [
    "pred_lr = model_lr.transform(test)"
   ]
  },
  {
   "cell_type": "code",
   "execution_count": 32,
   "metadata": {},
   "outputs": [
    {
     "name": "stdout",
     "output_type": "stream",
     "text": [
      "+-----------+--------------------+\n",
      "|total_cases|          prediction|\n",
      "+-----------+--------------------+\n",
      "|        0.0|   6.030431526858896|\n",
      "|        0.0|   13.61870596353615|\n",
      "|        0.0|   0.686327739799399|\n",
      "|        0.0|   9.005785253557189|\n",
      "|        1.0|  1.8895961110443125|\n",
      "|        0.0|   9.224592653304002|\n",
      "|        0.0| -1.7899907901514638|\n",
      "|        0.0|   5.356461604192749|\n",
      "|        0.0|  -5.319194196427752|\n",
      "|        0.0|   4.354922355980015|\n",
      "|        0.0|   6.400502280258307|\n",
      "|       16.0|  1.9361692674875002|\n",
      "|       10.0|  16.046465116206647|\n",
      "|       10.0|     17.718635388772|\n",
      "|        4.0|   5.615116723911779|\n",
      "|        5.0| -2.2837708111909585|\n",
      "|        0.0|  25.433327360697934|\n",
      "|        1.0|   6.572743171989659|\n",
      "|        1.0|  0.5675129046281917|\n",
      "|        1.0|   6.989582962190848|\n",
      "|        0.0| -2.9075975638428737|\n",
      "|        2.0|   7.241111595167787|\n",
      "|        5.0|   24.86825683072162|\n",
      "|        8.0|  13.240566683100967|\n",
      "|        3.0|  -5.928593578295011|\n",
      "|        3.0|  2.7366709669279565|\n",
      "|        4.0|  16.497067108260435|\n",
      "|        6.0|  -3.538651182858505|\n",
      "|       13.0|0.041481529820849516|\n",
      "|       19.0|  12.774893244112404|\n",
      "|       16.0|   18.30318448797095|\n",
      "|       18.0|  22.104164768850254|\n",
      "|       13.0|  13.022925178703728|\n",
      "|        8.0|  11.977878838791003|\n",
      "|        3.0|   29.23888348480564|\n",
      "|       21.0|  13.585563024290705|\n",
      "|       26.0|   9.708546318818007|\n",
      "|       12.0|   5.985073337177882|\n",
      "|        9.0|   16.72762560092419|\n",
      "|        6.0|  1.8898067685652364|\n",
      "|        5.0|  -5.794950834996584|\n",
      "|        4.0|  7.8493645349988395|\n",
      "|        0.0|   6.026760129902289|\n",
      "|        6.0|   6.650552198573273|\n",
      "|        3.0| -10.299017714483362|\n",
      "|        6.0|  19.993815524072744|\n",
      "|        2.0|  26.501889026993787|\n",
      "|        8.0|  14.851232787711014|\n",
      "|        0.0|  12.813379060414597|\n",
      "|        6.0|   6.000243113355822|\n",
      "|       10.0|   8.943081340344541|\n",
      "|       12.0|  2.2549849713584464|\n",
      "|        5.0|  10.550836965602768|\n",
      "|        3.0|  -9.960792342293225|\n",
      "|        4.0|  -11.88707312445451|\n",
      "|        5.0|  -2.937131527284663|\n",
      "|        3.0| -10.369897185011041|\n",
      "|        7.0| -10.391649183329342|\n",
      "|        3.0|   6.489327758564331|\n",
      "|       26.0|   14.72797129329371|\n",
      "|       37.0|  -3.769312668358893|\n",
      "|        9.0|   2.660132931981572|\n",
      "|        1.0|  11.822295959749901|\n",
      "|        5.0|  -8.953938862678314|\n",
      "|        9.0|  -1.884474803931095|\n",
      "|       63.0|   9.741899534270557|\n",
      "|       13.0|  28.693179206899856|\n",
      "|       20.0| -1.6402756706262949|\n",
      "|       21.0|  -1.014808403148102|\n",
      "|        5.0|  -4.371324729847437|\n",
      "|        5.0|   8.661318375539327|\n",
      "|        2.0|   2.521096928651552|\n",
      "|        5.0| -11.367599339304029|\n",
      "|        0.0| 0.07706077091130581|\n",
      "|        7.0|  -8.477954436692443|\n",
      "|        2.0| -2.5319033088536855|\n",
      "|        2.0|  -5.238037483625348|\n",
      "|        1.0|   7.449247685816115|\n",
      "|        1.0|   16.51208793523543|\n",
      "|       12.0|  13.271709351385304|\n",
      "|       12.0|  23.118153728257493|\n",
      "|        9.0|   14.70147999264525|\n",
      "|        8.0|  16.300291775936252|\n",
      "|        4.0|  2.2072208589054867|\n",
      "|        2.0|   6.567005625028022|\n",
      "|        7.0|  13.605633650183904|\n",
      "|        4.0|   33.57400064490685|\n",
      "|        5.0|   32.20954341429124|\n",
      "|        3.0|   37.01923750505529|\n",
      "|        5.0|   49.18706717923967|\n",
      "|        2.0|  45.753307403231005|\n",
      "|       37.0|   54.26496255310188|\n",
      "|       71.0|   56.97094283309259|\n",
      "|       53.0|   44.25776152345308|\n",
      "|       26.0|   44.78318650180258|\n",
      "|       21.0|   29.26615535878667|\n",
      "|       15.0|   30.70707253177537|\n",
      "|       21.0|  37.502051240505295|\n",
      "|       18.0|   46.82434283936829|\n",
      "|       23.0|  45.998475581295885|\n",
      "|       89.0|   55.28619575361183|\n",
      "|      142.0|   47.80164129039625|\n",
      "|       19.0|   49.09234860170519|\n",
      "|       31.0|  39.967732726551816|\n",
      "|       76.0|   41.24254105826181|\n",
      "|       61.0|   43.21096918922265|\n",
      "|       47.0|  41.969975974123074|\n",
      "|        8.0|  25.722539091814472|\n",
      "|        6.0|  31.317302113531795|\n",
      "|       12.0|   45.29097164093439|\n",
      "|       18.0|  51.363054914437534|\n",
      "|       26.0|  24.419873837780578|\n",
      "|       36.0|  24.105483666876406|\n",
      "|       22.0|    31.6204593412125|\n",
      "|       34.0|  28.984929989815015|\n",
      "|       38.0|   35.80362868192557|\n",
      "|       49.0|   29.94534497597516|\n",
      "|       80.0|   29.87986156838913|\n",
      "|      115.0|   38.57166414945158|\n",
      "|      202.0|   37.48405436464478|\n",
      "|       20.0|  24.431269285171567|\n",
      "|        4.0|  28.713978260691512|\n",
      "|        7.0|   36.11341053573391|\n",
      "|       17.0|   51.83446727139551|\n",
      "|       19.0|  42.150704305873546|\n",
      "|       40.0|  50.125345760498554|\n",
      "|       29.0|   49.06167878816419|\n",
      "|       36.0|  44.593083739112565|\n",
      "|       40.0|  42.141706115686986|\n",
      "|       28.0|  35.662334380352064|\n",
      "|       23.0|   29.22094633188851|\n",
      "|       11.0|   28.52813295820155|\n",
      "|       11.0|  20.635009999946266|\n",
      "|        2.0|  40.095953054131584|\n",
      "|       11.0|   41.57717816492469|\n",
      "|       21.0|   39.43402586533624|\n",
      "|       19.0|  47.818686052859654|\n",
      "|       29.0|  23.583095612021292|\n",
      "|       33.0|  23.693810617846683|\n",
      "|        8.0|   23.12865516064341|\n",
      "|        9.0|   24.32235811161107|\n",
      "|        7.0|  31.306146036241007|\n",
      "|        9.0|  35.620086793745145|\n",
      "|        3.0|    41.1717284528678|\n",
      "|       47.0|  45.345801433079856|\n",
      "|       34.0|    41.1231840462284|\n",
      "|       56.0|   50.22481286045915|\n",
      "|       66.0|  38.748080678695956|\n",
      "|       49.0|  28.753871204272066|\n",
      "|       30.0|  25.935323399717856|\n",
      "+-----------+--------------------+\n",
      "only showing top 150 rows\n",
      "\n"
     ]
    }
   ],
   "source": [
    "pred_lr.select(['total_cases','prediction']).show(150)"
   ]
  },
  {
   "cell_type": "code",
   "execution_count": 33,
   "metadata": {},
   "outputs": [
    {
     "name": "stdout",
     "output_type": "stream",
     "text": [
      "rmse = 27.145 / r2 = 0.260\n"
     ]
    }
   ],
   "source": [
    "rmse = model_lr.summary.rootMeanSquaredError\n",
    "r2 = model_lr.summary.r2\n",
    "\n",
    "print(\"rmse = {:.3f} / r2 = {:.3f}\".format(rmse, r2))"
   ]
  },
  {
   "cell_type": "code",
   "execution_count": 34,
   "metadata": {},
   "outputs": [
    {
     "name": "stdout",
     "output_type": "stream",
     "text": [
      "rmse = 25.391\n"
     ]
    }
   ],
   "source": [
    "evaluator = RegressionEvaluator(labelCol='total_cases',\n",
    "                                predictionCol='prediction',\n",
    "                                metricName='rmse')\n",
    "\n",
    "rmse_lr = evaluator.evaluate(pred_lr)\n",
    "\n",
    "print(\"rmse = {:.3f}\".format(rmse_lr))"
   ]
  },
  {
   "cell_type": "markdown",
   "metadata": {},
   "source": [
    "### Random forest"
   ]
  },
  {
   "cell_type": "code",
   "execution_count": 35,
   "metadata": {},
   "outputs": [],
   "source": [
    "rf = RandomForestRegressor(featuresCol='scaled_features', labelCol='total_cases')"
   ]
  },
  {
   "cell_type": "code",
   "execution_count": 36,
   "metadata": {},
   "outputs": [],
   "source": [
    "model_rf = rf.fit(train)"
   ]
  },
  {
   "cell_type": "code",
   "execution_count": 37,
   "metadata": {},
   "outputs": [],
   "source": [
    "pred_rf = model_rf.transform(test)"
   ]
  },
  {
   "cell_type": "code",
   "execution_count": 38,
   "metadata": {},
   "outputs": [
    {
     "name": "stdout",
     "output_type": "stream",
     "text": [
      "rmse = 22.958\n"
     ]
    }
   ],
   "source": [
    "rmse_rf = evaluator.evaluate(pred_rf)\n",
    "\n",
    "print(\"rmse = {:.3f}\".format(rmse_rf))"
   ]
  },
  {
   "cell_type": "markdown",
   "metadata": {},
   "source": [
    "### Logistic regression\n"
   ]
  },
  {
   "cell_type": "code",
   "execution_count": 34,
   "metadata": {},
   "outputs": [
    {
     "name": "stdout",
     "output_type": "stream",
     "text": [
      "rmse = 34.978\n"
     ]
    }
   ],
   "source": [
    "logr = LogisticRegression(featuresCol='scaled_features',\n",
    "                          labelCol='total_cases')\n",
    "\n",
    "model_logr = logr.fit(train)\n",
    "\n",
    "pred_logr = model_logr.transform(test)\n",
    "\n",
    "rmse_logr = evaluator.evaluate(pred_logr)\n",
    "\n",
    "print(\"rmse = {:.3f}\".format(rmse_logr))"
   ]
  },
  {
   "cell_type": "code",
   "execution_count": 35,
   "metadata": {},
   "outputs": [
    {
     "ename": "Py4JJavaError",
     "evalue": "An error occurred while calling o607.cache.\n: java.lang.OutOfMemoryError: GC overhead limit exceeded\n\tat org.apache.spark.sql.catalyst.trees.CurrentOrigin$.reset(TreeNode.scala:61)\n\tat org.apache.spark.sql.catalyst.trees.CurrentOrigin$.withOrigin(TreeNode.scala:70)\n\tat org.apache.spark.sql.catalyst.trees.TreeNode.transformDown(TreeNode.scala:266)\n\tat org.apache.spark.sql.catalyst.trees.TreeNode$$anonfun$transformDown$1.apply(TreeNode.scala:272)\n\tat org.apache.spark.sql.catalyst.trees.TreeNode$$anonfun$transformDown$1.apply(TreeNode.scala:272)\n\tat org.apache.spark.sql.catalyst.trees.TreeNode$$anonfun$4$$anonfun$apply$11.apply(TreeNode.scala:335)\n\tat scala.collection.TraversableLike$$anonfun$map$1.apply(TraversableLike.scala:234)\n\tat scala.collection.TraversableLike$$anonfun$map$1.apply(TraversableLike.scala:234)\n\tat scala.collection.mutable.ResizableArray$class.foreach(ResizableArray.scala:59)\n\tat scala.collection.mutable.ArrayBuffer.foreach(ArrayBuffer.scala:48)\n\tat scala.collection.TraversableLike$class.map(TraversableLike.scala:234)\n\tat scala.collection.AbstractTraversable.map(Traversable.scala:104)\n\tat org.apache.spark.sql.catalyst.trees.TreeNode$$anonfun$4.apply(TreeNode.scala:333)\n\tat org.apache.spark.sql.catalyst.trees.TreeNode.mapProductIterator(TreeNode.scala:187)\n\tat org.apache.spark.sql.catalyst.trees.TreeNode.mapChildren(TreeNode.scala:304)\n\tat org.apache.spark.sql.catalyst.trees.TreeNode.transformDown(TreeNode.scala:272)\n\tat org.apache.spark.sql.catalyst.trees.TreeNode.transform(TreeNode.scala:256)\n\tat org.apache.spark.sql.catalyst.plans.logical.UnaryNode$$anonfun$getAliasedConstraints$1$$anonfun$apply$5.apply(LogicalPlan.scala:254)\n\tat org.apache.spark.sql.catalyst.plans.logical.UnaryNode$$anonfun$getAliasedConstraints$1$$anonfun$apply$5.apply(LogicalPlan.scala:254)\n\tat scala.collection.TraversableLike$$anonfun$map$1.apply(TraversableLike.scala:234)\n\tat scala.collection.TraversableLike$$anonfun$map$1.apply(TraversableLike.scala:234)\n\tat scala.collection.Iterator$class.foreach(Iterator.scala:893)\n\tat scala.collection.AbstractIterator.foreach(Iterator.scala:1336)\n\tat scala.collection.IterableLike$class.foreach(IterableLike.scala:72)\n\tat org.apache.spark.sql.catalyst.expressions.ExpressionSet.foreach(ExpressionSet.scala:55)\n\tat scala.collection.TraversableLike$class.map(TraversableLike.scala:234)\n\tat org.apache.spark.sql.catalyst.expressions.ExpressionSet.scala$collection$SetLike$$super$map(ExpressionSet.scala:55)\n\tat scala.collection.SetLike$class.map(SetLike.scala:92)\n\tat org.apache.spark.sql.catalyst.expressions.ExpressionSet.map(ExpressionSet.scala:55)\n\tat org.apache.spark.sql.catalyst.plans.logical.UnaryNode$$anonfun$getAliasedConstraints$1.apply(LogicalPlan.scala:254)\n\tat org.apache.spark.sql.catalyst.plans.logical.UnaryNode$$anonfun$getAliasedConstraints$1.apply(LogicalPlan.scala:249)\n\tat scala.collection.mutable.ResizableArray$class.foreach(ResizableArray.scala:59)\n",
     "output_type": "error",
     "traceback": [
      "\u001b[0;31m---------------------------------------------------------------------------\u001b[0m",
      "\u001b[0;31mPy4JJavaError\u001b[0m                             Traceback (most recent call last)",
      "\u001b[0;32m<ipython-input-35-dd020ea2f932>\u001b[0m in \u001b[0;36m<module>\u001b[0;34m\u001b[0m\n\u001b[1;32m     12\u001b[0m \u001b[0;34m\u001b[0m\u001b[0m\n\u001b[1;32m     13\u001b[0m \u001b[0;31m# Run cross-validation, and choose the best set of parameters.\u001b[0m\u001b[0;34m\u001b[0m\u001b[0;34m\u001b[0m\u001b[0;34m\u001b[0m\u001b[0m\n\u001b[0;32m---> 14\u001b[0;31m \u001b[0mmodel_cv\u001b[0m \u001b[0;34m=\u001b[0m \u001b[0mcv\u001b[0m\u001b[0;34m.\u001b[0m\u001b[0mfit\u001b[0m\u001b[0;34m(\u001b[0m\u001b[0mtrain\u001b[0m\u001b[0;34m)\u001b[0m\u001b[0;34m\u001b[0m\u001b[0;34m\u001b[0m\u001b[0m\n\u001b[0m\u001b[1;32m     15\u001b[0m \u001b[0;34m\u001b[0m\u001b[0m\n\u001b[1;32m     16\u001b[0m \u001b[0;31m# Make predictions on test data. model is the model with combination of parameters\u001b[0m\u001b[0;34m\u001b[0m\u001b[0;34m\u001b[0m\u001b[0;34m\u001b[0m\u001b[0m\n",
      "\u001b[0;32m/mnt/c/spark/spark-2.3.4-bin-hadoop2.7/python/pyspark/ml/base.py\u001b[0m in \u001b[0;36mfit\u001b[0;34m(self, dataset, params)\u001b[0m\n\u001b[1;32m    130\u001b[0m                 \u001b[0;32mreturn\u001b[0m \u001b[0mself\u001b[0m\u001b[0;34m.\u001b[0m\u001b[0mcopy\u001b[0m\u001b[0;34m(\u001b[0m\u001b[0mparams\u001b[0m\u001b[0;34m)\u001b[0m\u001b[0;34m.\u001b[0m\u001b[0m_fit\u001b[0m\u001b[0;34m(\u001b[0m\u001b[0mdataset\u001b[0m\u001b[0;34m)\u001b[0m\u001b[0;34m\u001b[0m\u001b[0;34m\u001b[0m\u001b[0m\n\u001b[1;32m    131\u001b[0m             \u001b[0;32melse\u001b[0m\u001b[0;34m:\u001b[0m\u001b[0;34m\u001b[0m\u001b[0;34m\u001b[0m\u001b[0m\n\u001b[0;32m--> 132\u001b[0;31m                 \u001b[0;32mreturn\u001b[0m \u001b[0mself\u001b[0m\u001b[0;34m.\u001b[0m\u001b[0m_fit\u001b[0m\u001b[0;34m(\u001b[0m\u001b[0mdataset\u001b[0m\u001b[0;34m)\u001b[0m\u001b[0;34m\u001b[0m\u001b[0;34m\u001b[0m\u001b[0m\n\u001b[0m\u001b[1;32m    133\u001b[0m         \u001b[0;32melse\u001b[0m\u001b[0;34m:\u001b[0m\u001b[0;34m\u001b[0m\u001b[0;34m\u001b[0m\u001b[0m\n\u001b[1;32m    134\u001b[0m             raise ValueError(\"Params must be either a param map or a list/tuple of param maps, \"\n",
      "\u001b[0;32m/mnt/c/spark/spark-2.3.4-bin-hadoop2.7/python/pyspark/ml/tuning.py\u001b[0m in \u001b[0;36m_fit\u001b[0;34m(self, dataset)\u001b[0m\n\u001b[1;32m    286\u001b[0m             \u001b[0mvalidateUB\u001b[0m \u001b[0;34m=\u001b[0m \u001b[0;34m(\u001b[0m\u001b[0mi\u001b[0m \u001b[0;34m+\u001b[0m \u001b[0;36m1\u001b[0m\u001b[0;34m)\u001b[0m \u001b[0;34m*\u001b[0m \u001b[0mh\u001b[0m\u001b[0;34m\u001b[0m\u001b[0;34m\u001b[0m\u001b[0m\n\u001b[1;32m    287\u001b[0m             \u001b[0mcondition\u001b[0m \u001b[0;34m=\u001b[0m \u001b[0;34m(\u001b[0m\u001b[0mdf\u001b[0m\u001b[0;34m[\u001b[0m\u001b[0mrandCol\u001b[0m\u001b[0;34m]\u001b[0m \u001b[0;34m>=\u001b[0m \u001b[0mvalidateLB\u001b[0m\u001b[0;34m)\u001b[0m \u001b[0;34m&\u001b[0m \u001b[0;34m(\u001b[0m\u001b[0mdf\u001b[0m\u001b[0;34m[\u001b[0m\u001b[0mrandCol\u001b[0m\u001b[0;34m]\u001b[0m \u001b[0;34m<\u001b[0m \u001b[0mvalidateUB\u001b[0m\u001b[0;34m)\u001b[0m\u001b[0;34m\u001b[0m\u001b[0;34m\u001b[0m\u001b[0m\n\u001b[0;32m--> 288\u001b[0;31m             \u001b[0mvalidation\u001b[0m \u001b[0;34m=\u001b[0m \u001b[0mdf\u001b[0m\u001b[0;34m.\u001b[0m\u001b[0mfilter\u001b[0m\u001b[0;34m(\u001b[0m\u001b[0mcondition\u001b[0m\u001b[0;34m)\u001b[0m\u001b[0;34m.\u001b[0m\u001b[0mcache\u001b[0m\u001b[0;34m(\u001b[0m\u001b[0;34m)\u001b[0m\u001b[0;34m\u001b[0m\u001b[0;34m\u001b[0m\u001b[0m\n\u001b[0m\u001b[1;32m    289\u001b[0m             \u001b[0mtrain\u001b[0m \u001b[0;34m=\u001b[0m \u001b[0mdf\u001b[0m\u001b[0;34m.\u001b[0m\u001b[0mfilter\u001b[0m\u001b[0;34m(\u001b[0m\u001b[0;34m~\u001b[0m\u001b[0mcondition\u001b[0m\u001b[0;34m)\u001b[0m\u001b[0;34m.\u001b[0m\u001b[0mcache\u001b[0m\u001b[0;34m(\u001b[0m\u001b[0;34m)\u001b[0m\u001b[0;34m\u001b[0m\u001b[0;34m\u001b[0m\u001b[0m\n\u001b[1;32m    290\u001b[0m \u001b[0;34m\u001b[0m\u001b[0m\n",
      "\u001b[0;32m/mnt/c/spark/spark-2.3.4-bin-hadoop2.7/python/pyspark/sql/dataframe.py\u001b[0m in \u001b[0;36mcache\u001b[0;34m(self)\u001b[0m\n\u001b[1;32m    536\u001b[0m         \"\"\"\n\u001b[1;32m    537\u001b[0m         \u001b[0mself\u001b[0m\u001b[0;34m.\u001b[0m\u001b[0mis_cached\u001b[0m \u001b[0;34m=\u001b[0m \u001b[0;32mTrue\u001b[0m\u001b[0;34m\u001b[0m\u001b[0;34m\u001b[0m\u001b[0m\n\u001b[0;32m--> 538\u001b[0;31m         \u001b[0mself\u001b[0m\u001b[0;34m.\u001b[0m\u001b[0m_jdf\u001b[0m\u001b[0;34m.\u001b[0m\u001b[0mcache\u001b[0m\u001b[0;34m(\u001b[0m\u001b[0;34m)\u001b[0m\u001b[0;34m\u001b[0m\u001b[0;34m\u001b[0m\u001b[0m\n\u001b[0m\u001b[1;32m    539\u001b[0m         \u001b[0;32mreturn\u001b[0m \u001b[0mself\u001b[0m\u001b[0;34m\u001b[0m\u001b[0;34m\u001b[0m\u001b[0m\n\u001b[1;32m    540\u001b[0m \u001b[0;34m\u001b[0m\u001b[0m\n",
      "\u001b[0;32m/mnt/c/spark/spark-2.3.4-bin-hadoop2.7/python/lib/py4j-0.10.7-src.zip/py4j/java_gateway.py\u001b[0m in \u001b[0;36m__call__\u001b[0;34m(self, *args)\u001b[0m\n\u001b[1;32m   1255\u001b[0m         \u001b[0manswer\u001b[0m \u001b[0;34m=\u001b[0m \u001b[0mself\u001b[0m\u001b[0;34m.\u001b[0m\u001b[0mgateway_client\u001b[0m\u001b[0;34m.\u001b[0m\u001b[0msend_command\u001b[0m\u001b[0;34m(\u001b[0m\u001b[0mcommand\u001b[0m\u001b[0;34m)\u001b[0m\u001b[0;34m\u001b[0m\u001b[0;34m\u001b[0m\u001b[0m\n\u001b[1;32m   1256\u001b[0m         return_value = get_return_value(\n\u001b[0;32m-> 1257\u001b[0;31m             answer, self.gateway_client, self.target_id, self.name)\n\u001b[0m\u001b[1;32m   1258\u001b[0m \u001b[0;34m\u001b[0m\u001b[0m\n\u001b[1;32m   1259\u001b[0m         \u001b[0;32mfor\u001b[0m \u001b[0mtemp_arg\u001b[0m \u001b[0;32min\u001b[0m \u001b[0mtemp_args\u001b[0m\u001b[0;34m:\u001b[0m\u001b[0;34m\u001b[0m\u001b[0;34m\u001b[0m\u001b[0m\n",
      "\u001b[0;32m/mnt/c/spark/spark-2.3.4-bin-hadoop2.7/python/pyspark/sql/utils.py\u001b[0m in \u001b[0;36mdeco\u001b[0;34m(*a, **kw)\u001b[0m\n\u001b[1;32m     61\u001b[0m     \u001b[0;32mdef\u001b[0m \u001b[0mdeco\u001b[0m\u001b[0;34m(\u001b[0m\u001b[0;34m*\u001b[0m\u001b[0ma\u001b[0m\u001b[0;34m,\u001b[0m \u001b[0;34m**\u001b[0m\u001b[0mkw\u001b[0m\u001b[0;34m)\u001b[0m\u001b[0;34m:\u001b[0m\u001b[0;34m\u001b[0m\u001b[0;34m\u001b[0m\u001b[0m\n\u001b[1;32m     62\u001b[0m         \u001b[0;32mtry\u001b[0m\u001b[0;34m:\u001b[0m\u001b[0;34m\u001b[0m\u001b[0;34m\u001b[0m\u001b[0m\n\u001b[0;32m---> 63\u001b[0;31m             \u001b[0;32mreturn\u001b[0m \u001b[0mf\u001b[0m\u001b[0;34m(\u001b[0m\u001b[0;34m*\u001b[0m\u001b[0ma\u001b[0m\u001b[0;34m,\u001b[0m \u001b[0;34m**\u001b[0m\u001b[0mkw\u001b[0m\u001b[0;34m)\u001b[0m\u001b[0;34m\u001b[0m\u001b[0;34m\u001b[0m\u001b[0m\n\u001b[0m\u001b[1;32m     64\u001b[0m         \u001b[0;32mexcept\u001b[0m \u001b[0mpy4j\u001b[0m\u001b[0;34m.\u001b[0m\u001b[0mprotocol\u001b[0m\u001b[0;34m.\u001b[0m\u001b[0mPy4JJavaError\u001b[0m \u001b[0;32mas\u001b[0m \u001b[0me\u001b[0m\u001b[0;34m:\u001b[0m\u001b[0;34m\u001b[0m\u001b[0;34m\u001b[0m\u001b[0m\n\u001b[1;32m     65\u001b[0m             \u001b[0ms\u001b[0m \u001b[0;34m=\u001b[0m \u001b[0me\u001b[0m\u001b[0;34m.\u001b[0m\u001b[0mjava_exception\u001b[0m\u001b[0;34m.\u001b[0m\u001b[0mtoString\u001b[0m\u001b[0;34m(\u001b[0m\u001b[0;34m)\u001b[0m\u001b[0;34m\u001b[0m\u001b[0;34m\u001b[0m\u001b[0m\n",
      "\u001b[0;32m/mnt/c/spark/spark-2.3.4-bin-hadoop2.7/python/lib/py4j-0.10.7-src.zip/py4j/protocol.py\u001b[0m in \u001b[0;36mget_return_value\u001b[0;34m(answer, gateway_client, target_id, name)\u001b[0m\n\u001b[1;32m    326\u001b[0m                 raise Py4JJavaError(\n\u001b[1;32m    327\u001b[0m                     \u001b[0;34m\"An error occurred while calling {0}{1}{2}.\\n\"\u001b[0m\u001b[0;34m.\u001b[0m\u001b[0;34m\u001b[0m\u001b[0;34m\u001b[0m\u001b[0m\n\u001b[0;32m--> 328\u001b[0;31m                     format(target_id, \".\", name), value)\n\u001b[0m\u001b[1;32m    329\u001b[0m             \u001b[0;32melse\u001b[0m\u001b[0;34m:\u001b[0m\u001b[0;34m\u001b[0m\u001b[0;34m\u001b[0m\u001b[0m\n\u001b[1;32m    330\u001b[0m                 raise Py4JError(\n",
      "\u001b[0;31mPy4JJavaError\u001b[0m: An error occurred while calling o607.cache.\n: java.lang.OutOfMemoryError: GC overhead limit exceeded\n\tat org.apache.spark.sql.catalyst.trees.CurrentOrigin$.reset(TreeNode.scala:61)\n\tat org.apache.spark.sql.catalyst.trees.CurrentOrigin$.withOrigin(TreeNode.scala:70)\n\tat org.apache.spark.sql.catalyst.trees.TreeNode.transformDown(TreeNode.scala:266)\n\tat org.apache.spark.sql.catalyst.trees.TreeNode$$anonfun$transformDown$1.apply(TreeNode.scala:272)\n\tat org.apache.spark.sql.catalyst.trees.TreeNode$$anonfun$transformDown$1.apply(TreeNode.scala:272)\n\tat org.apache.spark.sql.catalyst.trees.TreeNode$$anonfun$4$$anonfun$apply$11.apply(TreeNode.scala:335)\n\tat scala.collection.TraversableLike$$anonfun$map$1.apply(TraversableLike.scala:234)\n\tat scala.collection.TraversableLike$$anonfun$map$1.apply(TraversableLike.scala:234)\n\tat scala.collection.mutable.ResizableArray$class.foreach(ResizableArray.scala:59)\n\tat scala.collection.mutable.ArrayBuffer.foreach(ArrayBuffer.scala:48)\n\tat scala.collection.TraversableLike$class.map(TraversableLike.scala:234)\n\tat scala.collection.AbstractTraversable.map(Traversable.scala:104)\n\tat org.apache.spark.sql.catalyst.trees.TreeNode$$anonfun$4.apply(TreeNode.scala:333)\n\tat org.apache.spark.sql.catalyst.trees.TreeNode.mapProductIterator(TreeNode.scala:187)\n\tat org.apache.spark.sql.catalyst.trees.TreeNode.mapChildren(TreeNode.scala:304)\n\tat org.apache.spark.sql.catalyst.trees.TreeNode.transformDown(TreeNode.scala:272)\n\tat org.apache.spark.sql.catalyst.trees.TreeNode.transform(TreeNode.scala:256)\n\tat org.apache.spark.sql.catalyst.plans.logical.UnaryNode$$anonfun$getAliasedConstraints$1$$anonfun$apply$5.apply(LogicalPlan.scala:254)\n\tat org.apache.spark.sql.catalyst.plans.logical.UnaryNode$$anonfun$getAliasedConstraints$1$$anonfun$apply$5.apply(LogicalPlan.scala:254)\n\tat scala.collection.TraversableLike$$anonfun$map$1.apply(TraversableLike.scala:234)\n\tat scala.collection.TraversableLike$$anonfun$map$1.apply(TraversableLike.scala:234)\n\tat scala.collection.Iterator$class.foreach(Iterator.scala:893)\n\tat scala.collection.AbstractIterator.foreach(Iterator.scala:1336)\n\tat scala.collection.IterableLike$class.foreach(IterableLike.scala:72)\n\tat org.apache.spark.sql.catalyst.expressions.ExpressionSet.foreach(ExpressionSet.scala:55)\n\tat scala.collection.TraversableLike$class.map(TraversableLike.scala:234)\n\tat org.apache.spark.sql.catalyst.expressions.ExpressionSet.scala$collection$SetLike$$super$map(ExpressionSet.scala:55)\n\tat scala.collection.SetLike$class.map(SetLike.scala:92)\n\tat org.apache.spark.sql.catalyst.expressions.ExpressionSet.map(ExpressionSet.scala:55)\n\tat org.apache.spark.sql.catalyst.plans.logical.UnaryNode$$anonfun$getAliasedConstraints$1.apply(LogicalPlan.scala:254)\n\tat org.apache.spark.sql.catalyst.plans.logical.UnaryNode$$anonfun$getAliasedConstraints$1.apply(LogicalPlan.scala:249)\n\tat scala.collection.mutable.ResizableArray$class.foreach(ResizableArray.scala:59)\n"
     ]
    }
   ],
   "source": [
    "# Create ParamGrid for cross validation\n",
    "paramGrid = ParamGridBuilder() \\\n",
    "        .addGrid(lr.regParam, [0.1, 0.01]) \\\n",
    "        .addGrid(lr.fitIntercept, [False, True]) \\\n",
    "        .addGrid(lr.elasticNetParam, [0.0, 0.5, 1.0]) \\\n",
    "        .build()\n",
    "\n",
    "cv = CrossValidator(estimator=logr,\n",
    "                    estimatorParamMaps=paramGrid,\n",
    "                    evaluator=evaluator,\n",
    "                    numFolds=5)  # use 3+ folds in practice\n",
    "\n",
    "# Run cross-validation, and choose the best set of parameters.\n",
    "model_cv = cv.fit(train)\n",
    "\n",
    "# Make predictions on test data. model is the model with combination of parameters\n",
    "# that performed best.\n",
    "predictions_cv = model_cv.transform(test)"
   ]
  },
  {
   "cell_type": "code",
   "execution_count": null,
   "metadata": {},
   "outputs": [],
   "source": [
    "result_CV = evaluator.evaluate(predictions_cv)\n",
    "\n",
    "print(\"CV::rmse = {:.4f}\".format(result_cv))"
   ]
  }
 ],
 "metadata": {
  "kernelspec": {
   "display_name": "Python 3",
   "language": "python",
   "name": "python3"
  },
  "language_info": {
   "codemirror_mode": {
    "name": "ipython",
    "version": 3
   },
   "file_extension": ".py",
   "mimetype": "text/x-python",
   "name": "python",
   "nbconvert_exporter": "python",
   "pygments_lexer": "ipython3",
   "version": "3.7.4"
  },
  "latex_envs": {
   "LaTeX_envs_menu_present": true,
   "autoclose": false,
   "autocomplete": true,
   "bibliofile": "biblio.bib",
   "cite_by": "apalike",
   "current_citInitial": 1,
   "eqLabelWithNumbers": true,
   "eqNumInitial": 1,
   "hotkeys": {
    "equation": "Ctrl-E",
    "itemize": "Ctrl-I"
   },
   "labels_anchors": false,
   "latex_user_defs": false,
   "report_style_numbering": false,
   "user_envs_cfg": false
  }
 },
 "nbformat": 4,
 "nbformat_minor": 2
}
