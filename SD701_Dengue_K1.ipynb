{
 "cells": [
  {
   "cell_type": "markdown",
   "metadata": {},
   "source": [
    "\n",
    "\n",
    "https://www.drivendata.org/competitions/44/dengai-predicting-disease-spread/\n",
    "\n",
    "https://www.cdc.gov/dengue/"
   ]
  },
  {
   "cell_type": "code",
   "execution_count": 1,
   "metadata": {},
   "outputs": [],
   "source": [
    "import findspark\n",
    "findspark.init()\n",
    "\n",
    "import pandas as pd\n",
    "import numpy as np\n",
    "\n",
    "from sklearn.metrics import mean_absolute_error\n",
    "\n",
    "from pyspark import SparkContext\n",
    "from pyspark.sql import SparkSession\n",
    "from pyspark.ml.regression import LinearRegression\n",
    "from pyspark.ml.regression import RandomForestRegressor\n",
    "from pyspark.ml.feature import VectorAssembler, StringIndexer, OneHotEncoder, StandardScaler\n",
    "from pyspark.ml.evaluation import RegressionEvaluator"
   ]
  },
  {
   "cell_type": "code",
   "execution_count": 2,
   "metadata": {},
   "outputs": [],
   "source": [
    "spark = SparkSession.builder.appName(\"dengue\").getOrCreate()"
   ]
  },
  {
   "cell_type": "markdown",
   "metadata": {},
   "source": [
    "### Load the data"
   ]
  },
  {
   "cell_type": "code",
   "execution_count": 3,
   "metadata": {},
   "outputs": [],
   "source": [
    "path_to_data = \"data/\"\n",
    "\n",
    "\n",
    "df_features = spark.read.csv(path_to_data + \"dengue_features_train.csv\", header=True)\n",
    "#df_features['month'] = df_features['week_start_date'][5:7]\n",
    "\n",
    "df_labels = spark.read.csv(path_to_data + \"dengue_labels_train.csv\", header=True)"
   ]
  },
  {
   "cell_type": "code",
   "execution_count": 4,
   "metadata": {},
   "outputs": [],
   "source": [
    "df_features = df_features.drop('precipitation_amt_mm', 'week_start_date')"
   ]
  },
  {
   "cell_type": "code",
   "execution_count": 5,
   "metadata": {},
   "outputs": [],
   "source": [
    "df_train = df_features.join(df_labels, ['city', 'year', 'weekofyear'])"
   ]
  },
  {
   "cell_type": "code",
   "execution_count": 6,
   "metadata": {},
   "outputs": [],
   "source": [
    "for col_name in df_train.columns:\n",
    "    if col_name not in ['city']:\n",
    "        df_train = df_train.withColumn(col_name, df_train[col_name].cast('float'))\n",
    "\n",
    "df_train = df_train.dropna()"
   ]
  },
  {
   "cell_type": "code",
   "execution_count": 7,
   "metadata": {},
   "outputs": [
    {
     "name": "stdout",
     "output_type": "stream",
     "text": [
      "+----+------+----------+---------+---------+---------+---------+---------------------+---------------------+---------------------------+-------------------------+-------------------------+-------------------------------+------------------------------------+----------------------------+-------------------------------------+-----------------+------------------+-----------------------+------------------+------------------+-----------------+-----------+\n",
      "|city|  year|weekofyear|  ndvi_ne|  ndvi_nw|  ndvi_se|  ndvi_sw|reanalysis_air_temp_k|reanalysis_avg_temp_k|reanalysis_dew_point_temp_k|reanalysis_max_air_temp_k|reanalysis_min_air_temp_k|reanalysis_precip_amt_kg_per_m2|reanalysis_relative_humidity_percent|reanalysis_sat_precip_amt_mm|reanalysis_specific_humidity_g_per_kg|reanalysis_tdtr_k|station_avg_temp_c|station_diur_temp_rng_c|station_max_temp_c|station_min_temp_c|station_precip_mm|total_cases|\n",
      "+----+------+----------+---------+---------+---------+---------+---------------------+---------------------+---------------------------+-------------------------+-------------------------+-------------------------------+------------------------------------+----------------------------+-------------------------------------+-----------------+------------------+-----------------------+------------------+------------------+-----------------+-----------+\n",
      "|  sj|1990.0|      18.0|   0.1226| 0.103725|0.1984833|0.1776167|            297.57285|            297.74286|                  292.41428|                    299.8|                    295.9|                           32.0|                           73.365715|                       12.42|                            14.012857|        2.6285715|         25.442858|                    6.9|              29.4|              20.0|             16.0|        4.0|\n",
      "|  sj|1990.0|      19.0|   0.1699| 0.142175|0.1623571|0.1554857|            298.21143|            298.44287|                  293.95142|                    300.9|                    296.4|                          17.94|                            77.36857|                       22.82|                            15.372857|        2.3714285|         26.714285|              6.3714285|              31.7|              22.2|              8.6|        5.0|\n",
      "|  sj|1990.0|      20.0|  0.03225|0.1729667|   0.1572|0.1708429|            298.78143|            298.87857|                   295.4343|                    300.5|                    297.3|                           26.1|                            82.05286|                       34.54|                            16.848572|              2.3|         26.714285|              6.4857144|              32.2|              22.8|             41.4|        4.0|\n",
      "|  sj|1990.0|      21.0|0.1286333|0.2450667|0.2275571|0.2358857|            298.98715|            299.22858|                     295.31|                    301.4|                    297.0|                           13.9|                            80.33714|                       15.36|                            16.672857|        2.4285715|         27.471428|              6.7714286|              33.3|              23.3|              4.0|        3.0|\n",
      "|  sj|1990.0|      22.0|   0.1962|   0.2622|   0.2512|  0.24734|             299.5186|            299.66428|                  295.82144|                    301.9|                    297.5|                           12.2|                               80.46|                        7.52|                                17.21|        3.0142858|         28.942858|              9.3714285|              35.0|              23.9|              5.8|        6.0|\n",
      "|  sj|1990.0|      24.0|   0.1129|   0.0928|0.2050714|0.2102714|            299.20715|            299.22144|                  295.86572|                    301.3|                    297.7|                           38.6|                                82.0|                        3.48|                            17.234285|        2.0428572|         27.414286|              6.7714286|              32.2|              23.3|             29.7|        4.0|\n",
      "|  sj|1990.0|      25.0|   0.0725|   0.0725|0.1514714|0.1330286|            299.59143|            299.52856|                  296.53143|                    300.6|                    298.4|                           30.0|                            83.37572|                      151.12|                            17.977142|        1.5714285|          28.37143|              7.6857142|              33.9|              22.8|             21.1|        5.0|\n",
      "|  sj|1990.0|      26.0|  0.10245| 0.146175|0.1255714|   0.1236|            299.57858|            299.55713|                  296.37857|                    302.1|                    297.7|                          37.51|                            82.76857|                       19.32|                                17.79|        1.8857143|         28.328571|               7.385714|              33.9|              22.8|             21.1|       10.0|\n",
      "|  sj|1990.0|      28.0| 0.192875|  0.08235|0.1919429|0.1529286|            299.51285|            299.59286|                  296.04144|                    301.8|                    298.0|                          43.72|                            81.46714|                       22.27|                            17.418571|        2.1571429|         27.557142|              7.1571426|              31.7|              21.7|             63.7|        8.0|\n",
      "|  sj|1990.0|      29.0|   0.2916|   0.2118|   0.3012|0.2806667|            299.66714|               299.75|                   296.3343|                    302.0|                    297.3|                           40.9|                            82.14429|                       59.17|                            17.737143|        2.4142857|          28.12857|                    6.9|              32.8|              23.9|             12.2|        2.0|\n",
      "|  sj|1990.0|      30.0|0.1505667|   0.1717|   0.2269|0.2145571|            299.55856|             299.6357|                     295.96|                    301.8|                    297.1|                          42.53|                            80.74286|                       16.48|                            17.341429|        2.0714285|         28.114286|               6.357143|              31.7|              22.8|             32.6|        6.0|\n",
      "|  sj|1990.0|      34.0|0.1902333|   0.1688|0.1676571|0.1722857|            300.33286|            300.41428|                  296.72858|                    302.5|                    298.1|                           25.9|                            80.94714|                        32.4|                            18.174286|        2.4857142|         28.342857|              7.0142856|              33.3|              23.3|              5.4|       21.0|\n",
      "|  sj|1990.0|      35.0|   0.2529|  0.33075|0.2641714|0.2843143|            300.11856|            300.22144|                  297.01715|                    302.2|                    298.7|                           39.8|                            83.34857|                       40.94|                            18.515715|              1.9|         28.657143|              6.5285716|              32.2|              24.4|             13.7|       28.0|\n",
      "|  sj|1990.0|      36.0|   0.2354| 0.200025|0.2838167|0.2304429|               300.53|             300.6357|                  296.11716|                    303.8|                    298.0|                           30.4|                            77.17286|                       28.86|                                17.56|        3.4714286|         28.328571|               7.614286|              32.8|              23.3|             14.2|       24.0|\n",
      "|  sj|1990.0|      37.0|0.1279667|   0.4371|   0.1234|0.1482833|             300.6743|            300.79285|                  297.19287|                    302.9|                    299.0|                          24.18|                            81.55143|                       64.56|                            18.777143|              2.9|         28.685715|               8.057143|              33.9|              24.4|             25.9|       20.0|\n",
      "|  sj|1990.0|      38.0|  0.19635|0.1824333|0.2548286|0.3056857|            299.85715|                299.9|                  296.43143|                    301.7|                    298.7|                           36.6|                           81.637146|                      143.73|                            17.892857|        1.7428571|         28.242857|               8.114285|              32.8|              23.9|              3.3|       40.0|\n",
      "|  sj|1990.0|      39.0|   0.1161|   0.2609|0.1994429|0.2442167|            300.42715|                300.6|                  296.02856|                    302.4|                    299.1|                           16.4|                            77.04857|                       51.39|                             17.46857|        2.2571428|         28.342857|              7.7285714|              32.8|              24.4|             15.8|       27.0|\n",
      "|  sj|1990.0|      40.0|  0.22855|  0.18975|0.2124857|0.2011857|            300.77573|               300.85|                  296.66428|                    303.3|                    299.1|                           36.1|                               78.52|                       31.18|                                18.18|              2.9|          28.77143|               8.028571|              33.3|              23.9|             11.7|       42.0|\n",
      "|  sj|1990.0|      41.0|  0.17115|  0.06755|0.1794667|0.1577167|            299.85715|            299.94287|                  296.92856|                    301.8|                    298.1|                          132.4|                               84.11|                       51.42|                            18.512857|        2.5714285|          28.62857|              7.3142858|              33.3|              24.4|             57.7|       33.0|\n",
      "|  sj|1990.0|      43.0|   0.1462|  0.08975|0.1288286|0.1239286|            298.90286|            299.04285|                  296.25714|                    300.9|                    297.2|                          94.52|                            85.50285|                      127.03|                                17.75|              1.8|          26.77143|              7.6285715|              32.2|              21.7|             91.5|       37.0|\n",
      "+----+------+----------+---------+---------+---------+---------+---------------------+---------------------+---------------------------+-------------------------+-------------------------+-------------------------------+------------------------------------+----------------------------+-------------------------------------+-----------------+------------------+-----------------------+------------------+------------------+-----------------+-----------+\n",
      "only showing top 20 rows\n",
      "\n"
     ]
    }
   ],
   "source": [
    "#print(\"size of the data: {}\".format(df_train.shape()))\n",
    "\n",
    "df_train.show()"
   ]
  },
  {
   "cell_type": "markdown",
   "metadata": {},
   "source": [
    "### Prepare data"
   ]
  },
  {
   "cell_type": "code",
   "execution_count": 8,
   "metadata": {},
   "outputs": [],
   "source": [
    "indexer = StringIndexer(inputCol='city', outputCol='city_')\n",
    "df_train = indexer.fit(df_train).transform(df_train)\n",
    "\n",
    "encoder = OneHotEncoder(inputCol='city_', outputCol='cityVect')\n",
    "df_train = encoder.transform(df_train)"
   ]
  },
  {
   "cell_type": "code",
   "execution_count": 9,
   "metadata": {},
   "outputs": [],
   "source": [
    "lr_features = ['year', 'weekofyear',\n",
    "               'ndvi_ne', 'ndvi_nw', 'ndvi_se', 'ndvi_sw',\n",
    "               'reanalysis_air_temp_k','reanalysis_avg_temp_k',\n",
    "               'reanalysis_dew_point_temp_k', 'reanalysis_max_air_temp_k',\n",
    "               'reanalysis_min_air_temp_k', 'reanalysis_precip_amt_kg_per_m2',\n",
    "               'reanalysis_relative_humidity_percent', 'reanalysis_sat_precip_amt_mm', \n",
    "               'reanalysis_specific_humidity_g_per_kg', 'reanalysis_tdtr_k',\n",
    "               'station_avg_temp_c','station_diur_temp_rng_c',\n",
    "               'station_max_temp_c', 'station_min_temp_c',\n",
    "               'station_precip_mm', 'cityVect']"
   ]
  },
  {
   "cell_type": "code",
   "execution_count": 10,
   "metadata": {},
   "outputs": [],
   "source": [
    "vectorAssembler = VectorAssembler(inputCols=lr_features, outputCol = 'features')"
   ]
  },
  {
   "cell_type": "code",
   "execution_count": 11,
   "metadata": {},
   "outputs": [
    {
     "name": "stdout",
     "output_type": "stream",
     "text": [
      "+--------------------+\n",
      "|            features|\n",
      "+--------------------+\n",
      "|[1990.0,18.0,0.12...|\n",
      "|[1990.0,19.0,0.16...|\n",
      "|[1990.0,20.0,0.03...|\n",
      "|[1990.0,21.0,0.12...|\n",
      "|[1990.0,22.0,0.19...|\n",
      "|[1990.0,24.0,0.11...|\n",
      "|[1990.0,25.0,0.07...|\n",
      "|[1990.0,26.0,0.10...|\n",
      "|[1990.0,28.0,0.19...|\n",
      "|[1990.0,29.0,0.29...|\n",
      "+--------------------+\n",
      "only showing top 10 rows\n",
      "\n"
     ]
    }
   ],
   "source": [
    "df_train_vectorised = vectorAssembler.transform(df_train)\n",
    "df_train_vectorised.select('features').show(10)"
   ]
  },
  {
   "cell_type": "code",
   "execution_count": 12,
   "metadata": {},
   "outputs": [],
   "source": [
    "scaler = StandardScaler(inputCol='features', outputCol=\"scaled_features\", withStd=True, withMean=True)\n",
    "scaler_model = scaler.fit(df_train_vectorised)\n",
    "df_train = scaler_model.transform(df_train_vectorised)"
   ]
  },
  {
   "cell_type": "code",
   "execution_count": 13,
   "metadata": {},
   "outputs": [],
   "source": [
    "splits = df_train.randomSplit([0.75, 0.25])\n",
    "train_df = splits[0]\n",
    "test_df = splits[1]"
   ]
  },
  {
   "cell_type": "code",
   "execution_count": 14,
   "metadata": {},
   "outputs": [],
   "source": [
    "lr = LinearRegression(featuresCol='scaled_features', labelCol='total_cases')"
   ]
  },
  {
   "cell_type": "code",
   "execution_count": 15,
   "metadata": {},
   "outputs": [],
   "source": [
    "model_lr = lr.fit(train_df)"
   ]
  },
  {
   "cell_type": "code",
   "execution_count": 16,
   "metadata": {},
   "outputs": [],
   "source": [
    "test_df = model_lr.transform(test_df)"
   ]
  },
  {
   "cell_type": "code",
   "execution_count": 17,
   "metadata": {},
   "outputs": [
    {
     "name": "stdout",
     "output_type": "stream",
     "text": [
      "+-----------+-------------------+\n",
      "|total_cases|         prediction|\n",
      "+-----------+-------------------+\n",
      "|        0.0| 13.392213062635516|\n",
      "|        0.0| 1.1559400817170307|\n",
      "|        0.0|  1.939261090943095|\n",
      "|        0.0| 1.7071342809228902|\n",
      "|        0.0|   4.01719153155026|\n",
      "|        1.0| 13.670067242363636|\n",
      "|        0.0|  5.635427612681337|\n",
      "|        1.0| 3.6606379234588786|\n",
      "|        0.0|  19.22148668128794|\n",
      "|        0.0| 20.897958686321637|\n",
      "|        0.0|     2.937558174126|\n",
      "|        0.0| 0.8856696657624497|\n",
      "|        0.0|  7.983434209606287|\n",
      "|        0.0| 10.691407598940733|\n",
      "|        0.0|  4.321649511973622|\n",
      "|        0.0| 0.2883016401596983|\n",
      "|        0.0| -4.347725047282044|\n",
      "|        0.0|  4.085940816247838|\n",
      "|        0.0|  6.287071604941065|\n",
      "|        0.0| 23.642298261411142|\n",
      "|        4.0| 33.764857514679704|\n",
      "|        1.0|   32.0463842535656|\n",
      "|        4.0|  8.789853081798682|\n",
      "|       23.0|  10.53843972558398|\n",
      "|        7.0|  8.094874173132037|\n",
      "|        4.0|  4.265535768521698|\n",
      "|        6.0| 0.2236643211104692|\n",
      "|       17.0| 11.535572613937312|\n",
      "|       38.0|  18.56292969111732|\n",
      "|       29.0| 20.584071862961757|\n",
      "|        2.0| 2.8604459591994136|\n",
      "|        1.0|  8.487650569279626|\n",
      "|        0.0| 10.258285432530435|\n",
      "|        1.0|  4.166345262828916|\n",
      "|        1.0| 3.3551384534290456|\n",
      "|        3.0|  9.257057522587955|\n",
      "|        5.0|-0.5745125207565351|\n",
      "|        1.0| -2.571713052074937|\n",
      "|        3.0|  4.206232125517115|\n",
      "|        0.0| 10.968452569753758|\n",
      "|        3.0|  8.337930644622723|\n",
      "|        8.0| 12.662500755749388|\n",
      "|        1.0| 11.569024575364374|\n",
      "|        8.0| 14.421601824305021|\n",
      "|        4.0| 14.368270081397206|\n",
      "|        6.0| 14.373918106663211|\n",
      "|        6.0|0.18227707254370173|\n",
      "|       12.0| 1.9487672090533934|\n",
      "|        7.0| 3.4077907260630838|\n",
      "|       19.0| 12.272884918407373|\n",
      "|       21.0| 12.099802029545621|\n",
      "|       37.0| 20.853169615443697|\n",
      "|       10.0|  3.589331718261324|\n",
      "|       14.0| 15.081573724091026|\n",
      "|        8.0|  9.085835971911493|\n",
      "|        7.0| -0.587390782383963|\n",
      "|        6.0|-0.7021381943013196|\n",
      "|        3.0| 10.418772601660741|\n",
      "|       14.0| 12.663190292805412|\n",
      "|        3.0|  25.69172634796944|\n",
      "|       28.0|  3.275563087451264|\n",
      "|       24.0|-0.3527594522407398|\n",
      "|        5.0|  -2.88849219822945|\n",
      "|        2.0| -6.311055235689853|\n",
      "|        2.0| 2.1402635678141664|\n",
      "|        2.0| 10.982634004283044|\n",
      "|        5.0|-0.1698421582654035|\n",
      "|       11.0|-0.6844151510362089|\n",
      "|        8.0|  5.948326908896675|\n",
      "|        4.0| 1.1460231775844818|\n",
      "|        6.0|  15.91490598777164|\n",
      "|        9.0|  18.42354452464768|\n",
      "|       26.0|  7.825238276650012|\n",
      "|       20.0|  8.076379379650817|\n",
      "|        9.0| 0.8514685468558447|\n",
      "|        6.0| 1.4925253246893924|\n",
      "|        1.0| 4.1869019067544535|\n",
      "|        5.0| -5.066810186733477|\n",
      "|        5.0|-0.8202121456698244|\n",
      "|        9.0| 1.4668466576653643|\n",
      "|       19.0|   4.72530859599166|\n",
      "|       63.0|  6.997359935311987|\n",
      "|       50.0| 12.512907374504405|\n",
      "|       16.0| 22.524344052573753|\n",
      "|       15.0|  8.997697715545444|\n",
      "|        4.0| 11.512418092754064|\n",
      "|        9.0|   5.78751509369399|\n",
      "|        0.0| -3.585018993935769|\n",
      "|        3.0| 3.4003899971746527|\n",
      "|        5.0|  6.234763230739794|\n",
      "|        2.0|  4.342573877643787|\n",
      "|        2.0| 12.855154570429262|\n",
      "|        5.0|  18.58022505876685|\n",
      "|       15.0|  6.798124361445531|\n",
      "|       12.0|  15.78644146051643|\n",
      "|       16.0| 12.619457891350542|\n",
      "|        6.0|  7.927673756031409|\n",
      "|        2.0|  7.446668211142846|\n",
      "|        6.0| -4.418606279389714|\n",
      "|        1.0|-2.4159117984699527|\n",
      "|        5.0| 31.301861867622762|\n",
      "|        4.0| 40.549708907502506|\n",
      "|        4.0|  41.61600904442101|\n",
      "|       40.0|  50.07382385724148|\n",
      "|       53.0| 41.525079723780635|\n",
      "|       47.0|  41.58980048559502|\n",
      "|       15.0|  29.64160046664903|\n",
      "|       23.0| 29.292619317910514|\n",
      "|       21.0|  38.43385401560512|\n",
      "|       62.0|  46.17547894338753|\n",
      "|      169.0| 42.509197305125404|\n",
      "|      141.0|  41.37142814694029|\n",
      "|       40.0| 27.060503657290106|\n",
      "|       30.0| 30.274408570917576|\n",
      "|       29.0|  32.96714462412116|\n",
      "|       26.0|  29.59297780563362|\n",
      "|       20.0|  39.84010846827212|\n",
      "|       26.0| 39.868038125601245|\n",
      "|       76.0|  41.37273794384993|\n",
      "|       60.0|  43.03620927479814|\n",
      "|       31.0|  36.04731708967297|\n",
      "|       35.0|  25.76387120834886|\n",
      "|       17.0|  26.49771312450458|\n",
      "|        8.0| 25.885752577492656|\n",
      "|       18.0|  38.67410771854605|\n",
      "|       16.0|  38.90333332557925|\n",
      "|       16.0|  39.44003575263185|\n",
      "|       22.0| 40.801126132492925|\n",
      "|       25.0|  43.16735127528381|\n",
      "|       23.0| 46.916136234527556|\n",
      "|       46.0| 41.289031163431716|\n",
      "|       36.0| 23.569582347837965|\n",
      "|       31.0| 18.792828253814072|\n",
      "|       13.0|  23.12969780575143|\n",
      "|       13.0| 30.376730075156537|\n",
      "|       31.0|  34.58012390797602|\n",
      "|       31.0|  33.87970425896794|\n",
      "|       42.0|  32.37305942708319|\n",
      "|       89.0|  35.61814003504779|\n",
      "|      115.0|  39.35337103059672|\n",
      "|       14.0|   26.7318210912127|\n",
      "|       14.0|  39.22989257204641|\n",
      "|       19.0|  40.42146161319665|\n",
      "|       24.0|   47.8763061980889|\n",
      "|       31.0| 42.083516774327734|\n",
      "|       33.0| 43.133048079035675|\n",
      "|       36.0|  41.59837783210642|\n",
      "|       17.0|  36.07735459576819|\n",
      "|       23.0|  26.21463123533913|\n",
      "|       14.0|  25.56563812770614|\n",
      "+-----------+-------------------+\n",
      "only showing top 150 rows\n",
      "\n"
     ]
    }
   ],
   "source": [
    "test_df.select(['total_cases','prediction']).show(150)"
   ]
  },
  {
   "cell_type": "code",
   "execution_count": 21,
   "metadata": {},
   "outputs": [
    {
     "name": "stdout",
     "output_type": "stream",
     "text": [
      "rmse = 26.461 / r2 = 0.234\n"
     ]
    }
   ],
   "source": [
    "rmse = model_lr.summary.rootMeanSquaredError\n",
    "r2 = model_lr.summary.r2\n",
    "\n",
    "print(\"rmse = {:.3f} / r2 = {:.3f}\".format(rmse, r2))"
   ]
  },
  {
   "cell_type": "code",
   "execution_count": 22,
   "metadata": {},
   "outputs": [],
   "source": [
    "evaluator = RegressionEvaluator(labelCol='total_cases', predictionCol='prediction',\n",
    "                               metricName='mae')"
   ]
  },
  {
   "cell_type": "code",
   "execution_count": 23,
   "metadata": {},
   "outputs": [
    {
     "data": {
      "text/plain": [
       "16.007555559001958"
      ]
     },
     "execution_count": 23,
     "metadata": {},
     "output_type": "execute_result"
    }
   ],
   "source": [
    "evaluator.evaluate(test_df)"
   ]
  },
  {
   "cell_type": "code",
   "execution_count": 24,
   "metadata": {},
   "outputs": [],
   "source": [
    "rf = RandomForestRegressor(featuresCol='scaled_features', labelCol='total_cases')"
   ]
  },
  {
   "cell_type": "code",
   "execution_count": 25,
   "metadata": {},
   "outputs": [],
   "source": [
    "model_rf = rf.fit(train_df)"
   ]
  },
  {
   "cell_type": "code",
   "execution_count": 26,
   "metadata": {},
   "outputs": [
    {
     "ename": "IllegalArgumentException",
     "evalue": "'requirement failed: Column prediction already exists.'",
     "output_type": "error",
     "traceback": [
      "\u001b[0;31m---------------------------------------------------------------------------\u001b[0m",
      "\u001b[0;31mPy4JJavaError\u001b[0m                             Traceback (most recent call last)",
      "\u001b[0;32m/mnt/c/spark/spark-2.3.4-bin-hadoop2.7/python/pyspark/sql/utils.py\u001b[0m in \u001b[0;36mdeco\u001b[0;34m(*a, **kw)\u001b[0m\n\u001b[1;32m     62\u001b[0m         \u001b[0;32mtry\u001b[0m\u001b[0;34m:\u001b[0m\u001b[0;34m\u001b[0m\u001b[0;34m\u001b[0m\u001b[0m\n\u001b[0;32m---> 63\u001b[0;31m             \u001b[0;32mreturn\u001b[0m \u001b[0mf\u001b[0m\u001b[0;34m(\u001b[0m\u001b[0;34m*\u001b[0m\u001b[0ma\u001b[0m\u001b[0;34m,\u001b[0m \u001b[0;34m**\u001b[0m\u001b[0mkw\u001b[0m\u001b[0;34m)\u001b[0m\u001b[0;34m\u001b[0m\u001b[0;34m\u001b[0m\u001b[0m\n\u001b[0m\u001b[1;32m     64\u001b[0m         \u001b[0;32mexcept\u001b[0m \u001b[0mpy4j\u001b[0m\u001b[0;34m.\u001b[0m\u001b[0mprotocol\u001b[0m\u001b[0;34m.\u001b[0m\u001b[0mPy4JJavaError\u001b[0m \u001b[0;32mas\u001b[0m \u001b[0me\u001b[0m\u001b[0;34m:\u001b[0m\u001b[0;34m\u001b[0m\u001b[0;34m\u001b[0m\u001b[0m\n",
      "\u001b[0;32m/mnt/c/spark/spark-2.3.4-bin-hadoop2.7/python/lib/py4j-0.10.7-src.zip/py4j/protocol.py\u001b[0m in \u001b[0;36mget_return_value\u001b[0;34m(answer, gateway_client, target_id, name)\u001b[0m\n\u001b[1;32m    327\u001b[0m                     \u001b[0;34m\"An error occurred while calling {0}{1}{2}.\\n\"\u001b[0m\u001b[0;34m.\u001b[0m\u001b[0;34m\u001b[0m\u001b[0;34m\u001b[0m\u001b[0m\n\u001b[0;32m--> 328\u001b[0;31m                     format(target_id, \".\", name), value)\n\u001b[0m\u001b[1;32m    329\u001b[0m             \u001b[0;32melse\u001b[0m\u001b[0;34m:\u001b[0m\u001b[0;34m\u001b[0m\u001b[0;34m\u001b[0m\u001b[0m\n",
      "\u001b[0;31mPy4JJavaError\u001b[0m: An error occurred while calling o376.transform.\n: java.lang.IllegalArgumentException: requirement failed: Column prediction already exists.\n\tat scala.Predef$.require(Predef.scala:224)\n\tat org.apache.spark.ml.util.SchemaUtils$.appendColumn(SchemaUtils.scala:101)\n\tat org.apache.spark.ml.util.SchemaUtils$.appendColumn(SchemaUtils.scala:91)\n\tat org.apache.spark.ml.PredictorParams$class.validateAndTransformSchema(Predictor.scala:63)\n\tat org.apache.spark.ml.PredictionModel.validateAndTransformSchema(Predictor.scala:168)\n\tat org.apache.spark.ml.PredictionModel.transformSchema(Predictor.scala:192)\n\tat org.apache.spark.ml.PipelineStage.transformSchema(Pipeline.scala:74)\n\tat org.apache.spark.ml.PredictionModel.transform(Predictor.scala:203)\n\tat sun.reflect.NativeMethodAccessorImpl.invoke0(Native Method)\n\tat sun.reflect.NativeMethodAccessorImpl.invoke(NativeMethodAccessorImpl.java:62)\n\tat sun.reflect.DelegatingMethodAccessorImpl.invoke(DelegatingMethodAccessorImpl.java:43)\n\tat java.lang.reflect.Method.invoke(Method.java:498)\n\tat py4j.reflection.MethodInvoker.invoke(MethodInvoker.java:244)\n\tat py4j.reflection.ReflectionEngine.invoke(ReflectionEngine.java:357)\n\tat py4j.Gateway.invoke(Gateway.java:282)\n\tat py4j.commands.AbstractCommand.invokeMethod(AbstractCommand.java:132)\n\tat py4j.commands.CallCommand.execute(CallCommand.java:79)\n\tat py4j.GatewayConnection.run(GatewayConnection.java:238)\n\tat java.lang.Thread.run(Thread.java:748)\n",
      "\nDuring handling of the above exception, another exception occurred:\n",
      "\u001b[0;31mIllegalArgumentException\u001b[0m                  Traceback (most recent call last)",
      "\u001b[0;32m<ipython-input-26-af860fa14921>\u001b[0m in \u001b[0;36m<module>\u001b[0;34m\u001b[0m\n\u001b[0;32m----> 1\u001b[0;31m \u001b[0mtest_df_rf\u001b[0m \u001b[0;34m=\u001b[0m \u001b[0mmodel_rf\u001b[0m\u001b[0;34m.\u001b[0m\u001b[0mtransform\u001b[0m\u001b[0;34m(\u001b[0m\u001b[0mtest_df\u001b[0m\u001b[0;34m)\u001b[0m\u001b[0;34m\u001b[0m\u001b[0;34m\u001b[0m\u001b[0m\n\u001b[0m",
      "\u001b[0;32m/mnt/c/spark/spark-2.3.4-bin-hadoop2.7/python/pyspark/ml/base.py\u001b[0m in \u001b[0;36mtransform\u001b[0;34m(self, dataset, params)\u001b[0m\n\u001b[1;32m    171\u001b[0m                 \u001b[0;32mreturn\u001b[0m \u001b[0mself\u001b[0m\u001b[0;34m.\u001b[0m\u001b[0mcopy\u001b[0m\u001b[0;34m(\u001b[0m\u001b[0mparams\u001b[0m\u001b[0;34m)\u001b[0m\u001b[0;34m.\u001b[0m\u001b[0m_transform\u001b[0m\u001b[0;34m(\u001b[0m\u001b[0mdataset\u001b[0m\u001b[0;34m)\u001b[0m\u001b[0;34m\u001b[0m\u001b[0;34m\u001b[0m\u001b[0m\n\u001b[1;32m    172\u001b[0m             \u001b[0;32melse\u001b[0m\u001b[0;34m:\u001b[0m\u001b[0;34m\u001b[0m\u001b[0;34m\u001b[0m\u001b[0m\n\u001b[0;32m--> 173\u001b[0;31m                 \u001b[0;32mreturn\u001b[0m \u001b[0mself\u001b[0m\u001b[0;34m.\u001b[0m\u001b[0m_transform\u001b[0m\u001b[0;34m(\u001b[0m\u001b[0mdataset\u001b[0m\u001b[0;34m)\u001b[0m\u001b[0;34m\u001b[0m\u001b[0;34m\u001b[0m\u001b[0m\n\u001b[0m\u001b[1;32m    174\u001b[0m         \u001b[0;32melse\u001b[0m\u001b[0;34m:\u001b[0m\u001b[0;34m\u001b[0m\u001b[0;34m\u001b[0m\u001b[0m\n\u001b[1;32m    175\u001b[0m             \u001b[0;32mraise\u001b[0m \u001b[0mValueError\u001b[0m\u001b[0;34m(\u001b[0m\u001b[0;34m\"Params must be a param map but got %s.\"\u001b[0m \u001b[0;34m%\u001b[0m \u001b[0mtype\u001b[0m\u001b[0;34m(\u001b[0m\u001b[0mparams\u001b[0m\u001b[0;34m)\u001b[0m\u001b[0;34m)\u001b[0m\u001b[0;34m\u001b[0m\u001b[0;34m\u001b[0m\u001b[0m\n",
      "\u001b[0;32m/mnt/c/spark/spark-2.3.4-bin-hadoop2.7/python/pyspark/ml/wrapper.py\u001b[0m in \u001b[0;36m_transform\u001b[0;34m(self, dataset)\u001b[0m\n\u001b[1;32m    303\u001b[0m     \u001b[0;32mdef\u001b[0m \u001b[0m_transform\u001b[0m\u001b[0;34m(\u001b[0m\u001b[0mself\u001b[0m\u001b[0;34m,\u001b[0m \u001b[0mdataset\u001b[0m\u001b[0;34m)\u001b[0m\u001b[0;34m:\u001b[0m\u001b[0;34m\u001b[0m\u001b[0;34m\u001b[0m\u001b[0m\n\u001b[1;32m    304\u001b[0m         \u001b[0mself\u001b[0m\u001b[0;34m.\u001b[0m\u001b[0m_transfer_params_to_java\u001b[0m\u001b[0;34m(\u001b[0m\u001b[0;34m)\u001b[0m\u001b[0;34m\u001b[0m\u001b[0;34m\u001b[0m\u001b[0m\n\u001b[0;32m--> 305\u001b[0;31m         \u001b[0;32mreturn\u001b[0m \u001b[0mDataFrame\u001b[0m\u001b[0;34m(\u001b[0m\u001b[0mself\u001b[0m\u001b[0;34m.\u001b[0m\u001b[0m_java_obj\u001b[0m\u001b[0;34m.\u001b[0m\u001b[0mtransform\u001b[0m\u001b[0;34m(\u001b[0m\u001b[0mdataset\u001b[0m\u001b[0;34m.\u001b[0m\u001b[0m_jdf\u001b[0m\u001b[0;34m)\u001b[0m\u001b[0;34m,\u001b[0m \u001b[0mdataset\u001b[0m\u001b[0;34m.\u001b[0m\u001b[0msql_ctx\u001b[0m\u001b[0;34m)\u001b[0m\u001b[0;34m\u001b[0m\u001b[0;34m\u001b[0m\u001b[0m\n\u001b[0m\u001b[1;32m    306\u001b[0m \u001b[0;34m\u001b[0m\u001b[0m\n\u001b[1;32m    307\u001b[0m \u001b[0;34m\u001b[0m\u001b[0m\n",
      "\u001b[0;32m/mnt/c/spark/spark-2.3.4-bin-hadoop2.7/python/lib/py4j-0.10.7-src.zip/py4j/java_gateway.py\u001b[0m in \u001b[0;36m__call__\u001b[0;34m(self, *args)\u001b[0m\n\u001b[1;32m   1255\u001b[0m         \u001b[0manswer\u001b[0m \u001b[0;34m=\u001b[0m \u001b[0mself\u001b[0m\u001b[0;34m.\u001b[0m\u001b[0mgateway_client\u001b[0m\u001b[0;34m.\u001b[0m\u001b[0msend_command\u001b[0m\u001b[0;34m(\u001b[0m\u001b[0mcommand\u001b[0m\u001b[0;34m)\u001b[0m\u001b[0;34m\u001b[0m\u001b[0;34m\u001b[0m\u001b[0m\n\u001b[1;32m   1256\u001b[0m         return_value = get_return_value(\n\u001b[0;32m-> 1257\u001b[0;31m             answer, self.gateway_client, self.target_id, self.name)\n\u001b[0m\u001b[1;32m   1258\u001b[0m \u001b[0;34m\u001b[0m\u001b[0m\n\u001b[1;32m   1259\u001b[0m         \u001b[0;32mfor\u001b[0m \u001b[0mtemp_arg\u001b[0m \u001b[0;32min\u001b[0m \u001b[0mtemp_args\u001b[0m\u001b[0;34m:\u001b[0m\u001b[0;34m\u001b[0m\u001b[0;34m\u001b[0m\u001b[0m\n",
      "\u001b[0;32m/mnt/c/spark/spark-2.3.4-bin-hadoop2.7/python/pyspark/sql/utils.py\u001b[0m in \u001b[0;36mdeco\u001b[0;34m(*a, **kw)\u001b[0m\n\u001b[1;32m     77\u001b[0m                 \u001b[0;32mraise\u001b[0m \u001b[0mQueryExecutionException\u001b[0m\u001b[0;34m(\u001b[0m\u001b[0ms\u001b[0m\u001b[0;34m.\u001b[0m\u001b[0msplit\u001b[0m\u001b[0;34m(\u001b[0m\u001b[0;34m': '\u001b[0m\u001b[0;34m,\u001b[0m \u001b[0;36m1\u001b[0m\u001b[0;34m)\u001b[0m\u001b[0;34m[\u001b[0m\u001b[0;36m1\u001b[0m\u001b[0;34m]\u001b[0m\u001b[0;34m,\u001b[0m \u001b[0mstackTrace\u001b[0m\u001b[0;34m)\u001b[0m\u001b[0;34m\u001b[0m\u001b[0;34m\u001b[0m\u001b[0m\n\u001b[1;32m     78\u001b[0m             \u001b[0;32mif\u001b[0m \u001b[0ms\u001b[0m\u001b[0;34m.\u001b[0m\u001b[0mstartswith\u001b[0m\u001b[0;34m(\u001b[0m\u001b[0;34m'java.lang.IllegalArgumentException: '\u001b[0m\u001b[0;34m)\u001b[0m\u001b[0;34m:\u001b[0m\u001b[0;34m\u001b[0m\u001b[0;34m\u001b[0m\u001b[0m\n\u001b[0;32m---> 79\u001b[0;31m                 \u001b[0;32mraise\u001b[0m \u001b[0mIllegalArgumentException\u001b[0m\u001b[0;34m(\u001b[0m\u001b[0ms\u001b[0m\u001b[0;34m.\u001b[0m\u001b[0msplit\u001b[0m\u001b[0;34m(\u001b[0m\u001b[0;34m': '\u001b[0m\u001b[0;34m,\u001b[0m \u001b[0;36m1\u001b[0m\u001b[0;34m)\u001b[0m\u001b[0;34m[\u001b[0m\u001b[0;36m1\u001b[0m\u001b[0;34m]\u001b[0m\u001b[0;34m,\u001b[0m \u001b[0mstackTrace\u001b[0m\u001b[0;34m)\u001b[0m\u001b[0;34m\u001b[0m\u001b[0;34m\u001b[0m\u001b[0m\n\u001b[0m\u001b[1;32m     80\u001b[0m             \u001b[0;32mraise\u001b[0m\u001b[0;34m\u001b[0m\u001b[0;34m\u001b[0m\u001b[0m\n\u001b[1;32m     81\u001b[0m     \u001b[0;32mreturn\u001b[0m \u001b[0mdeco\u001b[0m\u001b[0;34m\u001b[0m\u001b[0;34m\u001b[0m\u001b[0m\n",
      "\u001b[0;31mIllegalArgumentException\u001b[0m: 'requirement failed: Column prediction already exists.'"
     ]
    }
   ],
   "source": [
    "test_df_rf = model_rf.transform(test_df)"
   ]
  },
  {
   "cell_type": "code",
   "execution_count": null,
   "metadata": {},
   "outputs": [],
   "source": [
    "evaluator.evaluate(test_df_rf)"
   ]
  }
 ],
 "metadata": {
  "kernelspec": {
   "display_name": "Python 3",
   "language": "python",
   "name": "python3"
  },
  "language_info": {
   "codemirror_mode": {
    "name": "ipython",
    "version": 3
   },
   "file_extension": ".py",
   "mimetype": "text/x-python",
   "name": "python",
   "nbconvert_exporter": "python",
   "pygments_lexer": "ipython3",
   "version": "3.7.4"
  }
 },
 "nbformat": 4,
 "nbformat_minor": 2
}
