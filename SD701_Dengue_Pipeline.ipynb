{
 "cells": [
  {
   "cell_type": "markdown",
   "metadata": {},
   "source": [
    "### Description des données\n",
    "\n",
    "Your goal is to predict the total_cases label for each (`city`, `year`, `weekofyear`) in the test set. \n",
    "There are two cities, *San Juan* and *Iquitos*, with test data for each city spanning 5 and 3 years respectively.\n",
    "You will make one submission that contains predictions for both cities.\n",
    "The data for each city have been concatenated along with a city column indicating the source: `sj` for San Juan and `iq` for Iquitos. \n",
    "The test set is a pure future hold-out, meaning the test data are sequential and non-overlapping with any of the training data.\n",
    "Throughout, missing values have been filled as `NaN`s.\n",
    "\n",
    "#### The features in this dataset\n",
    "\n",
    "You are provided the following set of information on a (`year`, `weekofyear`) timescale:\n",
    "\n",
    "(Where appropriate, units are provided as a `_unit` suffix on the feature name.)\n",
    "\n",
    "*City and date indicators*\n",
    "\n",
    " - `city` – City abbreviations: `sj` for San Juan and `iq` for Iquitos\n",
    " - `week_start_date` – Date given in yyyy-mm-dd format\n",
    "\n",
    "*NOAA's GHCN daily climate data weather station measurements*\n",
    "\n",
    " - `station_max_temp_c` – Maximum temperature\n",
    " - `station_min_temp_c` – Minimum temperature\n",
    " - `station_avg_temp_c` – Average temperature\n",
    " - `station_precip_mm` – Total precipitation\n",
    " - `station_diur_temp_rng_c` – Diurnal temperature range\n",
    " \n",
    "*PERSIANN satellite precipitation measurements (0.25x0.25 degree scale)*\n",
    "\n",
    " - `precipitation_amt_mm` – Total precipitation\n",
    "\n",
    "*NOAA's NCEP Climate Forecast System Reanalysis measurements (0.5x0.5 degree scale)*\n",
    "\n",
    " - `reanalysis_sat_precip_amt_mm` – Total precipitation\n",
    " - `reanalysis_dew_point_temp_k` – Mean dew point temperature\n",
    " - `reanalysis_air_temp_k` – Mean air temperature\n",
    " - `reanalysis_relative_humidity_percent` – Mean relative humidity\n",
    " - `reanalysis_specific_humidity_g_per_kg` – Mean specific humidity\n",
    " - `reanalysis_precip_amt_kg_per_m2` – Total precipitation\n",
    " - `reanalysis_max_air_temp_k` – Maximum air temperature\n",
    " - `reanalysis_min_air_temp_k` – Minimum air temperature\n",
    " - `reanalysis_avg_temp_k` – Average air temperature\n",
    " - `reanalysis_tdtr_k` – Diurnal temperature range\n",
    "\n",
    "*Satellite vegetation - Normalized difference vegetation index (NDVI) - NOAA's CDR Normalized Difference Vegetation Index (0.5x0.5 degree scale) measurements*\n",
    "\n",
    " - `ndvi_se` – Pixel southeast of city centroid\n",
    " - `ndvi_sw` – Pixel southwest of city centroid\n",
    " - `ndvi_ne` – Pixel northeast of city centroid\n",
    " - `ndvi_nw` – Pixel northwest of city centroid"
   ]
  },
  {
   "cell_type": "code",
   "execution_count": 1,
   "metadata": {},
   "outputs": [],
   "source": [
    "# Load pyspark\n",
    "import findspark\n",
    "\n",
    "findspark.init()\n",
    "\n",
    "from pyspark import SparkContext\n",
    "\n",
    "from pyspark.sql import SparkSession\n",
    "from pyspark.sql import functions as F\n",
    "\n",
    "from pyspark.ml.regression import LinearRegression\n",
    "from pyspark.ml.regression import RandomForestRegressor\n",
    "\n",
    "from pyspark.ml.feature import VectorAssembler, StringIndexer, OneHotEncoder, StandardScaler\n",
    "\n",
    "from pyspark.ml.evaluation import RegressionEvaluator\n",
    "\n",
    "from pyspark.ml.tuning import CrossValidator, ParamGridBuilder\n",
    "\n",
    "from pyspark.ml import Pipeline\n",
    "\n",
    "from pyspark.sql.window import Window\n",
    "from pyspark.ml.stat import Correlation"
   ]
  },
  {
   "cell_type": "code",
   "execution_count": 2,
   "metadata": {},
   "outputs": [],
   "source": [
    "import pandas as pd\n",
    "import numpy as np\n",
    "\n",
    "# charting\n",
    "import matplotlib.pyplot as plt\n",
    "\n",
    "from pandas.plotting import register_matplotlib_converters\n",
    "register_matplotlib_converters()"
   ]
  },
  {
   "cell_type": "code",
   "execution_count": 3,
   "metadata": {},
   "outputs": [],
   "source": [
    "spark = SparkSession.builder.appName(\"dengue\").getOrCreate()"
   ]
  },
  {
   "cell_type": "markdown",
   "metadata": {},
   "source": [
    "### Chargement des données"
   ]
  },
  {
   "cell_type": "code",
   "execution_count": 4,
   "metadata": {},
   "outputs": [],
   "source": [
    "path_to_data = \"data/\"\n",
    "\n",
    "df_features = spark.read.csv(path_to_data + \"dengue_features_train.csv\",\n",
    "                             header=True)\n",
    "df_labels = spark.read.csv(path_to_data + \"dengue_labels_train.csv\",\n",
    "                           header=True)"
   ]
  },
  {
   "cell_type": "code",
   "execution_count": 5,
   "metadata": {},
   "outputs": [
    {
     "name": "stdout",
     "output_type": "stream",
     "text": [
      "root\n",
      " |-- city: string (nullable = true)\n",
      " |-- year: string (nullable = true)\n",
      " |-- weekofyear: string (nullable = true)\n",
      " |-- week_start_date: string (nullable = true)\n",
      " |-- ndvi_ne: string (nullable = true)\n",
      " |-- ndvi_nw: string (nullable = true)\n",
      " |-- ndvi_se: string (nullable = true)\n",
      " |-- ndvi_sw: string (nullable = true)\n",
      " |-- precipitation_amt_mm: string (nullable = true)\n",
      " |-- reanalysis_air_temp_k: string (nullable = true)\n",
      " |-- reanalysis_avg_temp_k: string (nullable = true)\n",
      " |-- reanalysis_dew_point_temp_k: string (nullable = true)\n",
      " |-- reanalysis_max_air_temp_k: string (nullable = true)\n",
      " |-- reanalysis_min_air_temp_k: string (nullable = true)\n",
      " |-- reanalysis_precip_amt_kg_per_m2: string (nullable = true)\n",
      " |-- reanalysis_relative_humidity_percent: string (nullable = true)\n",
      " |-- reanalysis_sat_precip_amt_mm: string (nullable = true)\n",
      " |-- reanalysis_specific_humidity_g_per_kg: string (nullable = true)\n",
      " |-- reanalysis_tdtr_k: string (nullable = true)\n",
      " |-- station_avg_temp_c: string (nullable = true)\n",
      " |-- station_diur_temp_rng_c: string (nullable = true)\n",
      " |-- station_max_temp_c: string (nullable = true)\n",
      " |-- station_min_temp_c: string (nullable = true)\n",
      " |-- station_precip_mm: string (nullable = true)\n",
      "\n"
     ]
    }
   ],
   "source": [
    "df_features.printSchema()"
   ]
  },
  {
   "cell_type": "code",
   "execution_count": 6,
   "metadata": {},
   "outputs": [
    {
     "name": "stdout",
     "output_type": "stream",
     "text": [
      "root\n",
      " |-- city: string (nullable = true)\n",
      " |-- year: string (nullable = true)\n",
      " |-- weekofyear: string (nullable = true)\n",
      " |-- total_cases: string (nullable = true)\n",
      "\n"
     ]
    }
   ],
   "source": [
    "df_labels.printSchema()"
   ]
  },
  {
   "cell_type": "markdown",
   "metadata": {},
   "source": [
    "### Jointure\n",
    "\n",
    "Nous joignons les deux DataFrames"
   ]
  },
  {
   "cell_type": "code",
   "execution_count": 7,
   "metadata": {},
   "outputs": [
    {
     "name": "stdout",
     "output_type": "stream",
     "text": [
      "df_train = (1456, 25)\n"
     ]
    }
   ],
   "source": [
    "#join\n",
    "df_train = df_features.join(df_labels, ['city', 'year', 'weekofyear'])\n",
    "\n",
    "print(\"df_train = ({}, {})\".format(df_train.count(), len(df_train.columns)))"
   ]
  },
  {
   "cell_type": "markdown",
   "metadata": {},
   "source": [
    "### Nettoyage"
   ]
  },
  {
   "cell_type": "code",
   "execution_count": 8,
   "metadata": {},
   "outputs": [],
   "source": [
    "# The 2 columns 'precipitation_amt_mm' and 'reanalysis_sat_precip_amt_mm' are the same\n",
    "# we drop 'precipitation_amt_mm'\n",
    "df_train = df_train.drop('precipitation_amt_mm')\n",
    "\n",
    "# recast 'week_start_date' as a date. Nice to have for plotting or time series analysis\n",
    "df_train = df_train.withColumn('week_start_date', F.to_date('week_start_date', 'yyyy-MM-dd'))\n",
    "\n",
    "# recast 'year' and 'weekofyear' to integer\n",
    "df_train = df_train \\\n",
    "    .withColumn('year', df_train['year'].cast('int')) \\\n",
    "    .withColumn('weekofyear', df_train['weekofyear'].cast('int'))\n",
    "\n",
    "# cast column to float\n",
    "for col_name in df_train.columns[4:]:\n",
    "    df_train = df_train.withColumn(col_name, df_train[col_name].cast('float'))"
   ]
  },
  {
   "cell_type": "code",
   "execution_count": 9,
   "metadata": {},
   "outputs": [
    {
     "name": "stdout",
     "output_type": "stream",
     "text": [
      "df_train = (1456, 24)\n",
      "city => 0\n",
      "year => 0\n",
      "weekofyear => 0\n",
      "week_start_date => 0\n",
      "ndvi_ne => 194\n",
      "ndvi_nw => 52\n",
      "ndvi_se => 22\n",
      "ndvi_sw => 22\n",
      "reanalysis_air_temp_k => 10\n",
      "reanalysis_avg_temp_k => 10\n",
      "reanalysis_dew_point_temp_k => 10\n",
      "reanalysis_max_air_temp_k => 10\n",
      "reanalysis_min_air_temp_k => 10\n",
      "reanalysis_precip_amt_kg_per_m2 => 10\n",
      "reanalysis_relative_humidity_percent => 10\n",
      "reanalysis_sat_precip_amt_mm => 13\n",
      "reanalysis_specific_humidity_g_per_kg => 10\n",
      "reanalysis_tdtr_k => 10\n",
      "station_avg_temp_c => 43\n",
      "station_diur_temp_rng_c => 43\n",
      "station_max_temp_c => 20\n",
      "station_min_temp_c => 14\n",
      "station_precip_mm => 22\n",
      "total_cases => 0\n",
      "df_train = (1456, 24)\n"
     ]
    }
   ],
   "source": [
    "print(\"df_train = ({}, {})\".format(df_train.count(), len(df_train.columns)))\n",
    "\n",
    "# identify null value\n",
    "for col_name in df_train.columns:\n",
    "    print(\"{} => {}\".format(col_name,\n",
    "                            df_train.filter(F.isnull(df_train[col_name])).count()))\n",
    "\n",
    "#df_train = df_train.dropna()\n",
    "\n",
    "print(\"df_train = ({}, {})\".format(df_train.count(), len(df_train.columns)))"
   ]
  },
  {
   "cell_type": "code",
   "execution_count": 11,
   "metadata": {},
   "outputs": [
    {
     "name": "stdout",
     "output_type": "stream",
     "text": [
      "city => 0\n",
      "year => 0\n",
      "weekofyear => 0\n",
      "week_start_date => 0\n",
      "ndvi_ne => 0\n",
      "ndvi_nw => 0\n",
      "ndvi_se => 0\n",
      "ndvi_sw => 0\n",
      "reanalysis_air_temp_k => 0\n",
      "reanalysis_avg_temp_k => 0\n",
      "reanalysis_dew_point_temp_k => 0\n",
      "reanalysis_max_air_temp_k => 0\n",
      "reanalysis_min_air_temp_k => 0\n",
      "reanalysis_precip_amt_kg_per_m2 => 0\n",
      "reanalysis_relative_humidity_percent => 0\n",
      "reanalysis_sat_precip_amt_mm => 0\n",
      "reanalysis_specific_humidity_g_per_kg => 0\n",
      "reanalysis_tdtr_k => 0\n",
      "station_avg_temp_c => 0\n",
      "station_diur_temp_rng_c => 0\n",
      "station_max_temp_c => 0\n",
      "station_min_temp_c => 0\n",
      "station_precip_mm => 0\n",
      "total_cases => 0\n"
     ]
    }
   ],
   "source": [
    "w = Window().partitionBy().orderBy(F.col('week_start_date'))\n",
    "\n",
    "for col_name in df_train.columns:\n",
    "    df_train = df_train.withColumn(col_name, F.last(col_name, True).over(w))\n",
    "    \n",
    "# identify null value\n",
    "for col_name in df_train.columns:\n",
    "    print(\"{} => {}\".format(col_name,\n",
    "                            df_train.filter(F.isnull(df_train[col_name])).count()))"
   ]
  },
  {
   "cell_type": "code",
   "execution_count": 13,
   "metadata": {},
   "outputs": [
    {
     "name": "stdout",
     "output_type": "stream",
     "text": [
      "df_train = (1456, 24)\n",
      "root\n",
      " |-- city: string (nullable = true)\n",
      " |-- year: integer (nullable = true)\n",
      " |-- weekofyear: integer (nullable = true)\n",
      " |-- week_start_date: date (nullable = true)\n",
      " |-- ndvi_ne: float (nullable = true)\n",
      " |-- ndvi_nw: float (nullable = true)\n",
      " |-- ndvi_se: float (nullable = true)\n",
      " |-- ndvi_sw: float (nullable = true)\n",
      " |-- reanalysis_air_temp_k: float (nullable = true)\n",
      " |-- reanalysis_avg_temp_k: float (nullable = true)\n",
      " |-- reanalysis_dew_point_temp_k: float (nullable = true)\n",
      " |-- reanalysis_max_air_temp_k: float (nullable = true)\n",
      " |-- reanalysis_min_air_temp_k: float (nullable = true)\n",
      " |-- reanalysis_precip_amt_kg_per_m2: float (nullable = true)\n",
      " |-- reanalysis_relative_humidity_percent: float (nullable = true)\n",
      " |-- reanalysis_sat_precip_amt_mm: float (nullable = true)\n",
      " |-- reanalysis_specific_humidity_g_per_kg: float (nullable = true)\n",
      " |-- reanalysis_tdtr_k: float (nullable = true)\n",
      " |-- station_avg_temp_c: float (nullable = true)\n",
      " |-- station_diur_temp_rng_c: float (nullable = true)\n",
      " |-- station_max_temp_c: float (nullable = true)\n",
      " |-- station_min_temp_c: float (nullable = true)\n",
      " |-- station_precip_mm: float (nullable = true)\n",
      " |-- total_cases: float (nullable = true)\n",
      "\n"
     ]
    }
   ],
   "source": [
    "print(\"df_train = ({}, {})\".format(df_train.count(), len(df_train.columns)))\n",
    "\n",
    "df_train.printSchema()"
   ]
  },
  {
   "cell_type": "markdown",
   "metadata": {},
   "source": [
    "### Plot"
   ]
  },
  {
   "cell_type": "code",
   "execution_count": 14,
   "metadata": {},
   "outputs": [],
   "source": [
    "# create pandas dataframe from spark dataframe\n",
    "\n",
    "pd_train = df_train.toPandas()"
   ]
  },
  {
   "cell_type": "code",
   "execution_count": 15,
   "metadata": {},
   "outputs": [
    {
     "data": {
      "image/png": "[encoded data removed]",
      "text/plain": [
       "<Figure size 432x288 with 1 Axes>"
      ]
     },
     "metadata": {
      "needs_background": "light"
     },
     "output_type": "display_data"
    }
   ],
   "source": [
    "pd_train_sj = pd_train[pd_train['city'] == 'sj']\n",
    "pd_train_iq = pd_train[pd_train['city'] == 'iq']\n",
    "\n",
    "# Total cases per city\n",
    "plt.figure()\n",
    "\n",
    "plt.grid()\n",
    "plt.title('Dengue Fever total cases per week')\n",
    "\n",
    "\n",
    "plt.xlabel('year')\n",
    "plt.ylabel('total cases')\n",
    "plt.xticks()\n",
    "plt.yticks()\n",
    "\n",
    "plt.plot(pd_train_sj['week_start_date'], pd_train_sj['total_cases'], label='San Juan')\n",
    "plt.plot(pd_train_iq['week_start_date'], pd_train_iq['total_cases'], label='Iquitos')\n",
    "\n",
    "plt.legend()\n",
    "\n",
    "plt.show()"
   ]
  },
  {
   "cell_type": "markdown",
   "metadata": {},
   "source": [
    "### Buid a new column"
   ]
  },
  {
   "cell_type": "code",
   "execution_count": 59,
   "metadata": {},
   "outputs": [
    {
     "name": "stdout",
     "output_type": "stream",
     "text": [
      "df_train2 = (1456, 24)\n"
     ]
    }
   ],
   "source": [
    "from pyspark.sql.window import Window\n",
    "from pyspark.ml.stat import Correlation\n",
    "\n",
    "w = Window().partitionBy().orderBy(F.col('week_start_date'))\n",
    "\n",
    "df_train2 = df_train\n",
    "#df_train2 = df_train.withColumn('avg_temp_1_c', F.lag('station_avg_temp_c', count=1).over(w)) \\\n",
    "#    .withColumn('avg_temp_2_c', F.lag('station_avg_temp_c', count=2).over(w)) \\\n",
    "#    .withColumn('avg_temp_3_c', F.lag('station_avg_temp_c', count=3).over(w)) \\\n",
    "#    .withColumn('avg_temp_4_c', F.lag('station_avg_temp_c', count=4).over(w))\n",
    "\n",
    "#df_train2 = df_train2.withColumn('station_precip_1_mm', F.lag('station_precip_mm', count=1).over(w)) \\\n",
    "#    .withColumn('station_precip_2_mm', F.lag('station_precip_mm', count=2).over(w)) \\\n",
    "#    .withColumn('station_precip_3_mm', F.lag('station_precip_mm', count=3).over(w)) \\\n",
    "#    .withColumn('station_precip_4_mm', F.lag('station_precip_mm', count=4).over(w))\n",
    "\n",
    "print(\"df_train2 = ({}, {})\".format(df_train2.count(), len(df_train2.columns)))\n",
    "\n",
    "#\n",
    "#df_train2.show()"
   ]
  },
  {
   "cell_type": "code",
   "execution_count": 60,
   "metadata": {},
   "outputs": [
    {
     "name": "stdout",
     "output_type": "stream",
     "text": [
      "df_train = (1456, 24)\n"
     ]
    }
   ],
   "source": [
    "df_train2 = df_train2.dropna()\n",
    "print(\"df_train = ({}, {})\".format(df_train2.count(), len(df_train2.columns)))"
   ]
  },
  {
   "cell_type": "markdown",
   "metadata": {},
   "source": [
    "### Construction des jeux d'entrainement et de test"
   ]
  },
  {
   "cell_type": "code",
   "execution_count": 61,
   "metadata": {},
   "outputs": [],
   "source": [
    "train, test = df_train2.randomSplit([0.75, 0.25], seed=18)\n",
    "\n",
    "#train.cache()"
   ]
  },
  {
   "cell_type": "code",
   "execution_count": 62,
   "metadata": {},
   "outputs": [
    {
     "data": {
      "text/plain": [
       "DataFrame[city: string, year: int, weekofyear: int, week_start_date: date, ndvi_ne: float, ndvi_nw: float, ndvi_se: float, ndvi_sw: float, reanalysis_air_temp_k: float, reanalysis_avg_temp_k: float, reanalysis_dew_point_temp_k: float, reanalysis_max_air_temp_k: float, reanalysis_min_air_temp_k: float, reanalysis_precip_amt_kg_per_m2: float, reanalysis_relative_humidity_percent: float, reanalysis_sat_precip_amt_mm: float, reanalysis_specific_humidity_g_per_kg: float, reanalysis_tdtr_k: float, station_avg_temp_c: float, station_diur_temp_rng_c: float, station_max_temp_c: float, station_min_temp_c: float, station_precip_mm: float, total_cases: float]"
      ]
     },
     "execution_count": 62,
     "metadata": {},
     "output_type": "execute_result"
    }
   ],
   "source": [
    "train.cache()"
   ]
  },
  {
   "cell_type": "markdown",
   "metadata": {},
   "source": [
    "### Construction du *pipeline*"
   ]
  },
  {
   "cell_type": "code",
   "execution_count": 63,
   "metadata": {},
   "outputs": [],
   "source": [
    "indexer = StringIndexer(inputCol='city', outputCol='city_')\n",
    "\n",
    "encoder = OneHotEncoder(inputCol='city_', outputCol='cityVect')\n",
    "\n",
    "vectorAssembler = VectorAssembler(\n",
    "    inputCols=['year', 'weekofyear',\n",
    "               'ndvi_ne', 'ndvi_nw', 'ndvi_se', 'ndvi_sw',\n",
    "               'reanalysis_air_temp_k','reanalysis_avg_temp_k',\n",
    "               'reanalysis_dew_point_temp_k', 'reanalysis_max_air_temp_k',\n",
    "               'reanalysis_min_air_temp_k', 'reanalysis_precip_amt_kg_per_m2',\n",
    "               'reanalysis_relative_humidity_percent', 'reanalysis_sat_precip_amt_mm',\n",
    "               'reanalysis_specific_humidity_g_per_kg', 'reanalysis_tdtr_k',\n",
    "               'station_avg_temp_c',\n",
    "#               'avg_temp_1_c', 'avg_temp_2_c', 'avg_temp_3_c', 'avg_temp_4_c',\n",
    "               'station_diur_temp_rng_c',\n",
    "               'station_max_temp_c', 'station_min_temp_c', \n",
    "               'station_precip_mm',\n",
    "#               'station_precip_1_mm', 'station_precip_2_mm', 'station_precip_3_mm', 'station_precip_4_mm',\n",
    "               'cityVect'], \n",
    "    outputCol = 'features')\n",
    "\n",
    "scaler = StandardScaler(inputCol='features',\n",
    "                        outputCol=\"scaled_features\",\n",
    "                        withStd=True, withMean=True)\n",
    "\n",
    "lr = LinearRegression(featuresCol='scaled_features',\n",
    "                      labelCol='total_cases',\n",
    "                      predictionCol='lr_prediction')\n",
    "\n",
    "rf = RandomForestRegressor(featuresCol='scaled_features',\n",
    "                           labelCol='total_cases',\n",
    "                           predictionCol='rf_prediction')"
   ]
  },
  {
   "cell_type": "markdown",
   "metadata": {},
   "source": [
    "#### 1. Random Forest"
   ]
  },
  {
   "cell_type": "code",
   "execution_count": 64,
   "metadata": {},
   "outputs": [],
   "source": [
    "pipeline_rf = Pipeline(stages=[indexer, encoder, vectorAssembler, scaler, rf])\n",
    "\n",
    "evaluator_rf = RegressionEvaluator(labelCol='total_cases',\n",
    "                                   predictionCol='rf_prediction',\n",
    "                                   metricName=\"rmse\")"
   ]
  },
  {
   "cell_type": "code",
   "execution_count": 65,
   "metadata": {},
   "outputs": [],
   "source": [
    "# build model\n",
    "\n",
    "model_rf = pipeline_rf.fit(train)"
   ]
  },
  {
   "cell_type": "code",
   "execution_count": 66,
   "metadata": {},
   "outputs": [],
   "source": [
    "# Build prediction from 'test' dataset\n",
    "pred_rf = model_rf.transform(test)"
   ]
  },
  {
   "cell_type": "code",
   "execution_count": 67,
   "metadata": {},
   "outputs": [
    {
     "name": "stdout",
     "output_type": "stream",
     "text": [
      "+-----------+------------------+\n",
      "|total_cases|     rf_prediction|\n",
      "+-----------+------------------+\n",
      "|        0.0|   2.2404719359431|\n",
      "|        0.0| 2.918510122433266|\n",
      "|        0.0|1.8168123156795617|\n",
      "|        0.0|1.5694310780158793|\n",
      "|        0.0|1.7532791792817022|\n",
      "|        0.0|1.7532791792817022|\n",
      "|        0.0|1.6446469277852735|\n",
      "|        0.0| 2.050913060251499|\n",
      "|        1.0|1.8925775237316682|\n",
      "|        0.0|1.8836028962869027|\n",
      "|        0.0|2.0674509975527253|\n",
      "|        0.0| 4.004199470476059|\n",
      "|        1.0| 2.199303863729356|\n",
      "|        0.0|  5.51957140780185|\n",
      "|        0.0| 5.259475384890686|\n",
      "|        0.0| 4.557814846496803|\n",
      "|        0.0| 4.438629119282341|\n",
      "|        0.0| 2.911166538780171|\n",
      "|        0.0| 3.984058078886241|\n",
      "|        0.0|2.1468867598579235|\n",
      "|        0.0| 2.088770203108642|\n",
      "|        0.0|2.2746824622588893|\n",
      "|        1.0|2.5504427952784408|\n",
      "|        0.0| 2.050913060251499|\n",
      "|        0.0| 5.433969416400677|\n",
      "|        0.0| 2.104095711071791|\n",
      "|        0.0|1.6446469277852735|\n",
      "|        0.0|1.8284950290510964|\n",
      "|        0.0|2.0674509975527253|\n",
      "|        0.0|1.6446469277852735|\n",
      "|        0.0|1.9292441903983348|\n",
      "|        0.0| 2.076425624997491|\n",
      "|        0.0| 2.190211404701465|\n",
      "|        0.0| 3.865755745295594|\n",
      "|        1.0| 4.751698478726128|\n",
      "|        1.0| 3.680131603589188|\n",
      "|        1.0| 4.708315700921555|\n",
      "|        4.0| 5.514109570097091|\n",
      "|       23.0|10.233305940431359|\n",
      "|       12.0|  9.59466281880705|\n",
      "|        5.0| 7.772461003083062|\n",
      "|        8.0| 8.782149348707872|\n",
      "|       18.0| 9.659911950147269|\n",
      "|       13.0| 9.615763743194975|\n",
      "|       13.0| 9.615763743194975|\n",
      "|       10.0| 8.945614048540426|\n",
      "|        5.0| 8.744739187417697|\n",
      "|        5.0| 8.744739187417697|\n",
      "|       13.0| 9.204661270201132|\n",
      "|        2.0|5.5624349052923705|\n",
      "|       11.0| 5.302227082815532|\n",
      "|        7.0| 5.437293285497589|\n",
      "|        5.0| 5.083522902114124|\n",
      "|        7.0|  5.12683531772556|\n",
      "|        8.0| 7.715425502209293|\n",
      "|       21.0| 8.736331674135949|\n",
      "|       16.0| 9.681980871924042|\n",
      "|       26.0|11.476624027525721|\n",
      "|       11.0|11.207378486776188|\n",
      "|       10.0| 8.315790857004522|\n",
      "|        2.0| 7.604438692174412|\n",
      "|        1.0|7.7069559499963445|\n",
      "|        2.0| 7.894123267039622|\n",
      "|        2.0| 7.894123267039622|\n",
      "|        2.0| 7.366820931196296|\n",
      "|        1.0| 8.279861576323846|\n",
      "|        4.0| 9.174827457716997|\n",
      "|        0.0| 8.349888438459091|\n",
      "|        0.0| 9.590258546241216|\n",
      "|        0.0| 9.590258546241216|\n",
      "|        1.0|  8.52080812126976|\n",
      "|        1.0| 6.383828476258814|\n",
      "|        1.0| 7.041691082849555|\n",
      "|        1.0| 5.714790947147594|\n",
      "|        2.0| 8.355458386403463|\n",
      "|        4.0| 4.762337236394108|\n",
      "|        2.0| 5.027433125680238|\n",
      "|        5.0| 5.067181558717071|\n",
      "|        1.0| 4.673662742296773|\n",
      "|        1.0| 5.072795204166136|\n",
      "|        0.0|5.3837117824270555|\n",
      "|        2.0| 5.318391612387321|\n",
      "|        0.0| 5.203283501259099|\n",
      "|        0.0| 6.966251971515781|\n",
      "|        2.0|11.076003358979548|\n",
      "|        3.0|   7.7142465840946|\n",
      "|        5.0|11.158968674769099|\n",
      "|        4.0|10.485540763484412|\n",
      "|        8.0|10.466293133908106|\n",
      "|        5.0| 9.565642209230889|\n",
      "|        6.0|  8.66722518566289|\n",
      "|        8.0| 9.156883438039298|\n",
      "|        6.0|  9.11109116068651|\n",
      "|        7.0| 9.745745088629912|\n",
      "|        6.0|6.2034001950908575|\n",
      "|       13.0| 5.507817662361866|\n",
      "|        3.0|5.3330030266429755|\n",
      "|        7.0| 5.570090389634593|\n",
      "|        6.0| 5.396585809765338|\n",
      "|        5.0| 5.008510773986372|\n",
      "|        8.0| 5.857010140156236|\n",
      "|        8.0| 5.857010140156236|\n",
      "|       12.0| 5.822502553535713|\n",
      "|       19.0| 8.764877287445342|\n",
      "|       19.0| 8.764877287445342|\n",
      "|        8.0| 7.358317058814879|\n",
      "|       16.0| 9.697494591774847|\n",
      "|       21.0| 9.836887360330035|\n",
      "|        6.0|  8.46711476767729|\n",
      "|        7.0|10.186970308836111|\n",
      "|        5.0|  8.23471190374392|\n",
      "|        8.0|10.175197579373073|\n",
      "|        8.0|10.175197579373073|\n",
      "|       13.0|  7.15457941663959|\n",
      "|        7.0|10.501141610170151|\n",
      "|        9.0|10.130572278186346|\n",
      "|        9.0|10.130572278186346|\n",
      "|        2.0| 9.590258546241216|\n",
      "|        2.0| 9.590258546241216|\n",
      "|       13.0| 8.761204915216243|\n",
      "|        5.0|7.5084211901728635|\n",
      "|        4.0|6.3935476692674555|\n",
      "|        2.0| 6.731014862582721|\n",
      "|        2.0| 6.731014862582721|\n",
      "|        3.0| 5.862623785605302|\n",
      "|        5.0| 5.701074784239928|\n",
      "|        4.0| 5.111529714188479|\n",
      "|        0.0| 6.044920584736117|\n",
      "|        0.0| 5.654683075655206|\n",
      "|        0.0|6.9277463338188765|\n",
      "|        0.0| 5.784712762259277|\n",
      "|        4.0| 7.538493011561056|\n",
      "|        3.0| 7.964244210521137|\n",
      "|        3.0| 9.542325448472223|\n",
      "|        6.0| 9.711522739001818|\n",
      "|        9.0|10.186970308836111|\n",
      "|        9.0|10.186970308836111|\n",
      "|       25.0| 8.955882418006999|\n",
      "|       21.0|10.066599525802173|\n",
      "|       21.0|10.066599525802173|\n",
      "|       28.0|11.234352206374487|\n",
      "|       20.0|10.836862465891912|\n",
      "|       24.0|  8.17416560620513|\n",
      "|       24.0|  8.17416560620513|\n",
      "|       26.0| 8.819995606151478|\n",
      "|       26.0| 8.819995606151478|\n",
      "|        8.0| 8.858897199507188|\n",
      "|        9.0| 9.828540133578493|\n",
      "|        9.0| 9.828540133578493|\n",
      "|        6.0| 5.472089938706911|\n",
      "+-----------+------------------+\n",
      "only showing top 150 rows\n",
      "\n"
     ]
    }
   ],
   "source": [
    "pred_rf.select(['total_cases','rf_prediction']).show(150)"
   ]
  },
  {
   "cell_type": "code",
   "execution_count": 68,
   "metadata": {},
   "outputs": [
    {
     "name": "stdout",
     "output_type": "stream",
     "text": [
      "Random Forest::Before grid search - RMSE = 17.354\n"
     ]
    }
   ],
   "source": [
    "rmse = evaluator_rf.evaluate(pred_rf)\n",
    "\n",
    "print(\"Random Forest::Before grid search - RMSE = {:.3f}\".format(rmse))"
   ]
  },
  {
   "cell_type": "markdown",
   "metadata": {},
   "source": [
    "#### Cross-Validation"
   ]
  },
  {
   "cell_type": "code",
   "execution_count": 26,
   "metadata": {},
   "outputs": [],
   "source": [
    "# Parameter grid for random forest\n",
    "paramGrid_rf = ParamGridBuilder() \\\n",
    "    .addGrid(rf.maxDepth, [2, 5, 10, 15, 20]) \\\n",
    "    .addGrid(rf.numTrees, [10, 20, 30, 40, 50]) \\\n",
    "    .build()\n",
    "\n",
    "crossval_rf = CrossValidator(estimator=pipeline_rf,\n",
    "                             estimatorParamMaps=paramGrid_rf,\n",
    "                             evaluator=evaluator_rf,\n",
    "                             numFolds=2,\n",
    "                             seed=18)"
   ]
  },
  {
   "cell_type": "code",
   "execution_count": 27,
   "metadata": {},
   "outputs": [],
   "source": [
    "cv_model_rf = crossval_rf.fit(train)"
   ]
  },
  {
   "cell_type": "code",
   "execution_count": 28,
   "metadata": {},
   "outputs": [],
   "source": [
    "# Build prediction from 'test' dataset\n",
    "cv_pred_rf = cv_model_rf.transform(test)"
   ]
  },
  {
   "cell_type": "code",
   "execution_count": 29,
   "metadata": {},
   "outputs": [
    {
     "name": "stdout",
     "output_type": "stream",
     "text": [
      "Random Forest::After grid search - RMSE = 16.176\n"
     ]
    }
   ],
   "source": [
    "rmse = evaluator_rf.evaluate(cv_pred_rf)\n",
    "\n",
    "print(\"Random Forest::After grid search - RMSE = {:.3f}\".format(rmse))"
   ]
  },
  {
   "cell_type": "code",
   "execution_count": 30,
   "metadata": {},
   "outputs": [
    {
     "data": {
      "text/plain": [
       "30"
      ]
     },
     "execution_count": 30,
     "metadata": {},
     "output_type": "execute_result"
    }
   ],
   "source": [
    "cv_model_rf.bestModel.stages[-1].getNumTrees"
   ]
  },
  {
   "cell_type": "markdown",
   "metadata": {},
   "source": [
    "#### plot"
   ]
  },
  {
   "cell_type": "code",
   "execution_count": null,
   "metadata": {},
   "outputs": [],
   "source": [
    "# create pandas dataframe from spark dataframe\n",
    "pd_pred_rf = cv_pred_rf.toPandas()\n",
    "\n",
    "pd_pred_rf_sj = pd_pred_rf[pd_pred_rf['city'] == 'sj']\n",
    "pd_pred_rf_iq = pd_pred_rf[pd_pred_rf['city'] == 'iq']"
   ]
  },
  {
   "cell_type": "code",
   "execution_count": null,
   "metadata": {},
   "outputs": [],
   "source": [
    "# Total cases per city\n",
    "plt.figure()\n",
    "\n",
    "plt.grid()\n",
    "plt.title('Random Forest: Prediction Dengue Fever total cases per week')\n",
    "\n",
    "\n",
    "plt.xlabel('year')\n",
    "plt.ylabel('total cases')\n",
    "plt.xticks()\n",
    "plt.yticks()\n",
    "\n",
    "plt.plot(pd_train_sj['week_start_date'], pd_train_sj['total_cases'], label='San Juan')\n",
    "plt.plot(pd_train_iq['week_start_date'], pd_train_iq['total_cases'], label='Iquitos')\n",
    "\n",
    "plt.plot(pd_pred_rf_sj['week_start_date'], pd_pred_rf_sj['total_cases'], label='Pred: San Juan')\n",
    "plt.plot(pd_pred_rf_iq['week_start_date'], pd_pred_rf_iq['total_cases'], label='Pred: Iquitos')\n",
    "\n",
    "plt.legend()\n",
    "\n",
    "plt.show()"
   ]
  },
  {
   "cell_type": "markdown",
   "metadata": {},
   "source": [
    "#### 2. Linear regression"
   ]
  },
  {
   "cell_type": "code",
   "execution_count": null,
   "metadata": {},
   "outputs": [],
   "source": [
    "pipeline_lr = Pipeline(stages=[indexer, encoder, vectorAssembler, scaler, lr])\n",
    "\n",
    "evaluator_lr = RegressionEvaluator(labelCol='total_cases',\n",
    "                                   predictionCol='lr_prediction',\n",
    "                                   metricName=\"rmse\")"
   ]
  },
  {
   "cell_type": "code",
   "execution_count": null,
   "metadata": {},
   "outputs": [],
   "source": [
    "model_lr = pipeline_lr.fit(train)"
   ]
  },
  {
   "cell_type": "code",
   "execution_count": null,
   "metadata": {},
   "outputs": [],
   "source": [
    "# Build prediction from 'test' dataset\n",
    "pred_lr = model_lr.transform(test)"
   ]
  },
  {
   "cell_type": "code",
   "execution_count": null,
   "metadata": {},
   "outputs": [],
   "source": [
    "pred_lr.select(['total_cases','lr_prediction']).show(10)"
   ]
  },
  {
   "cell_type": "code",
   "execution_count": null,
   "metadata": {},
   "outputs": [],
   "source": [
    "rmse = evaluator_lr.evaluate(pred_lr)\n",
    "\n",
    "print(\"Linear regression::Before grid search - RMSE = {:.3f}\".format(rmse))"
   ]
  },
  {
   "cell_type": "markdown",
   "metadata": {},
   "source": [
    "#### Cross-Validation"
   ]
  },
  {
   "cell_type": "code",
   "execution_count": null,
   "metadata": {},
   "outputs": [],
   "source": [
    "# Parameter grid for linear regression (LR)\n",
    "paramGrid_lr = ParamGridBuilder() \\\n",
    "    .addGrid(lr.regParam, [0.1, 0.01]) \\\n",
    "    .addGrid(lr.fitIntercept, [False, True]) \\\n",
    "    .addGrid(lr.elasticNetParam, [0.0, 0.5, 1.0]) \\\n",
    "    .build()\n",
    "\n",
    "crossval_lr = CrossValidator(estimator=pipeline_lr,\n",
    "                             estimatorParamMaps=paramGrid_lr,\n",
    "                             evaluator=evaluator_lr,\n",
    "                             numFolds=2,\n",
    "                             seed=18)"
   ]
  },
  {
   "cell_type": "code",
   "execution_count": null,
   "metadata": {},
   "outputs": [],
   "source": [
    "cv_model_lr = crossval_lr.fit(train)"
   ]
  },
  {
   "cell_type": "code",
   "execution_count": null,
   "metadata": {},
   "outputs": [],
   "source": [
    "# Build prediction from 'test' dataset\n",
    "cv_pred_lr = cv_model_lr.transform(test)"
   ]
  },
  {
   "cell_type": "code",
   "execution_count": null,
   "metadata": {},
   "outputs": [],
   "source": [
    "rmse = evaluator_lr.evaluate(cv_pred_lr)\n",
    "\n",
    "print(\"Linear regression::After grid search - RMSE = {:.3f}\".format(rmse))"
   ]
  },
  {
   "cell_type": "code",
   "execution_count": null,
   "metadata": {},
   "outputs": [],
   "source": []
  }
 ],
 "metadata": {
  "kernelspec": {
   "display_name": "Python 3",
   "language": "python",
   "name": "python3"
  },
  "language_info": {
   "codemirror_mode": {
    "name": "ipython",
    "version": 3
   },
   "file_extension": ".py",
   "mimetype": "text/x-python",
   "name": "python",
   "nbconvert_exporter": "python",
   "pygments_lexer": "ipython3",
   "version": "3.7.4"
  }
 },
 "nbformat": 4,
 "nbformat_minor": 2
}
