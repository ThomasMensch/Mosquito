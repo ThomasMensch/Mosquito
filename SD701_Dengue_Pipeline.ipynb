{
 "cells": [
  {
   "cell_type": "code",
   "execution_count": 1,
   "metadata": {},
   "outputs": [],
   "source": [
    "# Load pyspark\n",
    "import findspark\n",
    "\n",
    "findspark.init()\n",
    "\n",
    "from pyspark import SparkContext\n",
    "\n",
    "from pyspark.sql import SparkSession\n",
    "from pyspark.sql import functions as F\n",
    "\n",
    "from pyspark.ml.regression import LinearRegression\n",
    "from pyspark.ml.regression import RandomForestRegressor\n",
    "\n",
    "from pyspark.ml.feature import VectorAssembler, StringIndexer, OneHotEncoder, StandardScaler\n",
    "\n",
    "from pyspark.ml.evaluation import RegressionEvaluator\n",
    "\n",
    "from pyspark.ml.tuning import CrossValidator, ParamGridBuilder\n",
    "\n",
    "from pyspark.ml import Pipeline"
   ]
  },
  {
   "cell_type": "code",
   "execution_count": 2,
   "metadata": {},
   "outputs": [],
   "source": [
    "import pandas as pd\n",
    "import numpy as np\n",
    "\n",
    "from sklearn.metrics import mean_absolute_error"
   ]
  },
  {
   "cell_type": "code",
   "execution_count": 3,
   "metadata": {},
   "outputs": [],
   "source": [
    "spark = SparkSession.builder.appName(\"dengue\").getOrCreate()"
   ]
  },
  {
   "cell_type": "markdown",
   "metadata": {},
   "source": [
    "### Chargement des données"
   ]
  },
  {
   "cell_type": "code",
   "execution_count": 34,
   "metadata": {},
   "outputs": [],
   "source": [
    "path_to_data = \"data/\"\n",
    "\n",
    "df_features = spark.read.csv(path_to_data + \"dengue_features_train.csv\",\n",
    "                             header=True)\n",
    "df_labels = spark.read.csv(path_to_data + \"dengue_labels_train.csv\",\n",
    "                           header=True)"
   ]
  },
  {
   "cell_type": "code",
   "execution_count": 35,
   "metadata": {},
   "outputs": [
    {
     "name": "stdout",
     "output_type": "stream",
     "text": [
      "root\n",
      " |-- city: string (nullable = true)\n",
      " |-- year: string (nullable = true)\n",
      " |-- weekofyear: string (nullable = true)\n",
      " |-- week_start_date: string (nullable = true)\n",
      " |-- ndvi_ne: string (nullable = true)\n",
      " |-- ndvi_nw: string (nullable = true)\n",
      " |-- ndvi_se: string (nullable = true)\n",
      " |-- ndvi_sw: string (nullable = true)\n",
      " |-- precipitation_amt_mm: string (nullable = true)\n",
      " |-- reanalysis_air_temp_k: string (nullable = true)\n",
      " |-- reanalysis_avg_temp_k: string (nullable = true)\n",
      " |-- reanalysis_dew_point_temp_k: string (nullable = true)\n",
      " |-- reanalysis_max_air_temp_k: string (nullable = true)\n",
      " |-- reanalysis_min_air_temp_k: string (nullable = true)\n",
      " |-- reanalysis_precip_amt_kg_per_m2: string (nullable = true)\n",
      " |-- reanalysis_relative_humidity_percent: string (nullable = true)\n",
      " |-- reanalysis_sat_precip_amt_mm: string (nullable = true)\n",
      " |-- reanalysis_specific_humidity_g_per_kg: string (nullable = true)\n",
      " |-- reanalysis_tdtr_k: string (nullable = true)\n",
      " |-- station_avg_temp_c: string (nullable = true)\n",
      " |-- station_diur_temp_rng_c: string (nullable = true)\n",
      " |-- station_max_temp_c: string (nullable = true)\n",
      " |-- station_min_temp_c: string (nullable = true)\n",
      " |-- station_precip_mm: string (nullable = true)\n",
      "\n"
     ]
    }
   ],
   "source": [
    "df_features.printSchema()"
   ]
  },
  {
   "cell_type": "code",
   "execution_count": 36,
   "metadata": {},
   "outputs": [
    {
     "name": "stdout",
     "output_type": "stream",
     "text": [
      "root\n",
      " |-- city: string (nullable = true)\n",
      " |-- year: string (nullable = true)\n",
      " |-- weekofyear: string (nullable = true)\n",
      " |-- total_cases: string (nullable = true)\n",
      "\n"
     ]
    }
   ],
   "source": [
    "df_labels.printSchema()"
   ]
  },
  {
   "cell_type": "markdown",
   "metadata": {},
   "source": [
    "### Jointure\n",
    "\n",
    "Nous joignons les deux DataFrames"
   ]
  },
  {
   "cell_type": "code",
   "execution_count": 37,
   "metadata": {},
   "outputs": [
    {
     "name": "stdout",
     "output_type": "stream",
     "text": [
      "df_train = (1456, 25)\n"
     ]
    }
   ],
   "source": [
    "#join\n",
    "df_train = df_features.join(df_labels, ['city', 'year', 'weekofyear'])\n",
    "\n",
    "print(\"df_train = ({}, {})\".format(df_train.count(), len(df_train.columns)))"
   ]
  },
  {
   "cell_type": "markdown",
   "metadata": {},
   "source": [
    "### Nettoyage"
   ]
  },
  {
   "cell_type": "code",
   "execution_count": 38,
   "metadata": {},
   "outputs": [],
   "source": [
    "# The 2 columns 'precipitation_amt_mm' and 'reanalysis_sat_precip_amt_mm' are the same\n",
    "# we drop 'precipitation_amt_mm'\n",
    "df_train = df_train.drop('precipitation_amt_mm')\n",
    "\n",
    "# recast 'week_start_date' as a date. Nice to have for plotting or time series analysis\n",
    "df_train = df_train.withColumn('week_start_date', F.to_date('week_start_date', 'yyyy-MM-dd'))\n",
    "\n",
    "# recast 'year' and 'weekofyear' to integer\n",
    "df_train = df_train \\\n",
    "    .withColumn('year', df_train['year'].cast('int')) \\\n",
    "    .withColumn('weekofyear', df_train['weekofyear'].cast('int'))\n",
    "\n",
    "# cast column to float\n",
    "for col_name in df_train.columns[4:]:\n",
    "    df_train = df_train.withColumn(col_name, df_train[col_name].cast('float'))"
   ]
  },
  {
   "cell_type": "code",
   "execution_count": 39,
   "metadata": {},
   "outputs": [
    {
     "name": "stdout",
     "output_type": "stream",
     "text": [
      "df_train = (1456, 24)\n",
      "city => 0\n",
      "year => 0\n",
      "weekofyear => 0\n",
      "week_start_date => 0\n",
      "ndvi_ne => 194\n",
      "ndvi_nw => 52\n",
      "ndvi_se => 22\n",
      "ndvi_sw => 22\n",
      "reanalysis_air_temp_k => 10\n",
      "reanalysis_avg_temp_k => 10\n",
      "reanalysis_dew_point_temp_k => 10\n",
      "reanalysis_max_air_temp_k => 10\n",
      "reanalysis_min_air_temp_k => 10\n",
      "reanalysis_precip_amt_kg_per_m2 => 10\n",
      "reanalysis_relative_humidity_percent => 10\n",
      "reanalysis_sat_precip_amt_mm => 13\n",
      "reanalysis_specific_humidity_g_per_kg => 10\n",
      "reanalysis_tdtr_k => 10\n",
      "station_avg_temp_c => 43\n",
      "station_diur_temp_rng_c => 43\n",
      "station_max_temp_c => 20\n",
      "station_min_temp_c => 14\n",
      "station_precip_mm => 22\n",
      "total_cases => 0\n",
      "df_train = (1199, 24)\n"
     ]
    }
   ],
   "source": [
    "print(\"df_train = ({}, {})\".format(df_train.count(), len(df_train.columns)))\n",
    "\n",
    "# identify null value\n",
    "for col_name in df_train.columns:\n",
    "    print(\"{} => {}\".format(col_name,\n",
    "                            df_train.filter(F.isnull(df_train[col_name])).count()))\n",
    "    \n",
    "df_train = df_train.dropna()\n",
    "\n",
    "print(\"df_train = ({}, {})\".format(df_train.count(), len(df_train.columns)))"
   ]
  },
  {
   "cell_type": "code",
   "execution_count": 40,
   "metadata": {},
   "outputs": [
    {
     "name": "stdout",
     "output_type": "stream",
     "text": [
      "root\n",
      " |-- city: string (nullable = true)\n",
      " |-- year: integer (nullable = true)\n",
      " |-- weekofyear: integer (nullable = true)\n",
      " |-- week_start_date: date (nullable = true)\n",
      " |-- ndvi_ne: float (nullable = true)\n",
      " |-- ndvi_nw: float (nullable = true)\n",
      " |-- ndvi_se: float (nullable = true)\n",
      " |-- ndvi_sw: float (nullable = true)\n",
      " |-- reanalysis_air_temp_k: float (nullable = true)\n",
      " |-- reanalysis_avg_temp_k: float (nullable = true)\n",
      " |-- reanalysis_dew_point_temp_k: float (nullable = true)\n",
      " |-- reanalysis_max_air_temp_k: float (nullable = true)\n",
      " |-- reanalysis_min_air_temp_k: float (nullable = true)\n",
      " |-- reanalysis_precip_amt_kg_per_m2: float (nullable = true)\n",
      " |-- reanalysis_relative_humidity_percent: float (nullable = true)\n",
      " |-- reanalysis_sat_precip_amt_mm: float (nullable = true)\n",
      " |-- reanalysis_specific_humidity_g_per_kg: float (nullable = true)\n",
      " |-- reanalysis_tdtr_k: float (nullable = true)\n",
      " |-- station_avg_temp_c: float (nullable = true)\n",
      " |-- station_diur_temp_rng_c: float (nullable = true)\n",
      " |-- station_max_temp_c: float (nullable = true)\n",
      " |-- station_min_temp_c: float (nullable = true)\n",
      " |-- station_precip_mm: float (nullable = true)\n",
      " |-- total_cases: float (nullable = true)\n",
      "\n"
     ]
    }
   ],
   "source": [
    "df_train.printSchema()"
   ]
  },
  {
   "cell_type": "markdown",
   "metadata": {},
   "source": [
    "### Construction des jeux d'entrainement et de test"
   ]
  },
  {
   "cell_type": "code",
   "execution_count": 41,
   "metadata": {},
   "outputs": [
    {
     "data": {
      "text/plain": [
       "DataFrame[city: string, year: int, weekofyear: int, week_start_date: date, ndvi_ne: float, ndvi_nw: float, ndvi_se: float, ndvi_sw: float, reanalysis_air_temp_k: float, reanalysis_avg_temp_k: float, reanalysis_dew_point_temp_k: float, reanalysis_max_air_temp_k: float, reanalysis_min_air_temp_k: float, reanalysis_precip_amt_kg_per_m2: float, reanalysis_relative_humidity_percent: float, reanalysis_sat_precip_amt_mm: float, reanalysis_specific_humidity_g_per_kg: float, reanalysis_tdtr_k: float, station_avg_temp_c: float, station_diur_temp_rng_c: float, station_max_temp_c: float, station_min_temp_c: float, station_precip_mm: float, total_cases: float]"
      ]
     },
     "execution_count": 41,
     "metadata": {},
     "output_type": "execute_result"
    }
   ],
   "source": [
    "train, test = df_train.randomSplit([0.75, 0.25], seed=18)\n",
    "\n",
    "train.cache()"
   ]
  },
  {
   "cell_type": "markdown",
   "metadata": {},
   "source": [
    "### Construction du *pipeline*"
   ]
  },
  {
   "cell_type": "code",
   "execution_count": 42,
   "metadata": {},
   "outputs": [],
   "source": [
    "indexer = StringIndexer(inputCol='city', outputCol='city_')\n",
    "\n",
    "encoder = OneHotEncoder(inputCol='city_', outputCol='cityVect')\n",
    "\n",
    "vectorAssembler = VectorAssembler(\n",
    "    inputCols=['year', 'weekofyear',\n",
    "               'ndvi_ne', 'ndvi_nw', 'ndvi_se', 'ndvi_sw',\n",
    "               'reanalysis_air_temp_k','reanalysis_avg_temp_k',\n",
    "               'reanalysis_dew_point_temp_k', 'reanalysis_max_air_temp_k',\n",
    "               'reanalysis_min_air_temp_k', 'reanalysis_precip_amt_kg_per_m2',\n",
    "               'reanalysis_relative_humidity_percent', 'reanalysis_sat_precip_amt_mm',\n",
    "               'reanalysis_specific_humidity_g_per_kg', 'reanalysis_tdtr_k',\n",
    "               'station_avg_temp_c','station_diur_temp_rng_c',\n",
    "               'station_max_temp_c', 'station_min_temp_c', \n",
    "               'station_precip_mm', 'cityVect'], \n",
    "    outputCol = 'features')\n",
    "\n",
    "scaler = StandardScaler(inputCol='features',\n",
    "                        outputCol=\"scaled_features\",\n",
    "                        withStd=True, withMean=True)\n",
    "\n",
    "lr = LinearRegression(featuresCol='scaled_features',\n",
    "                      labelCol='total_cases',\n",
    "                      predictionCol='lr_prediction')\n",
    "\n",
    "rf = RandomForestRegressor(featuresCol='scaled_features',\n",
    "                           labelCol='total_cases',\n",
    "                           predictionCol='rf_prediction')"
   ]
  },
  {
   "cell_type": "markdown",
   "metadata": {},
   "source": [
    "#### 1. Random Forest"
   ]
  },
  {
   "cell_type": "code",
   "execution_count": 43,
   "metadata": {},
   "outputs": [],
   "source": [
    "pipeline_rf = Pipeline(stages=[indexer, encoder, vectorAssembler, scaler, rf])\n",
    "\n",
    "evaluator_rf = RegressionEvaluator(labelCol='total_cases',\n",
    "                                   predictionCol='rf_prediction',\n",
    "                                   metricName=\"rmse\")"
   ]
  },
  {
   "cell_type": "code",
   "execution_count": 44,
   "metadata": {},
   "outputs": [],
   "source": [
    "# build model\n",
    "model_rf = pipeline_rf.fit(train)"
   ]
  },
  {
   "cell_type": "code",
   "execution_count": 45,
   "metadata": {},
   "outputs": [
    {
     "data": {
      "text/plain": [
       "DataFrame[city: string, year: int, weekofyear: int, week_start_date: date, ndvi_ne: float, ndvi_nw: float, ndvi_se: float, ndvi_sw: float, reanalysis_air_temp_k: float, reanalysis_avg_temp_k: float, reanalysis_dew_point_temp_k: float, reanalysis_max_air_temp_k: float, reanalysis_min_air_temp_k: float, reanalysis_precip_amt_kg_per_m2: float, reanalysis_relative_humidity_percent: float, reanalysis_sat_precip_amt_mm: float, reanalysis_specific_humidity_g_per_kg: float, reanalysis_tdtr_k: float, station_avg_temp_c: float, station_diur_temp_rng_c: float, station_max_temp_c: float, station_min_temp_c: float, station_precip_mm: float, total_cases: float, city_: double, cityVect: vector, features: vector, scaled_features: vector, rf_prediction: double]"
      ]
     },
     "execution_count": 45,
     "metadata": {},
     "output_type": "execute_result"
    }
   ],
   "source": [
    "test_prediction_rf = model_rf.transform(train)\n",
    "test_prediction_rf"
   ]
  },
  {
   "cell_type": "code",
   "execution_count": 46,
   "metadata": {},
   "outputs": [
    {
     "name": "stdout",
     "output_type": "stream",
     "text": [
      "+-----------+------------------+\n",
      "|total_cases|     rf_prediction|\n",
      "+-----------+------------------+\n",
      "|        0.0| 5.264551587796776|\n",
      "|        0.0|3.2913081284475445|\n",
      "|        0.0|3.7729546854714835|\n",
      "|        0.0| 3.466239752379168|\n",
      "|        0.0| 3.731886380629278|\n",
      "|        0.0|3.1488017099623065|\n",
      "|        0.0| 3.022430995356298|\n",
      "|        0.0| 4.617970782803445|\n",
      "|        1.0| 5.631407409098301|\n",
      "|        0.0| 2.966744293694364|\n",
      "|        0.0|3.9618876511058074|\n",
      "|        0.0| 3.982900812294008|\n",
      "|        1.0| 4.635700908420374|\n",
      "|        0.0| 4.820125742112186|\n",
      "|        0.0|12.204522620720086|\n",
      "|        0.0| 7.054958310132896|\n",
      "|        0.0| 7.506966359711872|\n",
      "|        1.0| 4.543887285311992|\n",
      "|        0.0| 8.626135385485544|\n",
      "|        0.0| 11.38622611196796|\n",
      "|        0.0| 5.240076254588742|\n",
      "|        0.0| 7.417985050468241|\n",
      "|        0.0|5.8027156500977135|\n",
      "|        0.0| 4.965229669132326|\n",
      "|        0.0| 4.965229669132326|\n",
      "|        0.0| 7.294869323416513|\n",
      "|        0.0| 4.339889852493575|\n",
      "|        0.0| 4.246980400901178|\n",
      "|        0.0| 5.110732127893057|\n",
      "|        1.0| 5.608241028741917|\n",
      "|        0.0|  4.51877359721295|\n",
      "|        0.0| 5.284332520303087|\n",
      "|        1.0| 4.425141258229603|\n",
      "|        1.0|3.4537057533451696|\n",
      "|        0.0|3.6975710217290136|\n",
      "|        0.0| 4.157562502656464|\n",
      "|        0.0| 3.600709449348865|\n",
      "|        0.0| 3.466239752379168|\n",
      "|        0.0| 4.293900301680474|\n",
      "|        0.0|3.7643115860756646|\n",
      "|        0.0| 3.420788279893923|\n",
      "|        0.0| 3.364388634475702|\n",
      "|        0.0| 4.339889852493575|\n",
      "|        0.0|3.1894570105440776|\n",
      "|        0.0| 3.815874797106228|\n",
      "|        0.0| 6.083710078826461|\n",
      "|        0.0| 5.457157581784739|\n",
      "|        0.0| 7.497651475663514|\n",
      "|        0.0| 6.439712339104451|\n",
      "|        0.0| 8.679727022502927|\n",
      "|        1.0| 8.700152011522643|\n",
      "|        1.0|12.268240225610505|\n",
      "|        2.0| 8.532977544781541|\n",
      "|        4.0| 8.680903650172743|\n",
      "|        4.0| 7.873399801740082|\n",
      "|       16.0| 7.990947858226763|\n",
      "|       23.0|  8.96781813097217|\n",
      "|       18.0|11.785208475116564|\n",
      "|        8.0| 9.990420805528675|\n",
      "|        7.0| 9.525703443172848|\n",
      "|        7.0|10.162429873081347|\n",
      "|        5.0| 7.448495336055449|\n",
      "|       11.0| 8.630804853917684|\n",
      "|        8.0| 9.751544535618002|\n",
      "|       13.0|  9.61129148910166|\n",
      "|       22.0|  9.60723817467213|\n",
      "|        5.0| 7.048853187611483|\n",
      "|       13.0|7.9449810546718735|\n",
      "|        2.0| 4.863383424156781|\n",
      "|       11.0| 7.049992235753296|\n",
      "|       11.0| 5.123943390334394|\n",
      "|        3.0| 5.247083600099267|\n",
      "|        7.0| 5.478893300270139|\n",
      "|        7.0|  5.26964631743825|\n",
      "|        4.0| 5.564521642516128|\n",
      "|        5.0| 4.987975236486458|\n",
      "|        6.0| 5.513585554007919|\n",
      "|        7.0|   5.6235074317839|\n",
      "|        9.0|  5.07849191784915|\n",
      "|       17.0| 8.053630366223462|\n",
      "|        8.0|5.4654650812867835|\n",
      "|       22.0|7.8190574978092275|\n",
      "|       21.0| 7.576860108701071|\n",
      "|       16.0| 7.973745058728644|\n",
      "|       31.0| 7.657426828404043|\n",
      "|       25.0|13.213509880204544|\n",
      "|       26.0|11.683948818592377|\n",
      "|       18.0|12.531511085529575|\n",
      "|       27.0| 10.83285627499726|\n",
      "|       11.0| 8.993297722172567|\n",
      "|       38.0|13.829786600091921|\n",
      "|       29.0|15.002725635160653|\n",
      "|       21.0| 13.78182227988466|\n",
      "|       11.0| 11.49075239956998|\n",
      "|        5.0| 8.117072335417616|\n",
      "|        6.0|10.119285102397093|\n",
      "|        2.0| 7.065333843344147|\n",
      "|        1.0| 6.941105128492727|\n",
      "|        2.0| 7.684407955056779|\n",
      "|        5.0|10.996139497172482|\n",
      "|        4.0| 6.130180006637881|\n",
      "|        2.0|10.132003245849182|\n",
      "|        0.0| 7.873866341878971|\n",
      "|        0.0| 7.588491636090372|\n",
      "|        0.0| 8.202474238272817|\n",
      "|        1.0|  8.38600750771574|\n",
      "|        1.0| 6.250024422338535|\n",
      "|        1.0| 4.806480746164461|\n",
      "|        2.0| 7.778344802426469|\n",
      "|        3.0| 6.130369109134767|\n",
      "|        6.0| 4.750230746164461|\n",
      "|        2.0| 5.283428098094825|\n",
      "|        5.0| 5.009598596616872|\n",
      "|        1.0| 4.331699126618127|\n",
      "|        0.0| 4.513169015187051|\n",
      "|        0.0| 4.873630442768936|\n",
      "|        0.0| 4.917687197190537|\n",
      "|        2.0| 4.901407537031899|\n",
      "|        0.0| 4.857886097932485|\n",
      "|        3.0| 5.127280339379075|\n",
      "|        0.0| 6.521973701257721|\n",
      "|        0.0| 7.283714959372482|\n",
      "|        0.0|10.604756987215463|\n",
      "|        2.0|11.471460780755185|\n",
      "|        3.0|  8.64778519814276|\n",
      "|        3.0| 7.103462210840469|\n",
      "|        1.0| 12.43432058839612|\n",
      "|        2.0|10.198594095934464|\n",
      "|        3.0| 8.830470811370004|\n",
      "|        6.0| 16.32627954680039|\n",
      "|        5.0| 10.41673078214229|\n",
      "|        1.0|20.477657523186725|\n",
      "|        5.0| 10.56450231477323|\n",
      "|        8.0|10.419320809394307|\n",
      "|        5.0|  9.02366982265378|\n",
      "|        2.0| 8.007941791221437|\n",
      "|        3.0| 8.706310834248404|\n",
      "|        3.0| 8.324979785512138|\n",
      "|        1.0| 6.875072899476153|\n",
      "|        6.0| 8.490672988656659|\n",
      "|        4.0|  8.36433102980674|\n",
      "|        2.0| 8.488489859633429|\n",
      "|        3.0|10.448285884283575|\n",
      "|        1.0| 9.973800437655381|\n",
      "|        6.0|  9.27479189985619|\n",
      "|        8.0|5.7504616939852795|\n",
      "|        6.0| 6.055822551435786|\n",
      "|        6.0|5.7326520392419225|\n",
      "|        6.0| 9.588252518945193|\n",
      "|       13.0|5.5163477656279385|\n",
      "+-----------+------------------+\n",
      "only showing top 150 rows\n",
      "\n"
     ]
    }
   ],
   "source": [
    "test_prediction_rf.select(['total_cases','rf_prediction']).show(150)"
   ]
  },
  {
   "cell_type": "code",
   "execution_count": 47,
   "metadata": {},
   "outputs": [
    {
     "name": "stdout",
     "output_type": "stream",
     "text": [
      "Random Forest::Before grid search - RMSE = 17.774\n"
     ]
    }
   ],
   "source": [
    "rmse = evaluator_rf.evaluate(test_prediction_rf)\n",
    "\n",
    "print(\"Random Forest::Before grid search - RMSE = {:.3f}\".format(rmse))"
   ]
  },
  {
   "cell_type": "markdown",
   "metadata": {},
   "source": [
    "#### Cross-Validation"
   ]
  },
  {
   "cell_type": "code",
   "execution_count": 48,
   "metadata": {},
   "outputs": [],
   "source": [
    "# Parameter grid for random forest\n",
    "paramGrid_rf = ParamGridBuilder() \\\n",
    "    .addGrid(rf.maxDepth, [2, 5, 10, 15, 20]) \\\n",
    "    .addGrid(rf.numTrees, [10, 20, 30, 40, 50]) \\\n",
    "    .build()\n",
    "\n",
    "crossval_rf = CrossValidator(estimator=pipeline_rf,\n",
    "                             estimatorParamMaps=paramGrid_rf,\n",
    "                             evaluator=evaluator_rf,\n",
    "                             numFolds=2,\n",
    "                             seed=18)"
   ]
  },
  {
   "cell_type": "code",
   "execution_count": 49,
   "metadata": {},
   "outputs": [],
   "source": [
    "cvModel_rf = crossval_rf.fit(train)"
   ]
  },
  {
   "cell_type": "code",
   "execution_count": 50,
   "metadata": {},
   "outputs": [],
   "source": [
    "p_rf = cvModel_rf.transform(train)"
   ]
  },
  {
   "cell_type": "code",
   "execution_count": 51,
   "metadata": {},
   "outputs": [
    {
     "name": "stdout",
     "output_type": "stream",
     "text": [
      "Random Forest::After grid search - RMSE = 9.001\n"
     ]
    }
   ],
   "source": [
    "rmse = evaluator_rf.evaluate(p_rf)\n",
    "\n",
    "print(\"Random Forest::After grid search - RMSE = {:.3f}\".format(rmse))"
   ]
  },
  {
   "cell_type": "code",
   "execution_count": 52,
   "metadata": {},
   "outputs": [
    {
     "data": {
      "text/plain": [
       "40"
      ]
     },
     "execution_count": 52,
     "metadata": {},
     "output_type": "execute_result"
    }
   ],
   "source": [
    "cvModel_rf.bestModel.stages[-1].getNumTrees"
   ]
  },
  {
   "cell_type": "markdown",
   "metadata": {},
   "source": [
    "#### 2. Linear regression"
   ]
  },
  {
   "cell_type": "code",
   "execution_count": 53,
   "metadata": {},
   "outputs": [],
   "source": [
    "pipeline_lr = Pipeline(stages=[indexer, encoder, vectorAssembler, scaler, lr])\n",
    "\n",
    "evaluator_lr = RegressionEvaluator(labelCol='total_cases',\n",
    "                                   predictionCol='lr_prediction',\n",
    "                                   metricName=\"rmse\")"
   ]
  },
  {
   "cell_type": "code",
   "execution_count": 54,
   "metadata": {},
   "outputs": [],
   "source": [
    "model_lr = pipeline_lr.fit(train)"
   ]
  },
  {
   "cell_type": "code",
   "execution_count": 55,
   "metadata": {},
   "outputs": [],
   "source": [
    "test_lr = model_lr.transform(test)"
   ]
  },
  {
   "cell_type": "code",
   "execution_count": 56,
   "metadata": {},
   "outputs": [
    {
     "name": "stdout",
     "output_type": "stream",
     "text": [
      "+-----------+-------------------+\n",
      "|total_cases|      lr_prediction|\n",
      "+-----------+-------------------+\n",
      "|        0.0|  5.309805224413651|\n",
      "|        0.0| 2.1296964967743612|\n",
      "|        0.0|   9.46266650831906|\n",
      "|        1.0| 3.9790872846221212|\n",
      "|        0.0|  23.61227055126312|\n",
      "|        0.0| 23.992805141601696|\n",
      "|        0.0|-0.8077976913743257|\n",
      "|        0.0| -2.812901654584966|\n",
      "|        0.0|  7.502128494561031|\n",
      "|        0.0|  6.336783396109944|\n",
      "+-----------+-------------------+\n",
      "only showing top 10 rows\n",
      "\n"
     ]
    }
   ],
   "source": [
    "test_lr.select(['total_cases','lr_prediction']).show(10)"
   ]
  },
  {
   "cell_type": "code",
   "execution_count": 57,
   "metadata": {},
   "outputs": [
    {
     "name": "stdout",
     "output_type": "stream",
     "text": [
      "Linear regression::Before grid search - RMSE = 24.514\n"
     ]
    }
   ],
   "source": [
    "rmse = evaluator_lr.evaluate(test_lr)\n",
    "\n",
    "print(\"Linear regression::Before grid search - RMSE = {:.3f}\".format(rmse))"
   ]
  },
  {
   "cell_type": "markdown",
   "metadata": {},
   "source": [
    "#### Cross-Validation"
   ]
  },
  {
   "cell_type": "code",
   "execution_count": 58,
   "metadata": {},
   "outputs": [],
   "source": [
    "# Parameter grid for linear regression (LR)\n",
    "paramGrid_lr = ParamGridBuilder() \\\n",
    "    .addGrid(lr.regParam, [0.1, 0.01]) \\\n",
    "    .addGrid(lr.fitIntercept, [False, True]) \\\n",
    "    .addGrid(lr.elasticNetParam, [0.0, 0.5, 1.0]) \\\n",
    "    .build()\n",
    "\n",
    "crossval_lr = CrossValidator(estimator=pipeline_lr,\n",
    "                             estimatorParamMaps=paramGrid_lr,\n",
    "                             evaluator=evaluator_lr,\n",
    "                             numFolds=2,\n",
    "                             seed=18)"
   ]
  },
  {
   "cell_type": "code",
   "execution_count": 59,
   "metadata": {},
   "outputs": [],
   "source": [
    "cvModel_lr = crossval_lr.fit(train)"
   ]
  },
  {
   "cell_type": "code",
   "execution_count": 60,
   "metadata": {},
   "outputs": [],
   "source": [
    "p_lr = cvModel_lr.transform(train)"
   ]
  },
  {
   "cell_type": "code",
   "execution_count": 61,
   "metadata": {},
   "outputs": [
    {
     "name": "stdout",
     "output_type": "stream",
     "text": [
      "Linear regression::After grid search - RMSE = 27.719\n"
     ]
    }
   ],
   "source": [
    "rmse = evaluator_lr.evaluate(p_lr)\n",
    "\n",
    "print(\"Linear regression::After grid search - RMSE = {:.3f}\".format(rmse))"
   ]
  }
 ],
 "metadata": {
  "kernelspec": {
   "display_name": "Python 3",
   "language": "python",
   "name": "python3"
  },
  "language_info": {
   "codemirror_mode": {
    "name": "ipython",
    "version": 3
   },
   "file_extension": ".py",
   "mimetype": "text/x-python",
   "name": "python",
   "nbconvert_exporter": "python",
   "pygments_lexer": "ipython3",
   "version": "3.7.4"
  }
 },
 "nbformat": 4,
 "nbformat_minor": 2
}
