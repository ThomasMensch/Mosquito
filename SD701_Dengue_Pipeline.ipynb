{
 "cells": [
  {
   "cell_type": "code",
   "execution_count": 1,
   "metadata": {},
   "outputs": [],
   "source": [
    "# Load pyspark\n",
    "import findspark\n",
    "\n",
    "findspark.init()\n",
    "\n",
    "from pyspark import SparkContext\n",
    "\n",
    "from pyspark.sql import SparkSession\n",
    "from pyspark.sql import functions as F\n",
    "\n",
    "from pyspark.ml.regression import LinearRegression\n",
    "from pyspark.ml.regression import RandomForestRegressor\n",
    "\n",
    "from pyspark.ml.feature import VectorAssembler, StringIndexer, OneHotEncoder, StandardScaler\n",
    "\n",
    "from pyspark.ml.evaluation import RegressionEvaluator\n",
    "\n",
    "from pyspark.ml.tuning import CrossValidator, ParamGridBuilder\n",
    "\n",
    "from pyspark.ml import Pipeline"
   ]
  },
  {
   "cell_type": "code",
   "execution_count": 2,
   "metadata": {},
   "outputs": [],
   "source": [
    "import pandas as pd\n",
    "import numpy as np\n",
    "\n",
    "# charting\n",
    "import matplotlib.pyplot as plt\n",
    "\n",
    "from pandas.plotting import register_matplotlib_converters\n",
    "register_matplotlib_converters()"
   ]
  },
  {
   "cell_type": "code",
   "execution_count": 3,
   "metadata": {},
   "outputs": [],
   "source": [
    "spark = SparkSession.builder.appName(\"dengue\").getOrCreate()"
   ]
  },
  {
   "cell_type": "markdown",
   "metadata": {},
   "source": [
    "### Chargement des données"
   ]
  },
  {
   "cell_type": "code",
   "execution_count": 4,
   "metadata": {},
   "outputs": [],
   "source": [
    "path_to_data = \"data/\"\n",
    "\n",
    "df_features = spark.read.csv(path_to_data + \"dengue_features_train.csv\",\n",
    "                             header=True)\n",
    "df_labels = spark.read.csv(path_to_data + \"dengue_labels_train.csv\",\n",
    "                           header=True)"
   ]
  },
  {
   "cell_type": "code",
   "execution_count": 5,
   "metadata": {},
   "outputs": [
    {
     "name": "stdout",
     "output_type": "stream",
     "text": [
      "root\n",
      " |-- city: string (nullable = true)\n",
      " |-- year: string (nullable = true)\n",
      " |-- weekofyear: string (nullable = true)\n",
      " |-- week_start_date: string (nullable = true)\n",
      " |-- ndvi_ne: string (nullable = true)\n",
      " |-- ndvi_nw: string (nullable = true)\n",
      " |-- ndvi_se: string (nullable = true)\n",
      " |-- ndvi_sw: string (nullable = true)\n",
      " |-- precipitation_amt_mm: string (nullable = true)\n",
      " |-- reanalysis_air_temp_k: string (nullable = true)\n",
      " |-- reanalysis_avg_temp_k: string (nullable = true)\n",
      " |-- reanalysis_dew_point_temp_k: string (nullable = true)\n",
      " |-- reanalysis_max_air_temp_k: string (nullable = true)\n",
      " |-- reanalysis_min_air_temp_k: string (nullable = true)\n",
      " |-- reanalysis_precip_amt_kg_per_m2: string (nullable = true)\n",
      " |-- reanalysis_relative_humidity_percent: string (nullable = true)\n",
      " |-- reanalysis_sat_precip_amt_mm: string (nullable = true)\n",
      " |-- reanalysis_specific_humidity_g_per_kg: string (nullable = true)\n",
      " |-- reanalysis_tdtr_k: string (nullable = true)\n",
      " |-- station_avg_temp_c: string (nullable = true)\n",
      " |-- station_diur_temp_rng_c: string (nullable = true)\n",
      " |-- station_max_temp_c: string (nullable = true)\n",
      " |-- station_min_temp_c: string (nullable = true)\n",
      " |-- station_precip_mm: string (nullable = true)\n",
      "\n"
     ]
    }
   ],
   "source": [
    "df_features.printSchema()"
   ]
  },
  {
   "cell_type": "code",
   "execution_count": 6,
   "metadata": {},
   "outputs": [
    {
     "name": "stdout",
     "output_type": "stream",
     "text": [
      "root\n",
      " |-- city: string (nullable = true)\n",
      " |-- year: string (nullable = true)\n",
      " |-- weekofyear: string (nullable = true)\n",
      " |-- total_cases: string (nullable = true)\n",
      "\n"
     ]
    }
   ],
   "source": [
    "df_labels.printSchema()"
   ]
  },
  {
   "cell_type": "markdown",
   "metadata": {},
   "source": [
    "### Jointure\n",
    "\n",
    "Nous joignons les deux DataFrames"
   ]
  },
  {
   "cell_type": "code",
   "execution_count": 7,
   "metadata": {},
   "outputs": [
    {
     "name": "stdout",
     "output_type": "stream",
     "text": [
      "df_train = (1456, 25)\n"
     ]
    }
   ],
   "source": [
    "#join\n",
    "df_train = df_features.join(df_labels, ['city', 'year', 'weekofyear'])\n",
    "\n",
    "print(\"df_train = ({}, {})\".format(df_train.count(), len(df_train.columns)))"
   ]
  },
  {
   "cell_type": "markdown",
   "metadata": {},
   "source": [
    "### Nettoyage"
   ]
  },
  {
   "cell_type": "code",
   "execution_count": 8,
   "metadata": {},
   "outputs": [],
   "source": [
    "# The 2 columns 'precipitation_amt_mm' and 'reanalysis_sat_precip_amt_mm' are the same\n",
    "# we drop 'precipitation_amt_mm'\n",
    "df_train = df_train.drop('precipitation_amt_mm')\n",
    "\n",
    "# recast 'week_start_date' as a date. Nice to have for plotting or time series analysis\n",
    "df_train = df_train.withColumn('week_start_date', F.to_date('week_start_date', 'yyyy-MM-dd'))\n",
    "\n",
    "# recast 'year' and 'weekofyear' to integer\n",
    "df_train = df_train \\\n",
    "    .withColumn('year', df_train['year'].cast('int')) \\\n",
    "    .withColumn('weekofyear', df_train['weekofyear'].cast('int'))\n",
    "\n",
    "# cast column to float\n",
    "for col_name in df_train.columns[4:]:\n",
    "    df_train = df_train.withColumn(col_name, df_train[col_name].cast('float'))"
   ]
  },
  {
   "cell_type": "code",
   "execution_count": 9,
   "metadata": {},
   "outputs": [
    {
     "name": "stdout",
     "output_type": "stream",
     "text": [
      "df_train = (1456, 24)\n",
      "city => 0\n",
      "year => 0\n",
      "weekofyear => 0\n",
      "week_start_date => 0\n",
      "ndvi_ne => 194\n",
      "ndvi_nw => 52\n",
      "ndvi_se => 22\n",
      "ndvi_sw => 22\n",
      "reanalysis_air_temp_k => 10\n",
      "reanalysis_avg_temp_k => 10\n",
      "reanalysis_dew_point_temp_k => 10\n",
      "reanalysis_max_air_temp_k => 10\n",
      "reanalysis_min_air_temp_k => 10\n",
      "reanalysis_precip_amt_kg_per_m2 => 10\n",
      "reanalysis_relative_humidity_percent => 10\n",
      "reanalysis_sat_precip_amt_mm => 13\n",
      "reanalysis_specific_humidity_g_per_kg => 10\n",
      "reanalysis_tdtr_k => 10\n",
      "station_avg_temp_c => 43\n",
      "station_diur_temp_rng_c => 43\n",
      "station_max_temp_c => 20\n",
      "station_min_temp_c => 14\n",
      "station_precip_mm => 22\n",
      "total_cases => 0\n",
      "df_train = (1199, 24)\n"
     ]
    }
   ],
   "source": [
    "print(\"df_train = ({}, {})\".format(df_train.count(), len(df_train.columns)))\n",
    "\n",
    "# identify null value\n",
    "for col_name in df_train.columns:\n",
    "    print(\"{} => {}\".format(col_name,\n",
    "                            df_train.filter(F.isnull(df_train[col_name])).count()))\n",
    "    \n",
    "df_train = df_train.dropna()\n",
    "\n",
    "print(\"df_train = ({}, {})\".format(df_train.count(), len(df_train.columns)))"
   ]
  },
  {
   "cell_type": "code",
   "execution_count": 10,
   "metadata": {},
   "outputs": [
    {
     "name": "stdout",
     "output_type": "stream",
     "text": [
      "root\n",
      " |-- city: string (nullable = true)\n",
      " |-- year: integer (nullable = true)\n",
      " |-- weekofyear: integer (nullable = true)\n",
      " |-- week_start_date: date (nullable = true)\n",
      " |-- ndvi_ne: float (nullable = true)\n",
      " |-- ndvi_nw: float (nullable = true)\n",
      " |-- ndvi_se: float (nullable = true)\n",
      " |-- ndvi_sw: float (nullable = true)\n",
      " |-- reanalysis_air_temp_k: float (nullable = true)\n",
      " |-- reanalysis_avg_temp_k: float (nullable = true)\n",
      " |-- reanalysis_dew_point_temp_k: float (nullable = true)\n",
      " |-- reanalysis_max_air_temp_k: float (nullable = true)\n",
      " |-- reanalysis_min_air_temp_k: float (nullable = true)\n",
      " |-- reanalysis_precip_amt_kg_per_m2: float (nullable = true)\n",
      " |-- reanalysis_relative_humidity_percent: float (nullable = true)\n",
      " |-- reanalysis_sat_precip_amt_mm: float (nullable = true)\n",
      " |-- reanalysis_specific_humidity_g_per_kg: float (nullable = true)\n",
      " |-- reanalysis_tdtr_k: float (nullable = true)\n",
      " |-- station_avg_temp_c: float (nullable = true)\n",
      " |-- station_diur_temp_rng_c: float (nullable = true)\n",
      " |-- station_max_temp_c: float (nullable = true)\n",
      " |-- station_min_temp_c: float (nullable = true)\n",
      " |-- station_precip_mm: float (nullable = true)\n",
      " |-- total_cases: float (nullable = true)\n",
      "\n"
     ]
    }
   ],
   "source": [
    "df_train.printSchema()"
   ]
  },
  {
   "cell_type": "markdown",
   "metadata": {},
   "source": [
    "### Plot"
   ]
  },
  {
   "cell_type": "code",
   "execution_count": 11,
   "metadata": {},
   "outputs": [],
   "source": [
    "# create pandas dataframe from spark dataframe\n",
    "\n",
    "pd_train = df_train.toPandas()"
   ]
  },
  {
   "cell_type": "code",
   "execution_count": 12,
   "metadata": {},
   "outputs": [
    {
     "data": {
      "image/png": "[encoded data removed]",
      "text/plain": [
       "<Figure size 432x288 with 1 Axes>"
      ]
     },
     "metadata": {
      "needs_background": "light"
     },
     "output_type": "display_data"
    }
   ],
   "source": [
    "pd_train_sj = pd_train[pd_train['city'] == 'sj']\n",
    "pd_train_iq = pd_train[pd_train['city'] == 'iq']\n",
    "\n",
    "# Total cases per city\n",
    "plt.figure()\n",
    "\n",
    "plt.grid()\n",
    "plt.title('Dengue Fever total cases per week')\n",
    "\n",
    "\n",
    "plt.xlabel('year')\n",
    "plt.ylabel('total cases')\n",
    "plt.xticks()\n",
    "plt.yticks()\n",
    "\n",
    "plt.plot(pd_train_sj['week_start_date'], pd_train_sj['total_cases'], label='San Juan')\n",
    "plt.plot(pd_train_iq['week_start_date'], pd_train_iq['total_cases'], label='Iquitos')\n",
    "\n",
    "plt.legend()\n",
    "\n",
    "plt.show()"
   ]
  },
  {
   "cell_type": "markdown",
   "metadata": {},
   "source": [
    "### Construction des jeux d'entrainement et de test"
   ]
  },
  {
   "cell_type": "code",
   "execution_count": 13,
   "metadata": {},
   "outputs": [
    {
     "data": {
      "text/plain": [
       "DataFrame[city: string, year: int, weekofyear: int, week_start_date: date, ndvi_ne: float, ndvi_nw: float, ndvi_se: float, ndvi_sw: float, reanalysis_air_temp_k: float, reanalysis_avg_temp_k: float, reanalysis_dew_point_temp_k: float, reanalysis_max_air_temp_k: float, reanalysis_min_air_temp_k: float, reanalysis_precip_amt_kg_per_m2: float, reanalysis_relative_humidity_percent: float, reanalysis_sat_precip_amt_mm: float, reanalysis_specific_humidity_g_per_kg: float, reanalysis_tdtr_k: float, station_avg_temp_c: float, station_diur_temp_rng_c: float, station_max_temp_c: float, station_min_temp_c: float, station_precip_mm: float, total_cases: float]"
      ]
     },
     "execution_count": 13,
     "metadata": {},
     "output_type": "execute_result"
    }
   ],
   "source": [
    "train, test = df_train.randomSplit([0.75, 0.25], seed=18)\n",
    "\n",
    "train.cache()"
   ]
  },
  {
   "cell_type": "markdown",
   "metadata": {},
   "source": [
    "### Construction du *pipeline*"
   ]
  },
  {
   "cell_type": "code",
   "execution_count": 14,
   "metadata": {},
   "outputs": [],
   "source": [
    "indexer = StringIndexer(inputCol='city', outputCol='city_')\n",
    "\n",
    "encoder = OneHotEncoder(inputCol='city_', outputCol='cityVect')\n",
    "\n",
    "vectorAssembler = VectorAssembler(\n",
    "    inputCols=['year', 'weekofyear',\n",
    "               'ndvi_ne', 'ndvi_nw', 'ndvi_se', 'ndvi_sw',\n",
    "               'reanalysis_air_temp_k','reanalysis_avg_temp_k',\n",
    "               'reanalysis_dew_point_temp_k', 'reanalysis_max_air_temp_k',\n",
    "               'reanalysis_min_air_temp_k', 'reanalysis_precip_amt_kg_per_m2',\n",
    "               'reanalysis_relative_humidity_percent', 'reanalysis_sat_precip_amt_mm',\n",
    "               'reanalysis_specific_humidity_g_per_kg', 'reanalysis_tdtr_k',\n",
    "               'station_avg_temp_c','station_diur_temp_rng_c',\n",
    "               'station_max_temp_c', 'station_min_temp_c', \n",
    "               'station_precip_mm', 'cityVect'], \n",
    "    outputCol = 'features')\n",
    "\n",
    "scaler = StandardScaler(inputCol='features',\n",
    "                        outputCol=\"scaled_features\",\n",
    "                        withStd=True, withMean=True)\n",
    "\n",
    "lr = LinearRegression(featuresCol='scaled_features',\n",
    "                      labelCol='total_cases',\n",
    "                      predictionCol='lr_prediction')\n",
    "\n",
    "rf = RandomForestRegressor(featuresCol='scaled_features',\n",
    "                           labelCol='total_cases',\n",
    "                           predictionCol='rf_prediction')"
   ]
  },
  {
   "cell_type": "markdown",
   "metadata": {},
   "source": [
    "#### 1. Random Forest"
   ]
  },
  {
   "cell_type": "code",
   "execution_count": 15,
   "metadata": {},
   "outputs": [],
   "source": [
    "pipeline_rf = Pipeline(stages=[indexer, encoder, vectorAssembler, scaler, rf])\n",
    "\n",
    "evaluator_rf = RegressionEvaluator(labelCol='total_cases',\n",
    "                                   predictionCol='rf_prediction',\n",
    "                                   metricName=\"rmse\")"
   ]
  },
  {
   "cell_type": "code",
   "execution_count": 16,
   "metadata": {},
   "outputs": [],
   "source": [
    "# build model\n",
    "model_rf = pipeline_rf.fit(train)"
   ]
  },
  {
   "cell_type": "code",
   "execution_count": 17,
   "metadata": {},
   "outputs": [],
   "source": [
    "# Build prediction from 'test' dataset\n",
    "pred_rf = model_rf.transform(test)"
   ]
  },
  {
   "cell_type": "code",
   "execution_count": 18,
   "metadata": {},
   "outputs": [
    {
     "name": "stdout",
     "output_type": "stream",
     "text": [
      "+-----------+------------------+\n",
      "|total_cases|     rf_prediction|\n",
      "+-----------+------------------+\n",
      "|        0.0|2.4253321431975543|\n",
      "|        0.0| 2.253886077186271|\n",
      "|        0.0| 4.251999889369077|\n",
      "|        1.0| 4.306276699515452|\n",
      "|        0.0|4.9291346846916415|\n",
      "|        0.0| 6.099643024466036|\n",
      "|        0.0| 6.644658456782811|\n",
      "|        0.0|10.262279501159238|\n",
      "|        0.0|4.8794314098218035|\n",
      "|        0.0| 4.008365405022072|\n",
      "|        0.0|  5.79182976819262|\n",
      "|        0.0| 5.968138152408761|\n",
      "|        1.0| 2.189979075050777|\n",
      "|        0.0|1.9952238302955323|\n",
      "|        0.0|2.6129866987868926|\n",
      "|        0.0|2.3725771083773024|\n",
      "|        0.0| 8.144774436745845|\n",
      "|        0.0| 8.613560436355801|\n",
      "|        1.0| 7.990521025663632|\n",
      "|        1.0| 11.85968721057355|\n",
      "|       11.0| 9.690618112105538|\n",
      "|       14.0| 7.368506962148483|\n",
      "|       10.0| 8.992875988181678|\n",
      "|       10.0|  7.76012969003921|\n",
      "|       10.0| 7.636239617106246|\n",
      "|        7.0| 5.050187778823358|\n",
      "|       18.0| 7.298792073294318|\n",
      "|       10.0| 9.138106180974365|\n",
      "|        2.0|  9.45846802937115|\n",
      "|        1.0| 9.553846550205431|\n",
      "|        4.0| 9.069706313953223|\n",
      "|        0.0| 8.828468919773606|\n",
      "|        1.0| 9.053740960009012|\n",
      "|        1.0|   8.0849284388267|\n",
      "|        4.0| 5.384487844110108|\n",
      "|        2.0| 4.669975808186711|\n",
      "|        1.0|  4.45020245018486|\n",
      "|        0.0| 5.539339492718412|\n",
      "|        2.0|10.822441885776222|\n",
      "|        3.0|10.474105249032895|\n",
      "|        1.0| 9.795939809202334|\n",
      "|        8.0| 8.744319542696498|\n",
      "|        4.0| 8.417925247374047|\n",
      "|        7.0| 8.457583420251403|\n",
      "|        5.0| 8.633606523449894|\n",
      "|        2.0|4.9696644642000125|\n",
      "|       10.0|5.0497302536736965|\n",
      "|        3.0| 4.940262418396904|\n",
      "|       12.0|4.7081049629825324|\n",
      "|        6.0|11.244992420461552|\n",
      "|       19.0|10.353638628981326|\n",
      "|        6.0| 10.95950538561196|\n",
      "|        7.0|12.697933417318351|\n",
      "|        8.0|13.520831955861624|\n",
      "|       13.0| 7.617542075687763|\n",
      "|        8.0| 8.202896768493648|\n",
      "|        8.0| 9.043964944297183|\n",
      "|        5.0| 6.992371660278802|\n",
      "|        6.0|15.950880087090718|\n",
      "|       28.0| 8.395772363191416|\n",
      "|        8.0| 9.537590003497218|\n",
      "|       12.0| 9.059470165401828|\n",
      "|        9.0| 7.348703390973268|\n",
      "|        9.0|  8.79156161101041|\n",
      "|        6.0| 9.107888099058764|\n",
      "|        3.0|  5.98058419263852|\n",
      "|        2.0| 5.316115609228632|\n",
      "|        2.0| 6.012899328901332|\n",
      "|        2.0|5.0874086793021895|\n",
      "|        2.0|  6.84442584189986|\n",
      "|        6.0| 8.891964748725929|\n",
      "|        2.0| 7.975352663478074|\n",
      "|        4.0|11.930100162797178|\n",
      "|        6.0|15.037402658476072|\n",
      "|        2.0|13.234180313156509|\n",
      "|        6.0|10.558996512501855|\n",
      "|       11.0| 7.096895454600528|\n",
      "|        6.0| 9.487828684756227|\n",
      "|        7.0| 7.298345370736369|\n",
      "|        5.0|  8.98990790899896|\n",
      "|        8.0| 9.295242926263619|\n",
      "|        3.0| 4.830839054959396|\n",
      "|        4.0|4.7081049629825324|\n",
      "|        5.0| 4.540856616158862|\n",
      "|        5.0| 7.408826919567711|\n",
      "|       11.0|15.585213563785484|\n",
      "|       35.0|10.994612873820511|\n",
      "|       23.0| 8.696908940411044|\n",
      "|        6.0| 6.498819451022061|\n",
      "|        3.0| 9.310934744722712|\n",
      "|        5.0|  6.54280776339205|\n",
      "|       35.0|11.398667848425639|\n",
      "|        9.0|10.833920058714671|\n",
      "|        0.0|12.144474226196655|\n",
      "|        9.0| 9.336864849319578|\n",
      "|       11.0| 9.477431334578139|\n",
      "|        1.0| 9.588300015351212|\n",
      "|        5.0|  4.75657197634606|\n",
      "|        1.0| 6.689301632116991|\n",
      "|        0.0| 4.337537954187031|\n",
      "|        2.0| 7.686055084909737|\n",
      "|        0.0|   8.3933809819486|\n",
      "|        3.0|14.517423237403046|\n",
      "|        9.0| 15.91093658197353|\n",
      "|        5.0| 12.81838327311801|\n",
      "|        5.0|12.428312916533141|\n",
      "|        1.0|12.778471161570648|\n",
      "|        9.0|10.114497940081344|\n",
      "|       17.0| 11.09530635239621|\n",
      "|        5.0| 9.192305672261114|\n",
      "|        4.0|6.3847975487709805|\n",
      "|        6.0|24.215000094968673|\n",
      "|        4.0|22.239531467663745|\n",
      "|       71.0| 41.72483353349291|\n",
      "|       52.0| 50.19021466666397|\n",
      "|       47.0| 44.50363647694557|\n",
      "|       26.0| 39.69942994400607|\n",
      "|       27.0| 39.72860842710885|\n",
      "|       21.0| 32.78341950080091|\n",
      "|       34.0|  32.7176848516781|\n",
      "|       17.0|21.259898889220086|\n",
      "|       16.0|18.752073917205177|\n",
      "|       12.0| 19.92429453530151|\n",
      "|       10.0|23.258533352040327|\n",
      "|       19.0|23.790923163278524|\n",
      "|      140.0| 46.90858119828445|\n",
      "|      140.0| 48.70431892476573|\n",
      "|      127.0|45.393627506449164|\n",
      "|      129.0|41.182729146142904|\n",
      "|      104.0|  30.2134173083576|\n",
      "|       90.0|27.292671212348345|\n",
      "|       30.0|20.282154033186323|\n",
      "|       29.0| 18.26295544795513|\n",
      "|       26.0|32.742855883804445|\n",
      "|       74.0| 40.92465859008688|\n",
      "|       61.0| 43.56639241690261|\n",
      "|       53.0| 47.20037062670577|\n",
      "|       61.0|43.069036096187475|\n",
      "|       57.0|57.382041161936364|\n",
      "|       44.0| 48.45138985908998|\n",
      "|       60.0| 42.03453289073495|\n",
      "|       32.0|29.733180594640277|\n",
      "|       33.0|29.589174481970296|\n",
      "|       35.0|27.140098681930418|\n",
      "|       21.0|21.434215085617048|\n",
      "|       17.0|24.620319144208555|\n",
      "|       11.0|21.054842343817022|\n",
      "|       18.0|40.562392679955835|\n",
      "|       19.0| 29.55820454126887|\n",
      "|       22.0| 42.04612955119061|\n",
      "+-----------+------------------+\n",
      "only showing top 150 rows\n",
      "\n"
     ]
    }
   ],
   "source": [
    "pred_rf.select(['total_cases','rf_prediction']).show(150)"
   ]
  },
  {
   "cell_type": "code",
   "execution_count": 19,
   "metadata": {},
   "outputs": [
    {
     "name": "stdout",
     "output_type": "stream",
     "text": [
      "Random Forest::Before grid search - RMSE = 22.335\n"
     ]
    }
   ],
   "source": [
    "rmse = evaluator_rf.evaluate(pred_rf)\n",
    "\n",
    "print(\"Random Forest::Before grid search - RMSE = {:.3f}\".format(rmse))"
   ]
  },
  {
   "cell_type": "markdown",
   "metadata": {},
   "source": [
    "#### Cross-Validation"
   ]
  },
  {
   "cell_type": "code",
   "execution_count": 20,
   "metadata": {},
   "outputs": [],
   "source": [
    "# Parameter grid for random forest\n",
    "paramGrid_rf = ParamGridBuilder() \\\n",
    "    .addGrid(rf.maxDepth, [2, 5, 10, 15, 20]) \\\n",
    "    .addGrid(rf.numTrees, [10, 20, 30, 40, 50]) \\\n",
    "    .build()\n",
    "\n",
    "crossval_rf = CrossValidator(estimator=pipeline_rf,\n",
    "                             estimatorParamMaps=paramGrid_rf,\n",
    "                             evaluator=evaluator_rf,\n",
    "                             numFolds=2,\n",
    "                             seed=18)"
   ]
  },
  {
   "cell_type": "code",
   "execution_count": 21,
   "metadata": {},
   "outputs": [],
   "source": [
    "cv_model_rf = crossval_rf.fit(train)"
   ]
  },
  {
   "cell_type": "code",
   "execution_count": 22,
   "metadata": {},
   "outputs": [],
   "source": [
    "# Build prediction from 'test' dataset\n",
    "cv_pred_rf = cv_model_rf.transform(test)"
   ]
  },
  {
   "cell_type": "code",
   "execution_count": 23,
   "metadata": {},
   "outputs": [
    {
     "name": "stdout",
     "output_type": "stream",
     "text": [
      "Random Forest::After grid search - RMSE = 20.452\n"
     ]
    }
   ],
   "source": [
    "rmse = evaluator_rf.evaluate(cv_pred_rf)\n",
    "\n",
    "print(\"Random Forest::After grid search - RMSE = {:.3f}\".format(rmse))"
   ]
  },
  {
   "cell_type": "code",
   "execution_count": 24,
   "metadata": {},
   "outputs": [
    {
     "data": {
      "text/plain": [
       "40"
      ]
     },
     "execution_count": 24,
     "metadata": {},
     "output_type": "execute_result"
    }
   ],
   "source": [
    "cv_model_rf.bestModel.stages[-1].getNumTrees"
   ]
  },
  {
   "cell_type": "markdown",
   "metadata": {},
   "source": [
    "#### plot"
   ]
  },
  {
   "cell_type": "code",
   "execution_count": 35,
   "metadata": {},
   "outputs": [],
   "source": [
    "# create pandas dataframe from spark dataframe\n",
    "pd_pred_rf = cv_pred_rf.toPandas()\n",
    "\n",
    "pd_pred_rf_sj = pd_pred_rf[pd_pred_rf['city'] == 'sj']\n",
    "pd_pred_rf_iq = pd_pred_rf[pd_pred_rf['city'] == 'iq']"
   ]
  },
  {
   "cell_type": "code",
   "execution_count": 36,
   "metadata": {},
   "outputs": [
    {
     "data": {
      "image/png": "[encoded data removed]",
      "text/plain": [
       "<Figure size 432x288 with 1 Axes>"
      ]
     },
     "metadata": {
      "needs_background": "light"
     },
     "output_type": "display_data"
    }
   ],
   "source": [
    "# Total cases per city\n",
    "plt.figure()\n",
    "\n",
    "plt.grid()\n",
    "plt.title('Random Forest: Prediction Dengue Fever total cases per week')\n",
    "\n",
    "\n",
    "plt.xlabel('year')\n",
    "plt.ylabel('total cases')\n",
    "plt.xticks()\n",
    "plt.yticks()\n",
    "\n",
    "plt.plot(pd_train_sj['week_start_date'], pd_train_sj['total_cases'], label='San Juan')\n",
    "plt.plot(pd_train_iq['week_start_date'], pd_train_iq['total_cases'], label='Iquitos')\n",
    "\n",
    "plt.plot(pd_pred_rf_sj['week_start_date'], pd_pred_rf_sj['total_cases'], label='Pred: San Juan')\n",
    "plt.plot(pd_pred_rf_iq['week_start_date'], pd_pred_rf_iq['total_cases'], label='Pred: Iquitos')\n",
    "\n",
    "plt.legend()\n",
    "\n",
    "plt.show()"
   ]
  },
  {
   "cell_type": "markdown",
   "metadata": {},
   "source": [
    "#### 2. Linear regression"
   ]
  },
  {
   "cell_type": "code",
   "execution_count": 26,
   "metadata": {},
   "outputs": [],
   "source": [
    "pipeline_lr = Pipeline(stages=[indexer, encoder, vectorAssembler, scaler, lr])\n",
    "\n",
    "evaluator_lr = RegressionEvaluator(labelCol='total_cases',\n",
    "                                   predictionCol='lr_prediction',\n",
    "                                   metricName=\"rmse\")"
   ]
  },
  {
   "cell_type": "code",
   "execution_count": 27,
   "metadata": {},
   "outputs": [],
   "source": [
    "model_lr = pipeline_lr.fit(train)"
   ]
  },
  {
   "cell_type": "code",
   "execution_count": 28,
   "metadata": {},
   "outputs": [],
   "source": [
    "# Build prediction from 'test' dataset\n",
    "pred_lr = model_lr.transform(test)"
   ]
  },
  {
   "cell_type": "code",
   "execution_count": 29,
   "metadata": {},
   "outputs": [
    {
     "name": "stdout",
     "output_type": "stream",
     "text": [
      "+-----------+-------------------+\n",
      "|total_cases|      lr_prediction|\n",
      "+-----------+-------------------+\n",
      "|        0.0|  5.309805224413651|\n",
      "|        0.0| 2.1296964967743612|\n",
      "|        0.0|   9.46266650831906|\n",
      "|        1.0| 3.9790872846221212|\n",
      "|        0.0|  23.61227055126312|\n",
      "|        0.0| 23.992805141601696|\n",
      "|        0.0|-0.8077976913743257|\n",
      "|        0.0| -2.812901654584966|\n",
      "|        0.0|  7.502128494561031|\n",
      "|        0.0|  6.336783396109944|\n",
      "+-----------+-------------------+\n",
      "only showing top 10 rows\n",
      "\n"
     ]
    }
   ],
   "source": [
    "pred_lr.select(['total_cases','lr_prediction']).show(10)"
   ]
  },
  {
   "cell_type": "code",
   "execution_count": 30,
   "metadata": {},
   "outputs": [
    {
     "name": "stdout",
     "output_type": "stream",
     "text": [
      "Linear regression::Before grid search - RMSE = 24.514\n"
     ]
    }
   ],
   "source": [
    "rmse = evaluator_lr.evaluate(pred_lr)\n",
    "\n",
    "print(\"Linear regression::Before grid search - RMSE = {:.3f}\".format(rmse))"
   ]
  },
  {
   "cell_type": "markdown",
   "metadata": {},
   "source": [
    "#### Cross-Validation"
   ]
  },
  {
   "cell_type": "code",
   "execution_count": 31,
   "metadata": {},
   "outputs": [],
   "source": [
    "# Parameter grid for linear regression (LR)\n",
    "paramGrid_lr = ParamGridBuilder() \\\n",
    "    .addGrid(lr.regParam, [0.1, 0.01]) \\\n",
    "    .addGrid(lr.fitIntercept, [False, True]) \\\n",
    "    .addGrid(lr.elasticNetParam, [0.0, 0.5, 1.0]) \\\n",
    "    .build()\n",
    "\n",
    "crossval_lr = CrossValidator(estimator=pipeline_lr,\n",
    "                             estimatorParamMaps=paramGrid_lr,\n",
    "                             evaluator=evaluator_lr,\n",
    "                             numFolds=2,\n",
    "                             seed=18)"
   ]
  },
  {
   "cell_type": "code",
   "execution_count": 32,
   "metadata": {},
   "outputs": [],
   "source": [
    "cv_model_lr = crossval_lr.fit(train)"
   ]
  },
  {
   "cell_type": "code",
   "execution_count": 33,
   "metadata": {},
   "outputs": [],
   "source": [
    "# Build prediction from 'test' dataset\n",
    "cv_pred_lr = cv_model_lr.transform(test)"
   ]
  },
  {
   "cell_type": "code",
   "execution_count": 34,
   "metadata": {},
   "outputs": [
    {
     "name": "stdout",
     "output_type": "stream",
     "text": [
      "Linear regression::After grid search - RMSE = 24.623\n"
     ]
    }
   ],
   "source": [
    "rmse = evaluator_lr.evaluate(cv_pred_lr)\n",
    "\n",
    "print(\"Linear regression::After grid search - RMSE = {:.3f}\".format(rmse))"
   ]
  },
  {
   "cell_type": "code",
   "execution_count": null,
   "metadata": {},
   "outputs": [],
   "source": []
  }
 ],
 "metadata": {
  "kernelspec": {
   "display_name": "Python 3",
   "language": "python",
   "name": "python3"
  },
  "language_info": {
   "codemirror_mode": {
    "name": "ipython",
    "version": 3
   },
   "file_extension": ".py",
   "mimetype": "text/x-python",
   "name": "python",
   "nbconvert_exporter": "python",
   "pygments_lexer": "ipython3",
   "version": "3.7.4"
  }
 },
 "nbformat": 4,
 "nbformat_minor": 2
}
